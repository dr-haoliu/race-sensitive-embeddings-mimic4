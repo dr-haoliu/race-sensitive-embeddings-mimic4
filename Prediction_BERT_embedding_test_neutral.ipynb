{
 "cells": [
  {
   "cell_type": "code",
   "execution_count": 1,
   "id": "c52ce70d",
   "metadata": {
    "pycharm": {
     "name": "#%%\n"
    }
   },
   "outputs": [],
   "source": [
    "import pandas as pd\n",
    "pd.set_option('display.max_columns', None)\n",
    "# pd.set_option('display.max_rows', None)\n",
    "train_df=pd.read_csv('train_df_v1.tsv',sep='\\t')"
   ]
  },
  {
   "cell_type": "code",
   "execution_count": 18,
   "id": "1a0d604c",
   "metadata": {
    "pycharm": {
     "name": "#%%\n"
    }
   },
   "outputs": [
    {
     "data": {
      "text/html": [
       "<div>\n",
       "<style scoped>\n",
       "    .dataframe tbody tr th:only-of-type {\n",
       "        vertical-align: middle;\n",
       "    }\n",
       "\n",
       "    .dataframe tbody tr th {\n",
       "        vertical-align: top;\n",
       "    }\n",
       "\n",
       "    .dataframe thead th {\n",
       "        text-align: right;\n",
       "    }\n",
       "</style>\n",
       "<table border=\"1\" class=\"dataframe\">\n",
       "  <thead>\n",
       "    <tr style=\"text-align: right;\">\n",
       "      <th></th>\n",
       "      <th>SUBJECT_ID</th>\n",
       "      <th>HADM_ID</th>\n",
       "      <th>ICUSTAY_ID</th>\n",
       "      <th>FIRST_CAREUNIT</th>\n",
       "      <th>LAST_CAREUNIT</th>\n",
       "      <th>INTIME</th>\n",
       "      <th>OUTTIME</th>\n",
       "      <th>LOS</th>\n",
       "      <th>ADMITTIME</th>\n",
       "      <th>DISCHTIME</th>\n",
       "      <th>DEATHTIME</th>\n",
       "      <th>ADMISSION_TYPE</th>\n",
       "      <th>ADMISSION_LOCATION</th>\n",
       "      <th>DISCHARGE_LOCATION</th>\n",
       "      <th>INSURANCE</th>\n",
       "      <th>MARITAL_STATUS</th>\n",
       "      <th>ETHNICITY</th>\n",
       "      <th>DOB</th>\n",
       "      <th>DOD</th>\n",
       "      <th>GENDER</th>\n",
       "      <th>MORTALITY</th>\n",
       "      <th>MORTALITY_INHOSPITAL</th>\n",
       "      <th>MORTALITY_INUNIT</th>\n",
       "      <th>COUNTS</th>\n",
       "      <th>MAX_OUTTIME</th>\n",
       "      <th>TRANSFERBACK</th>\n",
       "      <th>DIEINWARD</th>\n",
       "      <th>NEXT_INTIME</th>\n",
       "      <th>DIFF</th>\n",
       "      <th>LESS_THAN_30DAYS</th>\n",
       "      <th>DISCHARGE_DIE</th>\n",
       "      <th>DIE_LESS_THAN_30DAYS</th>\n",
       "      <th>READMISSION</th>\n",
       "      <th>AGE</th>\n",
       "      <th>PROCEDURES</th>\n",
       "      <th>DRUG</th>\n",
       "      <th>DIAGS</th>\n",
       "      <th>PREV_DIAGS</th>\n",
       "      <th>DAYS_SINCE_LAST_ADMIS</th>\n",
       "      <th>NUM_PREV_ADMIS</th>\n",
       "      <th>NUM_PREV_PROCS</th>\n",
       "      <th>PROCEDURES_STR</th>\n",
       "      <th>DIAGS_STR</th>\n",
       "      <th>PREV_DIAGS_STR</th>\n",
       "      <th>DRUG_STR</th>\n",
       "    </tr>\n",
       "  </thead>\n",
       "  <tbody>\n",
       "    <tr>\n",
       "      <th>0</th>\n",
       "      <td>18106347</td>\n",
       "      <td>24305596</td>\n",
       "      <td>30588857</td>\n",
       "      <td>Cardiac Vascular Intensive Care Unit (CVICU)</td>\n",
       "      <td>Cardiac Vascular Intensive Care Unit (CVICU)</td>\n",
       "      <td>2110-01-11 10:16:06</td>\n",
       "      <td>2110-01-12 17:17:47</td>\n",
       "      <td>1.292836</td>\n",
       "      <td>2110-01-11 10:14:00</td>\n",
       "      <td>2110-01-15 17:31:00</td>\n",
       "      <td>NaN</td>\n",
       "      <td>EW EMER.</td>\n",
       "      <td>PACU</td>\n",
       "      <td>HOME HEALTH CARE</td>\n",
       "      <td>Other</td>\n",
       "      <td>DIVORCED</td>\n",
       "      <td>WHITE</td>\n",
       "      <td>2110-01-01</td>\n",
       "      <td>NaN</td>\n",
       "      <td>F</td>\n",
       "      <td>0</td>\n",
       "      <td>0</td>\n",
       "      <td>0</td>\n",
       "      <td>1</td>\n",
       "      <td>1</td>\n",
       "      <td>0</td>\n",
       "      <td>0</td>\n",
       "      <td>NaN</td>\n",
       "      <td>NaN</td>\n",
       "      <td>0</td>\n",
       "      <td>NaN</td>\n",
       "      <td>0</td>\n",
       "      <td>0</td>\n",
       "      <td>90</td>\n",
       "      <td>['9_3512', '9_3571', '9_3961']</td>\n",
       "      <td>['Sodium Chloride 0.9%  Flush', 'Aspirin', 'As...</td>\n",
       "      <td>['9_4240', '9_4295', '9_7455', '9_4019', '9_53...</td>\n",
       "      <td>{}</td>\n",
       "      <td>0.000000</td>\n",
       "      <td>0.0</td>\n",
       "      <td>0.0</td>\n",
       "      <td>Open heart valvuloplasty of mitral valve witho...</td>\n",
       "      <td>Mitral valve disorders Rupture of chordae tend...</td>\n",
       "      <td>Unknown</td>\n",
       "      <td>Sodium Chloride 0.9%  Flush, Aspirin, Aspirin ...</td>\n",
       "    </tr>\n",
       "    <tr>\n",
       "      <th>1</th>\n",
       "      <td>17195991</td>\n",
       "      <td>23542772</td>\n",
       "      <td>38319097</td>\n",
       "      <td>Surgical Intensive Care Unit (SICU)</td>\n",
       "      <td>Surgical Intensive Care Unit (SICU)</td>\n",
       "      <td>2110-01-12 00:54:00</td>\n",
       "      <td>2110-01-14 22:07:39</td>\n",
       "      <td>2.884479</td>\n",
       "      <td>2110-01-11 22:47:00</td>\n",
       "      <td>2110-01-18 10:25:00</td>\n",
       "      <td>NaN</td>\n",
       "      <td>EW EMER.</td>\n",
       "      <td>EMERGENCY ROOM</td>\n",
       "      <td>CHRONIC/LONG TERM ACUTE CARE</td>\n",
       "      <td>Other</td>\n",
       "      <td>SINGLE</td>\n",
       "      <td>UNABLE TO OBTAIN</td>\n",
       "      <td>2110-01-01</td>\n",
       "      <td>NaN</td>\n",
       "      <td>F</td>\n",
       "      <td>0</td>\n",
       "      <td>0</td>\n",
       "      <td>0</td>\n",
       "      <td>1</td>\n",
       "      <td>1</td>\n",
       "      <td>0</td>\n",
       "      <td>0</td>\n",
       "      <td>NaN</td>\n",
       "      <td>NaN</td>\n",
       "      <td>0</td>\n",
       "      <td>NaN</td>\n",
       "      <td>0</td>\n",
       "      <td>0</td>\n",
       "      <td>90</td>\n",
       "      <td>['9_9671', '9_9604', '9_0331', '9_3324']</td>\n",
       "      <td>['Sodium Chloride 0.9%  Flush', '0.9% Sodium C...</td>\n",
       "      <td>['9_3453', '9_5990', '9_29620', '9_2930', '9_7...</td>\n",
       "      <td>{}</td>\n",
       "      <td>0.000000</td>\n",
       "      <td>0.0</td>\n",
       "      <td>0.0</td>\n",
       "      <td>Poisoning by chloral hydrate group Poisoning b...</td>\n",
       "      <td>Grand mal status Urinary tract infection, site...</td>\n",
       "      <td>Unknown</td>\n",
       "      <td>Sodium Chloride 0.9%  Flush, 0.9% Sodium Chlor...</td>\n",
       "    </tr>\n",
       "    <tr>\n",
       "      <th>2</th>\n",
       "      <td>16284044</td>\n",
       "      <td>23864737</td>\n",
       "      <td>36817845</td>\n",
       "      <td>Cardiac Vascular Intensive Care Unit (CVICU)</td>\n",
       "      <td>Cardiac Vascular Intensive Care Unit (CVICU)</td>\n",
       "      <td>2110-01-13 09:09:40</td>\n",
       "      <td>2110-01-15 21:45:33</td>\n",
       "      <td>2.524919</td>\n",
       "      <td>2110-01-11 19:58:00</td>\n",
       "      <td>2110-01-17 16:00:00</td>\n",
       "      <td>NaN</td>\n",
       "      <td>URGENT</td>\n",
       "      <td>TRANSFER FROM HOSPITAL</td>\n",
       "      <td>SKILLED NURSING FACILITY</td>\n",
       "      <td>Other</td>\n",
       "      <td>DIVORCED</td>\n",
       "      <td>WHITE</td>\n",
       "      <td>2110-01-01</td>\n",
       "      <td>NaN</td>\n",
       "      <td>F</td>\n",
       "      <td>0</td>\n",
       "      <td>0</td>\n",
       "      <td>0</td>\n",
       "      <td>1</td>\n",
       "      <td>1</td>\n",
       "      <td>0</td>\n",
       "      <td>0</td>\n",
       "      <td>NaN</td>\n",
       "      <td>NaN</td>\n",
       "      <td>0</td>\n",
       "      <td>NaN</td>\n",
       "      <td>0</td>\n",
       "      <td>0</td>\n",
       "      <td>90</td>\n",
       "      <td>['10_0210099', '10_021109W', '10_06BY4ZZ', '10...</td>\n",
       "      <td>['Influenza Vaccine Quadrivalent', 'Acetaminop...</td>\n",
       "      <td>['10_I25118', '10_J95812', '10_I10', '10_D62',...</td>\n",
       "      <td>{}</td>\n",
       "      <td>0.000000</td>\n",
       "      <td>0.0</td>\n",
       "      <td>0.0</td>\n",
       "      <td>Bypass Coronary Artery, One Artery from Left I...</td>\n",
       "      <td>Atherosclerotic heart disease of native corona...</td>\n",
       "      <td>Unknown</td>\n",
       "      <td>Influenza Vaccine Quadrivalent, Acetaminophen,...</td>\n",
       "    </tr>\n",
       "    <tr>\n",
       "      <th>3</th>\n",
       "      <td>18122666</td>\n",
       "      <td>23883987</td>\n",
       "      <td>39753527</td>\n",
       "      <td>Medical/Surgical Intensive Care Unit (MICU/SICU)</td>\n",
       "      <td>Medical/Surgical Intensive Care Unit (MICU/SICU)</td>\n",
       "      <td>2110-01-14 07:22:00</td>\n",
       "      <td>2110-01-15 13:08:36</td>\n",
       "      <td>1.240694</td>\n",
       "      <td>2110-01-14 05:17:00</td>\n",
       "      <td>2110-01-16 16:34:00</td>\n",
       "      <td>NaN</td>\n",
       "      <td>EW EMER.</td>\n",
       "      <td>EMERGENCY ROOM</td>\n",
       "      <td>PSYCH FACILITY</td>\n",
       "      <td>Other</td>\n",
       "      <td>DIVORCED</td>\n",
       "      <td>WHITE</td>\n",
       "      <td>2110-01-01</td>\n",
       "      <td>NaN</td>\n",
       "      <td>M</td>\n",
       "      <td>0</td>\n",
       "      <td>0</td>\n",
       "      <td>0</td>\n",
       "      <td>1</td>\n",
       "      <td>1</td>\n",
       "      <td>0</td>\n",
       "      <td>0</td>\n",
       "      <td>NaN</td>\n",
       "      <td>NaN</td>\n",
       "      <td>0</td>\n",
       "      <td>NaN</td>\n",
       "      <td>0</td>\n",
       "      <td>0</td>\n",
       "      <td>90</td>\n",
       "      <td>['9_4516']</td>\n",
       "      <td>['1/2 NS', 'Diazepam', 'Sodium Chloride 0.9%  ...</td>\n",
       "      <td>['9_53140', '9_2920', '9_30471', '9_53021', '9...</td>\n",
       "      <td>{}</td>\n",
       "      <td>0.000000</td>\n",
       "      <td>0.0</td>\n",
       "      <td>0.0</td>\n",
       "      <td>Esophagogastroduodenoscopy [EGD] with closed b...</td>\n",
       "      <td>Chronic or unspecified gastric ulcer with hemo...</td>\n",
       "      <td>Unknown</td>\n",
       "      <td>1/2 NS, Diazepam, Sodium Chloride 0.9%  Flush,...</td>\n",
       "    </tr>\n",
       "    <tr>\n",
       "      <th>4</th>\n",
       "      <td>18780420</td>\n",
       "      <td>28977824</td>\n",
       "      <td>32140208</td>\n",
       "      <td>Neuro Surgical Intensive Care Unit (Neuro SICU)</td>\n",
       "      <td>Neuro Surgical Intensive Care Unit (Neuro SICU)</td>\n",
       "      <td>2110-01-17 00:28:00</td>\n",
       "      <td>2110-01-18 01:21:22</td>\n",
       "      <td>1.037060</td>\n",
       "      <td>2110-01-16 23:37:00</td>\n",
       "      <td>2110-01-22 16:07:00</td>\n",
       "      <td>NaN</td>\n",
       "      <td>EW EMER.</td>\n",
       "      <td>EMERGENCY ROOM</td>\n",
       "      <td>REHAB</td>\n",
       "      <td>Medicare</td>\n",
       "      <td>MARRIED</td>\n",
       "      <td>WHITE</td>\n",
       "      <td>2110-01-01</td>\n",
       "      <td>NaN</td>\n",
       "      <td>M</td>\n",
       "      <td>0</td>\n",
       "      <td>0</td>\n",
       "      <td>0</td>\n",
       "      <td>1</td>\n",
       "      <td>1</td>\n",
       "      <td>0</td>\n",
       "      <td>0</td>\n",
       "      <td>NaN</td>\n",
       "      <td>NaN</td>\n",
       "      <td>0</td>\n",
       "      <td>NaN</td>\n",
       "      <td>0</td>\n",
       "      <td>0</td>\n",
       "      <td>90</td>\n",
       "      <td>NaN</td>\n",
       "      <td>['SW', '0.9% Sodium Chloride', 'PHENYLEPHrine'...</td>\n",
       "      <td>['10_I6319', '10_J690', '10_D696', '10_G8191',...</td>\n",
       "      <td>{}</td>\n",
       "      <td>0.000000</td>\n",
       "      <td>0.0</td>\n",
       "      <td>0.0</td>\n",
       "      <td>Unknown</td>\n",
       "      <td>Cerebral infarction due to embolism of other p...</td>\n",
       "      <td>Unknown</td>\n",
       "      <td>SW, 0.9% Sodium Chloride, PHENYLEPHrine, HydrA...</td>\n",
       "    </tr>\n",
       "    <tr>\n",
       "      <th>...</th>\n",
       "      <td>...</td>\n",
       "      <td>...</td>\n",
       "      <td>...</td>\n",
       "      <td>...</td>\n",
       "      <td>...</td>\n",
       "      <td>...</td>\n",
       "      <td>...</td>\n",
       "      <td>...</td>\n",
       "      <td>...</td>\n",
       "      <td>...</td>\n",
       "      <td>...</td>\n",
       "      <td>...</td>\n",
       "      <td>...</td>\n",
       "      <td>...</td>\n",
       "      <td>...</td>\n",
       "      <td>...</td>\n",
       "      <td>...</td>\n",
       "      <td>...</td>\n",
       "      <td>...</td>\n",
       "      <td>...</td>\n",
       "      <td>...</td>\n",
       "      <td>...</td>\n",
       "      <td>...</td>\n",
       "      <td>...</td>\n",
       "      <td>...</td>\n",
       "      <td>...</td>\n",
       "      <td>...</td>\n",
       "      <td>...</td>\n",
       "      <td>...</td>\n",
       "      <td>...</td>\n",
       "      <td>...</td>\n",
       "      <td>...</td>\n",
       "      <td>...</td>\n",
       "      <td>...</td>\n",
       "      <td>...</td>\n",
       "      <td>...</td>\n",
       "      <td>...</td>\n",
       "      <td>...</td>\n",
       "      <td>...</td>\n",
       "      <td>...</td>\n",
       "      <td>...</td>\n",
       "      <td>...</td>\n",
       "      <td>...</td>\n",
       "      <td>...</td>\n",
       "      <td>...</td>\n",
       "    </tr>\n",
       "    <tr>\n",
       "      <th>76535</th>\n",
       "      <td>15338454</td>\n",
       "      <td>29642380</td>\n",
       "      <td>37340595</td>\n",
       "      <td>Medical Intensive Care Unit (MICU)</td>\n",
       "      <td>Medical Intensive Care Unit (MICU)</td>\n",
       "      <td>2210-11-21 18:42:56</td>\n",
       "      <td>2210-11-23 16:03:45</td>\n",
       "      <td>1.889456</td>\n",
       "      <td>2210-11-18 21:47:00</td>\n",
       "      <td>2210-12-01 17:51:00</td>\n",
       "      <td>NaN</td>\n",
       "      <td>EW EMER.</td>\n",
       "      <td>PHYSICIAN REFERRAL</td>\n",
       "      <td>HOSPICE</td>\n",
       "      <td>Medicare</td>\n",
       "      <td>SINGLE</td>\n",
       "      <td>WHITE</td>\n",
       "      <td>2200-01-01</td>\n",
       "      <td>2210-12-04</td>\n",
       "      <td>M</td>\n",
       "      <td>1</td>\n",
       "      <td>0</td>\n",
       "      <td>0</td>\n",
       "      <td>2</td>\n",
       "      <td>1</td>\n",
       "      <td>0</td>\n",
       "      <td>0</td>\n",
       "      <td>NaN</td>\n",
       "      <td>NaN</td>\n",
       "      <td>0</td>\n",
       "      <td>2 days 06:09:00</td>\n",
       "      <td>1</td>\n",
       "      <td>1</td>\n",
       "      <td>10</td>\n",
       "      <td>NaN</td>\n",
       "      <td>['Lactated Ringers', 'Acetaminophen', 'Acetami...</td>\n",
       "      <td>['10_E1110', '10_I5023', '10_J9601', '10_J159'...</td>\n",
       "      <td>['9_25080', '9_5859', '9_2767', '9_40390', '9_...</td>\n",
       "      <td>1412.393750</td>\n",
       "      <td>14.0</td>\n",
       "      <td>11.0</td>\n",
       "      <td>Unknown</td>\n",
       "      <td>Type 2 diabetes mellitus with ketoacidosis wit...</td>\n",
       "      <td>Diabetes with other specified manifestations, ...</td>\n",
       "      <td>Lactated Ringers, Acetaminophen, Acetaminophen...</td>\n",
       "    </tr>\n",
       "    <tr>\n",
       "      <th>76536</th>\n",
       "      <td>18451791</td>\n",
       "      <td>28897092</td>\n",
       "      <td>32688519</td>\n",
       "      <td>Medical/Surgical Intensive Care Unit (MICU/SICU)</td>\n",
       "      <td>Medical/Surgical Intensive Care Unit (MICU/SICU)</td>\n",
       "      <td>2211-01-05 10:59:50</td>\n",
       "      <td>2211-01-06 17:00:09</td>\n",
       "      <td>1.250220</td>\n",
       "      <td>2211-01-05 10:58:00</td>\n",
       "      <td>2211-01-07 16:30:00</td>\n",
       "      <td>NaN</td>\n",
       "      <td>DIRECT EMER.</td>\n",
       "      <td>PHYSICIAN REFERRAL</td>\n",
       "      <td>HOME</td>\n",
       "      <td>Other</td>\n",
       "      <td>MARRIED</td>\n",
       "      <td>OTHER</td>\n",
       "      <td>2206-01-01</td>\n",
       "      <td>NaN</td>\n",
       "      <td>M</td>\n",
       "      <td>0</td>\n",
       "      <td>0</td>\n",
       "      <td>0</td>\n",
       "      <td>1</td>\n",
       "      <td>1</td>\n",
       "      <td>0</td>\n",
       "      <td>0</td>\n",
       "      <td>NaN</td>\n",
       "      <td>NaN</td>\n",
       "      <td>0</td>\n",
       "      <td>NaN</td>\n",
       "      <td>0</td>\n",
       "      <td>0</td>\n",
       "      <td>5</td>\n",
       "      <td>['10_0W3P8ZZ', '10_0DB68ZZ', '10_0DJD8ZZ', '10...</td>\n",
       "      <td>['Lactated Ringers', 'Ondansetron', 'Sodium Ch...</td>\n",
       "      <td>['10_K9161', '10_I5022', '10_D62', '10_I429', ...</td>\n",
       "      <td>['9_2111', '9_2851', '9_7921', '9_4019', '9_27...</td>\n",
       "      <td>1537.766667</td>\n",
       "      <td>1.0</td>\n",
       "      <td>1.0</td>\n",
       "      <td>Control Bleeding in Gastrointestinal Tract, Vi...</td>\n",
       "      <td>Intraoperative hemorrhage and hematoma of a di...</td>\n",
       "      <td>Benign neoplasm of stomach Acute posthemorrhag...</td>\n",
       "      <td>Lactated Ringers, Ondansetron, Sodium Chloride...</td>\n",
       "    </tr>\n",
       "    <tr>\n",
       "      <th>76537</th>\n",
       "      <td>12844772</td>\n",
       "      <td>26783082</td>\n",
       "      <td>37001422</td>\n",
       "      <td>Neuro Surgical Intensive Care Unit (Neuro SICU)</td>\n",
       "      <td>Neuro Surgical Intensive Care Unit (Neuro SICU)</td>\n",
       "      <td>2211-01-14 14:37:00</td>\n",
       "      <td>2211-01-17 15:23:45</td>\n",
       "      <td>3.032465</td>\n",
       "      <td>2211-01-14 13:14:00</td>\n",
       "      <td>2211-01-17 12:34:00</td>\n",
       "      <td>2211-01-17 12:34:00</td>\n",
       "      <td>EW EMER.</td>\n",
       "      <td>PHYSICIAN REFERRAL</td>\n",
       "      <td>DIED</td>\n",
       "      <td>Medicare</td>\n",
       "      <td>SINGLE</td>\n",
       "      <td>WHITE</td>\n",
       "      <td>2199-01-01</td>\n",
       "      <td>2211-01-17</td>\n",
       "      <td>M</td>\n",
       "      <td>1</td>\n",
       "      <td>1</td>\n",
       "      <td>1</td>\n",
       "      <td>1</td>\n",
       "      <td>1</td>\n",
       "      <td>0</td>\n",
       "      <td>0</td>\n",
       "      <td>NaN</td>\n",
       "      <td>NaN</td>\n",
       "      <td>0</td>\n",
       "      <td>-1 days +11:26:00</td>\n",
       "      <td>0</td>\n",
       "      <td>2</td>\n",
       "      <td>12</td>\n",
       "      <td>['10_03C80ZZ', '10_5A1945Z', '10_02HV33Z', '10...</td>\n",
       "      <td>['Docusate Sodium', 'Bisacodyl', 'Bisacodyl', ...</td>\n",
       "      <td>['10_I63232', '10_J9600', '10_G936', '10_I420'...</td>\n",
       "      <td>['9_42823', '9_4280', '9_5849', '9_4254', '9_4...</td>\n",
       "      <td>1589.056944</td>\n",
       "      <td>4.0</td>\n",
       "      <td>5.0</td>\n",
       "      <td>Extirpation of Matter from Left Brachial Arter...</td>\n",
       "      <td>Cerebral infarction due to unspecified occlusi...</td>\n",
       "      <td>Acute on chronic systolic heart failure Conges...</td>\n",
       "      <td>Docusate Sodium, Bisacodyl, Bisacodyl, Acetami...</td>\n",
       "    </tr>\n",
       "    <tr>\n",
       "      <th>76538</th>\n",
       "      <td>14239401</td>\n",
       "      <td>21199923</td>\n",
       "      <td>35906940</td>\n",
       "      <td>Medical Intensive Care Unit (MICU)</td>\n",
       "      <td>Medical Intensive Care Unit (MICU)</td>\n",
       "      <td>2211-05-01 06:59:19</td>\n",
       "      <td>2211-05-10 22:51:06</td>\n",
       "      <td>9.660961</td>\n",
       "      <td>2211-05-01 06:57:00</td>\n",
       "      <td>2211-05-12 17:54:00</td>\n",
       "      <td>NaN</td>\n",
       "      <td>EW EMER.</td>\n",
       "      <td>PHYSICIAN REFERRAL</td>\n",
       "      <td>CHRONIC/LONG TERM ACUTE CARE</td>\n",
       "      <td>Medicare</td>\n",
       "      <td>WIDOWED</td>\n",
       "      <td>BLACK/AFRICAN AMERICAN</td>\n",
       "      <td>2200-01-01</td>\n",
       "      <td>NaN</td>\n",
       "      <td>F</td>\n",
       "      <td>0</td>\n",
       "      <td>0</td>\n",
       "      <td>0</td>\n",
       "      <td>1</td>\n",
       "      <td>1</td>\n",
       "      <td>0</td>\n",
       "      <td>0</td>\n",
       "      <td>NaN</td>\n",
       "      <td>NaN</td>\n",
       "      <td>0</td>\n",
       "      <td>NaN</td>\n",
       "      <td>0</td>\n",
       "      <td>0</td>\n",
       "      <td>11</td>\n",
       "      <td>['10_5A1955Z', '10_0BH17EZ', '10_3E0G76Z']</td>\n",
       "      <td>['Senna', 'Senna', 'Senna', 'Heparin', 'Famoti...</td>\n",
       "      <td>['10_A419', '10_R6521', '10_J80', '10_J810', '...</td>\n",
       "      <td>['9_43491', '9_5569', '9_72989', '9_7820', '9_...</td>\n",
       "      <td>2550.539583</td>\n",
       "      <td>4.0</td>\n",
       "      <td>0.0</td>\n",
       "      <td>Respiratory Ventilation, Greater than 96 Conse...</td>\n",
       "      <td>Sepsis, unspecified organism Severe sepsis wit...</td>\n",
       "      <td>Cerebral artery occlusion, unspecified with ce...</td>\n",
       "      <td>Senna, Senna, Senna, Heparin, Famotidine, Iso-...</td>\n",
       "    </tr>\n",
       "    <tr>\n",
       "      <th>76539</th>\n",
       "      <td>16703369</td>\n",
       "      <td>27928947</td>\n",
       "      <td>36321770</td>\n",
       "      <td>Neuro Intermediate</td>\n",
       "      <td>Neuro Intermediate</td>\n",
       "      <td>2211-11-09 03:33:00</td>\n",
       "      <td>2211-11-11 18:34:18</td>\n",
       "      <td>2.625903</td>\n",
       "      <td>2211-11-09 02:26:00</td>\n",
       "      <td>2211-11-11 18:15:00</td>\n",
       "      <td>NaN</td>\n",
       "      <td>OBSERVATION ADMIT</td>\n",
       "      <td>TRANSFER FROM HOSPITAL</td>\n",
       "      <td>SKILLED NURSING FACILITY</td>\n",
       "      <td>Medicare</td>\n",
       "      <td>MARRIED</td>\n",
       "      <td>WHITE</td>\n",
       "      <td>2201-01-01</td>\n",
       "      <td>NaN</td>\n",
       "      <td>F</td>\n",
       "      <td>0</td>\n",
       "      <td>0</td>\n",
       "      <td>0</td>\n",
       "      <td>1</td>\n",
       "      <td>1</td>\n",
       "      <td>0</td>\n",
       "      <td>0</td>\n",
       "      <td>NaN</td>\n",
       "      <td>NaN</td>\n",
       "      <td>0</td>\n",
       "      <td>NaN</td>\n",
       "      <td>0</td>\n",
       "      <td>0</td>\n",
       "      <td>10</td>\n",
       "      <td>NaN</td>\n",
       "      <td>['Influenza Vaccine Quadrivalent', 'Sodium Chl...</td>\n",
       "      <td>['10_G40209', '10_I5032', '10_I2510', '10_Z986...</td>\n",
       "      <td>['9_2800', '9_34831', '9_49322', '9_7211', '9_...</td>\n",
       "      <td>440.309722</td>\n",
       "      <td>23.0</td>\n",
       "      <td>12.0</td>\n",
       "      <td>Unknown</td>\n",
       "      <td>Localization-related (focal) (partial) symptom...</td>\n",
       "      <td>Iron deficiency anemia secondary to blood loss...</td>\n",
       "      <td>Influenza Vaccine Quadrivalent, Sodium Chlorid...</td>\n",
       "    </tr>\n",
       "  </tbody>\n",
       "</table>\n",
       "<p>76540 rows × 45 columns</p>\n",
       "</div>"
      ],
      "text/plain": [
       "       SUBJECT_ID   HADM_ID  ICUSTAY_ID  \\\n",
       "0        18106347  24305596    30588857   \n",
       "1        17195991  23542772    38319097   \n",
       "2        16284044  23864737    36817845   \n",
       "3        18122666  23883987    39753527   \n",
       "4        18780420  28977824    32140208   \n",
       "...           ...       ...         ...   \n",
       "76535    15338454  29642380    37340595   \n",
       "76536    18451791  28897092    32688519   \n",
       "76537    12844772  26783082    37001422   \n",
       "76538    14239401  21199923    35906940   \n",
       "76539    16703369  27928947    36321770   \n",
       "\n",
       "                                         FIRST_CAREUNIT  \\\n",
       "0          Cardiac Vascular Intensive Care Unit (CVICU)   \n",
       "1                   Surgical Intensive Care Unit (SICU)   \n",
       "2          Cardiac Vascular Intensive Care Unit (CVICU)   \n",
       "3      Medical/Surgical Intensive Care Unit (MICU/SICU)   \n",
       "4       Neuro Surgical Intensive Care Unit (Neuro SICU)   \n",
       "...                                                 ...   \n",
       "76535                Medical Intensive Care Unit (MICU)   \n",
       "76536  Medical/Surgical Intensive Care Unit (MICU/SICU)   \n",
       "76537   Neuro Surgical Intensive Care Unit (Neuro SICU)   \n",
       "76538                Medical Intensive Care Unit (MICU)   \n",
       "76539                                Neuro Intermediate   \n",
       "\n",
       "                                          LAST_CAREUNIT               INTIME  \\\n",
       "0          Cardiac Vascular Intensive Care Unit (CVICU)  2110-01-11 10:16:06   \n",
       "1                   Surgical Intensive Care Unit (SICU)  2110-01-12 00:54:00   \n",
       "2          Cardiac Vascular Intensive Care Unit (CVICU)  2110-01-13 09:09:40   \n",
       "3      Medical/Surgical Intensive Care Unit (MICU/SICU)  2110-01-14 07:22:00   \n",
       "4       Neuro Surgical Intensive Care Unit (Neuro SICU)  2110-01-17 00:28:00   \n",
       "...                                                 ...                  ...   \n",
       "76535                Medical Intensive Care Unit (MICU)  2210-11-21 18:42:56   \n",
       "76536  Medical/Surgical Intensive Care Unit (MICU/SICU)  2211-01-05 10:59:50   \n",
       "76537   Neuro Surgical Intensive Care Unit (Neuro SICU)  2211-01-14 14:37:00   \n",
       "76538                Medical Intensive Care Unit (MICU)  2211-05-01 06:59:19   \n",
       "76539                                Neuro Intermediate  2211-11-09 03:33:00   \n",
       "\n",
       "                   OUTTIME       LOS            ADMITTIME  \\\n",
       "0      2110-01-12 17:17:47  1.292836  2110-01-11 10:14:00   \n",
       "1      2110-01-14 22:07:39  2.884479  2110-01-11 22:47:00   \n",
       "2      2110-01-15 21:45:33  2.524919  2110-01-11 19:58:00   \n",
       "3      2110-01-15 13:08:36  1.240694  2110-01-14 05:17:00   \n",
       "4      2110-01-18 01:21:22  1.037060  2110-01-16 23:37:00   \n",
       "...                    ...       ...                  ...   \n",
       "76535  2210-11-23 16:03:45  1.889456  2210-11-18 21:47:00   \n",
       "76536  2211-01-06 17:00:09  1.250220  2211-01-05 10:58:00   \n",
       "76537  2211-01-17 15:23:45  3.032465  2211-01-14 13:14:00   \n",
       "76538  2211-05-10 22:51:06  9.660961  2211-05-01 06:57:00   \n",
       "76539  2211-11-11 18:34:18  2.625903  2211-11-09 02:26:00   \n",
       "\n",
       "                 DISCHTIME            DEATHTIME     ADMISSION_TYPE  \\\n",
       "0      2110-01-15 17:31:00                  NaN           EW EMER.   \n",
       "1      2110-01-18 10:25:00                  NaN           EW EMER.   \n",
       "2      2110-01-17 16:00:00                  NaN             URGENT   \n",
       "3      2110-01-16 16:34:00                  NaN           EW EMER.   \n",
       "4      2110-01-22 16:07:00                  NaN           EW EMER.   \n",
       "...                    ...                  ...                ...   \n",
       "76535  2210-12-01 17:51:00                  NaN           EW EMER.   \n",
       "76536  2211-01-07 16:30:00                  NaN       DIRECT EMER.   \n",
       "76537  2211-01-17 12:34:00  2211-01-17 12:34:00           EW EMER.   \n",
       "76538  2211-05-12 17:54:00                  NaN           EW EMER.   \n",
       "76539  2211-11-11 18:15:00                  NaN  OBSERVATION ADMIT   \n",
       "\n",
       "           ADMISSION_LOCATION            DISCHARGE_LOCATION INSURANCE  \\\n",
       "0                        PACU              HOME HEALTH CARE     Other   \n",
       "1              EMERGENCY ROOM  CHRONIC/LONG TERM ACUTE CARE     Other   \n",
       "2      TRANSFER FROM HOSPITAL      SKILLED NURSING FACILITY     Other   \n",
       "3              EMERGENCY ROOM                PSYCH FACILITY     Other   \n",
       "4              EMERGENCY ROOM                         REHAB  Medicare   \n",
       "...                       ...                           ...       ...   \n",
       "76535      PHYSICIAN REFERRAL                       HOSPICE  Medicare   \n",
       "76536      PHYSICIAN REFERRAL                          HOME     Other   \n",
       "76537      PHYSICIAN REFERRAL                          DIED  Medicare   \n",
       "76538      PHYSICIAN REFERRAL  CHRONIC/LONG TERM ACUTE CARE  Medicare   \n",
       "76539  TRANSFER FROM HOSPITAL      SKILLED NURSING FACILITY  Medicare   \n",
       "\n",
       "      MARITAL_STATUS               ETHNICITY         DOB         DOD GENDER  \\\n",
       "0           DIVORCED                   WHITE  2110-01-01         NaN      F   \n",
       "1             SINGLE        UNABLE TO OBTAIN  2110-01-01         NaN      F   \n",
       "2           DIVORCED                   WHITE  2110-01-01         NaN      F   \n",
       "3           DIVORCED                   WHITE  2110-01-01         NaN      M   \n",
       "4            MARRIED                   WHITE  2110-01-01         NaN      M   \n",
       "...              ...                     ...         ...         ...    ...   \n",
       "76535         SINGLE                   WHITE  2200-01-01  2210-12-04      M   \n",
       "76536        MARRIED                   OTHER  2206-01-01         NaN      M   \n",
       "76537         SINGLE                   WHITE  2199-01-01  2211-01-17      M   \n",
       "76538        WIDOWED  BLACK/AFRICAN AMERICAN  2200-01-01         NaN      F   \n",
       "76539        MARRIED                   WHITE  2201-01-01         NaN      F   \n",
       "\n",
       "       MORTALITY  MORTALITY_INHOSPITAL  MORTALITY_INUNIT  COUNTS  MAX_OUTTIME  \\\n",
       "0              0                     0                 0       1            1   \n",
       "1              0                     0                 0       1            1   \n",
       "2              0                     0                 0       1            1   \n",
       "3              0                     0                 0       1            1   \n",
       "4              0                     0                 0       1            1   \n",
       "...          ...                   ...               ...     ...          ...   \n",
       "76535          1                     0                 0       2            1   \n",
       "76536          0                     0                 0       1            1   \n",
       "76537          1                     1                 1       1            1   \n",
       "76538          0                     0                 0       1            1   \n",
       "76539          0                     0                 0       1            1   \n",
       "\n",
       "       TRANSFERBACK  DIEINWARD NEXT_INTIME DIFF  LESS_THAN_30DAYS  \\\n",
       "0                 0          0         NaN  NaN                 0   \n",
       "1                 0          0         NaN  NaN                 0   \n",
       "2                 0          0         NaN  NaN                 0   \n",
       "3                 0          0         NaN  NaN                 0   \n",
       "4                 0          0         NaN  NaN                 0   \n",
       "...             ...        ...         ...  ...               ...   \n",
       "76535             0          0         NaN  NaN                 0   \n",
       "76536             0          0         NaN  NaN                 0   \n",
       "76537             0          0         NaN  NaN                 0   \n",
       "76538             0          0         NaN  NaN                 0   \n",
       "76539             0          0         NaN  NaN                 0   \n",
       "\n",
       "           DISCHARGE_DIE  DIE_LESS_THAN_30DAYS  READMISSION  AGE  \\\n",
       "0                    NaN                     0            0   90   \n",
       "1                    NaN                     0            0   90   \n",
       "2                    NaN                     0            0   90   \n",
       "3                    NaN                     0            0   90   \n",
       "4                    NaN                     0            0   90   \n",
       "...                  ...                   ...          ...  ...   \n",
       "76535    2 days 06:09:00                     1            1   10   \n",
       "76536                NaN                     0            0    5   \n",
       "76537  -1 days +11:26:00                     0            2   12   \n",
       "76538                NaN                     0            0   11   \n",
       "76539                NaN                     0            0   10   \n",
       "\n",
       "                                              PROCEDURES  \\\n",
       "0                         ['9_3512', '9_3571', '9_3961']   \n",
       "1               ['9_9671', '9_9604', '9_0331', '9_3324']   \n",
       "2      ['10_0210099', '10_021109W', '10_06BY4ZZ', '10...   \n",
       "3                                             ['9_4516']   \n",
       "4                                                    NaN   \n",
       "...                                                  ...   \n",
       "76535                                                NaN   \n",
       "76536  ['10_0W3P8ZZ', '10_0DB68ZZ', '10_0DJD8ZZ', '10...   \n",
       "76537  ['10_03C80ZZ', '10_5A1945Z', '10_02HV33Z', '10...   \n",
       "76538         ['10_5A1955Z', '10_0BH17EZ', '10_3E0G76Z']   \n",
       "76539                                                NaN   \n",
       "\n",
       "                                                    DRUG  \\\n",
       "0      ['Sodium Chloride 0.9%  Flush', 'Aspirin', 'As...   \n",
       "1      ['Sodium Chloride 0.9%  Flush', '0.9% Sodium C...   \n",
       "2      ['Influenza Vaccine Quadrivalent', 'Acetaminop...   \n",
       "3      ['1/2 NS', 'Diazepam', 'Sodium Chloride 0.9%  ...   \n",
       "4      ['SW', '0.9% Sodium Chloride', 'PHENYLEPHrine'...   \n",
       "...                                                  ...   \n",
       "76535  ['Lactated Ringers', 'Acetaminophen', 'Acetami...   \n",
       "76536  ['Lactated Ringers', 'Ondansetron', 'Sodium Ch...   \n",
       "76537  ['Docusate Sodium', 'Bisacodyl', 'Bisacodyl', ...   \n",
       "76538  ['Senna', 'Senna', 'Senna', 'Heparin', 'Famoti...   \n",
       "76539  ['Influenza Vaccine Quadrivalent', 'Sodium Chl...   \n",
       "\n",
       "                                                   DIAGS  \\\n",
       "0      ['9_4240', '9_4295', '9_7455', '9_4019', '9_53...   \n",
       "1      ['9_3453', '9_5990', '9_29620', '9_2930', '9_7...   \n",
       "2      ['10_I25118', '10_J95812', '10_I10', '10_D62',...   \n",
       "3      ['9_53140', '9_2920', '9_30471', '9_53021', '9...   \n",
       "4      ['10_I6319', '10_J690', '10_D696', '10_G8191',...   \n",
       "...                                                  ...   \n",
       "76535  ['10_E1110', '10_I5023', '10_J9601', '10_J159'...   \n",
       "76536  ['10_K9161', '10_I5022', '10_D62', '10_I429', ...   \n",
       "76537  ['10_I63232', '10_J9600', '10_G936', '10_I420'...   \n",
       "76538  ['10_A419', '10_R6521', '10_J80', '10_J810', '...   \n",
       "76539  ['10_G40209', '10_I5032', '10_I2510', '10_Z986...   \n",
       "\n",
       "                                              PREV_DIAGS  \\\n",
       "0                                                     {}   \n",
       "1                                                     {}   \n",
       "2                                                     {}   \n",
       "3                                                     {}   \n",
       "4                                                     {}   \n",
       "...                                                  ...   \n",
       "76535  ['9_25080', '9_5859', '9_2767', '9_40390', '9_...   \n",
       "76536  ['9_2111', '9_2851', '9_7921', '9_4019', '9_27...   \n",
       "76537  ['9_42823', '9_4280', '9_5849', '9_4254', '9_4...   \n",
       "76538  ['9_43491', '9_5569', '9_72989', '9_7820', '9_...   \n",
       "76539  ['9_2800', '9_34831', '9_49322', '9_7211', '9_...   \n",
       "\n",
       "       DAYS_SINCE_LAST_ADMIS  NUM_PREV_ADMIS  NUM_PREV_PROCS  \\\n",
       "0                   0.000000             0.0             0.0   \n",
       "1                   0.000000             0.0             0.0   \n",
       "2                   0.000000             0.0             0.0   \n",
       "3                   0.000000             0.0             0.0   \n",
       "4                   0.000000             0.0             0.0   \n",
       "...                      ...             ...             ...   \n",
       "76535            1412.393750            14.0            11.0   \n",
       "76536            1537.766667             1.0             1.0   \n",
       "76537            1589.056944             4.0             5.0   \n",
       "76538            2550.539583             4.0             0.0   \n",
       "76539             440.309722            23.0            12.0   \n",
       "\n",
       "                                          PROCEDURES_STR  \\\n",
       "0      Open heart valvuloplasty of mitral valve witho...   \n",
       "1      Poisoning by chloral hydrate group Poisoning b...   \n",
       "2      Bypass Coronary Artery, One Artery from Left I...   \n",
       "3      Esophagogastroduodenoscopy [EGD] with closed b...   \n",
       "4                                                Unknown   \n",
       "...                                                  ...   \n",
       "76535                                            Unknown   \n",
       "76536  Control Bleeding in Gastrointestinal Tract, Vi...   \n",
       "76537  Extirpation of Matter from Left Brachial Arter...   \n",
       "76538  Respiratory Ventilation, Greater than 96 Conse...   \n",
       "76539                                            Unknown   \n",
       "\n",
       "                                               DIAGS_STR  \\\n",
       "0      Mitral valve disorders Rupture of chordae tend...   \n",
       "1      Grand mal status Urinary tract infection, site...   \n",
       "2      Atherosclerotic heart disease of native corona...   \n",
       "3      Chronic or unspecified gastric ulcer with hemo...   \n",
       "4      Cerebral infarction due to embolism of other p...   \n",
       "...                                                  ...   \n",
       "76535  Type 2 diabetes mellitus with ketoacidosis wit...   \n",
       "76536  Intraoperative hemorrhage and hematoma of a di...   \n",
       "76537  Cerebral infarction due to unspecified occlusi...   \n",
       "76538  Sepsis, unspecified organism Severe sepsis wit...   \n",
       "76539  Localization-related (focal) (partial) symptom...   \n",
       "\n",
       "                                          PREV_DIAGS_STR  \\\n",
       "0                                                Unknown   \n",
       "1                                                Unknown   \n",
       "2                                                Unknown   \n",
       "3                                                Unknown   \n",
       "4                                                Unknown   \n",
       "...                                                  ...   \n",
       "76535  Diabetes with other specified manifestations, ...   \n",
       "76536  Benign neoplasm of stomach Acute posthemorrhag...   \n",
       "76537  Acute on chronic systolic heart failure Conges...   \n",
       "76538  Cerebral artery occlusion, unspecified with ce...   \n",
       "76539  Iron deficiency anemia secondary to blood loss...   \n",
       "\n",
       "                                                DRUG_STR  \n",
       "0      Sodium Chloride 0.9%  Flush, Aspirin, Aspirin ...  \n",
       "1      Sodium Chloride 0.9%  Flush, 0.9% Sodium Chlor...  \n",
       "2      Influenza Vaccine Quadrivalent, Acetaminophen,...  \n",
       "3      1/2 NS, Diazepam, Sodium Chloride 0.9%  Flush,...  \n",
       "4      SW, 0.9% Sodium Chloride, PHENYLEPHrine, HydrA...  \n",
       "...                                                  ...  \n",
       "76535  Lactated Ringers, Acetaminophen, Acetaminophen...  \n",
       "76536  Lactated Ringers, Ondansetron, Sodium Chloride...  \n",
       "76537  Docusate Sodium, Bisacodyl, Bisacodyl, Acetami...  \n",
       "76538  Senna, Senna, Senna, Heparin, Famotidine, Iso-...  \n",
       "76539  Influenza Vaccine Quadrivalent, Sodium Chlorid...  \n",
       "\n",
       "[76540 rows x 45 columns]"
      ]
     },
     "metadata": {},
     "output_type": "display_data"
    }
   ],
   "source": [
    "display(train_df)"
   ]
  },
  {
   "cell_type": "code",
   "execution_count": 77,
   "id": "8053cf56",
   "metadata": {
    "pycharm": {
     "name": "#%%\n"
    }
   },
   "outputs": [
    {
     "data": {
      "text/html": [
       "<div>\n",
       "<style scoped>\n",
       "    .dataframe tbody tr th:only-of-type {\n",
       "        vertical-align: middle;\n",
       "    }\n",
       "\n",
       "    .dataframe tbody tr th {\n",
       "        vertical-align: top;\n",
       "    }\n",
       "\n",
       "    .dataframe thead th {\n",
       "        text-align: right;\n",
       "    }\n",
       "</style>\n",
       "<table border=\"1\" class=\"dataframe\">\n",
       "  <thead>\n",
       "    <tr style=\"text-align: right;\">\n",
       "      <th></th>\n",
       "      <th>SUBJECT_ID</th>\n",
       "      <th>HADM_ID</th>\n",
       "      <th>ICUSTAY_ID</th>\n",
       "      <th>FIRST_CAREUNIT</th>\n",
       "      <th>LAST_CAREUNIT</th>\n",
       "      <th>INTIME</th>\n",
       "      <th>OUTTIME</th>\n",
       "      <th>LOS</th>\n",
       "      <th>ADMITTIME</th>\n",
       "      <th>DISCHTIME</th>\n",
       "      <th>DEATHTIME</th>\n",
       "      <th>ADMISSION_TYPE</th>\n",
       "      <th>ADMISSION_LOCATION</th>\n",
       "      <th>DISCHARGE_LOCATION</th>\n",
       "      <th>INSURANCE</th>\n",
       "      <th>MARITAL_STATUS</th>\n",
       "      <th>ETHNICITY</th>\n",
       "      <th>DOB</th>\n",
       "      <th>DOD</th>\n",
       "      <th>GENDER</th>\n",
       "      <th>MORTALITY</th>\n",
       "      <th>MORTALITY_INHOSPITAL</th>\n",
       "      <th>MORTALITY_INUNIT</th>\n",
       "      <th>COUNTS</th>\n",
       "      <th>MAX_OUTTIME</th>\n",
       "      <th>TRANSFERBACK</th>\n",
       "      <th>DIEINWARD</th>\n",
       "      <th>NEXT_INTIME</th>\n",
       "      <th>DIFF</th>\n",
       "      <th>LESS_THAN_30DAYS</th>\n",
       "      <th>DISCHARGE_DIE</th>\n",
       "      <th>DIE_LESS_THAN_30DAYS</th>\n",
       "      <th>READMISSION</th>\n",
       "      <th>AGE</th>\n",
       "      <th>PROCEDURES</th>\n",
       "      <th>DRUG</th>\n",
       "      <th>DIAGS</th>\n",
       "      <th>PREV_DIAGS</th>\n",
       "      <th>DAYS_SINCE_LAST_ADMIS</th>\n",
       "      <th>NUM_PREV_ADMIS</th>\n",
       "      <th>NUM_PREV_PROCS</th>\n",
       "      <th>PROCEDURES_STR</th>\n",
       "      <th>DIAGS_STR</th>\n",
       "      <th>PREV_DIAGS_STR</th>\n",
       "      <th>DRUG_STR</th>\n",
       "    </tr>\n",
       "  </thead>\n",
       "  <tbody>\n",
       "    <tr>\n",
       "      <th>75782</th>\n",
       "      <td>16703369</td>\n",
       "      <td>27525870</td>\n",
       "      <td>32040718</td>\n",
       "      <td>Surgical Intensive Care Unit (SICU)</td>\n",
       "      <td>Surgical Intensive Care Unit (SICU)</td>\n",
       "      <td>2201-04-01 15:36:01</td>\n",
       "      <td>2201-04-03 18:42:14</td>\n",
       "      <td>2.129317</td>\n",
       "      <td>2201-03-21 16:08:00</td>\n",
       "      <td>2201-04-15 16:10:00</td>\n",
       "      <td>NaN</td>\n",
       "      <td>EW EMER.</td>\n",
       "      <td>EMERGENCY ROOM</td>\n",
       "      <td>REHAB</td>\n",
       "      <td>Other</td>\n",
       "      <td>MARRIED</td>\n",
       "      <td>WHITE</td>\n",
       "      <td>2201-01-01</td>\n",
       "      <td>NaN</td>\n",
       "      <td>F</td>\n",
       "      <td>0</td>\n",
       "      <td>0</td>\n",
       "      <td>0</td>\n",
       "      <td>1</td>\n",
       "      <td>1</td>\n",
       "      <td>0</td>\n",
       "      <td>0</td>\n",
       "      <td>2207-07-01 09:04:15</td>\n",
       "      <td>2279 days 14:22:01</td>\n",
       "      <td>0</td>\n",
       "      <td>NaN</td>\n",
       "      <td>0</td>\n",
       "      <td>0</td>\n",
       "      <td>90</td>\n",
       "      <td>['9_0159', '9_0309', '9_3893']</td>\n",
       "      <td>['Atorvastatin', 'Topiramate (Topamax)', 'Furo...</td>\n",
       "      <td>['9_34580', '9_51881', '9_2883', '9_33829', '9...</td>\n",
       "      <td>{}</td>\n",
       "      <td>0.000000</td>\n",
       "      <td>0.0</td>\n",
       "      <td>0.0</td>\n",
       "      <td>Other excision or destruction of lesion or tis...</td>\n",
       "      <td>Other forms of epilepsy and recurrent seizures...</td>\n",
       "      <td>Unknown</td>\n",
       "      <td>Atorvastatin, Topiramate (Topamax), Furosemide...</td>\n",
       "    </tr>\n",
       "    <tr>\n",
       "      <th>76458</th>\n",
       "      <td>16703369</td>\n",
       "      <td>24138806</td>\n",
       "      <td>33037294</td>\n",
       "      <td>Medical/Surgical Intensive Care Unit (MICU/SICU)</td>\n",
       "      <td>Medical/Surgical Intensive Care Unit (MICU/SICU)</td>\n",
       "      <td>2207-07-01 09:04:15</td>\n",
       "      <td>2207-07-02 20:48:26</td>\n",
       "      <td>1.489016</td>\n",
       "      <td>2207-06-30 13:15:00</td>\n",
       "      <td>2207-07-11 17:17:00</td>\n",
       "      <td>NaN</td>\n",
       "      <td>SURGICAL SAME DAY ADMISSION</td>\n",
       "      <td>PHYSICIAN REFERRAL</td>\n",
       "      <td>SKILLED NURSING FACILITY</td>\n",
       "      <td>Other</td>\n",
       "      <td>MARRIED</td>\n",
       "      <td>WHITE</td>\n",
       "      <td>2201-01-01</td>\n",
       "      <td>NaN</td>\n",
       "      <td>F</td>\n",
       "      <td>0</td>\n",
       "      <td>0</td>\n",
       "      <td>0</td>\n",
       "      <td>1</td>\n",
       "      <td>1</td>\n",
       "      <td>0</td>\n",
       "      <td>0</td>\n",
       "      <td>2211-11-09 03:33:00</td>\n",
       "      <td>1590 days 06:44:34</td>\n",
       "      <td>0</td>\n",
       "      <td>NaN</td>\n",
       "      <td>0</td>\n",
       "      <td>0</td>\n",
       "      <td>6</td>\n",
       "      <td>['9_7869', '9_8456']</td>\n",
       "      <td>['Topiramate (Topamax)', 'Topiramate (Topamax)...</td>\n",
       "      <td>['9_99677', '9_2851', '9_2875', '9_27652', '9_...</td>\n",
       "      <td>['9_2800', '9_34831', '9_49322', '9_7211', '9_...</td>\n",
       "      <td>215.809028</td>\n",
       "      <td>14.0</td>\n",
       "      <td>7.0</td>\n",
       "      <td>Other symptoms involving respiratory system an...</td>\n",
       "      <td>Other complications due to internal joint pros...</td>\n",
       "      <td>Iron deficiency anemia secondary to blood loss...</td>\n",
       "      <td>Topiramate (Topamax), Topiramate (Topamax), Ga...</td>\n",
       "    </tr>\n",
       "    <tr>\n",
       "      <th>76539</th>\n",
       "      <td>16703369</td>\n",
       "      <td>27928947</td>\n",
       "      <td>36321770</td>\n",
       "      <td>Neuro Intermediate</td>\n",
       "      <td>Neuro Intermediate</td>\n",
       "      <td>2211-11-09 03:33:00</td>\n",
       "      <td>2211-11-11 18:34:18</td>\n",
       "      <td>2.625903</td>\n",
       "      <td>2211-11-09 02:26:00</td>\n",
       "      <td>2211-11-11 18:15:00</td>\n",
       "      <td>NaN</td>\n",
       "      <td>OBSERVATION ADMIT</td>\n",
       "      <td>TRANSFER FROM HOSPITAL</td>\n",
       "      <td>SKILLED NURSING FACILITY</td>\n",
       "      <td>Medicare</td>\n",
       "      <td>MARRIED</td>\n",
       "      <td>WHITE</td>\n",
       "      <td>2201-01-01</td>\n",
       "      <td>NaN</td>\n",
       "      <td>F</td>\n",
       "      <td>0</td>\n",
       "      <td>0</td>\n",
       "      <td>0</td>\n",
       "      <td>1</td>\n",
       "      <td>1</td>\n",
       "      <td>0</td>\n",
       "      <td>0</td>\n",
       "      <td>NaN</td>\n",
       "      <td>NaN</td>\n",
       "      <td>0</td>\n",
       "      <td>NaN</td>\n",
       "      <td>0</td>\n",
       "      <td>0</td>\n",
       "      <td>10</td>\n",
       "      <td>NaN</td>\n",
       "      <td>['Influenza Vaccine Quadrivalent', 'Sodium Chl...</td>\n",
       "      <td>['10_G40209', '10_I5032', '10_I2510', '10_Z986...</td>\n",
       "      <td>['9_2800', '9_34831', '9_49322', '9_7211', '9_...</td>\n",
       "      <td>440.309722</td>\n",
       "      <td>23.0</td>\n",
       "      <td>12.0</td>\n",
       "      <td>Unknown</td>\n",
       "      <td>Localization-related (focal) (partial) symptom...</td>\n",
       "      <td>Iron deficiency anemia secondary to blood loss...</td>\n",
       "      <td>Influenza Vaccine Quadrivalent, Sodium Chlorid...</td>\n",
       "    </tr>\n",
       "  </tbody>\n",
       "</table>\n",
       "</div>"
      ],
      "text/plain": [
       "       SUBJECT_ID   HADM_ID  ICUSTAY_ID  \\\n",
       "75782    16703369  27525870    32040718   \n",
       "76458    16703369  24138806    33037294   \n",
       "76539    16703369  27928947    36321770   \n",
       "\n",
       "                                         FIRST_CAREUNIT  \\\n",
       "75782               Surgical Intensive Care Unit (SICU)   \n",
       "76458  Medical/Surgical Intensive Care Unit (MICU/SICU)   \n",
       "76539                                Neuro Intermediate   \n",
       "\n",
       "                                          LAST_CAREUNIT               INTIME  \\\n",
       "75782               Surgical Intensive Care Unit (SICU)  2201-04-01 15:36:01   \n",
       "76458  Medical/Surgical Intensive Care Unit (MICU/SICU)  2207-07-01 09:04:15   \n",
       "76539                                Neuro Intermediate  2211-11-09 03:33:00   \n",
       "\n",
       "                   OUTTIME       LOS            ADMITTIME  \\\n",
       "75782  2201-04-03 18:42:14  2.129317  2201-03-21 16:08:00   \n",
       "76458  2207-07-02 20:48:26  1.489016  2207-06-30 13:15:00   \n",
       "76539  2211-11-11 18:34:18  2.625903  2211-11-09 02:26:00   \n",
       "\n",
       "                 DISCHTIME DEATHTIME               ADMISSION_TYPE  \\\n",
       "75782  2201-04-15 16:10:00       NaN                     EW EMER.   \n",
       "76458  2207-07-11 17:17:00       NaN  SURGICAL SAME DAY ADMISSION   \n",
       "76539  2211-11-11 18:15:00       NaN            OBSERVATION ADMIT   \n",
       "\n",
       "           ADMISSION_LOCATION        DISCHARGE_LOCATION INSURANCE  \\\n",
       "75782          EMERGENCY ROOM                     REHAB     Other   \n",
       "76458      PHYSICIAN REFERRAL  SKILLED NURSING FACILITY     Other   \n",
       "76539  TRANSFER FROM HOSPITAL  SKILLED NURSING FACILITY  Medicare   \n",
       "\n",
       "      MARITAL_STATUS ETHNICITY         DOB  DOD GENDER  MORTALITY  \\\n",
       "75782        MARRIED     WHITE  2201-01-01  NaN      F          0   \n",
       "76458        MARRIED     WHITE  2201-01-01  NaN      F          0   \n",
       "76539        MARRIED     WHITE  2201-01-01  NaN      F          0   \n",
       "\n",
       "       MORTALITY_INHOSPITAL  MORTALITY_INUNIT  COUNTS  MAX_OUTTIME  \\\n",
       "75782                     0                 0       1            1   \n",
       "76458                     0                 0       1            1   \n",
       "76539                     0                 0       1            1   \n",
       "\n",
       "       TRANSFERBACK  DIEINWARD          NEXT_INTIME                DIFF  \\\n",
       "75782             0          0  2207-07-01 09:04:15  2279 days 14:22:01   \n",
       "76458             0          0  2211-11-09 03:33:00  1590 days 06:44:34   \n",
       "76539             0          0                  NaN                 NaN   \n",
       "\n",
       "       LESS_THAN_30DAYS DISCHARGE_DIE  DIE_LESS_THAN_30DAYS  READMISSION  AGE  \\\n",
       "75782                 0           NaN                     0            0   90   \n",
       "76458                 0           NaN                     0            0    6   \n",
       "76539                 0           NaN                     0            0   10   \n",
       "\n",
       "                           PROCEDURES  \\\n",
       "75782  ['9_0159', '9_0309', '9_3893']   \n",
       "76458            ['9_7869', '9_8456']   \n",
       "76539                             NaN   \n",
       "\n",
       "                                                    DRUG  \\\n",
       "75782  ['Atorvastatin', 'Topiramate (Topamax)', 'Furo...   \n",
       "76458  ['Topiramate (Topamax)', 'Topiramate (Topamax)...   \n",
       "76539  ['Influenza Vaccine Quadrivalent', 'Sodium Chl...   \n",
       "\n",
       "                                                   DIAGS  \\\n",
       "75782  ['9_34580', '9_51881', '9_2883', '9_33829', '9...   \n",
       "76458  ['9_99677', '9_2851', '9_2875', '9_27652', '9_...   \n",
       "76539  ['10_G40209', '10_I5032', '10_I2510', '10_Z986...   \n",
       "\n",
       "                                              PREV_DIAGS  \\\n",
       "75782                                                 {}   \n",
       "76458  ['9_2800', '9_34831', '9_49322', '9_7211', '9_...   \n",
       "76539  ['9_2800', '9_34831', '9_49322', '9_7211', '9_...   \n",
       "\n",
       "       DAYS_SINCE_LAST_ADMIS  NUM_PREV_ADMIS  NUM_PREV_PROCS  \\\n",
       "75782               0.000000             0.0             0.0   \n",
       "76458             215.809028            14.0             7.0   \n",
       "76539             440.309722            23.0            12.0   \n",
       "\n",
       "                                          PROCEDURES_STR  \\\n",
       "75782  Other excision or destruction of lesion or tis...   \n",
       "76458  Other symptoms involving respiratory system an...   \n",
       "76539                                            Unknown   \n",
       "\n",
       "                                               DIAGS_STR  \\\n",
       "75782  Other forms of epilepsy and recurrent seizures...   \n",
       "76458  Other complications due to internal joint pros...   \n",
       "76539  Localization-related (focal) (partial) symptom...   \n",
       "\n",
       "                                          PREV_DIAGS_STR  \\\n",
       "75782                                            Unknown   \n",
       "76458  Iron deficiency anemia secondary to blood loss...   \n",
       "76539  Iron deficiency anemia secondary to blood loss...   \n",
       "\n",
       "                                                DRUG_STR  \n",
       "75782  Atorvastatin, Topiramate (Topamax), Furosemide...  \n",
       "76458  Topiramate (Topamax), Topiramate (Topamax), Ga...  \n",
       "76539  Influenza Vaccine Quadrivalent, Sodium Chlorid...  "
      ]
     },
     "execution_count": 77,
     "metadata": {},
     "output_type": "execute_result"
    }
   ],
   "source": [
    "train_df.loc[train_df['SUBJECT_ID']==16703369]"
   ]
  },
  {
   "cell_type": "code",
   "execution_count": 42,
   "id": "9604296a",
   "metadata": {
    "pycharm": {
     "name": "#%%\n"
    }
   },
   "outputs": [
    {
     "data": {
      "text/html": [
       "<div>\n",
       "<style scoped>\n",
       "    .dataframe tbody tr th:only-of-type {\n",
       "        vertical-align: middle;\n",
       "    }\n",
       "\n",
       "    .dataframe tbody tr th {\n",
       "        vertical-align: top;\n",
       "    }\n",
       "\n",
       "    .dataframe thead th {\n",
       "        text-align: right;\n",
       "    }\n",
       "</style>\n",
       "<table border=\"1\" class=\"dataframe\">\n",
       "  <thead>\n",
       "    <tr style=\"text-align: right;\">\n",
       "      <th></th>\n",
       "      <th>SUBJECT_ID</th>\n",
       "      <th>SUBJECT_LABLE</th>\n",
       "    </tr>\n",
       "  </thead>\n",
       "  <tbody>\n",
       "    <tr>\n",
       "      <th>0</th>\n",
       "      <td>15146009</td>\n",
       "      <td>train</td>\n",
       "    </tr>\n",
       "    <tr>\n",
       "      <th>1</th>\n",
       "      <td>12100760</td>\n",
       "      <td>train</td>\n",
       "    </tr>\n",
       "    <tr>\n",
       "      <th>2</th>\n",
       "      <td>16128608</td>\n",
       "      <td>train</td>\n",
       "    </tr>\n",
       "    <tr>\n",
       "      <th>3</th>\n",
       "      <td>19258813</td>\n",
       "      <td>train</td>\n",
       "    </tr>\n",
       "    <tr>\n",
       "      <th>4</th>\n",
       "      <td>13884765</td>\n",
       "      <td>train</td>\n",
       "    </tr>\n",
       "    <tr>\n",
       "      <th>...</th>\n",
       "      <td>...</td>\n",
       "      <td>...</td>\n",
       "    </tr>\n",
       "    <tr>\n",
       "      <th>53145</th>\n",
       "      <td>15126859</td>\n",
       "      <td>test</td>\n",
       "    </tr>\n",
       "    <tr>\n",
       "      <th>53146</th>\n",
       "      <td>10082543</td>\n",
       "      <td>test</td>\n",
       "    </tr>\n",
       "    <tr>\n",
       "      <th>53147</th>\n",
       "      <td>11641327</td>\n",
       "      <td>test</td>\n",
       "    </tr>\n",
       "    <tr>\n",
       "      <th>53148</th>\n",
       "      <td>11117353</td>\n",
       "      <td>test</td>\n",
       "    </tr>\n",
       "    <tr>\n",
       "      <th>53149</th>\n",
       "      <td>16638424</td>\n",
       "      <td>test</td>\n",
       "    </tr>\n",
       "  </tbody>\n",
       "</table>\n",
       "<p>53150 rows × 2 columns</p>\n",
       "</div>"
      ],
      "text/plain": [
       "       SUBJECT_ID SUBJECT_LABLE\n",
       "0        15146009         train\n",
       "1        12100760         train\n",
       "2        16128608         train\n",
       "3        19258813         train\n",
       "4        13884765         train\n",
       "...           ...           ...\n",
       "53145    15126859          test\n",
       "53146    10082543          test\n",
       "53147    11641327          test\n",
       "53148    11117353          test\n",
       "53149    16638424          test\n",
       "\n",
       "[53150 rows x 2 columns]"
      ]
     },
     "metadata": {},
     "output_type": "display_data"
    },
    {
     "data": {
      "text/html": [
       "<div>\n",
       "<style scoped>\n",
       "    .dataframe tbody tr th:only-of-type {\n",
       "        vertical-align: middle;\n",
       "    }\n",
       "\n",
       "    .dataframe tbody tr th {\n",
       "        vertical-align: top;\n",
       "    }\n",
       "\n",
       "    .dataframe thead th {\n",
       "        text-align: right;\n",
       "    }\n",
       "</style>\n",
       "<table border=\"1\" class=\"dataframe\">\n",
       "  <thead>\n",
       "    <tr style=\"text-align: right;\">\n",
       "      <th></th>\n",
       "      <th>SUBJECT_ID</th>\n",
       "      <th>HADM_ID</th>\n",
       "      <th>ICUSTAY_ID</th>\n",
       "      <th>FIRST_CAREUNIT</th>\n",
       "      <th>LAST_CAREUNIT</th>\n",
       "      <th>INTIME</th>\n",
       "      <th>OUTTIME</th>\n",
       "      <th>LOS</th>\n",
       "      <th>ADMITTIME</th>\n",
       "      <th>DISCHTIME</th>\n",
       "      <th>DEATHTIME</th>\n",
       "      <th>ADMISSION_TYPE</th>\n",
       "      <th>ADMISSION_LOCATION</th>\n",
       "      <th>DISCHARGE_LOCATION</th>\n",
       "      <th>INSURANCE</th>\n",
       "      <th>MARITAL_STATUS</th>\n",
       "      <th>ETHNICITY</th>\n",
       "      <th>DOB</th>\n",
       "      <th>DOD</th>\n",
       "      <th>GENDER</th>\n",
       "      <th>MORTALITY</th>\n",
       "      <th>MORTALITY_INHOSPITAL</th>\n",
       "      <th>MORTALITY_INUNIT</th>\n",
       "      <th>COUNTS</th>\n",
       "      <th>MAX_OUTTIME</th>\n",
       "      <th>TRANSFERBACK</th>\n",
       "      <th>DIEINWARD</th>\n",
       "      <th>NEXT_INTIME</th>\n",
       "      <th>DIFF</th>\n",
       "      <th>LESS_THAN_30DAYS</th>\n",
       "      <th>DISCHARGE_DIE</th>\n",
       "      <th>DIE_LESS_THAN_30DAYS</th>\n",
       "      <th>READMISSION</th>\n",
       "      <th>AGE</th>\n",
       "      <th>PROCEDURES</th>\n",
       "      <th>DRUG</th>\n",
       "      <th>DIAGS</th>\n",
       "      <th>PREV_DIAGS</th>\n",
       "      <th>DAYS_SINCE_LAST_ADMIS</th>\n",
       "      <th>NUM_PREV_ADMIS</th>\n",
       "      <th>NUM_PREV_PROCS</th>\n",
       "      <th>PROCEDURES_STR</th>\n",
       "      <th>DIAGS_STR</th>\n",
       "      <th>PREV_DIAGS_STR</th>\n",
       "      <th>DRUG_STR</th>\n",
       "      <th>SUBJECT_LABLE</th>\n",
       "    </tr>\n",
       "  </thead>\n",
       "  <tbody>\n",
       "    <tr>\n",
       "      <th>0</th>\n",
       "      <td>18106347</td>\n",
       "      <td>24305596</td>\n",
       "      <td>30588857</td>\n",
       "      <td>Cardiac Vascular Intensive Care Unit (CVICU)</td>\n",
       "      <td>Cardiac Vascular Intensive Care Unit (CVICU)</td>\n",
       "      <td>2110-01-11 10:16:06</td>\n",
       "      <td>2110-01-12 17:17:47</td>\n",
       "      <td>1.292836</td>\n",
       "      <td>2110-01-11 10:14:00</td>\n",
       "      <td>2110-01-15 17:31:00</td>\n",
       "      <td>NaN</td>\n",
       "      <td>EW EMER.</td>\n",
       "      <td>PACU</td>\n",
       "      <td>HOME HEALTH CARE</td>\n",
       "      <td>Other</td>\n",
       "      <td>DIVORCED</td>\n",
       "      <td>WHITE</td>\n",
       "      <td>2110-01-01</td>\n",
       "      <td>NaN</td>\n",
       "      <td>F</td>\n",
       "      <td>0</td>\n",
       "      <td>0</td>\n",
       "      <td>0</td>\n",
       "      <td>1</td>\n",
       "      <td>1</td>\n",
       "      <td>0</td>\n",
       "      <td>0</td>\n",
       "      <td>NaN</td>\n",
       "      <td>NaN</td>\n",
       "      <td>0</td>\n",
       "      <td>NaN</td>\n",
       "      <td>0</td>\n",
       "      <td>0</td>\n",
       "      <td>90</td>\n",
       "      <td>['9_3512', '9_3571', '9_3961']</td>\n",
       "      <td>['Sodium Chloride 0.9%  Flush', 'Aspirin', 'As...</td>\n",
       "      <td>['9_4240', '9_4295', '9_7455', '9_4019', '9_53...</td>\n",
       "      <td>{}</td>\n",
       "      <td>0.000000</td>\n",
       "      <td>0.0</td>\n",
       "      <td>0.0</td>\n",
       "      <td>Open heart valvuloplasty of mitral valve witho...</td>\n",
       "      <td>Mitral valve disorders Rupture of chordae tend...</td>\n",
       "      <td>Unknown</td>\n",
       "      <td>Sodium Chloride 0.9%  Flush, Aspirin, Aspirin ...</td>\n",
       "      <td>train</td>\n",
       "    </tr>\n",
       "    <tr>\n",
       "      <th>1</th>\n",
       "      <td>17195991</td>\n",
       "      <td>23542772</td>\n",
       "      <td>38319097</td>\n",
       "      <td>Surgical Intensive Care Unit (SICU)</td>\n",
       "      <td>Surgical Intensive Care Unit (SICU)</td>\n",
       "      <td>2110-01-12 00:54:00</td>\n",
       "      <td>2110-01-14 22:07:39</td>\n",
       "      <td>2.884479</td>\n",
       "      <td>2110-01-11 22:47:00</td>\n",
       "      <td>2110-01-18 10:25:00</td>\n",
       "      <td>NaN</td>\n",
       "      <td>EW EMER.</td>\n",
       "      <td>EMERGENCY ROOM</td>\n",
       "      <td>CHRONIC/LONG TERM ACUTE CARE</td>\n",
       "      <td>Other</td>\n",
       "      <td>SINGLE</td>\n",
       "      <td>UNABLE TO OBTAIN</td>\n",
       "      <td>2110-01-01</td>\n",
       "      <td>NaN</td>\n",
       "      <td>F</td>\n",
       "      <td>0</td>\n",
       "      <td>0</td>\n",
       "      <td>0</td>\n",
       "      <td>1</td>\n",
       "      <td>1</td>\n",
       "      <td>0</td>\n",
       "      <td>0</td>\n",
       "      <td>NaN</td>\n",
       "      <td>NaN</td>\n",
       "      <td>0</td>\n",
       "      <td>NaN</td>\n",
       "      <td>0</td>\n",
       "      <td>0</td>\n",
       "      <td>90</td>\n",
       "      <td>['9_9671', '9_9604', '9_0331', '9_3324']</td>\n",
       "      <td>['Sodium Chloride 0.9%  Flush', '0.9% Sodium C...</td>\n",
       "      <td>['9_3453', '9_5990', '9_29620', '9_2930', '9_7...</td>\n",
       "      <td>{}</td>\n",
       "      <td>0.000000</td>\n",
       "      <td>0.0</td>\n",
       "      <td>0.0</td>\n",
       "      <td>Poisoning by chloral hydrate group Poisoning b...</td>\n",
       "      <td>Grand mal status Urinary tract infection, site...</td>\n",
       "      <td>Unknown</td>\n",
       "      <td>Sodium Chloride 0.9%  Flush, 0.9% Sodium Chlor...</td>\n",
       "      <td>train</td>\n",
       "    </tr>\n",
       "    <tr>\n",
       "      <th>2</th>\n",
       "      <td>16284044</td>\n",
       "      <td>23864737</td>\n",
       "      <td>36817845</td>\n",
       "      <td>Cardiac Vascular Intensive Care Unit (CVICU)</td>\n",
       "      <td>Cardiac Vascular Intensive Care Unit (CVICU)</td>\n",
       "      <td>2110-01-13 09:09:40</td>\n",
       "      <td>2110-01-15 21:45:33</td>\n",
       "      <td>2.524919</td>\n",
       "      <td>2110-01-11 19:58:00</td>\n",
       "      <td>2110-01-17 16:00:00</td>\n",
       "      <td>NaN</td>\n",
       "      <td>URGENT</td>\n",
       "      <td>TRANSFER FROM HOSPITAL</td>\n",
       "      <td>SKILLED NURSING FACILITY</td>\n",
       "      <td>Other</td>\n",
       "      <td>DIVORCED</td>\n",
       "      <td>WHITE</td>\n",
       "      <td>2110-01-01</td>\n",
       "      <td>NaN</td>\n",
       "      <td>F</td>\n",
       "      <td>0</td>\n",
       "      <td>0</td>\n",
       "      <td>0</td>\n",
       "      <td>1</td>\n",
       "      <td>1</td>\n",
       "      <td>0</td>\n",
       "      <td>0</td>\n",
       "      <td>NaN</td>\n",
       "      <td>NaN</td>\n",
       "      <td>0</td>\n",
       "      <td>NaN</td>\n",
       "      <td>0</td>\n",
       "      <td>0</td>\n",
       "      <td>90</td>\n",
       "      <td>['10_0210099', '10_021109W', '10_06BY4ZZ', '10...</td>\n",
       "      <td>['Influenza Vaccine Quadrivalent', 'Acetaminop...</td>\n",
       "      <td>['10_I25118', '10_J95812', '10_I10', '10_D62',...</td>\n",
       "      <td>{}</td>\n",
       "      <td>0.000000</td>\n",
       "      <td>0.0</td>\n",
       "      <td>0.0</td>\n",
       "      <td>Bypass Coronary Artery, One Artery from Left I...</td>\n",
       "      <td>Atherosclerotic heart disease of native corona...</td>\n",
       "      <td>Unknown</td>\n",
       "      <td>Influenza Vaccine Quadrivalent, Acetaminophen,...</td>\n",
       "      <td>train</td>\n",
       "    </tr>\n",
       "    <tr>\n",
       "      <th>3</th>\n",
       "      <td>18122666</td>\n",
       "      <td>23883987</td>\n",
       "      <td>39753527</td>\n",
       "      <td>Medical/Surgical Intensive Care Unit (MICU/SICU)</td>\n",
       "      <td>Medical/Surgical Intensive Care Unit (MICU/SICU)</td>\n",
       "      <td>2110-01-14 07:22:00</td>\n",
       "      <td>2110-01-15 13:08:36</td>\n",
       "      <td>1.240694</td>\n",
       "      <td>2110-01-14 05:17:00</td>\n",
       "      <td>2110-01-16 16:34:00</td>\n",
       "      <td>NaN</td>\n",
       "      <td>EW EMER.</td>\n",
       "      <td>EMERGENCY ROOM</td>\n",
       "      <td>PSYCH FACILITY</td>\n",
       "      <td>Other</td>\n",
       "      <td>DIVORCED</td>\n",
       "      <td>WHITE</td>\n",
       "      <td>2110-01-01</td>\n",
       "      <td>NaN</td>\n",
       "      <td>M</td>\n",
       "      <td>0</td>\n",
       "      <td>0</td>\n",
       "      <td>0</td>\n",
       "      <td>1</td>\n",
       "      <td>1</td>\n",
       "      <td>0</td>\n",
       "      <td>0</td>\n",
       "      <td>NaN</td>\n",
       "      <td>NaN</td>\n",
       "      <td>0</td>\n",
       "      <td>NaN</td>\n",
       "      <td>0</td>\n",
       "      <td>0</td>\n",
       "      <td>90</td>\n",
       "      <td>['9_4516']</td>\n",
       "      <td>['1/2 NS', 'Diazepam', 'Sodium Chloride 0.9%  ...</td>\n",
       "      <td>['9_53140', '9_2920', '9_30471', '9_53021', '9...</td>\n",
       "      <td>{}</td>\n",
       "      <td>0.000000</td>\n",
       "      <td>0.0</td>\n",
       "      <td>0.0</td>\n",
       "      <td>Esophagogastroduodenoscopy [EGD] with closed b...</td>\n",
       "      <td>Chronic or unspecified gastric ulcer with hemo...</td>\n",
       "      <td>Unknown</td>\n",
       "      <td>1/2 NS, Diazepam, Sodium Chloride 0.9%  Flush,...</td>\n",
       "      <td>train</td>\n",
       "    </tr>\n",
       "    <tr>\n",
       "      <th>4</th>\n",
       "      <td>18780420</td>\n",
       "      <td>28977824</td>\n",
       "      <td>32140208</td>\n",
       "      <td>Neuro Surgical Intensive Care Unit (Neuro SICU)</td>\n",
       "      <td>Neuro Surgical Intensive Care Unit (Neuro SICU)</td>\n",
       "      <td>2110-01-17 00:28:00</td>\n",
       "      <td>2110-01-18 01:21:22</td>\n",
       "      <td>1.037060</td>\n",
       "      <td>2110-01-16 23:37:00</td>\n",
       "      <td>2110-01-22 16:07:00</td>\n",
       "      <td>NaN</td>\n",
       "      <td>EW EMER.</td>\n",
       "      <td>EMERGENCY ROOM</td>\n",
       "      <td>REHAB</td>\n",
       "      <td>Medicare</td>\n",
       "      <td>MARRIED</td>\n",
       "      <td>WHITE</td>\n",
       "      <td>2110-01-01</td>\n",
       "      <td>NaN</td>\n",
       "      <td>M</td>\n",
       "      <td>0</td>\n",
       "      <td>0</td>\n",
       "      <td>0</td>\n",
       "      <td>1</td>\n",
       "      <td>1</td>\n",
       "      <td>0</td>\n",
       "      <td>0</td>\n",
       "      <td>NaN</td>\n",
       "      <td>NaN</td>\n",
       "      <td>0</td>\n",
       "      <td>NaN</td>\n",
       "      <td>0</td>\n",
       "      <td>0</td>\n",
       "      <td>90</td>\n",
       "      <td>NaN</td>\n",
       "      <td>['SW', '0.9% Sodium Chloride', 'PHENYLEPHrine'...</td>\n",
       "      <td>['10_I6319', '10_J690', '10_D696', '10_G8191',...</td>\n",
       "      <td>{}</td>\n",
       "      <td>0.000000</td>\n",
       "      <td>0.0</td>\n",
       "      <td>0.0</td>\n",
       "      <td>Unknown</td>\n",
       "      <td>Cerebral infarction due to embolism of other p...</td>\n",
       "      <td>Unknown</td>\n",
       "      <td>SW, 0.9% Sodium Chloride, PHENYLEPHrine, HydrA...</td>\n",
       "      <td>train</td>\n",
       "    </tr>\n",
       "    <tr>\n",
       "      <th>...</th>\n",
       "      <td>...</td>\n",
       "      <td>...</td>\n",
       "      <td>...</td>\n",
       "      <td>...</td>\n",
       "      <td>...</td>\n",
       "      <td>...</td>\n",
       "      <td>...</td>\n",
       "      <td>...</td>\n",
       "      <td>...</td>\n",
       "      <td>...</td>\n",
       "      <td>...</td>\n",
       "      <td>...</td>\n",
       "      <td>...</td>\n",
       "      <td>...</td>\n",
       "      <td>...</td>\n",
       "      <td>...</td>\n",
       "      <td>...</td>\n",
       "      <td>...</td>\n",
       "      <td>...</td>\n",
       "      <td>...</td>\n",
       "      <td>...</td>\n",
       "      <td>...</td>\n",
       "      <td>...</td>\n",
       "      <td>...</td>\n",
       "      <td>...</td>\n",
       "      <td>...</td>\n",
       "      <td>...</td>\n",
       "      <td>...</td>\n",
       "      <td>...</td>\n",
       "      <td>...</td>\n",
       "      <td>...</td>\n",
       "      <td>...</td>\n",
       "      <td>...</td>\n",
       "      <td>...</td>\n",
       "      <td>...</td>\n",
       "      <td>...</td>\n",
       "      <td>...</td>\n",
       "      <td>...</td>\n",
       "      <td>...</td>\n",
       "      <td>...</td>\n",
       "      <td>...</td>\n",
       "      <td>...</td>\n",
       "      <td>...</td>\n",
       "      <td>...</td>\n",
       "      <td>...</td>\n",
       "      <td>...</td>\n",
       "    </tr>\n",
       "    <tr>\n",
       "      <th>76535</th>\n",
       "      <td>15338454</td>\n",
       "      <td>29642380</td>\n",
       "      <td>37340595</td>\n",
       "      <td>Medical Intensive Care Unit (MICU)</td>\n",
       "      <td>Medical Intensive Care Unit (MICU)</td>\n",
       "      <td>2210-11-21 18:42:56</td>\n",
       "      <td>2210-11-23 16:03:45</td>\n",
       "      <td>1.889456</td>\n",
       "      <td>2210-11-18 21:47:00</td>\n",
       "      <td>2210-12-01 17:51:00</td>\n",
       "      <td>NaN</td>\n",
       "      <td>EW EMER.</td>\n",
       "      <td>PHYSICIAN REFERRAL</td>\n",
       "      <td>HOSPICE</td>\n",
       "      <td>Medicare</td>\n",
       "      <td>SINGLE</td>\n",
       "      <td>WHITE</td>\n",
       "      <td>2200-01-01</td>\n",
       "      <td>2210-12-04</td>\n",
       "      <td>M</td>\n",
       "      <td>1</td>\n",
       "      <td>0</td>\n",
       "      <td>0</td>\n",
       "      <td>2</td>\n",
       "      <td>1</td>\n",
       "      <td>0</td>\n",
       "      <td>0</td>\n",
       "      <td>NaN</td>\n",
       "      <td>NaN</td>\n",
       "      <td>0</td>\n",
       "      <td>2 days 06:09:00</td>\n",
       "      <td>1</td>\n",
       "      <td>1</td>\n",
       "      <td>10</td>\n",
       "      <td>NaN</td>\n",
       "      <td>['Lactated Ringers', 'Acetaminophen', 'Acetami...</td>\n",
       "      <td>['10_E1110', '10_I5023', '10_J9601', '10_J159'...</td>\n",
       "      <td>['9_25080', '9_5859', '9_2767', '9_40390', '9_...</td>\n",
       "      <td>1412.393750</td>\n",
       "      <td>14.0</td>\n",
       "      <td>11.0</td>\n",
       "      <td>Unknown</td>\n",
       "      <td>Type 2 diabetes mellitus with ketoacidosis wit...</td>\n",
       "      <td>Diabetes with other specified manifestations, ...</td>\n",
       "      <td>Lactated Ringers, Acetaminophen, Acetaminophen...</td>\n",
       "      <td>train</td>\n",
       "    </tr>\n",
       "    <tr>\n",
       "      <th>76536</th>\n",
       "      <td>18451791</td>\n",
       "      <td>28897092</td>\n",
       "      <td>32688519</td>\n",
       "      <td>Medical/Surgical Intensive Care Unit (MICU/SICU)</td>\n",
       "      <td>Medical/Surgical Intensive Care Unit (MICU/SICU)</td>\n",
       "      <td>2211-01-05 10:59:50</td>\n",
       "      <td>2211-01-06 17:00:09</td>\n",
       "      <td>1.250220</td>\n",
       "      <td>2211-01-05 10:58:00</td>\n",
       "      <td>2211-01-07 16:30:00</td>\n",
       "      <td>NaN</td>\n",
       "      <td>DIRECT EMER.</td>\n",
       "      <td>PHYSICIAN REFERRAL</td>\n",
       "      <td>HOME</td>\n",
       "      <td>Other</td>\n",
       "      <td>MARRIED</td>\n",
       "      <td>OTHER</td>\n",
       "      <td>2206-01-01</td>\n",
       "      <td>NaN</td>\n",
       "      <td>M</td>\n",
       "      <td>0</td>\n",
       "      <td>0</td>\n",
       "      <td>0</td>\n",
       "      <td>1</td>\n",
       "      <td>1</td>\n",
       "      <td>0</td>\n",
       "      <td>0</td>\n",
       "      <td>NaN</td>\n",
       "      <td>NaN</td>\n",
       "      <td>0</td>\n",
       "      <td>NaN</td>\n",
       "      <td>0</td>\n",
       "      <td>0</td>\n",
       "      <td>5</td>\n",
       "      <td>['10_0W3P8ZZ', '10_0DB68ZZ', '10_0DJD8ZZ', '10...</td>\n",
       "      <td>['Lactated Ringers', 'Ondansetron', 'Sodium Ch...</td>\n",
       "      <td>['10_K9161', '10_I5022', '10_D62', '10_I429', ...</td>\n",
       "      <td>['9_2111', '9_2851', '9_7921', '9_4019', '9_27...</td>\n",
       "      <td>1537.766667</td>\n",
       "      <td>1.0</td>\n",
       "      <td>1.0</td>\n",
       "      <td>Control Bleeding in Gastrointestinal Tract, Vi...</td>\n",
       "      <td>Intraoperative hemorrhage and hematoma of a di...</td>\n",
       "      <td>Benign neoplasm of stomach Acute posthemorrhag...</td>\n",
       "      <td>Lactated Ringers, Ondansetron, Sodium Chloride...</td>\n",
       "      <td>train</td>\n",
       "    </tr>\n",
       "    <tr>\n",
       "      <th>76537</th>\n",
       "      <td>12844772</td>\n",
       "      <td>26783082</td>\n",
       "      <td>37001422</td>\n",
       "      <td>Neuro Surgical Intensive Care Unit (Neuro SICU)</td>\n",
       "      <td>Neuro Surgical Intensive Care Unit (Neuro SICU)</td>\n",
       "      <td>2211-01-14 14:37:00</td>\n",
       "      <td>2211-01-17 15:23:45</td>\n",
       "      <td>3.032465</td>\n",
       "      <td>2211-01-14 13:14:00</td>\n",
       "      <td>2211-01-17 12:34:00</td>\n",
       "      <td>2211-01-17 12:34:00</td>\n",
       "      <td>EW EMER.</td>\n",
       "      <td>PHYSICIAN REFERRAL</td>\n",
       "      <td>DIED</td>\n",
       "      <td>Medicare</td>\n",
       "      <td>SINGLE</td>\n",
       "      <td>WHITE</td>\n",
       "      <td>2199-01-01</td>\n",
       "      <td>2211-01-17</td>\n",
       "      <td>M</td>\n",
       "      <td>1</td>\n",
       "      <td>1</td>\n",
       "      <td>1</td>\n",
       "      <td>1</td>\n",
       "      <td>1</td>\n",
       "      <td>0</td>\n",
       "      <td>0</td>\n",
       "      <td>NaN</td>\n",
       "      <td>NaN</td>\n",
       "      <td>0</td>\n",
       "      <td>-1 days +11:26:00</td>\n",
       "      <td>0</td>\n",
       "      <td>2</td>\n",
       "      <td>12</td>\n",
       "      <td>['10_03C80ZZ', '10_5A1945Z', '10_02HV33Z', '10...</td>\n",
       "      <td>['Docusate Sodium', 'Bisacodyl', 'Bisacodyl', ...</td>\n",
       "      <td>['10_I63232', '10_J9600', '10_G936', '10_I420'...</td>\n",
       "      <td>['9_42823', '9_4280', '9_5849', '9_4254', '9_4...</td>\n",
       "      <td>1589.056944</td>\n",
       "      <td>4.0</td>\n",
       "      <td>5.0</td>\n",
       "      <td>Extirpation of Matter from Left Brachial Arter...</td>\n",
       "      <td>Cerebral infarction due to unspecified occlusi...</td>\n",
       "      <td>Acute on chronic systolic heart failure Conges...</td>\n",
       "      <td>Docusate Sodium, Bisacodyl, Bisacodyl, Acetami...</td>\n",
       "      <td>train</td>\n",
       "    </tr>\n",
       "    <tr>\n",
       "      <th>76538</th>\n",
       "      <td>14239401</td>\n",
       "      <td>21199923</td>\n",
       "      <td>35906940</td>\n",
       "      <td>Medical Intensive Care Unit (MICU)</td>\n",
       "      <td>Medical Intensive Care Unit (MICU)</td>\n",
       "      <td>2211-05-01 06:59:19</td>\n",
       "      <td>2211-05-10 22:51:06</td>\n",
       "      <td>9.660961</td>\n",
       "      <td>2211-05-01 06:57:00</td>\n",
       "      <td>2211-05-12 17:54:00</td>\n",
       "      <td>NaN</td>\n",
       "      <td>EW EMER.</td>\n",
       "      <td>PHYSICIAN REFERRAL</td>\n",
       "      <td>CHRONIC/LONG TERM ACUTE CARE</td>\n",
       "      <td>Medicare</td>\n",
       "      <td>WIDOWED</td>\n",
       "      <td>BLACK/AFRICAN AMERICAN</td>\n",
       "      <td>2200-01-01</td>\n",
       "      <td>NaN</td>\n",
       "      <td>F</td>\n",
       "      <td>0</td>\n",
       "      <td>0</td>\n",
       "      <td>0</td>\n",
       "      <td>1</td>\n",
       "      <td>1</td>\n",
       "      <td>0</td>\n",
       "      <td>0</td>\n",
       "      <td>NaN</td>\n",
       "      <td>NaN</td>\n",
       "      <td>0</td>\n",
       "      <td>NaN</td>\n",
       "      <td>0</td>\n",
       "      <td>0</td>\n",
       "      <td>11</td>\n",
       "      <td>['10_5A1955Z', '10_0BH17EZ', '10_3E0G76Z']</td>\n",
       "      <td>['Senna', 'Senna', 'Senna', 'Heparin', 'Famoti...</td>\n",
       "      <td>['10_A419', '10_R6521', '10_J80', '10_J810', '...</td>\n",
       "      <td>['9_43491', '9_5569', '9_72989', '9_7820', '9_...</td>\n",
       "      <td>2550.539583</td>\n",
       "      <td>4.0</td>\n",
       "      <td>0.0</td>\n",
       "      <td>Respiratory Ventilation, Greater than 96 Conse...</td>\n",
       "      <td>Sepsis, unspecified organism Severe sepsis wit...</td>\n",
       "      <td>Cerebral artery occlusion, unspecified with ce...</td>\n",
       "      <td>Senna, Senna, Senna, Heparin, Famotidine, Iso-...</td>\n",
       "      <td>train</td>\n",
       "    </tr>\n",
       "    <tr>\n",
       "      <th>76539</th>\n",
       "      <td>16703369</td>\n",
       "      <td>27928947</td>\n",
       "      <td>36321770</td>\n",
       "      <td>Neuro Intermediate</td>\n",
       "      <td>Neuro Intermediate</td>\n",
       "      <td>2211-11-09 03:33:00</td>\n",
       "      <td>2211-11-11 18:34:18</td>\n",
       "      <td>2.625903</td>\n",
       "      <td>2211-11-09 02:26:00</td>\n",
       "      <td>2211-11-11 18:15:00</td>\n",
       "      <td>NaN</td>\n",
       "      <td>OBSERVATION ADMIT</td>\n",
       "      <td>TRANSFER FROM HOSPITAL</td>\n",
       "      <td>SKILLED NURSING FACILITY</td>\n",
       "      <td>Medicare</td>\n",
       "      <td>MARRIED</td>\n",
       "      <td>WHITE</td>\n",
       "      <td>2201-01-01</td>\n",
       "      <td>NaN</td>\n",
       "      <td>F</td>\n",
       "      <td>0</td>\n",
       "      <td>0</td>\n",
       "      <td>0</td>\n",
       "      <td>1</td>\n",
       "      <td>1</td>\n",
       "      <td>0</td>\n",
       "      <td>0</td>\n",
       "      <td>NaN</td>\n",
       "      <td>NaN</td>\n",
       "      <td>0</td>\n",
       "      <td>NaN</td>\n",
       "      <td>0</td>\n",
       "      <td>0</td>\n",
       "      <td>10</td>\n",
       "      <td>NaN</td>\n",
       "      <td>['Influenza Vaccine Quadrivalent', 'Sodium Chl...</td>\n",
       "      <td>['10_G40209', '10_I5032', '10_I2510', '10_Z986...</td>\n",
       "      <td>['9_2800', '9_34831', '9_49322', '9_7211', '9_...</td>\n",
       "      <td>440.309722</td>\n",
       "      <td>23.0</td>\n",
       "      <td>12.0</td>\n",
       "      <td>Unknown</td>\n",
       "      <td>Localization-related (focal) (partial) symptom...</td>\n",
       "      <td>Iron deficiency anemia secondary to blood loss...</td>\n",
       "      <td>Influenza Vaccine Quadrivalent, Sodium Chlorid...</td>\n",
       "      <td>train</td>\n",
       "    </tr>\n",
       "  </tbody>\n",
       "</table>\n",
       "<p>76540 rows × 46 columns</p>\n",
       "</div>"
      ],
      "text/plain": [
       "       SUBJECT_ID   HADM_ID  ICUSTAY_ID  \\\n",
       "0        18106347  24305596    30588857   \n",
       "1        17195991  23542772    38319097   \n",
       "2        16284044  23864737    36817845   \n",
       "3        18122666  23883987    39753527   \n",
       "4        18780420  28977824    32140208   \n",
       "...           ...       ...         ...   \n",
       "76535    15338454  29642380    37340595   \n",
       "76536    18451791  28897092    32688519   \n",
       "76537    12844772  26783082    37001422   \n",
       "76538    14239401  21199923    35906940   \n",
       "76539    16703369  27928947    36321770   \n",
       "\n",
       "                                         FIRST_CAREUNIT  \\\n",
       "0          Cardiac Vascular Intensive Care Unit (CVICU)   \n",
       "1                   Surgical Intensive Care Unit (SICU)   \n",
       "2          Cardiac Vascular Intensive Care Unit (CVICU)   \n",
       "3      Medical/Surgical Intensive Care Unit (MICU/SICU)   \n",
       "4       Neuro Surgical Intensive Care Unit (Neuro SICU)   \n",
       "...                                                 ...   \n",
       "76535                Medical Intensive Care Unit (MICU)   \n",
       "76536  Medical/Surgical Intensive Care Unit (MICU/SICU)   \n",
       "76537   Neuro Surgical Intensive Care Unit (Neuro SICU)   \n",
       "76538                Medical Intensive Care Unit (MICU)   \n",
       "76539                                Neuro Intermediate   \n",
       "\n",
       "                                          LAST_CAREUNIT               INTIME  \\\n",
       "0          Cardiac Vascular Intensive Care Unit (CVICU)  2110-01-11 10:16:06   \n",
       "1                   Surgical Intensive Care Unit (SICU)  2110-01-12 00:54:00   \n",
       "2          Cardiac Vascular Intensive Care Unit (CVICU)  2110-01-13 09:09:40   \n",
       "3      Medical/Surgical Intensive Care Unit (MICU/SICU)  2110-01-14 07:22:00   \n",
       "4       Neuro Surgical Intensive Care Unit (Neuro SICU)  2110-01-17 00:28:00   \n",
       "...                                                 ...                  ...   \n",
       "76535                Medical Intensive Care Unit (MICU)  2210-11-21 18:42:56   \n",
       "76536  Medical/Surgical Intensive Care Unit (MICU/SICU)  2211-01-05 10:59:50   \n",
       "76537   Neuro Surgical Intensive Care Unit (Neuro SICU)  2211-01-14 14:37:00   \n",
       "76538                Medical Intensive Care Unit (MICU)  2211-05-01 06:59:19   \n",
       "76539                                Neuro Intermediate  2211-11-09 03:33:00   \n",
       "\n",
       "                   OUTTIME       LOS            ADMITTIME  \\\n",
       "0      2110-01-12 17:17:47  1.292836  2110-01-11 10:14:00   \n",
       "1      2110-01-14 22:07:39  2.884479  2110-01-11 22:47:00   \n",
       "2      2110-01-15 21:45:33  2.524919  2110-01-11 19:58:00   \n",
       "3      2110-01-15 13:08:36  1.240694  2110-01-14 05:17:00   \n",
       "4      2110-01-18 01:21:22  1.037060  2110-01-16 23:37:00   \n",
       "...                    ...       ...                  ...   \n",
       "76535  2210-11-23 16:03:45  1.889456  2210-11-18 21:47:00   \n",
       "76536  2211-01-06 17:00:09  1.250220  2211-01-05 10:58:00   \n",
       "76537  2211-01-17 15:23:45  3.032465  2211-01-14 13:14:00   \n",
       "76538  2211-05-10 22:51:06  9.660961  2211-05-01 06:57:00   \n",
       "76539  2211-11-11 18:34:18  2.625903  2211-11-09 02:26:00   \n",
       "\n",
       "                 DISCHTIME            DEATHTIME     ADMISSION_TYPE  \\\n",
       "0      2110-01-15 17:31:00                  NaN           EW EMER.   \n",
       "1      2110-01-18 10:25:00                  NaN           EW EMER.   \n",
       "2      2110-01-17 16:00:00                  NaN             URGENT   \n",
       "3      2110-01-16 16:34:00                  NaN           EW EMER.   \n",
       "4      2110-01-22 16:07:00                  NaN           EW EMER.   \n",
       "...                    ...                  ...                ...   \n",
       "76535  2210-12-01 17:51:00                  NaN           EW EMER.   \n",
       "76536  2211-01-07 16:30:00                  NaN       DIRECT EMER.   \n",
       "76537  2211-01-17 12:34:00  2211-01-17 12:34:00           EW EMER.   \n",
       "76538  2211-05-12 17:54:00                  NaN           EW EMER.   \n",
       "76539  2211-11-11 18:15:00                  NaN  OBSERVATION ADMIT   \n",
       "\n",
       "           ADMISSION_LOCATION            DISCHARGE_LOCATION INSURANCE  \\\n",
       "0                        PACU              HOME HEALTH CARE     Other   \n",
       "1              EMERGENCY ROOM  CHRONIC/LONG TERM ACUTE CARE     Other   \n",
       "2      TRANSFER FROM HOSPITAL      SKILLED NURSING FACILITY     Other   \n",
       "3              EMERGENCY ROOM                PSYCH FACILITY     Other   \n",
       "4              EMERGENCY ROOM                         REHAB  Medicare   \n",
       "...                       ...                           ...       ...   \n",
       "76535      PHYSICIAN REFERRAL                       HOSPICE  Medicare   \n",
       "76536      PHYSICIAN REFERRAL                          HOME     Other   \n",
       "76537      PHYSICIAN REFERRAL                          DIED  Medicare   \n",
       "76538      PHYSICIAN REFERRAL  CHRONIC/LONG TERM ACUTE CARE  Medicare   \n",
       "76539  TRANSFER FROM HOSPITAL      SKILLED NURSING FACILITY  Medicare   \n",
       "\n",
       "      MARITAL_STATUS               ETHNICITY         DOB         DOD GENDER  \\\n",
       "0           DIVORCED                   WHITE  2110-01-01         NaN      F   \n",
       "1             SINGLE        UNABLE TO OBTAIN  2110-01-01         NaN      F   \n",
       "2           DIVORCED                   WHITE  2110-01-01         NaN      F   \n",
       "3           DIVORCED                   WHITE  2110-01-01         NaN      M   \n",
       "4            MARRIED                   WHITE  2110-01-01         NaN      M   \n",
       "...              ...                     ...         ...         ...    ...   \n",
       "76535         SINGLE                   WHITE  2200-01-01  2210-12-04      M   \n",
       "76536        MARRIED                   OTHER  2206-01-01         NaN      M   \n",
       "76537         SINGLE                   WHITE  2199-01-01  2211-01-17      M   \n",
       "76538        WIDOWED  BLACK/AFRICAN AMERICAN  2200-01-01         NaN      F   \n",
       "76539        MARRIED                   WHITE  2201-01-01         NaN      F   \n",
       "\n",
       "       MORTALITY  MORTALITY_INHOSPITAL  MORTALITY_INUNIT  COUNTS  MAX_OUTTIME  \\\n",
       "0              0                     0                 0       1            1   \n",
       "1              0                     0                 0       1            1   \n",
       "2              0                     0                 0       1            1   \n",
       "3              0                     0                 0       1            1   \n",
       "4              0                     0                 0       1            1   \n",
       "...          ...                   ...               ...     ...          ...   \n",
       "76535          1                     0                 0       2            1   \n",
       "76536          0                     0                 0       1            1   \n",
       "76537          1                     1                 1       1            1   \n",
       "76538          0                     0                 0       1            1   \n",
       "76539          0                     0                 0       1            1   \n",
       "\n",
       "       TRANSFERBACK  DIEINWARD NEXT_INTIME DIFF  LESS_THAN_30DAYS  \\\n",
       "0                 0          0         NaN  NaN                 0   \n",
       "1                 0          0         NaN  NaN                 0   \n",
       "2                 0          0         NaN  NaN                 0   \n",
       "3                 0          0         NaN  NaN                 0   \n",
       "4                 0          0         NaN  NaN                 0   \n",
       "...             ...        ...         ...  ...               ...   \n",
       "76535             0          0         NaN  NaN                 0   \n",
       "76536             0          0         NaN  NaN                 0   \n",
       "76537             0          0         NaN  NaN                 0   \n",
       "76538             0          0         NaN  NaN                 0   \n",
       "76539             0          0         NaN  NaN                 0   \n",
       "\n",
       "           DISCHARGE_DIE  DIE_LESS_THAN_30DAYS  READMISSION  AGE  \\\n",
       "0                    NaN                     0            0   90   \n",
       "1                    NaN                     0            0   90   \n",
       "2                    NaN                     0            0   90   \n",
       "3                    NaN                     0            0   90   \n",
       "4                    NaN                     0            0   90   \n",
       "...                  ...                   ...          ...  ...   \n",
       "76535    2 days 06:09:00                     1            1   10   \n",
       "76536                NaN                     0            0    5   \n",
       "76537  -1 days +11:26:00                     0            2   12   \n",
       "76538                NaN                     0            0   11   \n",
       "76539                NaN                     0            0   10   \n",
       "\n",
       "                                              PROCEDURES  \\\n",
       "0                         ['9_3512', '9_3571', '9_3961']   \n",
       "1               ['9_9671', '9_9604', '9_0331', '9_3324']   \n",
       "2      ['10_0210099', '10_021109W', '10_06BY4ZZ', '10...   \n",
       "3                                             ['9_4516']   \n",
       "4                                                    NaN   \n",
       "...                                                  ...   \n",
       "76535                                                NaN   \n",
       "76536  ['10_0W3P8ZZ', '10_0DB68ZZ', '10_0DJD8ZZ', '10...   \n",
       "76537  ['10_03C80ZZ', '10_5A1945Z', '10_02HV33Z', '10...   \n",
       "76538         ['10_5A1955Z', '10_0BH17EZ', '10_3E0G76Z']   \n",
       "76539                                                NaN   \n",
       "\n",
       "                                                    DRUG  \\\n",
       "0      ['Sodium Chloride 0.9%  Flush', 'Aspirin', 'As...   \n",
       "1      ['Sodium Chloride 0.9%  Flush', '0.9% Sodium C...   \n",
       "2      ['Influenza Vaccine Quadrivalent', 'Acetaminop...   \n",
       "3      ['1/2 NS', 'Diazepam', 'Sodium Chloride 0.9%  ...   \n",
       "4      ['SW', '0.9% Sodium Chloride', 'PHENYLEPHrine'...   \n",
       "...                                                  ...   \n",
       "76535  ['Lactated Ringers', 'Acetaminophen', 'Acetami...   \n",
       "76536  ['Lactated Ringers', 'Ondansetron', 'Sodium Ch...   \n",
       "76537  ['Docusate Sodium', 'Bisacodyl', 'Bisacodyl', ...   \n",
       "76538  ['Senna', 'Senna', 'Senna', 'Heparin', 'Famoti...   \n",
       "76539  ['Influenza Vaccine Quadrivalent', 'Sodium Chl...   \n",
       "\n",
       "                                                   DIAGS  \\\n",
       "0      ['9_4240', '9_4295', '9_7455', '9_4019', '9_53...   \n",
       "1      ['9_3453', '9_5990', '9_29620', '9_2930', '9_7...   \n",
       "2      ['10_I25118', '10_J95812', '10_I10', '10_D62',...   \n",
       "3      ['9_53140', '9_2920', '9_30471', '9_53021', '9...   \n",
       "4      ['10_I6319', '10_J690', '10_D696', '10_G8191',...   \n",
       "...                                                  ...   \n",
       "76535  ['10_E1110', '10_I5023', '10_J9601', '10_J159'...   \n",
       "76536  ['10_K9161', '10_I5022', '10_D62', '10_I429', ...   \n",
       "76537  ['10_I63232', '10_J9600', '10_G936', '10_I420'...   \n",
       "76538  ['10_A419', '10_R6521', '10_J80', '10_J810', '...   \n",
       "76539  ['10_G40209', '10_I5032', '10_I2510', '10_Z986...   \n",
       "\n",
       "                                              PREV_DIAGS  \\\n",
       "0                                                     {}   \n",
       "1                                                     {}   \n",
       "2                                                     {}   \n",
       "3                                                     {}   \n",
       "4                                                     {}   \n",
       "...                                                  ...   \n",
       "76535  ['9_25080', '9_5859', '9_2767', '9_40390', '9_...   \n",
       "76536  ['9_2111', '9_2851', '9_7921', '9_4019', '9_27...   \n",
       "76537  ['9_42823', '9_4280', '9_5849', '9_4254', '9_4...   \n",
       "76538  ['9_43491', '9_5569', '9_72989', '9_7820', '9_...   \n",
       "76539  ['9_2800', '9_34831', '9_49322', '9_7211', '9_...   \n",
       "\n",
       "       DAYS_SINCE_LAST_ADMIS  NUM_PREV_ADMIS  NUM_PREV_PROCS  \\\n",
       "0                   0.000000             0.0             0.0   \n",
       "1                   0.000000             0.0             0.0   \n",
       "2                   0.000000             0.0             0.0   \n",
       "3                   0.000000             0.0             0.0   \n",
       "4                   0.000000             0.0             0.0   \n",
       "...                      ...             ...             ...   \n",
       "76535            1412.393750            14.0            11.0   \n",
       "76536            1537.766667             1.0             1.0   \n",
       "76537            1589.056944             4.0             5.0   \n",
       "76538            2550.539583             4.0             0.0   \n",
       "76539             440.309722            23.0            12.0   \n",
       "\n",
       "                                          PROCEDURES_STR  \\\n",
       "0      Open heart valvuloplasty of mitral valve witho...   \n",
       "1      Poisoning by chloral hydrate group Poisoning b...   \n",
       "2      Bypass Coronary Artery, One Artery from Left I...   \n",
       "3      Esophagogastroduodenoscopy [EGD] with closed b...   \n",
       "4                                                Unknown   \n",
       "...                                                  ...   \n",
       "76535                                            Unknown   \n",
       "76536  Control Bleeding in Gastrointestinal Tract, Vi...   \n",
       "76537  Extirpation of Matter from Left Brachial Arter...   \n",
       "76538  Respiratory Ventilation, Greater than 96 Conse...   \n",
       "76539                                            Unknown   \n",
       "\n",
       "                                               DIAGS_STR  \\\n",
       "0      Mitral valve disorders Rupture of chordae tend...   \n",
       "1      Grand mal status Urinary tract infection, site...   \n",
       "2      Atherosclerotic heart disease of native corona...   \n",
       "3      Chronic or unspecified gastric ulcer with hemo...   \n",
       "4      Cerebral infarction due to embolism of other p...   \n",
       "...                                                  ...   \n",
       "76535  Type 2 diabetes mellitus with ketoacidosis wit...   \n",
       "76536  Intraoperative hemorrhage and hematoma of a di...   \n",
       "76537  Cerebral infarction due to unspecified occlusi...   \n",
       "76538  Sepsis, unspecified organism Severe sepsis wit...   \n",
       "76539  Localization-related (focal) (partial) symptom...   \n",
       "\n",
       "                                          PREV_DIAGS_STR  \\\n",
       "0                                                Unknown   \n",
       "1                                                Unknown   \n",
       "2                                                Unknown   \n",
       "3                                                Unknown   \n",
       "4                                                Unknown   \n",
       "...                                                  ...   \n",
       "76535  Diabetes with other specified manifestations, ...   \n",
       "76536  Benign neoplasm of stomach Acute posthemorrhag...   \n",
       "76537  Acute on chronic systolic heart failure Conges...   \n",
       "76538  Cerebral artery occlusion, unspecified with ce...   \n",
       "76539  Iron deficiency anemia secondary to blood loss...   \n",
       "\n",
       "                                                DRUG_STR SUBJECT_LABLE  \n",
       "0      Sodium Chloride 0.9%  Flush, Aspirin, Aspirin ...         train  \n",
       "1      Sodium Chloride 0.9%  Flush, 0.9% Sodium Chlor...         train  \n",
       "2      Influenza Vaccine Quadrivalent, Acetaminophen,...         train  \n",
       "3      1/2 NS, Diazepam, Sodium Chloride 0.9%  Flush,...         train  \n",
       "4      SW, 0.9% Sodium Chloride, PHENYLEPHrine, HydrA...         train  \n",
       "...                                                  ...           ...  \n",
       "76535  Lactated Ringers, Acetaminophen, Acetaminophen...         train  \n",
       "76536  Lactated Ringers, Ondansetron, Sodium Chloride...         train  \n",
       "76537  Docusate Sodium, Bisacodyl, Bisacodyl, Acetami...         train  \n",
       "76538  Senna, Senna, Senna, Heparin, Famotidine, Iso-...         train  \n",
       "76539  Influenza Vaccine Quadrivalent, Sodium Chlorid...         train  \n",
       "\n",
       "[76540 rows x 46 columns]"
      ]
     },
     "metadata": {},
     "output_type": "display_data"
    }
   ],
   "source": [
    "# generate subject split, don't run \n",
    "# subject_ids = train_df['SUBJECT_ID'].tolist()\n",
    "# print(len(subject_ids))\n",
    "# subject_ids_set = set(subject_ids)\n",
    "# print(len(subject_ids_set))\n",
    "\n",
    "# subject_unique_ids = list(subject_ids_set)\n",
    "# print(len(subject_unique_ids))\n",
    "\n",
    "# from sklearn.model_selection import train_test_split\n",
    "\n",
    "# subject_train, subject_test = train_test_split(subject_unique_ids, test_size=0.15,random_state = 42)\n",
    "# print(len(subject_train))\n",
    "# print(len(subject_test))\n",
    "\n",
    "# split_subjects = []\n",
    "# for subject in subject_train:\n",
    "#     split_subjects.append((subject, 'train'))\n",
    "# for subject in subject_test:\n",
    "#     split_subjects.append((subject, 'test'))\n",
    "    \n",
    "# subject_df = pd.DataFrame(split_subjects, columns=['SUBJECT_ID', 'SUBJECT_LABLE'])\n",
    "# display(subject_df)\n",
    "\n",
    "\n",
    "# subject_df.to_csv('subject_split_df.tsv', sep='\\t', index=False)\n",
    "\n",
    "# run here\n",
    "subject_df= pd.read_csv('subject_split_df.tsv', sep='\\t')\n",
    "display(subject_df)\n",
    "\n",
    "train_df_split = train_df.merge(subject_df, on='SUBJECT_ID', how='left')\n",
    "display(train_df_split)"
   ]
  },
  {
   "cell_type": "code",
   "execution_count": 78,
   "id": "05f1f32c",
   "metadata": {
    "pycharm": {
     "name": "#%%\n"
    }
   },
   "outputs": [
    {
     "data": {
      "text/html": [
       "<div>\n",
       "<style scoped>\n",
       "    .dataframe tbody tr th:only-of-type {\n",
       "        vertical-align: middle;\n",
       "    }\n",
       "\n",
       "    .dataframe tbody tr th {\n",
       "        vertical-align: top;\n",
       "    }\n",
       "\n",
       "    .dataframe thead th {\n",
       "        text-align: right;\n",
       "    }\n",
       "</style>\n",
       "<table border=\"1\" class=\"dataframe\">\n",
       "  <thead>\n",
       "    <tr style=\"text-align: right;\">\n",
       "      <th></th>\n",
       "      <th>SUBJECT_ID</th>\n",
       "      <th>HADM_ID</th>\n",
       "      <th>ICUSTAY_ID</th>\n",
       "      <th>FIRST_CAREUNIT</th>\n",
       "      <th>LAST_CAREUNIT</th>\n",
       "      <th>INTIME</th>\n",
       "      <th>OUTTIME</th>\n",
       "      <th>LOS</th>\n",
       "      <th>ADMITTIME</th>\n",
       "      <th>DISCHTIME</th>\n",
       "      <th>DEATHTIME</th>\n",
       "      <th>ADMISSION_TYPE</th>\n",
       "      <th>ADMISSION_LOCATION</th>\n",
       "      <th>DISCHARGE_LOCATION</th>\n",
       "      <th>INSURANCE</th>\n",
       "      <th>MARITAL_STATUS</th>\n",
       "      <th>ETHNICITY</th>\n",
       "      <th>DOB</th>\n",
       "      <th>DOD</th>\n",
       "      <th>GENDER</th>\n",
       "      <th>MORTALITY</th>\n",
       "      <th>MORTALITY_INHOSPITAL</th>\n",
       "      <th>MORTALITY_INUNIT</th>\n",
       "      <th>COUNTS</th>\n",
       "      <th>MAX_OUTTIME</th>\n",
       "      <th>TRANSFERBACK</th>\n",
       "      <th>DIEINWARD</th>\n",
       "      <th>NEXT_INTIME</th>\n",
       "      <th>DIFF</th>\n",
       "      <th>LESS_THAN_30DAYS</th>\n",
       "      <th>DISCHARGE_DIE</th>\n",
       "      <th>DIE_LESS_THAN_30DAYS</th>\n",
       "      <th>READMISSION</th>\n",
       "      <th>AGE</th>\n",
       "      <th>PROCEDURES</th>\n",
       "      <th>DRUG</th>\n",
       "      <th>DIAGS</th>\n",
       "      <th>PREV_DIAGS</th>\n",
       "      <th>DAYS_SINCE_LAST_ADMIS</th>\n",
       "      <th>NUM_PREV_ADMIS</th>\n",
       "      <th>NUM_PREV_PROCS</th>\n",
       "      <th>PROCEDURES_STR</th>\n",
       "      <th>DIAGS_STR</th>\n",
       "      <th>PREV_DIAGS_STR</th>\n",
       "      <th>DRUG_STR</th>\n",
       "      <th>SUBJECT_LABLE</th>\n",
       "    </tr>\n",
       "  </thead>\n",
       "  <tbody>\n",
       "    <tr>\n",
       "      <th>26</th>\n",
       "      <td>14779071</td>\n",
       "      <td>26314633</td>\n",
       "      <td>37409541</td>\n",
       "      <td>Coronary Care Unit (CCU)</td>\n",
       "      <td>Coronary Care Unit (CCU)</td>\n",
       "      <td>2110-02-03 18:24:56</td>\n",
       "      <td>2110-02-10 09:56:59</td>\n",
       "      <td>6.647257</td>\n",
       "      <td>2110-02-03 13:30:00</td>\n",
       "      <td>2110-02-11 20:31:00</td>\n",
       "      <td>NaN</td>\n",
       "      <td>ELECTIVE</td>\n",
       "      <td>PHYSICIAN REFERRAL</td>\n",
       "      <td>SKILLED NURSING FACILITY</td>\n",
       "      <td>Medicare</td>\n",
       "      <td>NaN</td>\n",
       "      <td>UNKNOWN</td>\n",
       "      <td>2110-01-01</td>\n",
       "      <td>NaN</td>\n",
       "      <td>F</td>\n",
       "      <td>0</td>\n",
       "      <td>0</td>\n",
       "      <td>0</td>\n",
       "      <td>2</td>\n",
       "      <td>0</td>\n",
       "      <td>1</td>\n",
       "      <td>0</td>\n",
       "      <td>2110-02-10 10:01:56</td>\n",
       "      <td>0 days 00:04:57</td>\n",
       "      <td>1</td>\n",
       "      <td>NaN</td>\n",
       "      <td>0</td>\n",
       "      <td>1</td>\n",
       "      <td>90</td>\n",
       "      <td>['10_02RF38Z', '10_04CL0ZZ', '10_04UL0KZ', '10...</td>\n",
       "      <td>['Aspirin', 'Influenza Vaccine Quadrivalent', ...</td>\n",
       "      <td>['10_I352', '10_T8119XA', '10_I21A1', '10_D62'...</td>\n",
       "      <td>['10_I352', '10_I5023', '10_I21A1', '10_E43', ...</td>\n",
       "      <td>12.094444</td>\n",
       "      <td>1.0</td>\n",
       "      <td>2.0</td>\n",
       "      <td>Replacement of Aortic Valve with Zooplastic Ti...</td>\n",
       "      <td>Nonrheumatic aortic (valve) stenosis with insu...</td>\n",
       "      <td>Nonrheumatic aortic (valve) stenosis with insu...</td>\n",
       "      <td>Aspirin, Influenza Vaccine Quadrivalent, Sodiu...</td>\n",
       "      <td>test</td>\n",
       "    </tr>\n",
       "    <tr>\n",
       "      <th>27</th>\n",
       "      <td>14779071</td>\n",
       "      <td>26314633</td>\n",
       "      <td>30137134</td>\n",
       "      <td>Coronary Care Unit (CCU)</td>\n",
       "      <td>Coronary Care Unit (CCU)</td>\n",
       "      <td>2110-02-10 10:01:56</td>\n",
       "      <td>2110-02-10 11:44:26</td>\n",
       "      <td>0.071181</td>\n",
       "      <td>2110-02-03 13:30:00</td>\n",
       "      <td>2110-02-11 20:31:00</td>\n",
       "      <td>NaN</td>\n",
       "      <td>ELECTIVE</td>\n",
       "      <td>PHYSICIAN REFERRAL</td>\n",
       "      <td>SKILLED NURSING FACILITY</td>\n",
       "      <td>Medicare</td>\n",
       "      <td>NaN</td>\n",
       "      <td>UNKNOWN</td>\n",
       "      <td>2110-01-01</td>\n",
       "      <td>NaN</td>\n",
       "      <td>F</td>\n",
       "      <td>0</td>\n",
       "      <td>0</td>\n",
       "      <td>0</td>\n",
       "      <td>2</td>\n",
       "      <td>1</td>\n",
       "      <td>0</td>\n",
       "      <td>0</td>\n",
       "      <td>NaN</td>\n",
       "      <td>NaN</td>\n",
       "      <td>0</td>\n",
       "      <td>NaN</td>\n",
       "      <td>0</td>\n",
       "      <td>0</td>\n",
       "      <td>90</td>\n",
       "      <td>['10_02RF38Z', '10_04CL0ZZ', '10_04UL0KZ', '10...</td>\n",
       "      <td>['Aspirin', 'Influenza Vaccine Quadrivalent', ...</td>\n",
       "      <td>['10_I352', '10_T8119XA', '10_I21A1', '10_D62'...</td>\n",
       "      <td>['10_I352', '10_I5023', '10_I21A1', '10_E43', ...</td>\n",
       "      <td>12.094444</td>\n",
       "      <td>1.0</td>\n",
       "      <td>2.0</td>\n",
       "      <td>Replacement of Aortic Valve with Zooplastic Ti...</td>\n",
       "      <td>Nonrheumatic aortic (valve) stenosis with insu...</td>\n",
       "      <td>Nonrheumatic aortic (valve) stenosis with insu...</td>\n",
       "      <td>Aspirin, Influenza Vaccine Quadrivalent, Sodiu...</td>\n",
       "      <td>test</td>\n",
       "    </tr>\n",
       "  </tbody>\n",
       "</table>\n",
       "</div>"
      ],
      "text/plain": [
       "    SUBJECT_ID   HADM_ID  ICUSTAY_ID            FIRST_CAREUNIT  \\\n",
       "26    14779071  26314633    37409541  Coronary Care Unit (CCU)   \n",
       "27    14779071  26314633    30137134  Coronary Care Unit (CCU)   \n",
       "\n",
       "               LAST_CAREUNIT               INTIME              OUTTIME  \\\n",
       "26  Coronary Care Unit (CCU)  2110-02-03 18:24:56  2110-02-10 09:56:59   \n",
       "27  Coronary Care Unit (CCU)  2110-02-10 10:01:56  2110-02-10 11:44:26   \n",
       "\n",
       "         LOS            ADMITTIME            DISCHTIME DEATHTIME  \\\n",
       "26  6.647257  2110-02-03 13:30:00  2110-02-11 20:31:00       NaN   \n",
       "27  0.071181  2110-02-03 13:30:00  2110-02-11 20:31:00       NaN   \n",
       "\n",
       "   ADMISSION_TYPE  ADMISSION_LOCATION        DISCHARGE_LOCATION INSURANCE  \\\n",
       "26       ELECTIVE  PHYSICIAN REFERRAL  SKILLED NURSING FACILITY  Medicare   \n",
       "27       ELECTIVE  PHYSICIAN REFERRAL  SKILLED NURSING FACILITY  Medicare   \n",
       "\n",
       "   MARITAL_STATUS ETHNICITY         DOB  DOD GENDER  MORTALITY  \\\n",
       "26            NaN   UNKNOWN  2110-01-01  NaN      F          0   \n",
       "27            NaN   UNKNOWN  2110-01-01  NaN      F          0   \n",
       "\n",
       "    MORTALITY_INHOSPITAL  MORTALITY_INUNIT  COUNTS  MAX_OUTTIME  TRANSFERBACK  \\\n",
       "26                     0                 0       2            0             1   \n",
       "27                     0                 0       2            1             0   \n",
       "\n",
       "    DIEINWARD          NEXT_INTIME             DIFF  LESS_THAN_30DAYS  \\\n",
       "26          0  2110-02-10 10:01:56  0 days 00:04:57                 1   \n",
       "27          0                  NaN              NaN                 0   \n",
       "\n",
       "   DISCHARGE_DIE  DIE_LESS_THAN_30DAYS  READMISSION  AGE  \\\n",
       "26           NaN                     0            1   90   \n",
       "27           NaN                     0            0   90   \n",
       "\n",
       "                                           PROCEDURES  \\\n",
       "26  ['10_02RF38Z', '10_04CL0ZZ', '10_04UL0KZ', '10...   \n",
       "27  ['10_02RF38Z', '10_04CL0ZZ', '10_04UL0KZ', '10...   \n",
       "\n",
       "                                                 DRUG  \\\n",
       "26  ['Aspirin', 'Influenza Vaccine Quadrivalent', ...   \n",
       "27  ['Aspirin', 'Influenza Vaccine Quadrivalent', ...   \n",
       "\n",
       "                                                DIAGS  \\\n",
       "26  ['10_I352', '10_T8119XA', '10_I21A1', '10_D62'...   \n",
       "27  ['10_I352', '10_T8119XA', '10_I21A1', '10_D62'...   \n",
       "\n",
       "                                           PREV_DIAGS  DAYS_SINCE_LAST_ADMIS  \\\n",
       "26  ['10_I352', '10_I5023', '10_I21A1', '10_E43', ...              12.094444   \n",
       "27  ['10_I352', '10_I5023', '10_I21A1', '10_E43', ...              12.094444   \n",
       "\n",
       "    NUM_PREV_ADMIS  NUM_PREV_PROCS  \\\n",
       "26             1.0             2.0   \n",
       "27             1.0             2.0   \n",
       "\n",
       "                                       PROCEDURES_STR  \\\n",
       "26  Replacement of Aortic Valve with Zooplastic Ti...   \n",
       "27  Replacement of Aortic Valve with Zooplastic Ti...   \n",
       "\n",
       "                                            DIAGS_STR  \\\n",
       "26  Nonrheumatic aortic (valve) stenosis with insu...   \n",
       "27  Nonrheumatic aortic (valve) stenosis with insu...   \n",
       "\n",
       "                                       PREV_DIAGS_STR  \\\n",
       "26  Nonrheumatic aortic (valve) stenosis with insu...   \n",
       "27  Nonrheumatic aortic (valve) stenosis with insu...   \n",
       "\n",
       "                                             DRUG_STR SUBJECT_LABLE  \n",
       "26  Aspirin, Influenza Vaccine Quadrivalent, Sodiu...          test  \n",
       "27  Aspirin, Influenza Vaccine Quadrivalent, Sodiu...          test  "
      ]
     },
     "execution_count": 78,
     "metadata": {},
     "output_type": "execute_result"
    }
   ],
   "source": [
    "# train_df_split.loc[(train_df_split['SUBJECT_LABLE']=='test')]\n",
    "train_df_split.loc[(train_df_split['SUBJECT_LABLE']=='test') & (train_df_split['SUBJECT_ID']==14779071)]"
   ]
  },
  {
   "cell_type": "code",
   "execution_count": 79,
   "id": "24a545a8",
   "metadata": {
    "pycharm": {
     "name": "#%%\n"
    }
   },
   "outputs": [
    {
     "name": "stdout",
     "output_type": "stream",
     "text": [
      "76540\n"
     ]
    },
    {
     "data": {
      "text/plain": [
       "5269"
      ]
     },
     "execution_count": 79,
     "metadata": {},
     "output_type": "execute_result"
    }
   ],
   "source": [
    "print(len(train_df_split))\n",
    "\n",
    "train_df_split_die = train_df_split.loc[train_df_split['READMISSION']==2].copy()\n",
    "len(train_df_split_die)"
   ]
  },
  {
   "cell_type": "code",
   "execution_count": 80,
   "id": "933864a7",
   "metadata": {
    "pycharm": {
     "name": "#%%\n"
    }
   },
   "outputs": [
    {
     "name": "stdout",
     "output_type": "stream",
     "text": [
      "12940\n",
      "9193\n"
     ]
    },
    {
     "data": {
      "text/plain": [
       "[12976130,\n",
       " 18874374,\n",
       " 15958024,\n",
       " 12648465,\n",
       " 18874386,\n",
       " 11206683,\n",
       " 19267611,\n",
       " 15990813,\n",
       " 19038238,\n",
       " 11075615,\n",
       " 13500443,\n",
       " 12910620,\n",
       " 13205532,\n",
       " 14319656,\n",
       " 11894825,\n",
       " 15171624,\n",
       " 10256430,\n",
       " 14024750,\n",
       " 15761456,\n",
       " 11042863]"
      ]
     },
     "execution_count": 80,
     "metadata": {},
     "output_type": "execute_result"
    }
   ],
   "source": [
    "train_df_split_readmit = train_df_split.loc[train_df_split['READMISSION']==1].copy()\n",
    "subject_ids_filter = train_df_split_readmit['SUBJECT_ID'].tolist()\n",
    "print(len(subject_ids_filter))\n",
    "subject_ids_filter = list(set(subject_ids_filter))\n",
    "print(len(subject_ids_filter))\n",
    "subject_ids_filter[:20]"
   ]
  },
  {
   "cell_type": "code",
   "execution_count": 81,
   "id": "b06d8964",
   "metadata": {
    "pycharm": {
     "name": "#%%\n"
    }
   },
   "outputs": [
    {
     "name": "stdout",
     "output_type": "stream",
     "text": [
      "58331\n",
      "46643\n"
     ]
    }
   ],
   "source": [
    "train_df_split_noadmit = train_df_split.loc[train_df_split['READMISSION']==0].copy()\n",
    "print(len(train_df_split_noadmit))\n",
    "train_df_split_noadmit = train_df_split_noadmit[~train_df_split_noadmit.SUBJECT_ID.isin(subject_ids_filter)]\n",
    "print(len(train_df_split_noadmit))"
   ]
  },
  {
   "cell_type": "code",
   "execution_count": 82,
   "id": "2da7dc6e",
   "metadata": {
    "pycharm": {
     "name": "#%%\n"
    }
   },
   "outputs": [
    {
     "data": {
      "text/html": [
       "<div>\n",
       "<style scoped>\n",
       "    .dataframe tbody tr th:only-of-type {\n",
       "        vertical-align: middle;\n",
       "    }\n",
       "\n",
       "    .dataframe tbody tr th {\n",
       "        vertical-align: top;\n",
       "    }\n",
       "\n",
       "    .dataframe thead th {\n",
       "        text-align: right;\n",
       "    }\n",
       "</style>\n",
       "<table border=\"1\" class=\"dataframe\">\n",
       "  <thead>\n",
       "    <tr style=\"text-align: right;\">\n",
       "      <th></th>\n",
       "      <th>SUBJECT_ID</th>\n",
       "      <th>HADM_ID</th>\n",
       "      <th>ICUSTAY_ID</th>\n",
       "      <th>FIRST_CAREUNIT</th>\n",
       "      <th>LAST_CAREUNIT</th>\n",
       "      <th>INTIME</th>\n",
       "      <th>OUTTIME</th>\n",
       "      <th>LOS</th>\n",
       "      <th>ADMITTIME</th>\n",
       "      <th>DISCHTIME</th>\n",
       "      <th>DEATHTIME</th>\n",
       "      <th>ADMISSION_TYPE</th>\n",
       "      <th>ADMISSION_LOCATION</th>\n",
       "      <th>DISCHARGE_LOCATION</th>\n",
       "      <th>INSURANCE</th>\n",
       "      <th>MARITAL_STATUS</th>\n",
       "      <th>ETHNICITY</th>\n",
       "      <th>DOB</th>\n",
       "      <th>DOD</th>\n",
       "      <th>GENDER</th>\n",
       "      <th>MORTALITY</th>\n",
       "      <th>MORTALITY_INHOSPITAL</th>\n",
       "      <th>MORTALITY_INUNIT</th>\n",
       "      <th>COUNTS</th>\n",
       "      <th>MAX_OUTTIME</th>\n",
       "      <th>TRANSFERBACK</th>\n",
       "      <th>DIEINWARD</th>\n",
       "      <th>NEXT_INTIME</th>\n",
       "      <th>DIFF</th>\n",
       "      <th>LESS_THAN_30DAYS</th>\n",
       "      <th>DISCHARGE_DIE</th>\n",
       "      <th>DIE_LESS_THAN_30DAYS</th>\n",
       "      <th>READMISSION</th>\n",
       "      <th>AGE</th>\n",
       "      <th>PROCEDURES</th>\n",
       "      <th>DRUG</th>\n",
       "      <th>DIAGS</th>\n",
       "      <th>PREV_DIAGS</th>\n",
       "      <th>DAYS_SINCE_LAST_ADMIS</th>\n",
       "      <th>NUM_PREV_ADMIS</th>\n",
       "      <th>NUM_PREV_PROCS</th>\n",
       "      <th>PROCEDURES_STR</th>\n",
       "      <th>DIAGS_STR</th>\n",
       "      <th>PREV_DIAGS_STR</th>\n",
       "      <th>DRUG_STR</th>\n",
       "      <th>SUBJECT_LABLE</th>\n",
       "    </tr>\n",
       "  </thead>\n",
       "  <tbody>\n",
       "    <tr>\n",
       "      <th>0</th>\n",
       "      <td>14744186</td>\n",
       "      <td>25397565</td>\n",
       "      <td>32098969</td>\n",
       "      <td>Neuro Intermediate</td>\n",
       "      <td>Neuro Intermediate</td>\n",
       "      <td>2110-01-31 03:46:00</td>\n",
       "      <td>2110-02-02 01:28:13</td>\n",
       "      <td>1.904317</td>\n",
       "      <td>2110-01-31 02:44:00</td>\n",
       "      <td>2110-02-06 17:29:00</td>\n",
       "      <td>NaN</td>\n",
       "      <td>EW EMER.</td>\n",
       "      <td>PHYSICIAN REFERRAL</td>\n",
       "      <td>HOME HEALTH CARE</td>\n",
       "      <td>Other</td>\n",
       "      <td>MARRIED</td>\n",
       "      <td>WHITE</td>\n",
       "      <td>2110-01-01</td>\n",
       "      <td>NaN</td>\n",
       "      <td>F</td>\n",
       "      <td>0</td>\n",
       "      <td>0</td>\n",
       "      <td>0</td>\n",
       "      <td>2</td>\n",
       "      <td>0</td>\n",
       "      <td>1</td>\n",
       "      <td>0</td>\n",
       "      <td>2110-02-02 02:47:30</td>\n",
       "      <td>0 days 01:19:17</td>\n",
       "      <td>1</td>\n",
       "      <td>NaN</td>\n",
       "      <td>0</td>\n",
       "      <td>1</td>\n",
       "      <td>90</td>\n",
       "      <td>['10_00B70ZZ', '10_2W30XYZ']</td>\n",
       "      <td>['Dextrose 50%', 'Glucagon', 'Glucose Gel', 'S...</td>\n",
       "      <td>['10_C711', '10_G936', '10_E119', '10_E039', '...</td>\n",
       "      <td>{}</td>\n",
       "      <td>0.000000</td>\n",
       "      <td>0.0</td>\n",
       "      <td>0.0</td>\n",
       "      <td>Excision of Cerebral Hemisphere, Open Approach...</td>\n",
       "      <td>Malignant neoplasm of frontal lobe Cerebral ed...</td>\n",
       "      <td>Unknown</td>\n",
       "      <td>Dextrose 50%, Glucagon, Glucose Gel, Sodium Ch...</td>\n",
       "      <td>train</td>\n",
       "    </tr>\n",
       "    <tr>\n",
       "      <th>1</th>\n",
       "      <td>13233046</td>\n",
       "      <td>21010085</td>\n",
       "      <td>34826166</td>\n",
       "      <td>Coronary Care Unit (CCU)</td>\n",
       "      <td>Coronary Care Unit (CCU)</td>\n",
       "      <td>2110-02-03 09:20:50</td>\n",
       "      <td>2110-02-04 17:30:21</td>\n",
       "      <td>1.339942</td>\n",
       "      <td>2110-02-02 21:42:00</td>\n",
       "      <td>2110-02-08 18:48:00</td>\n",
       "      <td>2110-02-08 18:48:00</td>\n",
       "      <td>URGENT</td>\n",
       "      <td>TRANSFER FROM HOSPITAL</td>\n",
       "      <td>DIED</td>\n",
       "      <td>Medicare</td>\n",
       "      <td>NaN</td>\n",
       "      <td>WHITE</td>\n",
       "      <td>2110-01-01</td>\n",
       "      <td>2110-02-08</td>\n",
       "      <td>M</td>\n",
       "      <td>1</td>\n",
       "      <td>1</td>\n",
       "      <td>0</td>\n",
       "      <td>1</td>\n",
       "      <td>1</td>\n",
       "      <td>0</td>\n",
       "      <td>1</td>\n",
       "      <td>NaN</td>\n",
       "      <td>NaN</td>\n",
       "      <td>0</td>\n",
       "      <td>-1 days +05:12:00</td>\n",
       "      <td>0</td>\n",
       "      <td>1</td>\n",
       "      <td>90</td>\n",
       "      <td>NaN</td>\n",
       "      <td>['Sodium Chloride 0.9%  Flush', 'Albuterol 0.0...</td>\n",
       "      <td>['9_51883', '9_5609', '9_7994', '9_2761', '9_2...</td>\n",
       "      <td>{}</td>\n",
       "      <td>0.000000</td>\n",
       "      <td>0.0</td>\n",
       "      <td>0.0</td>\n",
       "      <td>Unknown</td>\n",
       "      <td>Chronic respiratory failure Unspecified intest...</td>\n",
       "      <td>Unknown</td>\n",
       "      <td>Sodium Chloride 0.9%  Flush, Albuterol 0.083% ...</td>\n",
       "      <td>test</td>\n",
       "    </tr>\n",
       "    <tr>\n",
       "      <th>2</th>\n",
       "      <td>14779071</td>\n",
       "      <td>26314633</td>\n",
       "      <td>37409541</td>\n",
       "      <td>Coronary Care Unit (CCU)</td>\n",
       "      <td>Coronary Care Unit (CCU)</td>\n",
       "      <td>2110-02-03 18:24:56</td>\n",
       "      <td>2110-02-10 09:56:59</td>\n",
       "      <td>6.647257</td>\n",
       "      <td>2110-02-03 13:30:00</td>\n",
       "      <td>2110-02-11 20:31:00</td>\n",
       "      <td>NaN</td>\n",
       "      <td>ELECTIVE</td>\n",
       "      <td>PHYSICIAN REFERRAL</td>\n",
       "      <td>SKILLED NURSING FACILITY</td>\n",
       "      <td>Medicare</td>\n",
       "      <td>NaN</td>\n",
       "      <td>UNKNOWN</td>\n",
       "      <td>2110-01-01</td>\n",
       "      <td>NaN</td>\n",
       "      <td>F</td>\n",
       "      <td>0</td>\n",
       "      <td>0</td>\n",
       "      <td>0</td>\n",
       "      <td>2</td>\n",
       "      <td>0</td>\n",
       "      <td>1</td>\n",
       "      <td>0</td>\n",
       "      <td>2110-02-10 10:01:56</td>\n",
       "      <td>0 days 00:04:57</td>\n",
       "      <td>1</td>\n",
       "      <td>NaN</td>\n",
       "      <td>0</td>\n",
       "      <td>1</td>\n",
       "      <td>90</td>\n",
       "      <td>['10_02RF38Z', '10_04CL0ZZ', '10_04UL0KZ', '10...</td>\n",
       "      <td>['Aspirin', 'Influenza Vaccine Quadrivalent', ...</td>\n",
       "      <td>['10_I352', '10_T8119XA', '10_I21A1', '10_D62'...</td>\n",
       "      <td>['10_I352', '10_I5023', '10_I21A1', '10_E43', ...</td>\n",
       "      <td>12.094444</td>\n",
       "      <td>1.0</td>\n",
       "      <td>2.0</td>\n",
       "      <td>Replacement of Aortic Valve with Zooplastic Ti...</td>\n",
       "      <td>Nonrheumatic aortic (valve) stenosis with insu...</td>\n",
       "      <td>Nonrheumatic aortic (valve) stenosis with insu...</td>\n",
       "      <td>Aspirin, Influenza Vaccine Quadrivalent, Sodiu...</td>\n",
       "      <td>test</td>\n",
       "    </tr>\n",
       "    <tr>\n",
       "      <th>3</th>\n",
       "      <td>12775498</td>\n",
       "      <td>20678397</td>\n",
       "      <td>39580384</td>\n",
       "      <td>Coronary Care Unit (CCU)</td>\n",
       "      <td>Coronary Care Unit (CCU)</td>\n",
       "      <td>2110-02-08 17:26:33</td>\n",
       "      <td>2110-02-15 17:20:25</td>\n",
       "      <td>6.995741</td>\n",
       "      <td>2110-02-08 17:25:00</td>\n",
       "      <td>2110-03-01 14:45:00</td>\n",
       "      <td>NaN</td>\n",
       "      <td>URGENT</td>\n",
       "      <td>TRANSFER FROM HOSPITAL</td>\n",
       "      <td>CHRONIC/LONG TERM ACUTE CARE</td>\n",
       "      <td>Medicare</td>\n",
       "      <td>SINGLE</td>\n",
       "      <td>BLACK/AFRICAN AMERICAN</td>\n",
       "      <td>2110-01-01</td>\n",
       "      <td>NaN</td>\n",
       "      <td>M</td>\n",
       "      <td>0</td>\n",
       "      <td>0</td>\n",
       "      <td>0</td>\n",
       "      <td>2</td>\n",
       "      <td>0</td>\n",
       "      <td>1</td>\n",
       "      <td>0</td>\n",
       "      <td>2110-02-20 17:56:17</td>\n",
       "      <td>5 days 00:35:52</td>\n",
       "      <td>1</td>\n",
       "      <td>NaN</td>\n",
       "      <td>0</td>\n",
       "      <td>1</td>\n",
       "      <td>90</td>\n",
       "      <td>['9_3779', '9_311', '9_3777', '9_9672', '9_349...</td>\n",
       "      <td>['5% Dextrose', 'CefePIME', 'Pantoprazole', 'C...</td>\n",
       "      <td>['9_99661', '9_5109', '9_5849', '9_4254', '9_4...</td>\n",
       "      <td>{}</td>\n",
       "      <td>0.000000</td>\n",
       "      <td>0.0</td>\n",
       "      <td>0.0</td>\n",
       "      <td>Unspecified disorder of optic nerve and visual...</td>\n",
       "      <td>Infection and inflammatory reaction due to car...</td>\n",
       "      <td>Unknown</td>\n",
       "      <td>5% Dextrose, CefePIME, Pantoprazole, Clopidogr...</td>\n",
       "      <td>test</td>\n",
       "    </tr>\n",
       "    <tr>\n",
       "      <th>4</th>\n",
       "      <td>10582595</td>\n",
       "      <td>20690213</td>\n",
       "      <td>33235984</td>\n",
       "      <td>Surgical Intensive Care Unit (SICU)</td>\n",
       "      <td>Trauma SICU (TSICU)</td>\n",
       "      <td>2110-02-09 22:11:00</td>\n",
       "      <td>2110-02-13 17:33:51</td>\n",
       "      <td>3.807535</td>\n",
       "      <td>2110-02-09 20:41:00</td>\n",
       "      <td>2110-02-17 15:40:00</td>\n",
       "      <td>NaN</td>\n",
       "      <td>EW EMER.</td>\n",
       "      <td>EMERGENCY ROOM</td>\n",
       "      <td>REHAB</td>\n",
       "      <td>Medicare</td>\n",
       "      <td>NaN</td>\n",
       "      <td>WHITE</td>\n",
       "      <td>2110-01-01</td>\n",
       "      <td>NaN</td>\n",
       "      <td>F</td>\n",
       "      <td>0</td>\n",
       "      <td>0</td>\n",
       "      <td>0</td>\n",
       "      <td>2</td>\n",
       "      <td>0</td>\n",
       "      <td>1</td>\n",
       "      <td>0</td>\n",
       "      <td>2110-02-14 09:03:52</td>\n",
       "      <td>0 days 15:30:01</td>\n",
       "      <td>1</td>\n",
       "      <td>NaN</td>\n",
       "      <td>0</td>\n",
       "      <td>1</td>\n",
       "      <td>90</td>\n",
       "      <td>['9_7936', '9_7919', '9_3491']</td>\n",
       "      <td>['0.9% Sodium Chloride', 'Influenza Virus Vacc...</td>\n",
       "      <td>['9_8080', '9_5119', '9_8082', '9_5990', '9_42...</td>\n",
       "      <td>{}</td>\n",
       "      <td>0.000000</td>\n",
       "      <td>0.0</td>\n",
       "      <td>0.0</td>\n",
       "      <td>Nonspecific (abnormal) findings on radiologica...</td>\n",
       "      <td>Closed fracture of acetabulum Unspecified pleu...</td>\n",
       "      <td>Unknown</td>\n",
       "      <td>0.9% Sodium Chloride, Influenza Virus Vaccine,...</td>\n",
       "      <td>train</td>\n",
       "    </tr>\n",
       "    <tr>\n",
       "      <th>...</th>\n",
       "      <td>...</td>\n",
       "      <td>...</td>\n",
       "      <td>...</td>\n",
       "      <td>...</td>\n",
       "      <td>...</td>\n",
       "      <td>...</td>\n",
       "      <td>...</td>\n",
       "      <td>...</td>\n",
       "      <td>...</td>\n",
       "      <td>...</td>\n",
       "      <td>...</td>\n",
       "      <td>...</td>\n",
       "      <td>...</td>\n",
       "      <td>...</td>\n",
       "      <td>...</td>\n",
       "      <td>...</td>\n",
       "      <td>...</td>\n",
       "      <td>...</td>\n",
       "      <td>...</td>\n",
       "      <td>...</td>\n",
       "      <td>...</td>\n",
       "      <td>...</td>\n",
       "      <td>...</td>\n",
       "      <td>...</td>\n",
       "      <td>...</td>\n",
       "      <td>...</td>\n",
       "      <td>...</td>\n",
       "      <td>...</td>\n",
       "      <td>...</td>\n",
       "      <td>...</td>\n",
       "      <td>...</td>\n",
       "      <td>...</td>\n",
       "      <td>...</td>\n",
       "      <td>...</td>\n",
       "      <td>...</td>\n",
       "      <td>...</td>\n",
       "      <td>...</td>\n",
       "      <td>...</td>\n",
       "      <td>...</td>\n",
       "      <td>...</td>\n",
       "      <td>...</td>\n",
       "      <td>...</td>\n",
       "      <td>...</td>\n",
       "      <td>...</td>\n",
       "      <td>...</td>\n",
       "      <td>...</td>\n",
       "    </tr>\n",
       "    <tr>\n",
       "      <th>59578</th>\n",
       "      <td>19815165</td>\n",
       "      <td>23465980</td>\n",
       "      <td>31378173</td>\n",
       "      <td>Cardiac Vascular Intensive Care Unit (CVICU)</td>\n",
       "      <td>Cardiac Vascular Intensive Care Unit (CVICU)</td>\n",
       "      <td>2210-04-12 10:50:27</td>\n",
       "      <td>2210-04-19 11:53:49</td>\n",
       "      <td>7.044005</td>\n",
       "      <td>2210-04-12 00:00:00</td>\n",
       "      <td>2210-05-25 17:31:00</td>\n",
       "      <td>NaN</td>\n",
       "      <td>SURGICAL SAME DAY ADMISSION</td>\n",
       "      <td>PHYSICIAN REFERRAL</td>\n",
       "      <td>SKILLED NURSING FACILITY</td>\n",
       "      <td>Other</td>\n",
       "      <td>WIDOWED</td>\n",
       "      <td>HISPANIC/LATINO</td>\n",
       "      <td>2202-01-01</td>\n",
       "      <td>NaN</td>\n",
       "      <td>F</td>\n",
       "      <td>0</td>\n",
       "      <td>0</td>\n",
       "      <td>0</td>\n",
       "      <td>1</td>\n",
       "      <td>1</td>\n",
       "      <td>0</td>\n",
       "      <td>0</td>\n",
       "      <td>NaN</td>\n",
       "      <td>NaN</td>\n",
       "      <td>0</td>\n",
       "      <td>NaN</td>\n",
       "      <td>0</td>\n",
       "      <td>0</td>\n",
       "      <td>8</td>\n",
       "      <td>['10_02100Z9', '10_02RF08Z', '10_021109W', '10...</td>\n",
       "      <td>['Iso-Osmotic Dextrose', 'Sodium Chloride 0.9%...</td>\n",
       "      <td>['10_I083', '10_J156', '10_K2971', '10_D62', '...</td>\n",
       "      <td>['10_R079', '10_I10', '10_M79602', '10_R110', ...</td>\n",
       "      <td>1100.344444</td>\n",
       "      <td>4.0</td>\n",
       "      <td>1.0</td>\n",
       "      <td>Bypass Coronary Artery, One Artery from Left I...</td>\n",
       "      <td>Combined rheumatic disorders of mitral, aortic...</td>\n",
       "      <td>Chest pain, unspecified Essential (primary) hy...</td>\n",
       "      <td>Iso-Osmotic Dextrose, Sodium Chloride 0.9%  Fl...</td>\n",
       "      <td>train</td>\n",
       "    </tr>\n",
       "    <tr>\n",
       "      <th>59579</th>\n",
       "      <td>19437861</td>\n",
       "      <td>23539755</td>\n",
       "      <td>39051902</td>\n",
       "      <td>Coronary Care Unit (CCU)</td>\n",
       "      <td>Coronary Care Unit (CCU)</td>\n",
       "      <td>2210-06-27 14:39:30</td>\n",
       "      <td>2210-06-29 22:23:43</td>\n",
       "      <td>2.322373</td>\n",
       "      <td>2210-06-26 16:00:00</td>\n",
       "      <td>2210-06-30 17:30:00</td>\n",
       "      <td>NaN</td>\n",
       "      <td>OBSERVATION ADMIT</td>\n",
       "      <td>PHYSICIAN REFERRAL</td>\n",
       "      <td>HOME</td>\n",
       "      <td>Medicare</td>\n",
       "      <td>MARRIED</td>\n",
       "      <td>WHITE</td>\n",
       "      <td>2203-01-01</td>\n",
       "      <td>NaN</td>\n",
       "      <td>F</td>\n",
       "      <td>0</td>\n",
       "      <td>0</td>\n",
       "      <td>0</td>\n",
       "      <td>1</td>\n",
       "      <td>1</td>\n",
       "      <td>0</td>\n",
       "      <td>0</td>\n",
       "      <td>NaN</td>\n",
       "      <td>NaN</td>\n",
       "      <td>0</td>\n",
       "      <td>NaN</td>\n",
       "      <td>0</td>\n",
       "      <td>0</td>\n",
       "      <td>7</td>\n",
       "      <td>['10_0W9D30Z']</td>\n",
       "      <td>['Sodium Chloride 0.9%  Flush', 'Heparin', 'Si...</td>\n",
       "      <td>['10_I313', '10_T801XXA', '10_I808', '10_E785'...</td>\n",
       "      <td>['9_78650', '9_2720']</td>\n",
       "      <td>2329.228472</td>\n",
       "      <td>1.0</td>\n",
       "      <td>0.0</td>\n",
       "      <td>Drainage of Pericardial Cavity with Drainage D...</td>\n",
       "      <td>Pericardial effusion (noninflammatory) Vascula...</td>\n",
       "      <td>Chest pain, unspecified Pure hypercholesterolemia</td>\n",
       "      <td>Sodium Chloride 0.9%  Flush, Heparin, Simvasta...</td>\n",
       "      <td>train</td>\n",
       "    </tr>\n",
       "    <tr>\n",
       "      <th>59580</th>\n",
       "      <td>18451791</td>\n",
       "      <td>28897092</td>\n",
       "      <td>32688519</td>\n",
       "      <td>Medical/Surgical Intensive Care Unit (MICU/SICU)</td>\n",
       "      <td>Medical/Surgical Intensive Care Unit (MICU/SICU)</td>\n",
       "      <td>2211-01-05 10:59:50</td>\n",
       "      <td>2211-01-06 17:00:09</td>\n",
       "      <td>1.250220</td>\n",
       "      <td>2211-01-05 10:58:00</td>\n",
       "      <td>2211-01-07 16:30:00</td>\n",
       "      <td>NaN</td>\n",
       "      <td>DIRECT EMER.</td>\n",
       "      <td>PHYSICIAN REFERRAL</td>\n",
       "      <td>HOME</td>\n",
       "      <td>Other</td>\n",
       "      <td>MARRIED</td>\n",
       "      <td>OTHER</td>\n",
       "      <td>2206-01-01</td>\n",
       "      <td>NaN</td>\n",
       "      <td>M</td>\n",
       "      <td>0</td>\n",
       "      <td>0</td>\n",
       "      <td>0</td>\n",
       "      <td>1</td>\n",
       "      <td>1</td>\n",
       "      <td>0</td>\n",
       "      <td>0</td>\n",
       "      <td>NaN</td>\n",
       "      <td>NaN</td>\n",
       "      <td>0</td>\n",
       "      <td>NaN</td>\n",
       "      <td>0</td>\n",
       "      <td>0</td>\n",
       "      <td>5</td>\n",
       "      <td>['10_0W3P8ZZ', '10_0DB68ZZ', '10_0DJD8ZZ', '10...</td>\n",
       "      <td>['Lactated Ringers', 'Ondansetron', 'Sodium Ch...</td>\n",
       "      <td>['10_K9161', '10_I5022', '10_D62', '10_I429', ...</td>\n",
       "      <td>['9_2111', '9_2851', '9_7921', '9_4019', '9_27...</td>\n",
       "      <td>1537.766667</td>\n",
       "      <td>1.0</td>\n",
       "      <td>1.0</td>\n",
       "      <td>Control Bleeding in Gastrointestinal Tract, Vi...</td>\n",
       "      <td>Intraoperative hemorrhage and hematoma of a di...</td>\n",
       "      <td>Benign neoplasm of stomach Acute posthemorrhag...</td>\n",
       "      <td>Lactated Ringers, Ondansetron, Sodium Chloride...</td>\n",
       "      <td>train</td>\n",
       "    </tr>\n",
       "    <tr>\n",
       "      <th>59581</th>\n",
       "      <td>14239401</td>\n",
       "      <td>21199923</td>\n",
       "      <td>35906940</td>\n",
       "      <td>Medical Intensive Care Unit (MICU)</td>\n",
       "      <td>Medical Intensive Care Unit (MICU)</td>\n",
       "      <td>2211-05-01 06:59:19</td>\n",
       "      <td>2211-05-10 22:51:06</td>\n",
       "      <td>9.660961</td>\n",
       "      <td>2211-05-01 06:57:00</td>\n",
       "      <td>2211-05-12 17:54:00</td>\n",
       "      <td>NaN</td>\n",
       "      <td>EW EMER.</td>\n",
       "      <td>PHYSICIAN REFERRAL</td>\n",
       "      <td>CHRONIC/LONG TERM ACUTE CARE</td>\n",
       "      <td>Medicare</td>\n",
       "      <td>WIDOWED</td>\n",
       "      <td>BLACK/AFRICAN AMERICAN</td>\n",
       "      <td>2200-01-01</td>\n",
       "      <td>NaN</td>\n",
       "      <td>F</td>\n",
       "      <td>0</td>\n",
       "      <td>0</td>\n",
       "      <td>0</td>\n",
       "      <td>1</td>\n",
       "      <td>1</td>\n",
       "      <td>0</td>\n",
       "      <td>0</td>\n",
       "      <td>NaN</td>\n",
       "      <td>NaN</td>\n",
       "      <td>0</td>\n",
       "      <td>NaN</td>\n",
       "      <td>0</td>\n",
       "      <td>0</td>\n",
       "      <td>11</td>\n",
       "      <td>['10_5A1955Z', '10_0BH17EZ', '10_3E0G76Z']</td>\n",
       "      <td>['Senna', 'Senna', 'Senna', 'Heparin', 'Famoti...</td>\n",
       "      <td>['10_A419', '10_R6521', '10_J80', '10_J810', '...</td>\n",
       "      <td>['9_43491', '9_5569', '9_72989', '9_7820', '9_...</td>\n",
       "      <td>2550.539583</td>\n",
       "      <td>4.0</td>\n",
       "      <td>0.0</td>\n",
       "      <td>Respiratory Ventilation, Greater than 96 Conse...</td>\n",
       "      <td>Sepsis, unspecified organism Severe sepsis wit...</td>\n",
       "      <td>Cerebral artery occlusion, unspecified with ce...</td>\n",
       "      <td>Senna, Senna, Senna, Heparin, Famotidine, Iso-...</td>\n",
       "      <td>train</td>\n",
       "    </tr>\n",
       "    <tr>\n",
       "      <th>59582</th>\n",
       "      <td>16703369</td>\n",
       "      <td>27928947</td>\n",
       "      <td>36321770</td>\n",
       "      <td>Neuro Intermediate</td>\n",
       "      <td>Neuro Intermediate</td>\n",
       "      <td>2211-11-09 03:33:00</td>\n",
       "      <td>2211-11-11 18:34:18</td>\n",
       "      <td>2.625903</td>\n",
       "      <td>2211-11-09 02:26:00</td>\n",
       "      <td>2211-11-11 18:15:00</td>\n",
       "      <td>NaN</td>\n",
       "      <td>OBSERVATION ADMIT</td>\n",
       "      <td>TRANSFER FROM HOSPITAL</td>\n",
       "      <td>SKILLED NURSING FACILITY</td>\n",
       "      <td>Medicare</td>\n",
       "      <td>MARRIED</td>\n",
       "      <td>WHITE</td>\n",
       "      <td>2201-01-01</td>\n",
       "      <td>NaN</td>\n",
       "      <td>F</td>\n",
       "      <td>0</td>\n",
       "      <td>0</td>\n",
       "      <td>0</td>\n",
       "      <td>1</td>\n",
       "      <td>1</td>\n",
       "      <td>0</td>\n",
       "      <td>0</td>\n",
       "      <td>NaN</td>\n",
       "      <td>NaN</td>\n",
       "      <td>0</td>\n",
       "      <td>NaN</td>\n",
       "      <td>0</td>\n",
       "      <td>0</td>\n",
       "      <td>10</td>\n",
       "      <td>NaN</td>\n",
       "      <td>['Influenza Vaccine Quadrivalent', 'Sodium Chl...</td>\n",
       "      <td>['10_G40209', '10_I5032', '10_I2510', '10_Z986...</td>\n",
       "      <td>['9_2800', '9_34831', '9_49322', '9_7211', '9_...</td>\n",
       "      <td>440.309722</td>\n",
       "      <td>23.0</td>\n",
       "      <td>12.0</td>\n",
       "      <td>Unknown</td>\n",
       "      <td>Localization-related (focal) (partial) symptom...</td>\n",
       "      <td>Iron deficiency anemia secondary to blood loss...</td>\n",
       "      <td>Influenza Vaccine Quadrivalent, Sodium Chlorid...</td>\n",
       "      <td>train</td>\n",
       "    </tr>\n",
       "  </tbody>\n",
       "</table>\n",
       "<p>59583 rows × 46 columns</p>\n",
       "</div>"
      ],
      "text/plain": [
       "       SUBJECT_ID   HADM_ID  ICUSTAY_ID  \\\n",
       "0        14744186  25397565    32098969   \n",
       "1        13233046  21010085    34826166   \n",
       "2        14779071  26314633    37409541   \n",
       "3        12775498  20678397    39580384   \n",
       "4        10582595  20690213    33235984   \n",
       "...           ...       ...         ...   \n",
       "59578    19815165  23465980    31378173   \n",
       "59579    19437861  23539755    39051902   \n",
       "59580    18451791  28897092    32688519   \n",
       "59581    14239401  21199923    35906940   \n",
       "59582    16703369  27928947    36321770   \n",
       "\n",
       "                                         FIRST_CAREUNIT  \\\n",
       "0                                    Neuro Intermediate   \n",
       "1                              Coronary Care Unit (CCU)   \n",
       "2                              Coronary Care Unit (CCU)   \n",
       "3                              Coronary Care Unit (CCU)   \n",
       "4                   Surgical Intensive Care Unit (SICU)   \n",
       "...                                                 ...   \n",
       "59578      Cardiac Vascular Intensive Care Unit (CVICU)   \n",
       "59579                          Coronary Care Unit (CCU)   \n",
       "59580  Medical/Surgical Intensive Care Unit (MICU/SICU)   \n",
       "59581                Medical Intensive Care Unit (MICU)   \n",
       "59582                                Neuro Intermediate   \n",
       "\n",
       "                                          LAST_CAREUNIT               INTIME  \\\n",
       "0                                    Neuro Intermediate  2110-01-31 03:46:00   \n",
       "1                              Coronary Care Unit (CCU)  2110-02-03 09:20:50   \n",
       "2                              Coronary Care Unit (CCU)  2110-02-03 18:24:56   \n",
       "3                              Coronary Care Unit (CCU)  2110-02-08 17:26:33   \n",
       "4                                   Trauma SICU (TSICU)  2110-02-09 22:11:00   \n",
       "...                                                 ...                  ...   \n",
       "59578      Cardiac Vascular Intensive Care Unit (CVICU)  2210-04-12 10:50:27   \n",
       "59579                          Coronary Care Unit (CCU)  2210-06-27 14:39:30   \n",
       "59580  Medical/Surgical Intensive Care Unit (MICU/SICU)  2211-01-05 10:59:50   \n",
       "59581                Medical Intensive Care Unit (MICU)  2211-05-01 06:59:19   \n",
       "59582                                Neuro Intermediate  2211-11-09 03:33:00   \n",
       "\n",
       "                   OUTTIME       LOS            ADMITTIME  \\\n",
       "0      2110-02-02 01:28:13  1.904317  2110-01-31 02:44:00   \n",
       "1      2110-02-04 17:30:21  1.339942  2110-02-02 21:42:00   \n",
       "2      2110-02-10 09:56:59  6.647257  2110-02-03 13:30:00   \n",
       "3      2110-02-15 17:20:25  6.995741  2110-02-08 17:25:00   \n",
       "4      2110-02-13 17:33:51  3.807535  2110-02-09 20:41:00   \n",
       "...                    ...       ...                  ...   \n",
       "59578  2210-04-19 11:53:49  7.044005  2210-04-12 00:00:00   \n",
       "59579  2210-06-29 22:23:43  2.322373  2210-06-26 16:00:00   \n",
       "59580  2211-01-06 17:00:09  1.250220  2211-01-05 10:58:00   \n",
       "59581  2211-05-10 22:51:06  9.660961  2211-05-01 06:57:00   \n",
       "59582  2211-11-11 18:34:18  2.625903  2211-11-09 02:26:00   \n",
       "\n",
       "                 DISCHTIME            DEATHTIME               ADMISSION_TYPE  \\\n",
       "0      2110-02-06 17:29:00                  NaN                     EW EMER.   \n",
       "1      2110-02-08 18:48:00  2110-02-08 18:48:00                       URGENT   \n",
       "2      2110-02-11 20:31:00                  NaN                     ELECTIVE   \n",
       "3      2110-03-01 14:45:00                  NaN                       URGENT   \n",
       "4      2110-02-17 15:40:00                  NaN                     EW EMER.   \n",
       "...                    ...                  ...                          ...   \n",
       "59578  2210-05-25 17:31:00                  NaN  SURGICAL SAME DAY ADMISSION   \n",
       "59579  2210-06-30 17:30:00                  NaN            OBSERVATION ADMIT   \n",
       "59580  2211-01-07 16:30:00                  NaN                 DIRECT EMER.   \n",
       "59581  2211-05-12 17:54:00                  NaN                     EW EMER.   \n",
       "59582  2211-11-11 18:15:00                  NaN            OBSERVATION ADMIT   \n",
       "\n",
       "           ADMISSION_LOCATION            DISCHARGE_LOCATION INSURANCE  \\\n",
       "0          PHYSICIAN REFERRAL              HOME HEALTH CARE     Other   \n",
       "1      TRANSFER FROM HOSPITAL                          DIED  Medicare   \n",
       "2          PHYSICIAN REFERRAL      SKILLED NURSING FACILITY  Medicare   \n",
       "3      TRANSFER FROM HOSPITAL  CHRONIC/LONG TERM ACUTE CARE  Medicare   \n",
       "4              EMERGENCY ROOM                         REHAB  Medicare   \n",
       "...                       ...                           ...       ...   \n",
       "59578      PHYSICIAN REFERRAL      SKILLED NURSING FACILITY     Other   \n",
       "59579      PHYSICIAN REFERRAL                          HOME  Medicare   \n",
       "59580      PHYSICIAN REFERRAL                          HOME     Other   \n",
       "59581      PHYSICIAN REFERRAL  CHRONIC/LONG TERM ACUTE CARE  Medicare   \n",
       "59582  TRANSFER FROM HOSPITAL      SKILLED NURSING FACILITY  Medicare   \n",
       "\n",
       "      MARITAL_STATUS               ETHNICITY         DOB         DOD GENDER  \\\n",
       "0            MARRIED                   WHITE  2110-01-01         NaN      F   \n",
       "1                NaN                   WHITE  2110-01-01  2110-02-08      M   \n",
       "2                NaN                 UNKNOWN  2110-01-01         NaN      F   \n",
       "3             SINGLE  BLACK/AFRICAN AMERICAN  2110-01-01         NaN      M   \n",
       "4                NaN                   WHITE  2110-01-01         NaN      F   \n",
       "...              ...                     ...         ...         ...    ...   \n",
       "59578        WIDOWED         HISPANIC/LATINO  2202-01-01         NaN      F   \n",
       "59579        MARRIED                   WHITE  2203-01-01         NaN      F   \n",
       "59580        MARRIED                   OTHER  2206-01-01         NaN      M   \n",
       "59581        WIDOWED  BLACK/AFRICAN AMERICAN  2200-01-01         NaN      F   \n",
       "59582        MARRIED                   WHITE  2201-01-01         NaN      F   \n",
       "\n",
       "       MORTALITY  MORTALITY_INHOSPITAL  MORTALITY_INUNIT  COUNTS  MAX_OUTTIME  \\\n",
       "0              0                     0                 0       2            0   \n",
       "1              1                     1                 0       1            1   \n",
       "2              0                     0                 0       2            0   \n",
       "3              0                     0                 0       2            0   \n",
       "4              0                     0                 0       2            0   \n",
       "...          ...                   ...               ...     ...          ...   \n",
       "59578          0                     0                 0       1            1   \n",
       "59579          0                     0                 0       1            1   \n",
       "59580          0                     0                 0       1            1   \n",
       "59581          0                     0                 0       1            1   \n",
       "59582          0                     0                 0       1            1   \n",
       "\n",
       "       TRANSFERBACK  DIEINWARD          NEXT_INTIME             DIFF  \\\n",
       "0                 1          0  2110-02-02 02:47:30  0 days 01:19:17   \n",
       "1                 0          1                  NaN              NaN   \n",
       "2                 1          0  2110-02-10 10:01:56  0 days 00:04:57   \n",
       "3                 1          0  2110-02-20 17:56:17  5 days 00:35:52   \n",
       "4                 1          0  2110-02-14 09:03:52  0 days 15:30:01   \n",
       "...             ...        ...                  ...              ...   \n",
       "59578             0          0                  NaN              NaN   \n",
       "59579             0          0                  NaN              NaN   \n",
       "59580             0          0                  NaN              NaN   \n",
       "59581             0          0                  NaN              NaN   \n",
       "59582             0          0                  NaN              NaN   \n",
       "\n",
       "       LESS_THAN_30DAYS      DISCHARGE_DIE  DIE_LESS_THAN_30DAYS  READMISSION  \\\n",
       "0                     1                NaN                     0            1   \n",
       "1                     0  -1 days +05:12:00                     0            1   \n",
       "2                     1                NaN                     0            1   \n",
       "3                     1                NaN                     0            1   \n",
       "4                     1                NaN                     0            1   \n",
       "...                 ...                ...                   ...          ...   \n",
       "59578                 0                NaN                     0            0   \n",
       "59579                 0                NaN                     0            0   \n",
       "59580                 0                NaN                     0            0   \n",
       "59581                 0                NaN                     0            0   \n",
       "59582                 0                NaN                     0            0   \n",
       "\n",
       "       AGE                                         PROCEDURES  \\\n",
       "0       90                       ['10_00B70ZZ', '10_2W30XYZ']   \n",
       "1       90                                                NaN   \n",
       "2       90  ['10_02RF38Z', '10_04CL0ZZ', '10_04UL0KZ', '10...   \n",
       "3       90  ['9_3779', '9_311', '9_3777', '9_9672', '9_349...   \n",
       "4       90                     ['9_7936', '9_7919', '9_3491']   \n",
       "...    ...                                                ...   \n",
       "59578    8  ['10_02100Z9', '10_02RF08Z', '10_021109W', '10...   \n",
       "59579    7                                     ['10_0W9D30Z']   \n",
       "59580    5  ['10_0W3P8ZZ', '10_0DB68ZZ', '10_0DJD8ZZ', '10...   \n",
       "59581   11         ['10_5A1955Z', '10_0BH17EZ', '10_3E0G76Z']   \n",
       "59582   10                                                NaN   \n",
       "\n",
       "                                                    DRUG  \\\n",
       "0      ['Dextrose 50%', 'Glucagon', 'Glucose Gel', 'S...   \n",
       "1      ['Sodium Chloride 0.9%  Flush', 'Albuterol 0.0...   \n",
       "2      ['Aspirin', 'Influenza Vaccine Quadrivalent', ...   \n",
       "3      ['5% Dextrose', 'CefePIME', 'Pantoprazole', 'C...   \n",
       "4      ['0.9% Sodium Chloride', 'Influenza Virus Vacc...   \n",
       "...                                                  ...   \n",
       "59578  ['Iso-Osmotic Dextrose', 'Sodium Chloride 0.9%...   \n",
       "59579  ['Sodium Chloride 0.9%  Flush', 'Heparin', 'Si...   \n",
       "59580  ['Lactated Ringers', 'Ondansetron', 'Sodium Ch...   \n",
       "59581  ['Senna', 'Senna', 'Senna', 'Heparin', 'Famoti...   \n",
       "59582  ['Influenza Vaccine Quadrivalent', 'Sodium Chl...   \n",
       "\n",
       "                                                   DIAGS  \\\n",
       "0      ['10_C711', '10_G936', '10_E119', '10_E039', '...   \n",
       "1      ['9_51883', '9_5609', '9_7994', '9_2761', '9_2...   \n",
       "2      ['10_I352', '10_T8119XA', '10_I21A1', '10_D62'...   \n",
       "3      ['9_99661', '9_5109', '9_5849', '9_4254', '9_4...   \n",
       "4      ['9_8080', '9_5119', '9_8082', '9_5990', '9_42...   \n",
       "...                                                  ...   \n",
       "59578  ['10_I083', '10_J156', '10_K2971', '10_D62', '...   \n",
       "59579  ['10_I313', '10_T801XXA', '10_I808', '10_E785'...   \n",
       "59580  ['10_K9161', '10_I5022', '10_D62', '10_I429', ...   \n",
       "59581  ['10_A419', '10_R6521', '10_J80', '10_J810', '...   \n",
       "59582  ['10_G40209', '10_I5032', '10_I2510', '10_Z986...   \n",
       "\n",
       "                                              PREV_DIAGS  \\\n",
       "0                                                     {}   \n",
       "1                                                     {}   \n",
       "2      ['10_I352', '10_I5023', '10_I21A1', '10_E43', ...   \n",
       "3                                                     {}   \n",
       "4                                                     {}   \n",
       "...                                                  ...   \n",
       "59578  ['10_R079', '10_I10', '10_M79602', '10_R110', ...   \n",
       "59579                              ['9_78650', '9_2720']   \n",
       "59580  ['9_2111', '9_2851', '9_7921', '9_4019', '9_27...   \n",
       "59581  ['9_43491', '9_5569', '9_72989', '9_7820', '9_...   \n",
       "59582  ['9_2800', '9_34831', '9_49322', '9_7211', '9_...   \n",
       "\n",
       "       DAYS_SINCE_LAST_ADMIS  NUM_PREV_ADMIS  NUM_PREV_PROCS  \\\n",
       "0                   0.000000             0.0             0.0   \n",
       "1                   0.000000             0.0             0.0   \n",
       "2                  12.094444             1.0             2.0   \n",
       "3                   0.000000             0.0             0.0   \n",
       "4                   0.000000             0.0             0.0   \n",
       "...                      ...             ...             ...   \n",
       "59578            1100.344444             4.0             1.0   \n",
       "59579            2329.228472             1.0             0.0   \n",
       "59580            1537.766667             1.0             1.0   \n",
       "59581            2550.539583             4.0             0.0   \n",
       "59582             440.309722            23.0            12.0   \n",
       "\n",
       "                                          PROCEDURES_STR  \\\n",
       "0      Excision of Cerebral Hemisphere, Open Approach...   \n",
       "1                                                Unknown   \n",
       "2      Replacement of Aortic Valve with Zooplastic Ti...   \n",
       "3      Unspecified disorder of optic nerve and visual...   \n",
       "4      Nonspecific (abnormal) findings on radiologica...   \n",
       "...                                                  ...   \n",
       "59578  Bypass Coronary Artery, One Artery from Left I...   \n",
       "59579  Drainage of Pericardial Cavity with Drainage D...   \n",
       "59580  Control Bleeding in Gastrointestinal Tract, Vi...   \n",
       "59581  Respiratory Ventilation, Greater than 96 Conse...   \n",
       "59582                                            Unknown   \n",
       "\n",
       "                                               DIAGS_STR  \\\n",
       "0      Malignant neoplasm of frontal lobe Cerebral ed...   \n",
       "1      Chronic respiratory failure Unspecified intest...   \n",
       "2      Nonrheumatic aortic (valve) stenosis with insu...   \n",
       "3      Infection and inflammatory reaction due to car...   \n",
       "4      Closed fracture of acetabulum Unspecified pleu...   \n",
       "...                                                  ...   \n",
       "59578  Combined rheumatic disorders of mitral, aortic...   \n",
       "59579  Pericardial effusion (noninflammatory) Vascula...   \n",
       "59580  Intraoperative hemorrhage and hematoma of a di...   \n",
       "59581  Sepsis, unspecified organism Severe sepsis wit...   \n",
       "59582  Localization-related (focal) (partial) symptom...   \n",
       "\n",
       "                                          PREV_DIAGS_STR  \\\n",
       "0                                                Unknown   \n",
       "1                                                Unknown   \n",
       "2      Nonrheumatic aortic (valve) stenosis with insu...   \n",
       "3                                                Unknown   \n",
       "4                                                Unknown   \n",
       "...                                                  ...   \n",
       "59578  Chest pain, unspecified Essential (primary) hy...   \n",
       "59579  Chest pain, unspecified Pure hypercholesterolemia   \n",
       "59580  Benign neoplasm of stomach Acute posthemorrhag...   \n",
       "59581  Cerebral artery occlusion, unspecified with ce...   \n",
       "59582  Iron deficiency anemia secondary to blood loss...   \n",
       "\n",
       "                                                DRUG_STR SUBJECT_LABLE  \n",
       "0      Dextrose 50%, Glucagon, Glucose Gel, Sodium Ch...         train  \n",
       "1      Sodium Chloride 0.9%  Flush, Albuterol 0.083% ...          test  \n",
       "2      Aspirin, Influenza Vaccine Quadrivalent, Sodiu...          test  \n",
       "3      5% Dextrose, CefePIME, Pantoprazole, Clopidogr...          test  \n",
       "4      0.9% Sodium Chloride, Influenza Virus Vaccine,...         train  \n",
       "...                                                  ...           ...  \n",
       "59578  Iso-Osmotic Dextrose, Sodium Chloride 0.9%  Fl...         train  \n",
       "59579  Sodium Chloride 0.9%  Flush, Heparin, Simvasta...         train  \n",
       "59580  Lactated Ringers, Ondansetron, Sodium Chloride...         train  \n",
       "59581  Senna, Senna, Senna, Heparin, Famotidine, Iso-...         train  \n",
       "59582  Influenza Vaccine Quadrivalent, Sodium Chlorid...         train  \n",
       "\n",
       "[59583 rows x 46 columns]"
      ]
     },
     "metadata": {},
     "output_type": "display_data"
    }
   ],
   "source": [
    "df_merged = pd.concat([train_df_split_readmit, train_df_split_noadmit], ignore_index=True, sort=False)\n",
    "display(df_merged)"
   ]
  },
  {
   "cell_type": "code",
   "execution_count": 83,
   "id": "864644f5",
   "metadata": {
    "pycharm": {
     "name": "#%%\n"
    }
   },
   "outputs": [
    {
     "data": {
      "text/html": [
       "<div>\n",
       "<style scoped>\n",
       "    .dataframe tbody tr th:only-of-type {\n",
       "        vertical-align: middle;\n",
       "    }\n",
       "\n",
       "    .dataframe tbody tr th {\n",
       "        vertical-align: top;\n",
       "    }\n",
       "\n",
       "    .dataframe thead th {\n",
       "        text-align: right;\n",
       "    }\n",
       "</style>\n",
       "<table border=\"1\" class=\"dataframe\">\n",
       "  <thead>\n",
       "    <tr style=\"text-align: right;\">\n",
       "      <th></th>\n",
       "      <th>SUBJECT_ID</th>\n",
       "      <th>HADM_ID</th>\n",
       "      <th>ICUSTAY_ID</th>\n",
       "      <th>FIRST_CAREUNIT</th>\n",
       "      <th>LAST_CAREUNIT</th>\n",
       "      <th>INTIME</th>\n",
       "      <th>OUTTIME</th>\n",
       "      <th>LOS</th>\n",
       "      <th>ADMITTIME</th>\n",
       "      <th>DISCHTIME</th>\n",
       "      <th>DEATHTIME</th>\n",
       "      <th>ADMISSION_TYPE</th>\n",
       "      <th>ADMISSION_LOCATION</th>\n",
       "      <th>DISCHARGE_LOCATION</th>\n",
       "      <th>INSURANCE</th>\n",
       "      <th>MARITAL_STATUS</th>\n",
       "      <th>ETHNICITY</th>\n",
       "      <th>DOB</th>\n",
       "      <th>DOD</th>\n",
       "      <th>GENDER</th>\n",
       "      <th>MORTALITY</th>\n",
       "      <th>MORTALITY_INHOSPITAL</th>\n",
       "      <th>MORTALITY_INUNIT</th>\n",
       "      <th>COUNTS</th>\n",
       "      <th>MAX_OUTTIME</th>\n",
       "      <th>TRANSFERBACK</th>\n",
       "      <th>DIEINWARD</th>\n",
       "      <th>NEXT_INTIME</th>\n",
       "      <th>DIFF</th>\n",
       "      <th>LESS_THAN_30DAYS</th>\n",
       "      <th>DISCHARGE_DIE</th>\n",
       "      <th>DIE_LESS_THAN_30DAYS</th>\n",
       "      <th>READMISSION</th>\n",
       "      <th>AGE</th>\n",
       "      <th>PROCEDURES</th>\n",
       "      <th>DRUG</th>\n",
       "      <th>DIAGS</th>\n",
       "      <th>PREV_DIAGS</th>\n",
       "      <th>DAYS_SINCE_LAST_ADMIS</th>\n",
       "      <th>NUM_PREV_ADMIS</th>\n",
       "      <th>NUM_PREV_PROCS</th>\n",
       "      <th>PROCEDURES_STR</th>\n",
       "      <th>DIAGS_STR</th>\n",
       "      <th>PREV_DIAGS_STR</th>\n",
       "      <th>DRUG_STR</th>\n",
       "      <th>SUBJECT_LABLE</th>\n",
       "    </tr>\n",
       "  </thead>\n",
       "  <tbody>\n",
       "    <tr>\n",
       "      <th>59188</th>\n",
       "      <td>16703369</td>\n",
       "      <td>27525870</td>\n",
       "      <td>32040718</td>\n",
       "      <td>Surgical Intensive Care Unit (SICU)</td>\n",
       "      <td>Surgical Intensive Care Unit (SICU)</td>\n",
       "      <td>2201-04-01 15:36:01</td>\n",
       "      <td>2201-04-03 18:42:14</td>\n",
       "      <td>2.129317</td>\n",
       "      <td>2201-03-21 16:08:00</td>\n",
       "      <td>2201-04-15 16:10:00</td>\n",
       "      <td>NaN</td>\n",
       "      <td>EW EMER.</td>\n",
       "      <td>EMERGENCY ROOM</td>\n",
       "      <td>REHAB</td>\n",
       "      <td>Other</td>\n",
       "      <td>MARRIED</td>\n",
       "      <td>WHITE</td>\n",
       "      <td>2201-01-01</td>\n",
       "      <td>NaN</td>\n",
       "      <td>F</td>\n",
       "      <td>0</td>\n",
       "      <td>0</td>\n",
       "      <td>0</td>\n",
       "      <td>1</td>\n",
       "      <td>1</td>\n",
       "      <td>0</td>\n",
       "      <td>0</td>\n",
       "      <td>2207-07-01 09:04:15</td>\n",
       "      <td>2279 days 14:22:01</td>\n",
       "      <td>0</td>\n",
       "      <td>NaN</td>\n",
       "      <td>0</td>\n",
       "      <td>0</td>\n",
       "      <td>90</td>\n",
       "      <td>['9_0159', '9_0309', '9_3893']</td>\n",
       "      <td>['Atorvastatin', 'Topiramate (Topamax)', 'Furo...</td>\n",
       "      <td>['9_34580', '9_51881', '9_2883', '9_33829', '9...</td>\n",
       "      <td>{}</td>\n",
       "      <td>0.000000</td>\n",
       "      <td>0.0</td>\n",
       "      <td>0.0</td>\n",
       "      <td>Other excision or destruction of lesion or tis...</td>\n",
       "      <td>Other forms of epilepsy and recurrent seizures...</td>\n",
       "      <td>Unknown</td>\n",
       "      <td>Atorvastatin, Topiramate (Topamax), Furosemide...</td>\n",
       "      <td>train</td>\n",
       "    </tr>\n",
       "    <tr>\n",
       "      <th>59555</th>\n",
       "      <td>16703369</td>\n",
       "      <td>24138806</td>\n",
       "      <td>33037294</td>\n",
       "      <td>Medical/Surgical Intensive Care Unit (MICU/SICU)</td>\n",
       "      <td>Medical/Surgical Intensive Care Unit (MICU/SICU)</td>\n",
       "      <td>2207-07-01 09:04:15</td>\n",
       "      <td>2207-07-02 20:48:26</td>\n",
       "      <td>1.489016</td>\n",
       "      <td>2207-06-30 13:15:00</td>\n",
       "      <td>2207-07-11 17:17:00</td>\n",
       "      <td>NaN</td>\n",
       "      <td>SURGICAL SAME DAY ADMISSION</td>\n",
       "      <td>PHYSICIAN REFERRAL</td>\n",
       "      <td>SKILLED NURSING FACILITY</td>\n",
       "      <td>Other</td>\n",
       "      <td>MARRIED</td>\n",
       "      <td>WHITE</td>\n",
       "      <td>2201-01-01</td>\n",
       "      <td>NaN</td>\n",
       "      <td>F</td>\n",
       "      <td>0</td>\n",
       "      <td>0</td>\n",
       "      <td>0</td>\n",
       "      <td>1</td>\n",
       "      <td>1</td>\n",
       "      <td>0</td>\n",
       "      <td>0</td>\n",
       "      <td>2211-11-09 03:33:00</td>\n",
       "      <td>1590 days 06:44:34</td>\n",
       "      <td>0</td>\n",
       "      <td>NaN</td>\n",
       "      <td>0</td>\n",
       "      <td>0</td>\n",
       "      <td>6</td>\n",
       "      <td>['9_7869', '9_8456']</td>\n",
       "      <td>['Topiramate (Topamax)', 'Topiramate (Topamax)...</td>\n",
       "      <td>['9_99677', '9_2851', '9_2875', '9_27652', '9_...</td>\n",
       "      <td>['9_2800', '9_34831', '9_49322', '9_7211', '9_...</td>\n",
       "      <td>215.809028</td>\n",
       "      <td>14.0</td>\n",
       "      <td>7.0</td>\n",
       "      <td>Other symptoms involving respiratory system an...</td>\n",
       "      <td>Other complications due to internal joint pros...</td>\n",
       "      <td>Iron deficiency anemia secondary to blood loss...</td>\n",
       "      <td>Topiramate (Topamax), Topiramate (Topamax), Ga...</td>\n",
       "      <td>train</td>\n",
       "    </tr>\n",
       "    <tr>\n",
       "      <th>59582</th>\n",
       "      <td>16703369</td>\n",
       "      <td>27928947</td>\n",
       "      <td>36321770</td>\n",
       "      <td>Neuro Intermediate</td>\n",
       "      <td>Neuro Intermediate</td>\n",
       "      <td>2211-11-09 03:33:00</td>\n",
       "      <td>2211-11-11 18:34:18</td>\n",
       "      <td>2.625903</td>\n",
       "      <td>2211-11-09 02:26:00</td>\n",
       "      <td>2211-11-11 18:15:00</td>\n",
       "      <td>NaN</td>\n",
       "      <td>OBSERVATION ADMIT</td>\n",
       "      <td>TRANSFER FROM HOSPITAL</td>\n",
       "      <td>SKILLED NURSING FACILITY</td>\n",
       "      <td>Medicare</td>\n",
       "      <td>MARRIED</td>\n",
       "      <td>WHITE</td>\n",
       "      <td>2201-01-01</td>\n",
       "      <td>NaN</td>\n",
       "      <td>F</td>\n",
       "      <td>0</td>\n",
       "      <td>0</td>\n",
       "      <td>0</td>\n",
       "      <td>1</td>\n",
       "      <td>1</td>\n",
       "      <td>0</td>\n",
       "      <td>0</td>\n",
       "      <td>NaN</td>\n",
       "      <td>NaN</td>\n",
       "      <td>0</td>\n",
       "      <td>NaN</td>\n",
       "      <td>0</td>\n",
       "      <td>0</td>\n",
       "      <td>10</td>\n",
       "      <td>NaN</td>\n",
       "      <td>['Influenza Vaccine Quadrivalent', 'Sodium Chl...</td>\n",
       "      <td>['10_G40209', '10_I5032', '10_I2510', '10_Z986...</td>\n",
       "      <td>['9_2800', '9_34831', '9_49322', '9_7211', '9_...</td>\n",
       "      <td>440.309722</td>\n",
       "      <td>23.0</td>\n",
       "      <td>12.0</td>\n",
       "      <td>Unknown</td>\n",
       "      <td>Localization-related (focal) (partial) symptom...</td>\n",
       "      <td>Iron deficiency anemia secondary to blood loss...</td>\n",
       "      <td>Influenza Vaccine Quadrivalent, Sodium Chlorid...</td>\n",
       "      <td>train</td>\n",
       "    </tr>\n",
       "  </tbody>\n",
       "</table>\n",
       "</div>"
      ],
      "text/plain": [
       "       SUBJECT_ID   HADM_ID  ICUSTAY_ID  \\\n",
       "59188    16703369  27525870    32040718   \n",
       "59555    16703369  24138806    33037294   \n",
       "59582    16703369  27928947    36321770   \n",
       "\n",
       "                                         FIRST_CAREUNIT  \\\n",
       "59188               Surgical Intensive Care Unit (SICU)   \n",
       "59555  Medical/Surgical Intensive Care Unit (MICU/SICU)   \n",
       "59582                                Neuro Intermediate   \n",
       "\n",
       "                                          LAST_CAREUNIT               INTIME  \\\n",
       "59188               Surgical Intensive Care Unit (SICU)  2201-04-01 15:36:01   \n",
       "59555  Medical/Surgical Intensive Care Unit (MICU/SICU)  2207-07-01 09:04:15   \n",
       "59582                                Neuro Intermediate  2211-11-09 03:33:00   \n",
       "\n",
       "                   OUTTIME       LOS            ADMITTIME  \\\n",
       "59188  2201-04-03 18:42:14  2.129317  2201-03-21 16:08:00   \n",
       "59555  2207-07-02 20:48:26  1.489016  2207-06-30 13:15:00   \n",
       "59582  2211-11-11 18:34:18  2.625903  2211-11-09 02:26:00   \n",
       "\n",
       "                 DISCHTIME DEATHTIME               ADMISSION_TYPE  \\\n",
       "59188  2201-04-15 16:10:00       NaN                     EW EMER.   \n",
       "59555  2207-07-11 17:17:00       NaN  SURGICAL SAME DAY ADMISSION   \n",
       "59582  2211-11-11 18:15:00       NaN            OBSERVATION ADMIT   \n",
       "\n",
       "           ADMISSION_LOCATION        DISCHARGE_LOCATION INSURANCE  \\\n",
       "59188          EMERGENCY ROOM                     REHAB     Other   \n",
       "59555      PHYSICIAN REFERRAL  SKILLED NURSING FACILITY     Other   \n",
       "59582  TRANSFER FROM HOSPITAL  SKILLED NURSING FACILITY  Medicare   \n",
       "\n",
       "      MARITAL_STATUS ETHNICITY         DOB  DOD GENDER  MORTALITY  \\\n",
       "59188        MARRIED     WHITE  2201-01-01  NaN      F          0   \n",
       "59555        MARRIED     WHITE  2201-01-01  NaN      F          0   \n",
       "59582        MARRIED     WHITE  2201-01-01  NaN      F          0   \n",
       "\n",
       "       MORTALITY_INHOSPITAL  MORTALITY_INUNIT  COUNTS  MAX_OUTTIME  \\\n",
       "59188                     0                 0       1            1   \n",
       "59555                     0                 0       1            1   \n",
       "59582                     0                 0       1            1   \n",
       "\n",
       "       TRANSFERBACK  DIEINWARD          NEXT_INTIME                DIFF  \\\n",
       "59188             0          0  2207-07-01 09:04:15  2279 days 14:22:01   \n",
       "59555             0          0  2211-11-09 03:33:00  1590 days 06:44:34   \n",
       "59582             0          0                  NaN                 NaN   \n",
       "\n",
       "       LESS_THAN_30DAYS DISCHARGE_DIE  DIE_LESS_THAN_30DAYS  READMISSION  AGE  \\\n",
       "59188                 0           NaN                     0            0   90   \n",
       "59555                 0           NaN                     0            0    6   \n",
       "59582                 0           NaN                     0            0   10   \n",
       "\n",
       "                           PROCEDURES  \\\n",
       "59188  ['9_0159', '9_0309', '9_3893']   \n",
       "59555            ['9_7869', '9_8456']   \n",
       "59582                             NaN   \n",
       "\n",
       "                                                    DRUG  \\\n",
       "59188  ['Atorvastatin', 'Topiramate (Topamax)', 'Furo...   \n",
       "59555  ['Topiramate (Topamax)', 'Topiramate (Topamax)...   \n",
       "59582  ['Influenza Vaccine Quadrivalent', 'Sodium Chl...   \n",
       "\n",
       "                                                   DIAGS  \\\n",
       "59188  ['9_34580', '9_51881', '9_2883', '9_33829', '9...   \n",
       "59555  ['9_99677', '9_2851', '9_2875', '9_27652', '9_...   \n",
       "59582  ['10_G40209', '10_I5032', '10_I2510', '10_Z986...   \n",
       "\n",
       "                                              PREV_DIAGS  \\\n",
       "59188                                                 {}   \n",
       "59555  ['9_2800', '9_34831', '9_49322', '9_7211', '9_...   \n",
       "59582  ['9_2800', '9_34831', '9_49322', '9_7211', '9_...   \n",
       "\n",
       "       DAYS_SINCE_LAST_ADMIS  NUM_PREV_ADMIS  NUM_PREV_PROCS  \\\n",
       "59188               0.000000             0.0             0.0   \n",
       "59555             215.809028            14.0             7.0   \n",
       "59582             440.309722            23.0            12.0   \n",
       "\n",
       "                                          PROCEDURES_STR  \\\n",
       "59188  Other excision or destruction of lesion or tis...   \n",
       "59555  Other symptoms involving respiratory system an...   \n",
       "59582                                            Unknown   \n",
       "\n",
       "                                               DIAGS_STR  \\\n",
       "59188  Other forms of epilepsy and recurrent seizures...   \n",
       "59555  Other complications due to internal joint pros...   \n",
       "59582  Localization-related (focal) (partial) symptom...   \n",
       "\n",
       "                                          PREV_DIAGS_STR  \\\n",
       "59188                                            Unknown   \n",
       "59555  Iron deficiency anemia secondary to blood loss...   \n",
       "59582  Iron deficiency anemia secondary to blood loss...   \n",
       "\n",
       "                                                DRUG_STR SUBJECT_LABLE  \n",
       "59188  Atorvastatin, Topiramate (Topamax), Furosemide...         train  \n",
       "59555  Topiramate (Topamax), Topiramate (Topamax), Ga...         train  \n",
       "59582  Influenza Vaccine Quadrivalent, Sodium Chlorid...         train  "
      ]
     },
     "execution_count": 83,
     "metadata": {},
     "output_type": "execute_result"
    }
   ],
   "source": [
    "df_merged.loc[(df_merged['SUBJECT_ID']==16703369)]"
   ]
  },
  {
   "cell_type": "code",
   "execution_count": 84,
   "id": "4604c4d0",
   "metadata": {
    "pycharm": {
     "name": "#%%\n"
    }
   },
   "outputs": [],
   "source": [
    "train_df_split = df_merged.copy()"
   ]
  },
  {
   "cell_type": "code",
   "execution_count": null,
   "id": "5d98f5bf",
   "metadata": {
    "pycharm": {
     "name": "#%%\n"
    }
   },
   "outputs": [],
   "source": []
  },
  {
   "cell_type": "code",
   "execution_count": null,
   "id": "a58a65b3",
   "metadata": {
    "pycharm": {
     "name": "#%%\n"
    }
   },
   "outputs": [],
   "source": []
  },
  {
   "cell_type": "code",
   "execution_count": 85,
   "id": "1a7585f5",
   "metadata": {
    "pycharm": {
     "name": "#%%\n"
    }
   },
   "outputs": [],
   "source": [
    "UNIQUE_IDS =['SUBJECT_ID', 'HADM_ID', 'ICUSTAY_ID']\n",
    "\n",
    "BINARY_CATEGORIES = ['MORTALITY', 'MORTALITY_INHOSPITAL', 'MORTALITY_INUNIT','TRANSFERBACK',\n",
    "       'DIEINWARD', 'LESS_THAN_30DAYS', 'DIE_LESS_THAN_30DAYS']    # 'MORTALITY0',\n",
    "\n",
    "# CATEGORIES = [\n",
    "#     'FIRST_CAREUNIT', 'LAST_CAREUNIT',  'ADMISSION_TYPE', 'ADMISSION_LOCATION',\n",
    "#        'DISCHARGE_LOCATION', 'INSURANCE', 'MARITAL_STATUS', 'ETHNICITY', \n",
    "#         'GENDER']\n",
    "\n",
    "\n",
    "CATEGORIES = [\n",
    "    'FIRST_CAREUNIT',  'ADMISSION_TYPE', 'ADMISSION_LOCATION', 'INSURANCE', 'MARITAL_STATUS', 'ETHNICITY', \n",
    "        'GENDER']\n",
    "\n",
    "DATES_CAT = ['INTIME', 'OUTTIME', 'ADMITTIME', 'DISCHTIME', 'DEATHTIME', 'DOB', 'DOD', 'NEXT_INTIME',]\n",
    "\n",
    "DURATION_CAT = ['DIFF', 'DISCHARGE_DIE', ]\n",
    "\n",
    "# NUMERIC_CAT =['DAYS_SINCE_LAST_ADMIS', 'NUM_PREV_ADMIS', 'NUM_PREV_PROCS','AGE', 'COUNTS', 'MAX_OUTTIME']\n",
    "\n",
    "NUMERIC_CAT =['DAYS_SINCE_LAST_ADMIS', 'NUM_PREV_ADMIS', 'NUM_PREV_PROCS','AGE']\n",
    "\n",
    "MULTIPlE_STR_EMBED = ['PROCEDURES', 'DRUG', 'DIAGS', 'PREV_DIAGS']\n",
    "\n",
    "LABELS_CAT = ['LOS', 'READMISSION']\n",
    "\n",
    "MULTIPlE_STR_EMBED_AFTER = ['PROCEDURES_STR', 'DRUG_STR',  'DIAGS_STR', 'PREV_DIAGS_STR']   \n"
   ]
  },
  {
   "cell_type": "code",
   "execution_count": 86,
   "id": "ab12810d",
   "metadata": {
    "pycharm": {
     "name": "#%%\n"
    }
   },
   "outputs": [],
   "source": [
    "# select_features = BINARY_CATEGORIES + CATEGORIES + NUMERIC_CAT + MULTIPlE_STR_EMBED_AFTER\n",
    "# select_features = CATEGORIES + NUMERIC_CAT + MULTIPlE_STR_EMBED_AFTER\n",
    "select_features = UNIQUE_IDS + CATEGORIES + NUMERIC_CAT + MULTIPlE_STR_EMBED_AFTER\n",
    "\n",
    "# select_features = BINARY_CATEGORIES + CATEGORIES + NUMERIC_CAT"
   ]
  },
  {
   "cell_type": "code",
   "execution_count": 102,
   "id": "b857aa4b",
   "metadata": {
    "pycharm": {
     "name": "#%%\n"
    }
   },
   "outputs": [
    {
     "name": "stdout",
     "output_type": "stream",
     "text": [
      "(10977, 46)\n",
      "(39678, 46)\n",
      "(39678, 46)\n",
      "(79356, 46)\n"
     ]
    },
    {
     "data": {
      "text/html": [
       "<div>\n",
       "<style scoped>\n",
       "    .dataframe tbody tr th:only-of-type {\n",
       "        vertical-align: middle;\n",
       "    }\n",
       "\n",
       "    .dataframe tbody tr th {\n",
       "        vertical-align: top;\n",
       "    }\n",
       "\n",
       "    .dataframe thead th {\n",
       "        text-align: right;\n",
       "    }\n",
       "</style>\n",
       "<table border=\"1\" class=\"dataframe\">\n",
       "  <thead>\n",
       "    <tr style=\"text-align: right;\">\n",
       "      <th></th>\n",
       "      <th>SUBJECT_ID</th>\n",
       "      <th>HADM_ID</th>\n",
       "      <th>ICUSTAY_ID</th>\n",
       "      <th>FIRST_CAREUNIT</th>\n",
       "      <th>LAST_CAREUNIT</th>\n",
       "      <th>INTIME</th>\n",
       "      <th>OUTTIME</th>\n",
       "      <th>LOS</th>\n",
       "      <th>ADMITTIME</th>\n",
       "      <th>DISCHTIME</th>\n",
       "      <th>DEATHTIME</th>\n",
       "      <th>ADMISSION_TYPE</th>\n",
       "      <th>ADMISSION_LOCATION</th>\n",
       "      <th>DISCHARGE_LOCATION</th>\n",
       "      <th>INSURANCE</th>\n",
       "      <th>MARITAL_STATUS</th>\n",
       "      <th>ETHNICITY</th>\n",
       "      <th>DOB</th>\n",
       "      <th>DOD</th>\n",
       "      <th>GENDER</th>\n",
       "      <th>MORTALITY</th>\n",
       "      <th>MORTALITY_INHOSPITAL</th>\n",
       "      <th>MORTALITY_INUNIT</th>\n",
       "      <th>COUNTS</th>\n",
       "      <th>MAX_OUTTIME</th>\n",
       "      <th>TRANSFERBACK</th>\n",
       "      <th>DIEINWARD</th>\n",
       "      <th>NEXT_INTIME</th>\n",
       "      <th>DIFF</th>\n",
       "      <th>LESS_THAN_30DAYS</th>\n",
       "      <th>DISCHARGE_DIE</th>\n",
       "      <th>DIE_LESS_THAN_30DAYS</th>\n",
       "      <th>READMISSION</th>\n",
       "      <th>AGE</th>\n",
       "      <th>PROCEDURES</th>\n",
       "      <th>DRUG</th>\n",
       "      <th>DIAGS</th>\n",
       "      <th>PREV_DIAGS</th>\n",
       "      <th>DAYS_SINCE_LAST_ADMIS</th>\n",
       "      <th>NUM_PREV_ADMIS</th>\n",
       "      <th>NUM_PREV_PROCS</th>\n",
       "      <th>PROCEDURES_STR</th>\n",
       "      <th>DIAGS_STR</th>\n",
       "      <th>PREV_DIAGS_STR</th>\n",
       "      <th>DRUG_STR</th>\n",
       "      <th>SUBJECT_LABLE</th>\n",
       "    </tr>\n",
       "  </thead>\n",
       "  <tbody>\n",
       "    <tr>\n",
       "      <th>0</th>\n",
       "      <td>15813164</td>\n",
       "      <td>26595460</td>\n",
       "      <td>33211639</td>\n",
       "      <td>Medical Intensive Care Unit (MICU)</td>\n",
       "      <td>Medical Intensive Care Unit (MICU)</td>\n",
       "      <td>2167-08-10 09:15:51</td>\n",
       "      <td>2167-08-11 16:30:39</td>\n",
       "      <td>1.301944</td>\n",
       "      <td>2167-08-09 22:35:00</td>\n",
       "      <td>2167-08-13 18:29:00</td>\n",
       "      <td>NaN</td>\n",
       "      <td>EW EMER.</td>\n",
       "      <td>EMERGENCY ROOM</td>\n",
       "      <td>HOME</td>\n",
       "      <td>Medicare</td>\n",
       "      <td>MARRIED</td>\n",
       "      <td>BLACK/AFRICAN AMERICAN</td>\n",
       "      <td>2163-01-01</td>\n",
       "      <td>NaN</td>\n",
       "      <td>M</td>\n",
       "      <td>0</td>\n",
       "      <td>0</td>\n",
       "      <td>0</td>\n",
       "      <td>2</td>\n",
       "      <td>0</td>\n",
       "      <td>1</td>\n",
       "      <td>0</td>\n",
       "      <td>2167-08-12 05:21:35</td>\n",
       "      <td>0 days 12:50:56</td>\n",
       "      <td>1</td>\n",
       "      <td>NaN</td>\n",
       "      <td>0</td>\n",
       "      <td>1</td>\n",
       "      <td>4</td>\n",
       "      <td>NaN</td>\n",
       "      <td>['SW', 'Sodium Chloride 0.9%  Flush', 'Lactate...</td>\n",
       "      <td>['9_03842', '9_486', '9_4168', '9_42731', '9_5...</td>\n",
       "      <td>['9_4241', '9_5849', '9_25000', '9_4019', '9_2...</td>\n",
       "      <td>81.274306</td>\n",
       "      <td>2.0</td>\n",
       "      <td>5.0</td>\n",
       "      <td>Unknown</td>\n",
       "      <td>Septicemia due to escherichia coli [E. coli] P...</td>\n",
       "      <td>Aortic valve disorders Acute kidney failure, u...</td>\n",
       "      <td>SW, Sodium Chloride 0.9%  Flush, Lactated Ring...</td>\n",
       "      <td>train</td>\n",
       "    </tr>\n",
       "    <tr>\n",
       "      <th>1</th>\n",
       "      <td>13351655</td>\n",
       "      <td>24978460</td>\n",
       "      <td>31230214</td>\n",
       "      <td>Surgical Intensive Care Unit (SICU)</td>\n",
       "      <td>Surgical Intensive Care Unit (SICU)</td>\n",
       "      <td>2118-12-09 23:54:05</td>\n",
       "      <td>2118-12-27 04:51:38</td>\n",
       "      <td>17.206632</td>\n",
       "      <td>2118-12-06 16:05:00</td>\n",
       "      <td>2118-12-27 23:47:00</td>\n",
       "      <td>2118-12-27 23:47:00</td>\n",
       "      <td>URGENT</td>\n",
       "      <td>TRANSFER FROM HOSPITAL</td>\n",
       "      <td>DIED</td>\n",
       "      <td>Medicare</td>\n",
       "      <td>MARRIED</td>\n",
       "      <td>UNABLE TO OBTAIN</td>\n",
       "      <td>2118-01-01</td>\n",
       "      <td>2118-12-27</td>\n",
       "      <td>M</td>\n",
       "      <td>1</td>\n",
       "      <td>1</td>\n",
       "      <td>0</td>\n",
       "      <td>2</td>\n",
       "      <td>1</td>\n",
       "      <td>0</td>\n",
       "      <td>1</td>\n",
       "      <td>NaN</td>\n",
       "      <td>NaN</td>\n",
       "      <td>0</td>\n",
       "      <td>-1 days +00:13:00</td>\n",
       "      <td>0</td>\n",
       "      <td>1</td>\n",
       "      <td>90</td>\n",
       "      <td>['9_8105', '9_0309', '9_7749', '9_8163', '9_84...</td>\n",
       "      <td>['LR', 'Carbidopa-Levodopa (25-100)', 'Acetami...</td>\n",
       "      <td>['9_8064', '9_5070', '9_51881', '9_261', '9_70...</td>\n",
       "      <td>{}</td>\n",
       "      <td>0.000000</td>\n",
       "      <td>0.0</td>\n",
       "      <td>0.0</td>\n",
       "      <td>Dorsal and dorsolumbar fusion of the posterior...</td>\n",
       "      <td>Closed fracture of lumbar spine with spinal co...</td>\n",
       "      <td>Unknown</td>\n",
       "      <td>LR, Carbidopa-Levodopa (25-100), Acetaminophen...</td>\n",
       "      <td>train</td>\n",
       "    </tr>\n",
       "    <tr>\n",
       "      <th>2</th>\n",
       "      <td>12552702</td>\n",
       "      <td>29995331</td>\n",
       "      <td>32982553</td>\n",
       "      <td>Medical/Surgical Intensive Care Unit (MICU/SICU)</td>\n",
       "      <td>Medical/Surgical Intensive Care Unit (MICU/SICU)</td>\n",
       "      <td>2153-02-01 18:38:25</td>\n",
       "      <td>2153-02-02 14:45:01</td>\n",
       "      <td>0.837917</td>\n",
       "      <td>2153-01-18 19:05:00</td>\n",
       "      <td>2153-02-28 17:21:00</td>\n",
       "      <td>NaN</td>\n",
       "      <td>URGENT</td>\n",
       "      <td>TRANSFER FROM HOSPITAL</td>\n",
       "      <td>HOSPICE</td>\n",
       "      <td>Medicaid</td>\n",
       "      <td>SINGLE</td>\n",
       "      <td>UNABLE TO OBTAIN</td>\n",
       "      <td>2153-01-01</td>\n",
       "      <td>NaN</td>\n",
       "      <td>M</td>\n",
       "      <td>0</td>\n",
       "      <td>0</td>\n",
       "      <td>0</td>\n",
       "      <td>2</td>\n",
       "      <td>0</td>\n",
       "      <td>1</td>\n",
       "      <td>0</td>\n",
       "      <td>2153-02-26 09:44:05</td>\n",
       "      <td>23 days 18:59:04</td>\n",
       "      <td>1</td>\n",
       "      <td>NaN</td>\n",
       "      <td>0</td>\n",
       "      <td>1</td>\n",
       "      <td>90</td>\n",
       "      <td>['9_5411', '9_5423', '9_3404', '9_3893', '9_99...</td>\n",
       "      <td>['Senna', 'Docusate Sodium', '0.9% Sodium Chlo...</td>\n",
       "      <td>['9_1976', '9_41519', '9_486', '9_51881', '9_7...</td>\n",
       "      <td>{}</td>\n",
       "      <td>0.000000</td>\n",
       "      <td>0.0</td>\n",
       "      <td>0.0</td>\n",
       "      <td>Exploratory laparotomy Biopsy of peritoneum In...</td>\n",
       "      <td>Secondary malignant neoplasm of retroperitoneu...</td>\n",
       "      <td>Unknown</td>\n",
       "      <td>Senna, Docusate Sodium, 0.9% Sodium Chloride, ...</td>\n",
       "      <td>train</td>\n",
       "    </tr>\n",
       "    <tr>\n",
       "      <th>3</th>\n",
       "      <td>18767972</td>\n",
       "      <td>23337651</td>\n",
       "      <td>35458430</td>\n",
       "      <td>Medical Intensive Care Unit (MICU)</td>\n",
       "      <td>Medical Intensive Care Unit (MICU)</td>\n",
       "      <td>2151-09-15 17:48:00</td>\n",
       "      <td>2151-09-17 12:37:54</td>\n",
       "      <td>1.784653</td>\n",
       "      <td>2151-09-15 16:44:00</td>\n",
       "      <td>2151-09-21 20:15:00</td>\n",
       "      <td>NaN</td>\n",
       "      <td>EW EMER.</td>\n",
       "      <td>EMERGENCY ROOM</td>\n",
       "      <td>HOME HEALTH CARE</td>\n",
       "      <td>Medicare</td>\n",
       "      <td>WIDOWED</td>\n",
       "      <td>WHITE</td>\n",
       "      <td>2151-01-01</td>\n",
       "      <td>NaN</td>\n",
       "      <td>M</td>\n",
       "      <td>0</td>\n",
       "      <td>0</td>\n",
       "      <td>0</td>\n",
       "      <td>1</td>\n",
       "      <td>1</td>\n",
       "      <td>0</td>\n",
       "      <td>0</td>\n",
       "      <td>2151-10-01 14:36:00</td>\n",
       "      <td>14 days 01:58:06</td>\n",
       "      <td>1</td>\n",
       "      <td>NaN</td>\n",
       "      <td>0</td>\n",
       "      <td>1</td>\n",
       "      <td>90</td>\n",
       "      <td>NaN</td>\n",
       "      <td>['Atorvastatin', 'Aspirin', 'Finasteride', 'Am...</td>\n",
       "      <td>['9_486', '9_42833', '9_1625', '9_49121', '9_4...</td>\n",
       "      <td>['9_42833', '9_496', '9_4280', '9_79902', '9_6...</td>\n",
       "      <td>199.183333</td>\n",
       "      <td>3.0</td>\n",
       "      <td>2.0</td>\n",
       "      <td>Unknown</td>\n",
       "      <td>Pneumonia, organism unspecified Acute on chron...</td>\n",
       "      <td>Acute on chronic diastolic heart failure Chron...</td>\n",
       "      <td>Atorvastatin, Aspirin, Finasteride, Amiodarone...</td>\n",
       "      <td>train</td>\n",
       "    </tr>\n",
       "    <tr>\n",
       "      <th>4</th>\n",
       "      <td>16750367</td>\n",
       "      <td>20007871</td>\n",
       "      <td>32764008</td>\n",
       "      <td>Coronary Care Unit (CCU)</td>\n",
       "      <td>Coronary Care Unit (CCU)</td>\n",
       "      <td>2155-09-21 17:06:50</td>\n",
       "      <td>2155-09-22 13:43:47</td>\n",
       "      <td>0.858993</td>\n",
       "      <td>2155-09-21 17:06:00</td>\n",
       "      <td>2155-10-01 14:45:00</td>\n",
       "      <td>NaN</td>\n",
       "      <td>DIRECT EMER.</td>\n",
       "      <td>PHYSICIAN REFERRAL</td>\n",
       "      <td>HOME</td>\n",
       "      <td>Medicare</td>\n",
       "      <td>MARRIED</td>\n",
       "      <td>WHITE</td>\n",
       "      <td>2155-01-01</td>\n",
       "      <td>NaN</td>\n",
       "      <td>M</td>\n",
       "      <td>0</td>\n",
       "      <td>0</td>\n",
       "      <td>0</td>\n",
       "      <td>2</td>\n",
       "      <td>0</td>\n",
       "      <td>1</td>\n",
       "      <td>0</td>\n",
       "      <td>2155-09-24 22:33:42</td>\n",
       "      <td>2 days 08:49:55</td>\n",
       "      <td>1</td>\n",
       "      <td>NaN</td>\n",
       "      <td>0</td>\n",
       "      <td>1</td>\n",
       "      <td>90</td>\n",
       "      <td>['9_0066', '9_3761', '9_0066', '9_3607', '9_37...</td>\n",
       "      <td>['D5W', '0.45% Sodium Chloride', 'Atropine Sul...</td>\n",
       "      <td>['9_41071', '9_78551', '9_4271', '9_5849', '9_...</td>\n",
       "      <td>{}</td>\n",
       "      <td>0.000000</td>\n",
       "      <td>0.0</td>\n",
       "      <td>0.0</td>\n",
       "      <td>Amebic skin ulceration Implant of pulsation ba...</td>\n",
       "      <td>Subendocardial infarction, initial episode of ...</td>\n",
       "      <td>Unknown</td>\n",
       "      <td>D5W, 0.45% Sodium Chloride, Atropine Sulfate, ...</td>\n",
       "      <td>train</td>\n",
       "    </tr>\n",
       "    <tr>\n",
       "      <th>...</th>\n",
       "      <td>...</td>\n",
       "      <td>...</td>\n",
       "      <td>...</td>\n",
       "      <td>...</td>\n",
       "      <td>...</td>\n",
       "      <td>...</td>\n",
       "      <td>...</td>\n",
       "      <td>...</td>\n",
       "      <td>...</td>\n",
       "      <td>...</td>\n",
       "      <td>...</td>\n",
       "      <td>...</td>\n",
       "      <td>...</td>\n",
       "      <td>...</td>\n",
       "      <td>...</td>\n",
       "      <td>...</td>\n",
       "      <td>...</td>\n",
       "      <td>...</td>\n",
       "      <td>...</td>\n",
       "      <td>...</td>\n",
       "      <td>...</td>\n",
       "      <td>...</td>\n",
       "      <td>...</td>\n",
       "      <td>...</td>\n",
       "      <td>...</td>\n",
       "      <td>...</td>\n",
       "      <td>...</td>\n",
       "      <td>...</td>\n",
       "      <td>...</td>\n",
       "      <td>...</td>\n",
       "      <td>...</td>\n",
       "      <td>...</td>\n",
       "      <td>...</td>\n",
       "      <td>...</td>\n",
       "      <td>...</td>\n",
       "      <td>...</td>\n",
       "      <td>...</td>\n",
       "      <td>...</td>\n",
       "      <td>...</td>\n",
       "      <td>...</td>\n",
       "      <td>...</td>\n",
       "      <td>...</td>\n",
       "      <td>...</td>\n",
       "      <td>...</td>\n",
       "      <td>...</td>\n",
       "      <td>...</td>\n",
       "    </tr>\n",
       "    <tr>\n",
       "      <th>79351</th>\n",
       "      <td>19815165</td>\n",
       "      <td>23465980</td>\n",
       "      <td>31378173</td>\n",
       "      <td>Cardiac Vascular Intensive Care Unit (CVICU)</td>\n",
       "      <td>Cardiac Vascular Intensive Care Unit (CVICU)</td>\n",
       "      <td>2210-04-12 10:50:27</td>\n",
       "      <td>2210-04-19 11:53:49</td>\n",
       "      <td>7.044005</td>\n",
       "      <td>2210-04-12 00:00:00</td>\n",
       "      <td>2210-05-25 17:31:00</td>\n",
       "      <td>NaN</td>\n",
       "      <td>SURGICAL SAME DAY ADMISSION</td>\n",
       "      <td>PHYSICIAN REFERRAL</td>\n",
       "      <td>SKILLED NURSING FACILITY</td>\n",
       "      <td>Other</td>\n",
       "      <td>WIDOWED</td>\n",
       "      <td>HISPANIC/LATINO</td>\n",
       "      <td>2202-01-01</td>\n",
       "      <td>NaN</td>\n",
       "      <td>F</td>\n",
       "      <td>0</td>\n",
       "      <td>0</td>\n",
       "      <td>0</td>\n",
       "      <td>1</td>\n",
       "      <td>1</td>\n",
       "      <td>0</td>\n",
       "      <td>0</td>\n",
       "      <td>NaN</td>\n",
       "      <td>NaN</td>\n",
       "      <td>0</td>\n",
       "      <td>NaN</td>\n",
       "      <td>0</td>\n",
       "      <td>0</td>\n",
       "      <td>8</td>\n",
       "      <td>['10_02100Z9', '10_02RF08Z', '10_021109W', '10...</td>\n",
       "      <td>['Iso-Osmotic Dextrose', 'Sodium Chloride 0.9%...</td>\n",
       "      <td>['10_I083', '10_J156', '10_K2971', '10_D62', '...</td>\n",
       "      <td>['10_R079', '10_I10', '10_M79602', '10_R110', ...</td>\n",
       "      <td>1100.344444</td>\n",
       "      <td>4.0</td>\n",
       "      <td>1.0</td>\n",
       "      <td>Bypass Coronary Artery, One Artery from Left I...</td>\n",
       "      <td>Combined rheumatic disorders of mitral, aortic...</td>\n",
       "      <td>Chest pain, unspecified Essential (primary) hy...</td>\n",
       "      <td>Iso-Osmotic Dextrose, Sodium Chloride 0.9%  Fl...</td>\n",
       "      <td>train</td>\n",
       "    </tr>\n",
       "    <tr>\n",
       "      <th>79352</th>\n",
       "      <td>19437861</td>\n",
       "      <td>23539755</td>\n",
       "      <td>39051902</td>\n",
       "      <td>Coronary Care Unit (CCU)</td>\n",
       "      <td>Coronary Care Unit (CCU)</td>\n",
       "      <td>2210-06-27 14:39:30</td>\n",
       "      <td>2210-06-29 22:23:43</td>\n",
       "      <td>2.322373</td>\n",
       "      <td>2210-06-26 16:00:00</td>\n",
       "      <td>2210-06-30 17:30:00</td>\n",
       "      <td>NaN</td>\n",
       "      <td>OBSERVATION ADMIT</td>\n",
       "      <td>PHYSICIAN REFERRAL</td>\n",
       "      <td>HOME</td>\n",
       "      <td>Medicare</td>\n",
       "      <td>MARRIED</td>\n",
       "      <td>WHITE</td>\n",
       "      <td>2203-01-01</td>\n",
       "      <td>NaN</td>\n",
       "      <td>F</td>\n",
       "      <td>0</td>\n",
       "      <td>0</td>\n",
       "      <td>0</td>\n",
       "      <td>1</td>\n",
       "      <td>1</td>\n",
       "      <td>0</td>\n",
       "      <td>0</td>\n",
       "      <td>NaN</td>\n",
       "      <td>NaN</td>\n",
       "      <td>0</td>\n",
       "      <td>NaN</td>\n",
       "      <td>0</td>\n",
       "      <td>0</td>\n",
       "      <td>7</td>\n",
       "      <td>['10_0W9D30Z']</td>\n",
       "      <td>['Sodium Chloride 0.9%  Flush', 'Heparin', 'Si...</td>\n",
       "      <td>['10_I313', '10_T801XXA', '10_I808', '10_E785'...</td>\n",
       "      <td>['9_78650', '9_2720']</td>\n",
       "      <td>2329.228472</td>\n",
       "      <td>1.0</td>\n",
       "      <td>0.0</td>\n",
       "      <td>Drainage of Pericardial Cavity with Drainage D...</td>\n",
       "      <td>Pericardial effusion (noninflammatory) Vascula...</td>\n",
       "      <td>Chest pain, unspecified Pure hypercholesterolemia</td>\n",
       "      <td>Sodium Chloride 0.9%  Flush, Heparin, Simvasta...</td>\n",
       "      <td>train</td>\n",
       "    </tr>\n",
       "    <tr>\n",
       "      <th>79353</th>\n",
       "      <td>18451791</td>\n",
       "      <td>28897092</td>\n",
       "      <td>32688519</td>\n",
       "      <td>Medical/Surgical Intensive Care Unit (MICU/SICU)</td>\n",
       "      <td>Medical/Surgical Intensive Care Unit (MICU/SICU)</td>\n",
       "      <td>2211-01-05 10:59:50</td>\n",
       "      <td>2211-01-06 17:00:09</td>\n",
       "      <td>1.250220</td>\n",
       "      <td>2211-01-05 10:58:00</td>\n",
       "      <td>2211-01-07 16:30:00</td>\n",
       "      <td>NaN</td>\n",
       "      <td>DIRECT EMER.</td>\n",
       "      <td>PHYSICIAN REFERRAL</td>\n",
       "      <td>HOME</td>\n",
       "      <td>Other</td>\n",
       "      <td>MARRIED</td>\n",
       "      <td>OTHER</td>\n",
       "      <td>2206-01-01</td>\n",
       "      <td>NaN</td>\n",
       "      <td>M</td>\n",
       "      <td>0</td>\n",
       "      <td>0</td>\n",
       "      <td>0</td>\n",
       "      <td>1</td>\n",
       "      <td>1</td>\n",
       "      <td>0</td>\n",
       "      <td>0</td>\n",
       "      <td>NaN</td>\n",
       "      <td>NaN</td>\n",
       "      <td>0</td>\n",
       "      <td>NaN</td>\n",
       "      <td>0</td>\n",
       "      <td>0</td>\n",
       "      <td>5</td>\n",
       "      <td>['10_0W3P8ZZ', '10_0DB68ZZ', '10_0DJD8ZZ', '10...</td>\n",
       "      <td>['Lactated Ringers', 'Ondansetron', 'Sodium Ch...</td>\n",
       "      <td>['10_K9161', '10_I5022', '10_D62', '10_I429', ...</td>\n",
       "      <td>['9_2111', '9_2851', '9_7921', '9_4019', '9_27...</td>\n",
       "      <td>1537.766667</td>\n",
       "      <td>1.0</td>\n",
       "      <td>1.0</td>\n",
       "      <td>Control Bleeding in Gastrointestinal Tract, Vi...</td>\n",
       "      <td>Intraoperative hemorrhage and hematoma of a di...</td>\n",
       "      <td>Benign neoplasm of stomach Acute posthemorrhag...</td>\n",
       "      <td>Lactated Ringers, Ondansetron, Sodium Chloride...</td>\n",
       "      <td>train</td>\n",
       "    </tr>\n",
       "    <tr>\n",
       "      <th>79354</th>\n",
       "      <td>14239401</td>\n",
       "      <td>21199923</td>\n",
       "      <td>35906940</td>\n",
       "      <td>Medical Intensive Care Unit (MICU)</td>\n",
       "      <td>Medical Intensive Care Unit (MICU)</td>\n",
       "      <td>2211-05-01 06:59:19</td>\n",
       "      <td>2211-05-10 22:51:06</td>\n",
       "      <td>9.660961</td>\n",
       "      <td>2211-05-01 06:57:00</td>\n",
       "      <td>2211-05-12 17:54:00</td>\n",
       "      <td>NaN</td>\n",
       "      <td>EW EMER.</td>\n",
       "      <td>PHYSICIAN REFERRAL</td>\n",
       "      <td>CHRONIC/LONG TERM ACUTE CARE</td>\n",
       "      <td>Medicare</td>\n",
       "      <td>WIDOWED</td>\n",
       "      <td>BLACK/AFRICAN AMERICAN</td>\n",
       "      <td>2200-01-01</td>\n",
       "      <td>NaN</td>\n",
       "      <td>F</td>\n",
       "      <td>0</td>\n",
       "      <td>0</td>\n",
       "      <td>0</td>\n",
       "      <td>1</td>\n",
       "      <td>1</td>\n",
       "      <td>0</td>\n",
       "      <td>0</td>\n",
       "      <td>NaN</td>\n",
       "      <td>NaN</td>\n",
       "      <td>0</td>\n",
       "      <td>NaN</td>\n",
       "      <td>0</td>\n",
       "      <td>0</td>\n",
       "      <td>11</td>\n",
       "      <td>['10_5A1955Z', '10_0BH17EZ', '10_3E0G76Z']</td>\n",
       "      <td>['Senna', 'Senna', 'Senna', 'Heparin', 'Famoti...</td>\n",
       "      <td>['10_A419', '10_R6521', '10_J80', '10_J810', '...</td>\n",
       "      <td>['9_43491', '9_5569', '9_72989', '9_7820', '9_...</td>\n",
       "      <td>2550.539583</td>\n",
       "      <td>4.0</td>\n",
       "      <td>0.0</td>\n",
       "      <td>Respiratory Ventilation, Greater than 96 Conse...</td>\n",
       "      <td>Sepsis, unspecified organism Severe sepsis wit...</td>\n",
       "      <td>Cerebral artery occlusion, unspecified with ce...</td>\n",
       "      <td>Senna, Senna, Senna, Heparin, Famotidine, Iso-...</td>\n",
       "      <td>train</td>\n",
       "    </tr>\n",
       "    <tr>\n",
       "      <th>79355</th>\n",
       "      <td>16703369</td>\n",
       "      <td>27928947</td>\n",
       "      <td>36321770</td>\n",
       "      <td>Neuro Intermediate</td>\n",
       "      <td>Neuro Intermediate</td>\n",
       "      <td>2211-11-09 03:33:00</td>\n",
       "      <td>2211-11-11 18:34:18</td>\n",
       "      <td>2.625903</td>\n",
       "      <td>2211-11-09 02:26:00</td>\n",
       "      <td>2211-11-11 18:15:00</td>\n",
       "      <td>NaN</td>\n",
       "      <td>OBSERVATION ADMIT</td>\n",
       "      <td>TRANSFER FROM HOSPITAL</td>\n",
       "      <td>SKILLED NURSING FACILITY</td>\n",
       "      <td>Medicare</td>\n",
       "      <td>MARRIED</td>\n",
       "      <td>WHITE</td>\n",
       "      <td>2201-01-01</td>\n",
       "      <td>NaN</td>\n",
       "      <td>F</td>\n",
       "      <td>0</td>\n",
       "      <td>0</td>\n",
       "      <td>0</td>\n",
       "      <td>1</td>\n",
       "      <td>1</td>\n",
       "      <td>0</td>\n",
       "      <td>0</td>\n",
       "      <td>NaN</td>\n",
       "      <td>NaN</td>\n",
       "      <td>0</td>\n",
       "      <td>NaN</td>\n",
       "      <td>0</td>\n",
       "      <td>0</td>\n",
       "      <td>10</td>\n",
       "      <td>NaN</td>\n",
       "      <td>['Influenza Vaccine Quadrivalent', 'Sodium Chl...</td>\n",
       "      <td>['10_G40209', '10_I5032', '10_I2510', '10_Z986...</td>\n",
       "      <td>['9_2800', '9_34831', '9_49322', '9_7211', '9_...</td>\n",
       "      <td>440.309722</td>\n",
       "      <td>23.0</td>\n",
       "      <td>12.0</td>\n",
       "      <td>Unknown</td>\n",
       "      <td>Localization-related (focal) (partial) symptom...</td>\n",
       "      <td>Iron deficiency anemia secondary to blood loss...</td>\n",
       "      <td>Influenza Vaccine Quadrivalent, Sodium Chlorid...</td>\n",
       "      <td>train</td>\n",
       "    </tr>\n",
       "  </tbody>\n",
       "</table>\n",
       "<p>79356 rows × 46 columns</p>\n",
       "</div>"
      ],
      "text/plain": [
       "       SUBJECT_ID   HADM_ID  ICUSTAY_ID  \\\n",
       "0        15813164  26595460    33211639   \n",
       "1        13351655  24978460    31230214   \n",
       "2        12552702  29995331    32982553   \n",
       "3        18767972  23337651    35458430   \n",
       "4        16750367  20007871    32764008   \n",
       "...           ...       ...         ...   \n",
       "79351    19815165  23465980    31378173   \n",
       "79352    19437861  23539755    39051902   \n",
       "79353    18451791  28897092    32688519   \n",
       "79354    14239401  21199923    35906940   \n",
       "79355    16703369  27928947    36321770   \n",
       "\n",
       "                                         FIRST_CAREUNIT  \\\n",
       "0                    Medical Intensive Care Unit (MICU)   \n",
       "1                   Surgical Intensive Care Unit (SICU)   \n",
       "2      Medical/Surgical Intensive Care Unit (MICU/SICU)   \n",
       "3                    Medical Intensive Care Unit (MICU)   \n",
       "4                              Coronary Care Unit (CCU)   \n",
       "...                                                 ...   \n",
       "79351      Cardiac Vascular Intensive Care Unit (CVICU)   \n",
       "79352                          Coronary Care Unit (CCU)   \n",
       "79353  Medical/Surgical Intensive Care Unit (MICU/SICU)   \n",
       "79354                Medical Intensive Care Unit (MICU)   \n",
       "79355                                Neuro Intermediate   \n",
       "\n",
       "                                          LAST_CAREUNIT               INTIME  \\\n",
       "0                    Medical Intensive Care Unit (MICU)  2167-08-10 09:15:51   \n",
       "1                   Surgical Intensive Care Unit (SICU)  2118-12-09 23:54:05   \n",
       "2      Medical/Surgical Intensive Care Unit (MICU/SICU)  2153-02-01 18:38:25   \n",
       "3                    Medical Intensive Care Unit (MICU)  2151-09-15 17:48:00   \n",
       "4                              Coronary Care Unit (CCU)  2155-09-21 17:06:50   \n",
       "...                                                 ...                  ...   \n",
       "79351      Cardiac Vascular Intensive Care Unit (CVICU)  2210-04-12 10:50:27   \n",
       "79352                          Coronary Care Unit (CCU)  2210-06-27 14:39:30   \n",
       "79353  Medical/Surgical Intensive Care Unit (MICU/SICU)  2211-01-05 10:59:50   \n",
       "79354                Medical Intensive Care Unit (MICU)  2211-05-01 06:59:19   \n",
       "79355                                Neuro Intermediate  2211-11-09 03:33:00   \n",
       "\n",
       "                   OUTTIME        LOS            ADMITTIME  \\\n",
       "0      2167-08-11 16:30:39   1.301944  2167-08-09 22:35:00   \n",
       "1      2118-12-27 04:51:38  17.206632  2118-12-06 16:05:00   \n",
       "2      2153-02-02 14:45:01   0.837917  2153-01-18 19:05:00   \n",
       "3      2151-09-17 12:37:54   1.784653  2151-09-15 16:44:00   \n",
       "4      2155-09-22 13:43:47   0.858993  2155-09-21 17:06:00   \n",
       "...                    ...        ...                  ...   \n",
       "79351  2210-04-19 11:53:49   7.044005  2210-04-12 00:00:00   \n",
       "79352  2210-06-29 22:23:43   2.322373  2210-06-26 16:00:00   \n",
       "79353  2211-01-06 17:00:09   1.250220  2211-01-05 10:58:00   \n",
       "79354  2211-05-10 22:51:06   9.660961  2211-05-01 06:57:00   \n",
       "79355  2211-11-11 18:34:18   2.625903  2211-11-09 02:26:00   \n",
       "\n",
       "                 DISCHTIME            DEATHTIME               ADMISSION_TYPE  \\\n",
       "0      2167-08-13 18:29:00                  NaN                     EW EMER.   \n",
       "1      2118-12-27 23:47:00  2118-12-27 23:47:00                       URGENT   \n",
       "2      2153-02-28 17:21:00                  NaN                       URGENT   \n",
       "3      2151-09-21 20:15:00                  NaN                     EW EMER.   \n",
       "4      2155-10-01 14:45:00                  NaN                 DIRECT EMER.   \n",
       "...                    ...                  ...                          ...   \n",
       "79351  2210-05-25 17:31:00                  NaN  SURGICAL SAME DAY ADMISSION   \n",
       "79352  2210-06-30 17:30:00                  NaN            OBSERVATION ADMIT   \n",
       "79353  2211-01-07 16:30:00                  NaN                 DIRECT EMER.   \n",
       "79354  2211-05-12 17:54:00                  NaN                     EW EMER.   \n",
       "79355  2211-11-11 18:15:00                  NaN            OBSERVATION ADMIT   \n",
       "\n",
       "           ADMISSION_LOCATION            DISCHARGE_LOCATION INSURANCE  \\\n",
       "0              EMERGENCY ROOM                          HOME  Medicare   \n",
       "1      TRANSFER FROM HOSPITAL                          DIED  Medicare   \n",
       "2      TRANSFER FROM HOSPITAL                       HOSPICE  Medicaid   \n",
       "3              EMERGENCY ROOM              HOME HEALTH CARE  Medicare   \n",
       "4          PHYSICIAN REFERRAL                          HOME  Medicare   \n",
       "...                       ...                           ...       ...   \n",
       "79351      PHYSICIAN REFERRAL      SKILLED NURSING FACILITY     Other   \n",
       "79352      PHYSICIAN REFERRAL                          HOME  Medicare   \n",
       "79353      PHYSICIAN REFERRAL                          HOME     Other   \n",
       "79354      PHYSICIAN REFERRAL  CHRONIC/LONG TERM ACUTE CARE  Medicare   \n",
       "79355  TRANSFER FROM HOSPITAL      SKILLED NURSING FACILITY  Medicare   \n",
       "\n",
       "      MARITAL_STATUS               ETHNICITY         DOB         DOD GENDER  \\\n",
       "0            MARRIED  BLACK/AFRICAN AMERICAN  2163-01-01         NaN      M   \n",
       "1            MARRIED        UNABLE TO OBTAIN  2118-01-01  2118-12-27      M   \n",
       "2             SINGLE        UNABLE TO OBTAIN  2153-01-01         NaN      M   \n",
       "3            WIDOWED                   WHITE  2151-01-01         NaN      M   \n",
       "4            MARRIED                   WHITE  2155-01-01         NaN      M   \n",
       "...              ...                     ...         ...         ...    ...   \n",
       "79351        WIDOWED         HISPANIC/LATINO  2202-01-01         NaN      F   \n",
       "79352        MARRIED                   WHITE  2203-01-01         NaN      F   \n",
       "79353        MARRIED                   OTHER  2206-01-01         NaN      M   \n",
       "79354        WIDOWED  BLACK/AFRICAN AMERICAN  2200-01-01         NaN      F   \n",
       "79355        MARRIED                   WHITE  2201-01-01         NaN      F   \n",
       "\n",
       "       MORTALITY  MORTALITY_INHOSPITAL  MORTALITY_INUNIT  COUNTS  MAX_OUTTIME  \\\n",
       "0              0                     0                 0       2            0   \n",
       "1              1                     1                 0       2            1   \n",
       "2              0                     0                 0       2            0   \n",
       "3              0                     0                 0       1            1   \n",
       "4              0                     0                 0       2            0   \n",
       "...          ...                   ...               ...     ...          ...   \n",
       "79351          0                     0                 0       1            1   \n",
       "79352          0                     0                 0       1            1   \n",
       "79353          0                     0                 0       1            1   \n",
       "79354          0                     0                 0       1            1   \n",
       "79355          0                     0                 0       1            1   \n",
       "\n",
       "       TRANSFERBACK  DIEINWARD          NEXT_INTIME              DIFF  \\\n",
       "0                 1          0  2167-08-12 05:21:35   0 days 12:50:56   \n",
       "1                 0          1                  NaN               NaN   \n",
       "2                 1          0  2153-02-26 09:44:05  23 days 18:59:04   \n",
       "3                 0          0  2151-10-01 14:36:00  14 days 01:58:06   \n",
       "4                 1          0  2155-09-24 22:33:42   2 days 08:49:55   \n",
       "...             ...        ...                  ...               ...   \n",
       "79351             0          0                  NaN               NaN   \n",
       "79352             0          0                  NaN               NaN   \n",
       "79353             0          0                  NaN               NaN   \n",
       "79354             0          0                  NaN               NaN   \n",
       "79355             0          0                  NaN               NaN   \n",
       "\n",
       "       LESS_THAN_30DAYS      DISCHARGE_DIE  DIE_LESS_THAN_30DAYS  READMISSION  \\\n",
       "0                     1                NaN                     0            1   \n",
       "1                     0  -1 days +00:13:00                     0            1   \n",
       "2                     1                NaN                     0            1   \n",
       "3                     1                NaN                     0            1   \n",
       "4                     1                NaN                     0            1   \n",
       "...                 ...                ...                   ...          ...   \n",
       "79351                 0                NaN                     0            0   \n",
       "79352                 0                NaN                     0            0   \n",
       "79353                 0                NaN                     0            0   \n",
       "79354                 0                NaN                     0            0   \n",
       "79355                 0                NaN                     0            0   \n",
       "\n",
       "       AGE                                         PROCEDURES  \\\n",
       "0        4                                                NaN   \n",
       "1       90  ['9_8105', '9_0309', '9_7749', '9_8163', '9_84...   \n",
       "2       90  ['9_5411', '9_5423', '9_3404', '9_3893', '9_99...   \n",
       "3       90                                                NaN   \n",
       "4       90  ['9_0066', '9_3761', '9_0066', '9_3607', '9_37...   \n",
       "...    ...                                                ...   \n",
       "79351    8  ['10_02100Z9', '10_02RF08Z', '10_021109W', '10...   \n",
       "79352    7                                     ['10_0W9D30Z']   \n",
       "79353    5  ['10_0W3P8ZZ', '10_0DB68ZZ', '10_0DJD8ZZ', '10...   \n",
       "79354   11         ['10_5A1955Z', '10_0BH17EZ', '10_3E0G76Z']   \n",
       "79355   10                                                NaN   \n",
       "\n",
       "                                                    DRUG  \\\n",
       "0      ['SW', 'Sodium Chloride 0.9%  Flush', 'Lactate...   \n",
       "1      ['LR', 'Carbidopa-Levodopa (25-100)', 'Acetami...   \n",
       "2      ['Senna', 'Docusate Sodium', '0.9% Sodium Chlo...   \n",
       "3      ['Atorvastatin', 'Aspirin', 'Finasteride', 'Am...   \n",
       "4      ['D5W', '0.45% Sodium Chloride', 'Atropine Sul...   \n",
       "...                                                  ...   \n",
       "79351  ['Iso-Osmotic Dextrose', 'Sodium Chloride 0.9%...   \n",
       "79352  ['Sodium Chloride 0.9%  Flush', 'Heparin', 'Si...   \n",
       "79353  ['Lactated Ringers', 'Ondansetron', 'Sodium Ch...   \n",
       "79354  ['Senna', 'Senna', 'Senna', 'Heparin', 'Famoti...   \n",
       "79355  ['Influenza Vaccine Quadrivalent', 'Sodium Chl...   \n",
       "\n",
       "                                                   DIAGS  \\\n",
       "0      ['9_03842', '9_486', '9_4168', '9_42731', '9_5...   \n",
       "1      ['9_8064', '9_5070', '9_51881', '9_261', '9_70...   \n",
       "2      ['9_1976', '9_41519', '9_486', '9_51881', '9_7...   \n",
       "3      ['9_486', '9_42833', '9_1625', '9_49121', '9_4...   \n",
       "4      ['9_41071', '9_78551', '9_4271', '9_5849', '9_...   \n",
       "...                                                  ...   \n",
       "79351  ['10_I083', '10_J156', '10_K2971', '10_D62', '...   \n",
       "79352  ['10_I313', '10_T801XXA', '10_I808', '10_E785'...   \n",
       "79353  ['10_K9161', '10_I5022', '10_D62', '10_I429', ...   \n",
       "79354  ['10_A419', '10_R6521', '10_J80', '10_J810', '...   \n",
       "79355  ['10_G40209', '10_I5032', '10_I2510', '10_Z986...   \n",
       "\n",
       "                                              PREV_DIAGS  \\\n",
       "0      ['9_4241', '9_5849', '9_25000', '9_4019', '9_2...   \n",
       "1                                                     {}   \n",
       "2                                                     {}   \n",
       "3      ['9_42833', '9_496', '9_4280', '9_79902', '9_6...   \n",
       "4                                                     {}   \n",
       "...                                                  ...   \n",
       "79351  ['10_R079', '10_I10', '10_M79602', '10_R110', ...   \n",
       "79352                              ['9_78650', '9_2720']   \n",
       "79353  ['9_2111', '9_2851', '9_7921', '9_4019', '9_27...   \n",
       "79354  ['9_43491', '9_5569', '9_72989', '9_7820', '9_...   \n",
       "79355  ['9_2800', '9_34831', '9_49322', '9_7211', '9_...   \n",
       "\n",
       "       DAYS_SINCE_LAST_ADMIS  NUM_PREV_ADMIS  NUM_PREV_PROCS  \\\n",
       "0                  81.274306             2.0             5.0   \n",
       "1                   0.000000             0.0             0.0   \n",
       "2                   0.000000             0.0             0.0   \n",
       "3                 199.183333             3.0             2.0   \n",
       "4                   0.000000             0.0             0.0   \n",
       "...                      ...             ...             ...   \n",
       "79351            1100.344444             4.0             1.0   \n",
       "79352            2329.228472             1.0             0.0   \n",
       "79353            1537.766667             1.0             1.0   \n",
       "79354            2550.539583             4.0             0.0   \n",
       "79355             440.309722            23.0            12.0   \n",
       "\n",
       "                                          PROCEDURES_STR  \\\n",
       "0                                                Unknown   \n",
       "1      Dorsal and dorsolumbar fusion of the posterior...   \n",
       "2      Exploratory laparotomy Biopsy of peritoneum In...   \n",
       "3                                                Unknown   \n",
       "4      Amebic skin ulceration Implant of pulsation ba...   \n",
       "...                                                  ...   \n",
       "79351  Bypass Coronary Artery, One Artery from Left I...   \n",
       "79352  Drainage of Pericardial Cavity with Drainage D...   \n",
       "79353  Control Bleeding in Gastrointestinal Tract, Vi...   \n",
       "79354  Respiratory Ventilation, Greater than 96 Conse...   \n",
       "79355                                            Unknown   \n",
       "\n",
       "                                               DIAGS_STR  \\\n",
       "0      Septicemia due to escherichia coli [E. coli] P...   \n",
       "1      Closed fracture of lumbar spine with spinal co...   \n",
       "2      Secondary malignant neoplasm of retroperitoneu...   \n",
       "3      Pneumonia, organism unspecified Acute on chron...   \n",
       "4      Subendocardial infarction, initial episode of ...   \n",
       "...                                                  ...   \n",
       "79351  Combined rheumatic disorders of mitral, aortic...   \n",
       "79352  Pericardial effusion (noninflammatory) Vascula...   \n",
       "79353  Intraoperative hemorrhage and hematoma of a di...   \n",
       "79354  Sepsis, unspecified organism Severe sepsis wit...   \n",
       "79355  Localization-related (focal) (partial) symptom...   \n",
       "\n",
       "                                          PREV_DIAGS_STR  \\\n",
       "0      Aortic valve disorders Acute kidney failure, u...   \n",
       "1                                                Unknown   \n",
       "2                                                Unknown   \n",
       "3      Acute on chronic diastolic heart failure Chron...   \n",
       "4                                                Unknown   \n",
       "...                                                  ...   \n",
       "79351  Chest pain, unspecified Essential (primary) hy...   \n",
       "79352  Chest pain, unspecified Pure hypercholesterolemia   \n",
       "79353  Benign neoplasm of stomach Acute posthemorrhag...   \n",
       "79354  Cerebral artery occlusion, unspecified with ce...   \n",
       "79355  Iron deficiency anemia secondary to blood loss...   \n",
       "\n",
       "                                                DRUG_STR SUBJECT_LABLE  \n",
       "0      SW, Sodium Chloride 0.9%  Flush, Lactated Ring...         train  \n",
       "1      LR, Carbidopa-Levodopa (25-100), Acetaminophen...         train  \n",
       "2      Senna, Docusate Sodium, 0.9% Sodium Chloride, ...         train  \n",
       "3      Atorvastatin, Aspirin, Finasteride, Amiodarone...         train  \n",
       "4      D5W, 0.45% Sodium Chloride, Atropine Sulfate, ...         train  \n",
       "...                                                  ...           ...  \n",
       "79351  Iso-Osmotic Dextrose, Sodium Chloride 0.9%  Fl...         train  \n",
       "79352  Sodium Chloride 0.9%  Flush, Heparin, Simvasta...         train  \n",
       "79353  Lactated Ringers, Ondansetron, Sodium Chloride...         train  \n",
       "79354  Senna, Senna, Senna, Heparin, Famotidine, Iso-...         train  \n",
       "79355  Influenza Vaccine Quadrivalent, Sodium Chlorid...         train  \n",
       "\n",
       "[79356 rows x 46 columns]"
      ]
     },
     "metadata": {},
     "output_type": "display_data"
    }
   ],
   "source": [
    "# Old way\n",
    "# from sklearn.model_selection import train_test_split\n",
    "\n",
    "# X = train_df[select_features].copy()\n",
    "# # X = train_df[select_features].copy().loc[:10000]\n",
    "# # columns = X.columns\n",
    "# # X = pd.DataFrame(X, columns = columns)\n",
    "\n",
    "# y = train_df['READMISSION']\n",
    "# # y = train_df['READMISSION'].loc[:10000]\n",
    "\n",
    "\n",
    "\n",
    "\n",
    "# X_train, X_test, y_train, y_test = train_test_split(X, y, test_size=0.2,random_state = 42)\n",
    "\n",
    "train_df_split = train_df_split.loc[train_df_split['READMISSION'] != 2].copy()\n",
    "\n",
    "\n",
    "\n",
    "# New way\n",
    "df_train = train_df_split[train_df_split['SUBJECT_LABLE']=='train'].copy()\n",
    "from sklearn.utils import resample,shuffle\n",
    "\n",
    "#set the minority class to a seperate dataframe\n",
    "df_1 = df_train[df_train['READMISSION'] == 1]\n",
    "#set other classes to another dataframe\n",
    "other_df = df_train[df_train['READMISSION'] != 1]  \n",
    "print(df_1.shape)\n",
    "print(other_df.shape)\n",
    "\n",
    "#upsample the minority class\n",
    "df_1_upsampled = resample(df_1,random_state=42,n_samples=len(other_df),replace=True)\n",
    "print(df_1_upsampled.shape)\n",
    "# display(df_1_upsampled)\n",
    "# #concatenate the upsampled dataframe\n",
    "df_upsampled = pd.concat([df_1_upsampled,other_df])\n",
    "print(df_upsampled.shape)\n",
    "\n",
    "df_upsampled.reset_index(drop=True, inplace=True)\n",
    "\n",
    "df_train = df_upsampled.copy()\n",
    "display(df_train)\n",
    "\n",
    "df_test = train_df_split[train_df_split['SUBJECT_LABLE']=='test']\n",
    "\n",
    "\n",
    "\n",
    "X_train = df_train[select_features].copy()\n",
    "X_test = df_test[select_features].copy()\n",
    "y_train = df_train['READMISSION']\n",
    "y_test = df_test['READMISSION']\n",
    "\n",
    "\n",
    "from sklearn.utils import shuffle\n",
    "X_train, y_train, = shuffle(X_train, y_train, random_state=2022)\n",
    "\n"
   ]
  },
  {
   "cell_type": "code",
   "execution_count": 103,
   "id": "d8dd3f37",
   "metadata": {
    "pycharm": {
     "name": "#%%\n"
    }
   },
   "outputs": [
    {
     "name": "stdout",
     "output_type": "stream",
     "text": [
      "(79356, 18)\n"
     ]
    },
    {
     "data": {
      "text/html": [
       "<div>\n",
       "<style scoped>\n",
       "    .dataframe tbody tr th:only-of-type {\n",
       "        vertical-align: middle;\n",
       "    }\n",
       "\n",
       "    .dataframe tbody tr th {\n",
       "        vertical-align: top;\n",
       "    }\n",
       "\n",
       "    .dataframe thead th {\n",
       "        text-align: right;\n",
       "    }\n",
       "</style>\n",
       "<table border=\"1\" class=\"dataframe\">\n",
       "  <thead>\n",
       "    <tr style=\"text-align: right;\">\n",
       "      <th></th>\n",
       "      <th>SUBJECT_ID</th>\n",
       "      <th>HADM_ID</th>\n",
       "      <th>ICUSTAY_ID</th>\n",
       "      <th>FIRST_CAREUNIT</th>\n",
       "      <th>ADMISSION_TYPE</th>\n",
       "      <th>ADMISSION_LOCATION</th>\n",
       "      <th>INSURANCE</th>\n",
       "      <th>MARITAL_STATUS</th>\n",
       "      <th>ETHNICITY</th>\n",
       "      <th>GENDER</th>\n",
       "      <th>DAYS_SINCE_LAST_ADMIS</th>\n",
       "      <th>NUM_PREV_ADMIS</th>\n",
       "      <th>NUM_PREV_PROCS</th>\n",
       "      <th>AGE</th>\n",
       "      <th>PROCEDURES_STR</th>\n",
       "      <th>DRUG_STR</th>\n",
       "      <th>DIAGS_STR</th>\n",
       "      <th>PREV_DIAGS_STR</th>\n",
       "    </tr>\n",
       "  </thead>\n",
       "  <tbody>\n",
       "    <tr>\n",
       "      <th>29600</th>\n",
       "      <td>10480346</td>\n",
       "      <td>22174820</td>\n",
       "      <td>38482999</td>\n",
       "      <td>Trauma SICU (TSICU)</td>\n",
       "      <td>OBSERVATION ADMIT</td>\n",
       "      <td>PHYSICIAN REFERRAL</td>\n",
       "      <td>Medicare</td>\n",
       "      <td>SINGLE</td>\n",
       "      <td>BLACK/AFRICAN AMERICAN</td>\n",
       "      <td>F</td>\n",
       "      <td>57.161111</td>\n",
       "      <td>4.0</td>\n",
       "      <td>2.0</td>\n",
       "      <td>11</td>\n",
       "      <td>Insertion of Infusion Device into Superior Ven...</td>\n",
       "      <td>Sodium Chloride 0.9%  Flush, Acetaminophen, He...</td>\n",
       "      <td>Hypertensive emergency Dissection of thoracic ...</td>\n",
       "      <td>Dissection of thoracic aorta Acute kidney fail...</td>\n",
       "    </tr>\n",
       "    <tr>\n",
       "      <th>5400</th>\n",
       "      <td>18837664</td>\n",
       "      <td>21832249</td>\n",
       "      <td>36302596</td>\n",
       "      <td>Medical Intensive Care Unit (MICU)</td>\n",
       "      <td>OBSERVATION ADMIT</td>\n",
       "      <td>WALK-IN/SELF REFERRAL</td>\n",
       "      <td>Other</td>\n",
       "      <td>MARRIED</td>\n",
       "      <td>WHITE</td>\n",
       "      <td>M</td>\n",
       "      <td>3.895139</td>\n",
       "      <td>1.0</td>\n",
       "      <td>2.0</td>\n",
       "      <td>90</td>\n",
       "      <td>Transplantation of Liver, Allogeneic, Open App...</td>\n",
       "      <td>Bag, FoLIC Acid, CefTRIAXone, FoLIC Acid, Hydr...</td>\n",
       "      <td>Sepsis, unspecified organism Spontaneous bacte...</td>\n",
       "      <td>Alcoholic hepatitis with ascites Hemorrhage of...</td>\n",
       "    </tr>\n",
       "    <tr>\n",
       "      <th>37614</th>\n",
       "      <td>13224377</td>\n",
       "      <td>21807194</td>\n",
       "      <td>36384327</td>\n",
       "      <td>Medical/Surgical Intensive Care Unit (MICU/SICU)</td>\n",
       "      <td>URGENT</td>\n",
       "      <td>TRANSFER FROM HOSPITAL</td>\n",
       "      <td>Other</td>\n",
       "      <td>MARRIED</td>\n",
       "      <td>WHITE</td>\n",
       "      <td>F</td>\n",
       "      <td>9.144444</td>\n",
       "      <td>2.0</td>\n",
       "      <td>11.0</td>\n",
       "      <td>1</td>\n",
       "      <td>Cord blood stem cell transplant Depressive dis...</td>\n",
       "      <td>SW, 0.9% Sodium Chloride, Meropenem, Vancomyci...</td>\n",
       "      <td>Acute myeloid leukemia, in relapse Acute respi...</td>\n",
       "      <td>Encounter for antineoplastic chemotherapy Acut...</td>\n",
       "    </tr>\n",
       "    <tr>\n",
       "      <th>25382</th>\n",
       "      <td>10612217</td>\n",
       "      <td>28934475</td>\n",
       "      <td>37592135</td>\n",
       "      <td>Coronary Care Unit (CCU)</td>\n",
       "      <td>DIRECT EMER.</td>\n",
       "      <td>PHYSICIAN REFERRAL</td>\n",
       "      <td>Other</td>\n",
       "      <td>MARRIED</td>\n",
       "      <td>BLACK/AFRICAN AMERICAN</td>\n",
       "      <td>M</td>\n",
       "      <td>4.040972</td>\n",
       "      <td>2.0</td>\n",
       "      <td>0.0</td>\n",
       "      <td>90</td>\n",
       "      <td>Insertion of Monitoring Device into Right Pulm...</td>\n",
       "      <td>Bag, Sodium Chloride 0.9%  Flush, 5% Dextrose,...</td>\n",
       "      <td>Acute on chronic systolic (congestive) heart f...</td>\n",
       "      <td>Acute on chronic systolic (congestive) heart f...</td>\n",
       "    </tr>\n",
       "    <tr>\n",
       "      <th>11533</th>\n",
       "      <td>16445453</td>\n",
       "      <td>25764276</td>\n",
       "      <td>34840508</td>\n",
       "      <td>Coronary Care Unit (CCU)</td>\n",
       "      <td>URGENT</td>\n",
       "      <td>TRANSFER FROM HOSPITAL</td>\n",
       "      <td>Other</td>\n",
       "      <td>NaN</td>\n",
       "      <td>WHITE</td>\n",
       "      <td>M</td>\n",
       "      <td>0.000000</td>\n",
       "      <td>0.0</td>\n",
       "      <td>0.0</td>\n",
       "      <td>90</td>\n",
       "      <td>(Aorto)coronary bypass of three coronary arter...</td>\n",
       "      <td>Influenza Virus Vaccine, 0.9% Sodium Chloride,...</td>\n",
       "      <td>Coronary atherosclerosis of native coronary ar...</td>\n",
       "      <td>Unknown</td>\n",
       "    </tr>\n",
       "  </tbody>\n",
       "</table>\n",
       "</div>"
      ],
      "text/plain": [
       "       SUBJECT_ID   HADM_ID  ICUSTAY_ID  \\\n",
       "29600    10480346  22174820    38482999   \n",
       "5400     18837664  21832249    36302596   \n",
       "37614    13224377  21807194    36384327   \n",
       "25382    10612217  28934475    37592135   \n",
       "11533    16445453  25764276    34840508   \n",
       "\n",
       "                                         FIRST_CAREUNIT     ADMISSION_TYPE  \\\n",
       "29600                               Trauma SICU (TSICU)  OBSERVATION ADMIT   \n",
       "5400                 Medical Intensive Care Unit (MICU)  OBSERVATION ADMIT   \n",
       "37614  Medical/Surgical Intensive Care Unit (MICU/SICU)             URGENT   \n",
       "25382                          Coronary Care Unit (CCU)       DIRECT EMER.   \n",
       "11533                          Coronary Care Unit (CCU)             URGENT   \n",
       "\n",
       "           ADMISSION_LOCATION INSURANCE MARITAL_STATUS  \\\n",
       "29600      PHYSICIAN REFERRAL  Medicare         SINGLE   \n",
       "5400    WALK-IN/SELF REFERRAL     Other        MARRIED   \n",
       "37614  TRANSFER FROM HOSPITAL     Other        MARRIED   \n",
       "25382      PHYSICIAN REFERRAL     Other        MARRIED   \n",
       "11533  TRANSFER FROM HOSPITAL     Other            NaN   \n",
       "\n",
       "                    ETHNICITY GENDER  DAYS_SINCE_LAST_ADMIS  NUM_PREV_ADMIS  \\\n",
       "29600  BLACK/AFRICAN AMERICAN      F              57.161111             4.0   \n",
       "5400                    WHITE      M               3.895139             1.0   \n",
       "37614                   WHITE      F               9.144444             2.0   \n",
       "25382  BLACK/AFRICAN AMERICAN      M               4.040972             2.0   \n",
       "11533                   WHITE      M               0.000000             0.0   \n",
       "\n",
       "       NUM_PREV_PROCS  AGE                                     PROCEDURES_STR  \\\n",
       "29600             2.0   11  Insertion of Infusion Device into Superior Ven...   \n",
       "5400              2.0   90  Transplantation of Liver, Allogeneic, Open App...   \n",
       "37614            11.0    1  Cord blood stem cell transplant Depressive dis...   \n",
       "25382             0.0   90  Insertion of Monitoring Device into Right Pulm...   \n",
       "11533             0.0   90  (Aorto)coronary bypass of three coronary arter...   \n",
       "\n",
       "                                                DRUG_STR  \\\n",
       "29600  Sodium Chloride 0.9%  Flush, Acetaminophen, He...   \n",
       "5400   Bag, FoLIC Acid, CefTRIAXone, FoLIC Acid, Hydr...   \n",
       "37614  SW, 0.9% Sodium Chloride, Meropenem, Vancomyci...   \n",
       "25382  Bag, Sodium Chloride 0.9%  Flush, 5% Dextrose,...   \n",
       "11533  Influenza Virus Vaccine, 0.9% Sodium Chloride,...   \n",
       "\n",
       "                                               DIAGS_STR  \\\n",
       "29600  Hypertensive emergency Dissection of thoracic ...   \n",
       "5400   Sepsis, unspecified organism Spontaneous bacte...   \n",
       "37614  Acute myeloid leukemia, in relapse Acute respi...   \n",
       "25382  Acute on chronic systolic (congestive) heart f...   \n",
       "11533  Coronary atherosclerosis of native coronary ar...   \n",
       "\n",
       "                                          PREV_DIAGS_STR  \n",
       "29600  Dissection of thoracic aorta Acute kidney fail...  \n",
       "5400   Alcoholic hepatitis with ascites Hemorrhage of...  \n",
       "37614  Encounter for antineoplastic chemotherapy Acut...  \n",
       "25382  Acute on chronic systolic (congestive) heart f...  \n",
       "11533                                            Unknown  "
      ]
     },
     "execution_count": 103,
     "metadata": {},
     "output_type": "execute_result"
    }
   ],
   "source": [
    "print(X_train.shape)\n",
    "X_train.head()"
   ]
  },
  {
   "cell_type": "code",
   "execution_count": 104,
   "id": "2b32dce6",
   "metadata": {
    "pycharm": {
     "name": "#%%\n"
    }
   },
   "outputs": [
    {
     "name": "stdout",
     "output_type": "stream",
     "text": [
      "(79356,)\n"
     ]
    },
    {
     "data": {
      "text/plain": [
       "29600    1\n",
       "5400     1\n",
       "37614    1\n",
       "25382    1\n",
       "11533    1\n",
       "Name: READMISSION, dtype: int64"
      ]
     },
     "execution_count": 104,
     "metadata": {},
     "output_type": "execute_result"
    }
   ],
   "source": [
    "print(y_train.shape)\n",
    "y_train.head()"
   ]
  },
  {
   "cell_type": "code",
   "execution_count": 105,
   "id": "4735e144",
   "metadata": {
    "pycharm": {
     "name": "#%%\n"
    }
   },
   "outputs": [
    {
     "name": "stdout",
     "output_type": "stream",
     "text": [
      "(8928, 18)\n"
     ]
    }
   ],
   "source": [
    "print(X_test.shape)"
   ]
  },
  {
   "cell_type": "code",
   "execution_count": 106,
   "id": "da674e4a",
   "metadata": {
    "pycharm": {
     "name": "#%%\n"
    }
   },
   "outputs": [
    {
     "name": "stdout",
     "output_type": "stream",
     "text": [
      "42101\n",
      "7450\n"
     ]
    }
   ],
   "source": [
    "print(df_train['SUBJECT_ID'].nunique())\n",
    "print(df_test['SUBJECT_ID'].nunique())"
   ]
  },
  {
   "cell_type": "code",
   "execution_count": null,
   "id": "075e676a",
   "metadata": {
    "pycharm": {
     "name": "#%%\n"
    }
   },
   "outputs": [],
   "source": []
  },
  {
   "cell_type": "markdown",
   "id": "6c74c641",
   "metadata": {
    "pycharm": {
     "name": "#%% md\n"
    }
   },
   "source": [
    "## BERT encoding"
   ]
  },
  {
   "cell_type": "code",
   "execution_count": 107,
   "id": "791ee71c",
   "metadata": {
    "pycharm": {
     "name": "#%%\n"
    }
   },
   "outputs": [
    {
     "name": "stderr",
     "output_type": "stream",
     "text": [
      "Some weights of the model checkpoint at output_baseline/ were not used when initializing BertModel: ['cls.predictions.transform.dense.bias', 'cls.predictions.bias', 'cls.predictions.transform.LayerNorm.bias', 'cls.predictions.transform.LayerNorm.weight', 'cls.predictions.decoder.weight', 'cls.predictions.decoder.bias', 'cls.predictions.transform.dense.weight']\n",
      "- This IS expected if you are initializing BertModel from the checkpoint of a model trained on another task or with another architecture (e.g. initializing a BertForSequenceClassification model from a BertForPreTraining model).\n",
      "- This IS NOT expected if you are initializing BertModel from the checkpoint of a model that you expect to be exactly identical (initializing a BertForSequenceClassification model from a BertForSequenceClassification model).\n",
      "Some weights of BertModel were not initialized from the model checkpoint at output_baseline/ and are newly initialized: ['bert.pooler.dense.bias', 'bert.pooler.dense.weight']\n",
      "You should probably TRAIN this model on a down-stream task to be able to use it for predictions and inference.\n"
     ]
    },
    {
     "name": "stdout",
     "output_type": "stream",
     "text": [
      "[-0.12785237  0.00530074 -0.06266895  0.07889891 -0.31662908 -0.08760851\n",
      " -0.18434115  0.01014226  0.14845012 -0.14977817  0.15496582  0.24519129\n",
      " -0.26820576  0.08980682 -0.08735313 -0.17539911  0.15318489  0.00400189\n",
      " -0.0897873  -0.14712684]\n",
      "[-0.4967386   0.24343893 -0.19015811  0.3964933   0.2839586  -0.3834101\n",
      " -0.07431178 -0.09772383  0.5073503   0.04469828  0.14169402  0.4578415\n",
      " -0.04802513 -0.12572801 -0.49769905 -0.14856029 -0.9753151   0.1721714\n",
      " -0.89321107 -0.4056948 ]\n"
     ]
    }
   ],
   "source": [
    "import os\n",
    "# os.environ[\"CUDA_DEVICE_ORDER\"]=\"PCI_BUS_ID\"\n",
    "os.environ[\"CUDA_VISIBLE_DEVICES\"]=\"3\"\n",
    "# os.environ[\"TOKENIZERS_PARALLELISM\"] = \"false\"\n",
    "import numpy as np\n",
    "import torch\n",
    "from transformers import BertModel, BertTokenizer\n",
    "from transformers import AutoModelForMaskedLM, AutoTokenizer\n",
    "\n",
    "\n",
    "device = torch.device(\"cuda\")\n",
    "\n",
    "# Retrieve SciBERT.\n",
    "model_type = 'microsoft/BiomedNLP-PubMedBERT-base-uncased-abstract-fulltext'\n",
    "# model = AutoModelForMaskedLM.from_pretrained(model_type)\n",
    "tokenizer = AutoTokenizer.from_pretrained(model_type, use_fast=True)\n",
    "model = BertModel.from_pretrained(\"output_baseline/\", output_hidden_states=True)\n",
    "model.to(device)\n",
    "\n",
    "def get_word_indeces(tokenizer, text, word):\n",
    "    '''\n",
    "    Determines the index or indeces of the tokens corresponding to `word`\n",
    "    within `text`. `word` can consist of multiple words, e.g., \"cell biology\".\n",
    "    \n",
    "    Determining the indeces is tricky because words can be broken into multiple\n",
    "    tokens. I've solved this with a rather roundabout approach--I replace `word`\n",
    "    with the correct number of `[MASK]` tokens, and then find these in the \n",
    "    tokenized result. \n",
    "    '''\n",
    "    # Tokenize the 'word'--it may be broken into multiple tokens or subwords.\n",
    "    word_tokens = tokenizer.tokenize(word)\n",
    "\n",
    "    # Create a sequence of `[MASK]` tokens to put in place of `word`.\n",
    "    masks_str = ' '.join(['[MASK]']*len(word_tokens))\n",
    "\n",
    "    # Replace the word with mask tokens.\n",
    "    text_masked = text.replace(word, masks_str)\n",
    "\n",
    "    # `encode` performs multiple functions:\n",
    "    #   1. Tokenizes the text\n",
    "    #   2. Maps the tokens to their IDs\n",
    "    #   3. Adds the special [CLS] and [SEP] tokens.\n",
    "    input_ids = tokenizer.encode(text_masked)\n",
    "\n",
    "    # Use numpy's `where` function to find all indeces of the [MASK] token.\n",
    "    mask_token_indeces = np.where(np.array(input_ids) == tokenizer.mask_token_id)[0]\n",
    "\n",
    "    return mask_token_indeces\n",
    "\n",
    "\n",
    "def get_embedding(b_model, b_tokenizer, text, word=''):\n",
    "    '''\n",
    "    Uses the provided model and tokenizer to produce an embedding for the\n",
    "    provided `text`, and a \"contextualized\" embedding for `word`, if provided.\n",
    "    '''\n",
    "\n",
    "    # If a word is provided, figure out which tokens correspond to it.\n",
    "    if not word == '':\n",
    "        word_indeces = get_word_indeces(b_tokenizer, text, word)\n",
    "\n",
    "    # Encode the text, adding the (required!) special tokens, and converting to\n",
    "    # PyTorch tensors.\n",
    "    encoded_dict = b_tokenizer.encode_plus(\n",
    "                        text,                      # Sentence to encode.\n",
    "                        add_special_tokens = True, # Add '[CLS]' and '[SEP]'\n",
    "                        return_tensors = 'pt',     # Return pytorch tensors.\n",
    "                )\n",
    "\n",
    "    input_ids = encoded_dict['input_ids']\n",
    "    \n",
    "#     b_model.eval()\n",
    "\n",
    "    # Run the text through the model and get the hidden states.\n",
    "#     bert_outputs = b_model(input_ids)\n",
    "    \n",
    "    # Run the text through BERT, and collect all of the hidden states produced\n",
    "    # from all 12 layers. \n",
    "    with torch.no_grad():\n",
    "\n",
    "        outputs = b_model(input_ids.to(device))\n",
    "\n",
    "        # Evaluating the model will return a different number of objects based on \n",
    "        # how it's  configured in the `from_pretrained` call earlier. In this case, \n",
    "        # becase we set `output_hidden_states = True`, the third item will be the \n",
    "        # hidden states from all layers. See the documentation for more details:\n",
    "        # https://huggingface.co/transformers/model_doc/bert.html#bertmodel\n",
    "        hidden_states = outputs[2]\n",
    "\n",
    "    # `hidden_states` has shape [13 x 1 x <sentence length> x 768]\n",
    "\n",
    "    # Select the embeddings from the second to last layer.\n",
    "    # `token_vecs` is a tensor with shape [<sent length> x 768]\n",
    "    token_vecs = hidden_states[-2][0]\n",
    "    \n",
    "\n",
    "    # Calculate the average of all token vectors.\n",
    "#     sentence_embedding = torch.mean(token_vecs, dim=0)\n",
    "#         sentence_embedding = torch.sum(token_vecs, dim=0)\n",
    "    last_four_layers = [hidden_states[i] for i in (-1, -2, -3, -4)]\n",
    "    # cast layers to a tuple and concatenate over the last dimension\n",
    "    cat_hidden_states = torch.cat(tuple(last_four_layers), dim=-1)\n",
    "#     print(cat_hidden_states.size())\n",
    "\n",
    "    # take the mean of the concatenated vector over the token dimension\n",
    "    cat_sentence_embedding = torch.mean(cat_hidden_states, dim=1).squeeze()\n",
    "#     print(cat_sentence_embedding)\n",
    "#     print(cat_sentence_embedding.size())\n",
    "    sentence_embedding = cat_sentence_embedding\n",
    "\n",
    "    # Convert to numpy array.\n",
    "#     sentence_embedding = sentence_embedding.detach().numpy()\n",
    "    sentence_embedding = sentence_embedding.to(\"cpu\").numpy()\n",
    "\n",
    "    # If `word` was provided, compute an embedding for those tokens.\n",
    "    if not word == '':\n",
    "        # Take the average of the embeddings for the tokens in `word`.\n",
    "        word_embedding = torch.mean(token_vecs[word_indeces], dim=0)\n",
    "\n",
    "        # Convert to numpy array.\n",
    "        word_embedding = word_embedding.detach().numpy()\n",
    "        word_embedding = word_embedding.to(\"cpu\").numpy()\n",
    "    \n",
    "        return (sentence_embedding, word_embedding)\n",
    "    else:\n",
    "        return sentence_embedding\n",
    "    \n",
    "def get_embedding_sent(b_model, b_tokenizer, text):\n",
    "    '''\n",
    "    Uses the provided model and tokenizer to produce an embedding for the\n",
    "    provided `text`, and a \"contextualized\" embedding for `word`, if provided.\n",
    "    '''\n",
    "\n",
    "    # Encode the text, adding the (required!) special tokens, and converting to\n",
    "    # PyTorch tensors.\n",
    "    encoded_dict = b_tokenizer.encode_plus(\n",
    "                        text,                      # Sentence to encode.\n",
    "                        add_special_tokens = True, # Add '[CLS]' and '[SEP]'\n",
    "                        return_tensors = 'pt',     # Return pytorch tensors.\n",
    "                        max_length = 100,           # Pad & truncate all sentences.\n",
    "                        padding='max_length',\n",
    "                        truncation=True\n",
    "                )\n",
    "\n",
    "    input_ids = encoded_dict['input_ids']\n",
    "    \n",
    "#     b_model.eval()\n",
    "\n",
    "    # Run the text through the model and get the hidden states.\n",
    "#     bert_outputs = b_model(input_ids)\n",
    "    \n",
    "    # Run the text through BERT, and collect all of the hidden states produced\n",
    "    # from all 12 layers. \n",
    "    with torch.no_grad():\n",
    "\n",
    "        outputs = b_model(input_ids.to(device))\n",
    "\n",
    "        # Evaluating the model will return a different number of objects based on \n",
    "        # how it's  configured in the `from_pretrained` call earlier. In this case, \n",
    "        # becase we set `output_hidden_states = True`, the third item will be the \n",
    "        # hidden states from all layers. See the documentation for more details:\n",
    "        # https://huggingface.co/transformers/model_doc/bert.html#bertmodel\n",
    "        hidden_states = outputs[2]\n",
    "\n",
    "    # `hidden_states` has shape [13 x 1 x <sentence length> x 768]\n",
    "\n",
    "    # Select the embeddings from the second to last layer.\n",
    "    # `token_vecs` is a tensor with shape [<sent length> x 768]\n",
    "    token_vecs = hidden_states[-2][0]\n",
    "    \n",
    "\n",
    "    # Calculate the average of all token vectors.\n",
    "    sentence_embedding = torch.mean(token_vecs, dim=0)\n",
    "#     sentence_embedding = torch.sum(token_vecs, dim=0)\n",
    "    # ********************************************************************\n",
    "#     last_four_layers = [hidden_states[i] for i in (-1, -2, -3, -4)]\n",
    "    # cast layers to a tuple and concatenate over the last dimension\n",
    "#     cat_hidden_states = torch.cat(tuple(last_four_layers), dim=-1)\n",
    "# #     print(cat_hidden_states.size())\n",
    "\n",
    "#     # take the mean of the concatenated vector over the token dimension\n",
    "#     cat_sentence_embedding = torch.mean(cat_hidden_states, dim=1).squeeze()\n",
    "# #     print(cat_sentence_embedding)\n",
    "# #     print(cat_sentence_embedding.size())\n",
    "#     sentence_embedding = cat_sentence_embedding\n",
    "    # ***********************************************************************\n",
    "\n",
    "    # Convert to numpy array.\n",
    "    #     sentence_embedding = sentence_embedding.detach().numpy()\n",
    "    sentence_embedding = sentence_embedding.to(\"cpu\").numpy()\n",
    "\n",
    "    return sentence_embedding\n",
    "\n",
    "model.eval()\n",
    "\n",
    "text1 = 'Cholera due to vibrio cholerae'\n",
    "\n",
    "sen_emb1 = get_embedding(model, tokenizer, text1)\n",
    "print(sen_emb1[:20])\n",
    "\n",
    "sen_emb2 = get_embedding_sent(model, tokenizer, text1)\n",
    "print(sen_emb2[:20])\n"
   ]
  },
  {
   "cell_type": "code",
   "execution_count": 108,
   "id": "fbadf8b1",
   "metadata": {
    "pycharm": {
     "name": "#%%\n"
    }
   },
   "outputs": [
    {
     "data": {
      "text/plain": [
       "list"
      ]
     },
     "execution_count": 108,
     "metadata": {},
     "output_type": "execute_result"
    }
   ],
   "source": [
    "type(sen_emb2.tolist())"
   ]
  },
  {
   "cell_type": "code",
   "execution_count": 109,
   "id": "a3f658fd",
   "metadata": {
    "pycharm": {
     "name": "#%%\n"
    }
   },
   "outputs": [
    {
     "name": "stdout",
     "output_type": "stream",
     "text": [
      "[-0.47661766  0.25529084 -0.16025543  0.4677034   0.39057082]\n",
      "[-0.4967386   0.24343893 -0.19015811  0.3964933   0.2839586 ]\n",
      "[-0.47661766  0.25529084 -0.16025543  0.4677034   0.39057082]\n",
      "[-0.4967386   0.24343893 -0.19015811  0.3964933   0.2839586 ]\n",
      "[-0.47661766  0.25529084 -0.16025543  0.4677034   0.39057082]\n",
      "[-0.4967386   0.24343893 -0.19015811  0.3964933   0.2839586 ]\n",
      "[-0.47661766  0.25529084 -0.16025543  0.4677034   0.39057082]\n",
      "[-0.4967386   0.24343893 -0.19015811  0.3964933   0.2839586 ]\n",
      "[-0.47661766  0.25529084 -0.16025543  0.4677034   0.39057082]\n",
      "[-0.4967386   0.24343893 -0.19015811  0.3964933   0.2839586 ]\n",
      "[-0.47661766  0.25529084 -0.16025543  0.4677034   0.39057082]\n",
      "[-0.4967386   0.24343893 -0.19015811  0.3964933   0.2839586 ]\n",
      "[-0.47661766  0.25529084 -0.16025543  0.4677034   0.39057082]\n",
      "[-0.4967386   0.24343893 -0.19015811  0.3964933   0.2839586 ]\n",
      "[-0.47661766  0.25529084 -0.16025543  0.4677034   0.39057082]\n",
      "[-0.4967386   0.24343893 -0.19015811  0.3964933   0.2839586 ]\n",
      "[-0.47661766  0.25529084 -0.16025543  0.4677034   0.39057082]\n",
      "[-0.4967386   0.24343893 -0.19015811  0.3964933   0.2839586 ]\n",
      "[-0.47661766  0.25529084 -0.16025543  0.4677034   0.39057082]\n",
      "[-0.4967386   0.24343893 -0.19015811  0.3964933   0.2839586 ]\n"
     ]
    }
   ],
   "source": [
    "text1 = 'Type 2 diabetes'\n",
    "text2 = 'Cholera due to vibrio cholerae'\n",
    "text_list=[text1, text2]*10\n",
    "\n",
    "for text in text_list:\n",
    "    sen_emb = get_embedding_sent(model, tokenizer, text)\n",
    "    print(sen_emb[:5])"
   ]
  },
  {
   "cell_type": "code",
   "execution_count": 110,
   "id": "fbe82544",
   "metadata": {
    "pycharm": {
     "name": "#%%\n"
    }
   },
   "outputs": [],
   "source": [
    "from sklearn.impute import SimpleImputer\n",
    "from sklearn.preprocessing import StandardScaler, OneHotEncoder\n",
    "from sklearn.compose import ColumnTransformer\n",
    "from sklearn.pipeline import Pipeline\n",
    "from sklearn.compose import make_column_selector as selector\n",
    "from sklearn.feature_extraction.text import CountVectorizer, TfidfVectorizer\n",
    "from sklearn.preprocessing import OrdinalEncoder\n",
    "\n",
    "\n",
    "\n",
    "catTransformer = Pipeline(steps=[('cat_imputer', SimpleImputer(strategy='constant', fill_value='missing')),('cat_ohe', OneHotEncoder(handle_unknown='ignore'))])\n",
    "\n",
    "# textTransformer_pr = Pipeline(steps=[('text_bow_1', CountVectorizer())])\n",
    "# textTransformer_dr = Pipeline(steps=[('text_bow_2', CountVectorizer())])\n",
    "# textTransformer_di = Pipeline(steps=[('text_bow_3', CountVectorizer())])\n",
    "# textTransformer_pd = Pipeline(steps=[('text_bow_4', CountVectorizer())])\n",
    "\n",
    "# catTransformer = Pipeline(steps=[('cat_imputer', SimpleImputer(strategy='constant', fill_value='missing')),('cat_ohe', OrdinalEncoder(encoded_missing_value=-1))])\n",
    "\n",
    "\n",
    "textTransformer_pr = Pipeline(steps=[('text_bow_1', TfidfVectorizer())])\n",
    "textTransformer_dr = Pipeline(steps=[('text_bow_2', TfidfVectorizer())])\n",
    "textTransformer_di = Pipeline(steps=[('text_bow_3', TfidfVectorizer())])\n",
    "textTransformer_pd = Pipeline(steps=[('text_bow_4', TfidfVectorizer())])\n"
   ]
  },
  {
   "cell_type": "code",
   "execution_count": 111,
   "id": "446ab94f",
   "metadata": {
    "pycharm": {
     "name": "#%%\n"
    }
   },
   "outputs": [],
   "source": [
    "import time\n",
    "import tqdm\n",
    "from sklearn.base import BaseEstimator, TransformerMixin\n",
    "# class MultiplyColumns(BaseEstimator, TransformerMixin):\n",
    "#     def __init__(self, by=1, columns=None):\n",
    "#         self.by = by\n",
    "#         self.columns = columns\n",
    "    \n",
    "#     def fit(self, X, y=None):\n",
    "#         return self\n",
    "\n",
    "#     def transform(self, X, y=None):\n",
    "#         cols_to_transform = list(X.columns)\n",
    "\n",
    "#         if self.columns:\n",
    "#             cols_to_transform = self.columns\n",
    "\n",
    "#         X[cols_to_transform] = X[cols_to_transform] * self.by\n",
    "#         return X\n",
    "\n",
    "\n",
    "# # Use Custom Transformer\n",
    "# # df = pd.DataFrame({\"a\": [1, -2, 3], \"b\": [-4, 5, 6], \"c\": [-7, -8, 9]})\n",
    "\n",
    "# pipe = Pipeline(\n",
    "#     steps=[\n",
    "#         (\"multiply_cols_by_3\", MultiplyColumns(3, columns=[\"COUNTS\", \"MAX_OUTTIME\"]))\n",
    "#     ]\n",
    "# )\n",
    "# transformed_df = pipe.fit_transform(train_df)\n",
    "# tqdm.pandas()\n",
    "\n",
    "class EncodeColumns(BaseEstimator, TransformerMixin):\n",
    "    def __init__(self, model=None, tokenizer=None):\n",
    "        self.model = model\n",
    "        self.tokenizer = tokenizer\n",
    "    \n",
    "    def fit(self, X, y=None):\n",
    "        return self\n",
    "\n",
    "    def transform(self, X, y=None):\n",
    "        cols_to_transform = list(X.columns)\n",
    "\n",
    "#         if self.columns:\n",
    "#             cols_to_transform = self.columns\n",
    "        \n",
    "        for col_to_transform in cols_to_transform:\n",
    "#             X[col_to_transform] = X.apply(lambda x: get_embedding_sent(self.model, self.tokenizer, x[col_to_transform]), axis=1)\n",
    "#             X[col_to_transform] = X[col_to_transform].apply(lambda x: get_embedding_sent(self.model, self.tokenizer, x))\n",
    "#             X[col_to_transform] = X[col_to_transform].progress_apply(lambda x: get_embedding_sent(self.model, self.tokenizer, x))       \n",
    "            text_list = X[col_to_transform].tolist()\n",
    "            embed_list = []\n",
    "            for text in tqdm(text_list, position=0, leave=True):\n",
    "                sen_emb = get_embedding_sent(self.model, self.tokenizer, text)\n",
    "                embed_list.append(sen_emb)\n",
    "            assert len(text_list) == len(embed_list)\n",
    "            X[col_to_transform] = np.array(embed_list)\n",
    "        return X\n",
    "\n",
    "\n",
    "\n",
    "textTransformer_pr_encode = Pipeline(steps=[('encode_cols', EncodeColumns(model=model, tokenizer=tokenizer,))])\n",
    "\n",
    "\n",
    "# start_time = time.time()\n",
    "# transformed_df = pipe.fit_transform(X)\n",
    "# print(\"--- %s seconds ---\" % (time.time() - start_time))\n"
   ]
  },
  {
   "cell_type": "code",
   "execution_count": null,
   "id": "f7779609",
   "metadata": {
    "pycharm": {
     "name": "#%%\n"
    }
   },
   "outputs": [],
   "source": []
  },
  {
   "cell_type": "code",
   "execution_count": 112,
   "id": "de608468",
   "metadata": {
    "pycharm": {
     "name": "#%%\n"
    }
   },
   "outputs": [],
   "source": [
    "# from sklearn.datasets import fetch_openml\n",
    "from sklearn.impute import SimpleImputer\n",
    "from sklearn.preprocessing import StandardScaler, OneHotEncoder\n",
    "from sklearn.compose import ColumnTransformer\n",
    "from sklearn.pipeline import Pipeline\n",
    "from sklearn.compose import make_column_selector as selector\n",
    "from sklearn.feature_extraction.text import CountVectorizer, TfidfTransformer\n",
    "from time import time, sleep\n",
    "from tqdm.auto import tqdm\n",
    "tqdm.pandas()\n",
    "\n",
    "from sklearn.neural_network import MLPClassifier\n",
    "from sklearn.neighbors import KNeighborsClassifier\n",
    "from sklearn.svm import SVC\n",
    "from sklearn.svm import LinearSVC\n",
    "from sklearn.gaussian_process import GaussianProcessClassifier\n",
    "from sklearn.gaussian_process.kernels import RBF\n",
    "from sklearn.tree import DecisionTreeClassifier\n",
    "from sklearn.ensemble import RandomForestClassifier, AdaBoostClassifier\n",
    "from sklearn.naive_bayes import GaussianNB\n",
    "from sklearn.discriminant_analysis import QuadraticDiscriminantAnalysis\n",
    "from xgboost import XGBClassifier\n",
    "from sklearn.preprocessing import OrdinalEncoder\n",
    "from sklearn.feature_extraction import FeatureHasher\n",
    "from sklearn.feature_extraction.text import TfidfVectorizer\n",
    "from sklearn.linear_model import LogisticRegression\n",
    "from sklearn.metrics import accuracy_score, confusion_matrix, classification_report\n",
    "from sklearn.linear_model import SGDClassifier\n",
    "from sklearn.naive_bayes import ComplementNB\n",
    "from sklearn.neighbors import KNeighborsClassifier\n",
    "from sklearn.neighbors import NearestCentroid\n",
    "from sklearn.linear_model import RidgeClassifier\n",
    "\n",
    "\n",
    "\n",
    "# select_features = BINARY_CATEGORIES + CATEGORIES + NUMERIC_CAT\n",
    "\n",
    "\n",
    "catTransformer = Pipeline(steps=[('cat_imputer', SimpleImputer(strategy='constant', fill_value='missing')),('cat_ohe', OneHotEncoder(handle_unknown='ignore'))])\n",
    "# catTransformer = Pipeline(steps=[('cat_imputer', SimpleImputer(strategy='constant', fill_value='missing')),('cat_ohe', OrdinalEncoder(encoded_missing_value=-1))])\n",
    "\n",
    "\n",
    "textTransformer_pr = Pipeline(steps=[('text_bow_1', TfidfVectorizer())])\n",
    "textTransformer_dr = Pipeline(steps=[('text_bow_2', TfidfVectorizer())])\n",
    "textTransformer_di = Pipeline(steps=[('text_bow_3', TfidfVectorizer())])\n",
    "textTransformer_pd = Pipeline(steps=[('text_bow_4', TfidfVectorizer())])\n",
    "\n",
    "\n",
    "numTransformer = Pipeline(steps=[('imputer', SimpleImputer(strategy='median')),('scaler', StandardScaler())])\n",
    "# from sklearn.preprocessing import MinMaxScaler\n",
    "# numTransformer = Pipeline(steps=[('imputer', SimpleImputer(strategy='median')),('scaler', MinMaxScaler())])\n",
    "\n",
    "# New way - encode procedures, diag, drug, and prev diag\n",
    "ct = ColumnTransformer(\n",
    "transformers=[\n",
    "('cat', catTransformer, CATEGORIES), \n",
    "('num', numTransformer, NUMERIC_CAT),\n",
    "('text_pr', textTransformer_pr_encode, ['PROCEDURES_STR']),\n",
    "('text_dg', textTransformer_pr_encode, ['DIAGS_STR']),\n",
    "('text_pdg', textTransformer_pr_encode, ['PREV_DIAGS_STR']),\n",
    "('text_dr', textTransformer_pr_encode, ['DRUG_STR']),\n",
    "])\n",
    "\n",
    "classifiers = [\n",
    "    KNeighborsClassifier(n_neighbors=100),\n",
    "    #     SVC(kernel=\"linear\", C=0.025),  # , verbose=True   # slow and not scalable \n",
    "    LinearSVC(C=0.1, dual=False, max_iter=1000),  # L2 penalty Linear SVC\n",
    "#     SVC(gamma='auto', C=1, max_iter=1000),   # , verbose=True # slow and not scalable \n",
    "    DecisionTreeClassifier(),\n",
    "    RandomForestClassifier(),  # , verbose=True\n",
    "    MLPClassifier(alpha=1, max_iter=1000, early_stopping=True),  # , verbose=True\n",
    "    AdaBoostClassifier(),\n",
    "    LogisticRegression(C=10, max_iter=1000,),\n",
    "    RidgeClassifier(alpha=1.0, solver=\"sparse_cg\"),\n",
    "    # NearestCentroid (aka Rocchio classifier)\n",
    "#     NearestCentroid(),\n",
    "    # L2 penalty Linear SGD\n",
    "    SGDClassifier(loss=\"log_loss\", alpha=1e-4, n_iter_no_change=20, early_stopping=True),\n",
    "]\n",
    "\n"
   ]
  },
  {
   "cell_type": "code",
   "execution_count": 98,
   "id": "3994917f",
   "metadata": {
    "scrolled": false,
    "pycharm": {
     "name": "#%%\n"
    }
   },
   "outputs": [
    {
     "name": "stdout",
     "output_type": "stream",
     "text": [
      "start running 2022\n"
     ]
    },
    {
     "name": "stderr",
     "output_type": "stream",
     "text": [
      "100%|██████████| 79356/79356 [23:08<00:00, 57.17it/s]\n",
      "100%|██████████| 79356/79356 [22:02<00:00, 59.99it/s]\n",
      "100%|██████████| 79356/79356 [24:09<00:00, 54.75it/s]\n",
      "100%|██████████| 79356/79356 [26:11<00:00, 50.51it/s]\n"
     ]
    },
    {
     "name": "stdout",
     "output_type": "stream",
     "text": [
      "(79356, 3123)\n"
     ]
    },
    {
     "name": "stderr",
     "output_type": "stream",
     "text": [
      "100%|██████████| 8928/8928 [02:15<00:00, 65.98it/s]\n",
      "100%|██████████| 8928/8928 [02:14<00:00, 66.25it/s]\n",
      "100%|██████████| 8928/8928 [02:43<00:00, 54.74it/s]\n",
      "100%|██████████| 8928/8928 [02:58<00:00, 50.04it/s]\n"
     ]
    },
    {
     "name": "stdout",
     "output_type": "stream",
     "text": [
      "(8928, 3123)\n"
     ]
    },
    {
     "name": "stderr",
     "output_type": "stream",
     "text": [
      "\r",
      "  0%|          | 0/9 [00:00<?, ?it/s]"
     ]
    },
    {
     "name": "stdout",
     "output_type": "stream",
     "text": [
      "****************************************************************************************************\n",
      "KNeighborsClassifier(n_neighbors=100)\n",
      "train time: 14.5s\n",
      "test time:  5.76e+03s\n",
      "accuracy:   0.665\n"
     ]
    },
    {
     "name": "stderr",
     "output_type": "stream",
     "text": [
      "\r",
      " 11%|█         | 1/9 [3:12:23<25:39:05, 11543.15s/it]"
     ]
    },
    {
     "name": "stdout",
     "output_type": "stream",
     "text": [
      "roc_auc_score:   0.746\n",
      "\n",
      "accuracy 0.6652105734767025\n",
      "[[4547 2418]\n",
      " [ 571 1392]]\n",
      "              precision    recall  f1-score   support\n",
      "\n",
      "           0     0.8884    0.6528    0.7526      6965\n",
      "           1     0.3654    0.7091    0.4822      1963\n",
      "\n",
      "    accuracy                         0.6652      8928\n",
      "   macro avg     0.6269    0.6810    0.6174      8928\n",
      "weighted avg     0.7734    0.6652    0.6932      8928\n",
      "\n",
      "****************************************************************************************************\n",
      "LinearSVC(C=0.1, dual=False)\n"
     ]
    },
    {
     "name": "stderr",
     "output_type": "stream",
     "text": [
      "\r",
      " 22%|██▏       | 2/9 [4:48:01<15:48:21, 8128.72s/it] "
     ]
    },
    {
     "name": "stdout",
     "output_type": "stream",
     "text": [
      "train time: 5.74e+03s\n",
      "test time:  0.0706s\n",
      "accuracy:   0.738\n",
      "roc_auc_score:   0.766\n",
      "\n",
      "dimensionality: 3123\n",
      "density: 1.0\n",
      "\n",
      "accuracy 0.7379032258064516\n",
      "[[5332 1633]\n",
      " [ 707 1256]]\n",
      "              precision    recall  f1-score   support\n",
      "\n",
      "           0     0.8829    0.7655    0.8201      6965\n",
      "           1     0.4348    0.6398    0.5177      1963\n",
      "\n",
      "    accuracy                         0.7379      8928\n",
      "   macro avg     0.6588    0.7027    0.6689      8928\n",
      "weighted avg     0.7844    0.7379    0.7536      8928\n",
      "\n",
      "****************************************************************************************************\n",
      "DecisionTreeClassifier()\n",
      "train time: 2.75e+03s\n",
      "test time:  0.137s\n",
      "accuracy:   0.723\n"
     ]
    },
    {
     "name": "stderr",
     "output_type": "stream",
     "text": [
      "\r",
      " 33%|███▎      | 3/9 [5:33:47<9:27:04, 5670.75s/it] "
     ]
    },
    {
     "name": "stdout",
     "output_type": "stream",
     "text": [
      "roc_auc_score:   0.572\n",
      "\n",
      "accuracy 0.7225582437275986\n",
      "[[5854 1111]\n",
      " [1366  597]]\n",
      "              precision    recall  f1-score   support\n",
      "\n",
      "           0     0.8108    0.8405    0.8254      6965\n",
      "           1     0.3495    0.3041    0.3253      1963\n",
      "\n",
      "    accuracy                         0.7226      8928\n",
      "   macro avg     0.5802    0.5723    0.5753      8928\n",
      "weighted avg     0.7094    0.7226    0.7154      8928\n",
      "\n",
      "****************************************************************************************************\n",
      "RandomForestClassifier()\n",
      "train time: 3.52e+03s\n",
      "test time:  5.54s\n",
      "accuracy:   0.804\n"
     ]
    },
    {
     "name": "stderr",
     "output_type": "stream",
     "text": [
      "\r",
      " 44%|████▍     | 4/9 [6:32:38<6:42:10, 4826.18s/it]"
     ]
    },
    {
     "name": "stdout",
     "output_type": "stream",
     "text": [
      "roc_auc_score:   0.764\n",
      "\n",
      "accuracy 0.8043234767025089\n",
      "[[6729  236]\n",
      " [1511  452]]\n",
      "              precision    recall  f1-score   support\n",
      "\n",
      "           0     0.8166    0.9661    0.8851      6965\n",
      "           1     0.6570    0.2303    0.3410      1963\n",
      "\n",
      "    accuracy                         0.8043      8928\n",
      "   macro avg     0.7368    0.5982    0.6131      8928\n",
      "weighted avg     0.7815    0.8043    0.7655      8928\n",
      "\n",
      "****************************************************************************************************\n",
      "MLPClassifier(alpha=1, early_stopping=True, max_iter=1000)\n",
      "train time: 1.55e+03s\n",
      "test time:  1.28s\n",
      "accuracy:   0.744\n"
     ]
    },
    {
     "name": "stderr",
     "output_type": "stream",
     "text": [
      "\r",
      " 56%|█████▌    | 5/9 [6:58:31<4:03:03, 3645.75s/it]"
     ]
    },
    {
     "name": "stdout",
     "output_type": "stream",
     "text": [
      "roc_auc_score:   0.778\n",
      "\n",
      "accuracy 0.7436155913978495\n",
      "[[5373 1592]\n",
      " [ 697 1266]]\n",
      "              precision    recall  f1-score   support\n",
      "\n",
      "           0     0.8852    0.7714    0.8244      6965\n",
      "           1     0.4430    0.6449    0.5252      1963\n",
      "\n",
      "    accuracy                         0.7436      8928\n",
      "   macro avg     0.6641    0.7082    0.6748      8928\n",
      "weighted avg     0.7879    0.7436    0.7586      8928\n",
      "\n",
      "****************************************************************************************************\n",
      "AdaBoostClassifier()\n",
      "train time: 3.82e+03s\n",
      "test time:  6.25s\n",
      "accuracy:   0.727\n"
     ]
    },
    {
     "name": "stderr",
     "output_type": "stream",
     "text": [
      "\r",
      " 67%|██████▋   | 6/9 [8:02:19<3:05:23, 3707.78s/it]"
     ]
    },
    {
     "name": "stdout",
     "output_type": "stream",
     "text": [
      "roc_auc_score:   0.765\n",
      "\n",
      "accuracy 0.7267025089605734\n",
      "[[5196 1769]\n",
      " [ 671 1292]]\n",
      "              precision    recall  f1-score   support\n",
      "\n",
      "           0     0.8856    0.7460    0.8099      6965\n",
      "           1     0.4221    0.6582    0.5143      1963\n",
      "\n",
      "    accuracy                         0.7267      8928\n",
      "   macro avg     0.6539    0.7021    0.6621      8928\n",
      "weighted avg     0.7837    0.7267    0.7449      8928\n",
      "\n",
      "****************************************************************************************************\n",
      "LogisticRegression(C=10, max_iter=1000)\n"
     ]
    },
    {
     "name": "stderr",
     "output_type": "stream",
     "text": [
      "/home/hl2659/miniconda3/envs/hao_ner/lib/python3.9/site-packages/sklearn/linear_model/_logistic.py:444: ConvergenceWarning: lbfgs failed to converge (status=1):\n",
      "STOP: TOTAL NO. of ITERATIONS REACHED LIMIT.\n",
      "\n",
      "Increase the number of iterations (max_iter) or scale the data as shown in:\n",
      "    https://scikit-learn.org/stable/modules/preprocessing.html\n",
      "Please also refer to the documentation for alternative solver options:\n",
      "    https://scikit-learn.org/stable/modules/linear_model.html#logistic-regression\n",
      "  n_iter_i = _check_optimize_result(\n",
      "\r",
      " 78%|███████▊  | 7/9 [8:15:46<1:31:58, 2759.45s/it]"
     ]
    },
    {
     "name": "stdout",
     "output_type": "stream",
     "text": [
      "train time: 8.07e+02s\n",
      "test time:  0.0695s\n",
      "accuracy:   0.732\n",
      "roc_auc_score:   0.77\n",
      "\n",
      "dimensionality: 3123\n",
      "density: 1.0\n",
      "\n",
      "accuracy 0.7318548387096774\n",
      "[[5271 1694]\n",
      " [ 700 1263]]\n",
      "              precision    recall  f1-score   support\n",
      "\n",
      "           0     0.8828    0.7568    0.8149      6965\n",
      "           1     0.4271    0.6434    0.5134      1963\n",
      "\n",
      "    accuracy                         0.7319      8928\n",
      "   macro avg     0.6549    0.7001    0.6642      8928\n",
      "weighted avg     0.7826    0.7319    0.7486      8928\n",
      "\n",
      "****************************************************************************************************\n",
      "RidgeClassifier(solver='sparse_cg')\n"
     ]
    },
    {
     "name": "stderr",
     "output_type": "stream",
     "text": [
      "\r",
      " 89%|████████▉ | 8/9 [8:18:40<32:16, 1936.23s/it]  "
     ]
    },
    {
     "name": "stdout",
     "output_type": "stream",
     "text": [
      "train time: 1.73e+02s\n",
      "test time:  0.0694s\n",
      "accuracy:   0.735\n",
      "roc_auc_score:   0.766\n",
      "\n",
      "dimensionality: 3123\n",
      "density: 1.0\n",
      "\n",
      "accuracy 0.734655017921147\n",
      "[[5312 1653]\n",
      " [ 716 1247]]\n",
      "              precision    recall  f1-score   support\n",
      "\n",
      "           0     0.8812    0.7627    0.8177      6965\n",
      "           1     0.4300    0.6353    0.5129      1963\n",
      "\n",
      "    accuracy                         0.7347      8928\n",
      "   macro avg     0.6556    0.6990    0.6653      8928\n",
      "weighted avg     0.7820    0.7347    0.7507      8928\n",
      "\n",
      "****************************************************************************************************\n",
      "SGDClassifier(early_stopping=True, loss='log_loss', n_iter_no_change=20)\n"
     ]
    },
    {
     "name": "stderr",
     "output_type": "stream",
     "text": [
      "100%|██████████| 9/9 [8:18:56<00:00, 3326.29s/it]"
     ]
    },
    {
     "name": "stdout",
     "output_type": "stream",
     "text": [
      "train time: 16.0s\n",
      "test time:  0.0613s\n",
      "accuracy:   0.809\n",
      "roc_auc_score:   0.788\n",
      "\n",
      "dimensionality: 3123\n",
      "density: 1.0\n",
      "\n",
      "accuracy 0.8085797491039427\n",
      "[[6357  608]\n",
      " [1101  862]]\n",
      "              precision    recall  f1-score   support\n",
      "\n",
      "           0     0.8524    0.9127    0.8815      6965\n",
      "           1     0.5864    0.4391    0.5022      1963\n",
      "\n",
      "    accuracy                         0.8086      8928\n",
      "   macro avg     0.7194    0.6759    0.6918      8928\n",
      "weighted avg     0.7939    0.8086    0.7981      8928\n",
      "\n"
     ]
    },
    {
     "name": "stderr",
     "output_type": "stream",
     "text": [
      "\n"
     ]
    }
   ],
   "source": [
    "# sum of last two layers\n",
    "from sklearn.utils import shuffle\n",
    "from sklearn.utils.extmath import density\n",
    "from sklearn.metrics import roc_auc_score\n",
    "\n",
    "\n",
    "results_preds_list = []\n",
    "for rand_seed in range(2022,2023):\n",
    "    X_train_s, y_train_s = shuffle(X_train, y_train, random_state=rand_seed)\n",
    "    print(f'start running {str(rand_seed)}')\n",
    "    trainX = ct.fit_transform(X_train_s)\n",
    "    print(trainX.shape)\n",
    "\n",
    "    testX = ct.transform(X_test)\n",
    "    print(testX.shape)\n",
    "\n",
    "    for item in tqdm(classifiers):\n",
    "        print('**********'*10)\n",
    "        print(item)\n",
    "        clf = item\n",
    "        \n",
    "        t0 = time()\n",
    "        clf.fit(trainX, y_train_s)\n",
    "        train_time = time() - t0\n",
    "        print(f\"train time: {train_time:.3}s\")\n",
    "        \n",
    "        t0 = time()\n",
    "        preds = clf.predict(testX)\n",
    "        test_time = time() - t0\n",
    "        print(f\"test time:  {test_time:.3}s\")\n",
    "        \n",
    "        score = accuracy_score(y_test, preds)\n",
    "        print(f\"accuracy:   {score:.3}\")\n",
    "        \n",
    "        if hasattr(clf, 'decision_function'):\n",
    "            auc_score = roc_auc_score(y_test, clf.decision_function(testX))\n",
    "        elif hasattr(clf, 'predict_proba'):\n",
    "            auc_score = roc_auc_score(y_test, clf.predict_proba(testX)[:, 1])\n",
    "        else:\n",
    "            auc_score = -1.0\n",
    "\n",
    "        print(f\"roc_auc_score:   {auc_score:.3}\")\n",
    "        print()\n",
    "\n",
    "        if hasattr(clf, \"coef_\"):\n",
    "            print(f\"dimensionality: {clf.coef_.shape[1]}\")\n",
    "            print(f\"density: {density(clf.coef_)}\")\n",
    "            print()\n",
    "        \n",
    "        results_preds_list.append([clf.__class__.__name__, score, auc_score, train_time, test_time])\n",
    "\n",
    "        print('accuracy %s' % accuracy_score(y_test, preds))\n",
    "        print(confusion_matrix(y_test, preds))\n",
    "        print(classification_report(y_test, preds, digits=4))\n",
    "    "
   ]
  },
  {
   "cell_type": "code",
   "execution_count": null,
   "id": "05e21e20",
   "metadata": {
    "pycharm": {
     "name": "#%%\n"
    }
   },
   "outputs": [],
   "source": []
  },
  {
   "cell_type": "code",
   "execution_count": 113,
   "id": "9db360e9",
   "metadata": {
    "scrolled": false,
    "pycharm": {
     "name": "#%%\n"
    }
   },
   "outputs": [
    {
     "name": "stdout",
     "output_type": "stream",
     "text": [
      "start running 2022\n"
     ]
    },
    {
     "name": "stderr",
     "output_type": "stream",
     "text": [
      "100%|██████████| 79356/79356 [21:02<00:00, 62.86it/s]\n",
      "100%|██████████| 79356/79356 [21:46<00:00, 60.76it/s]\n",
      "100%|██████████| 79356/79356 [23:25<00:00, 56.47it/s]\n",
      "100%|██████████| 79356/79356 [24:25<00:00, 54.13it/s]\n"
     ]
    },
    {
     "name": "stdout",
     "output_type": "stream",
     "text": [
      "(79356, 3123)\n"
     ]
    },
    {
     "name": "stderr",
     "output_type": "stream",
     "text": [
      "100%|██████████| 8928/8928 [02:05<00:00, 71.14it/s]\n",
      "100%|██████████| 8928/8928 [02:07<00:00, 69.82it/s]\n",
      "100%|██████████| 8928/8928 [02:22<00:00, 62.60it/s]\n",
      "100%|██████████| 8928/8928 [02:35<00:00, 57.47it/s]\n"
     ]
    },
    {
     "name": "stdout",
     "output_type": "stream",
     "text": [
      "(8928, 3123)\n"
     ]
    },
    {
     "name": "stderr",
     "output_type": "stream",
     "text": [
      "\r",
      "  0%|          | 0/9 [00:00<?, ?it/s]"
     ]
    },
    {
     "name": "stdout",
     "output_type": "stream",
     "text": [
      "****************************************************************************************************\n",
      "KNeighborsClassifier(n_neighbors=100)\n",
      "train time: 2.11s\n",
      "test time:  5.63e+03s\n",
      "accuracy:   0.676\n"
     ]
    },
    {
     "name": "stderr",
     "output_type": "stream",
     "text": [
      "\r",
      " 11%|█         | 1/9 [3:07:43<25:01:48, 11263.55s/it]"
     ]
    },
    {
     "name": "stdout",
     "output_type": "stream",
     "text": [
      "roc_auc_score:   0.753\n",
      "\n",
      "accuracy 0.6758512544802867\n",
      "[[4631 2334]\n",
      " [ 560 1403]]\n",
      "              precision    recall  f1-score   support\n",
      "\n",
      "           0     0.8921    0.6649    0.7619      6965\n",
      "           1     0.3754    0.7147    0.4923      1963\n",
      "\n",
      "    accuracy                         0.6759      8928\n",
      "   macro avg     0.6338    0.6898    0.6271      8928\n",
      "weighted avg     0.7785    0.6759    0.7026      8928\n",
      "\n",
      "****************************************************************************************************\n",
      "LinearSVC(C=0.1, dual=False)\n"
     ]
    },
    {
     "name": "stderr",
     "output_type": "stream",
     "text": [
      "\r",
      " 22%|██▏       | 2/9 [3:18:32<9:45:39, 5019.95s/it]  "
     ]
    },
    {
     "name": "stdout",
     "output_type": "stream",
     "text": [
      "train time: 6.49e+02s\n",
      "test time:  0.0645s\n",
      "accuracy:   0.744\n",
      "roc_auc_score:   0.78\n",
      "\n",
      "dimensionality: 3123\n",
      "density: 1.0\n",
      "\n",
      "accuracy 0.7435035842293907\n",
      "[[5361 1604]\n",
      " [ 686 1277]]\n",
      "              precision    recall  f1-score   support\n",
      "\n",
      "           0     0.8866    0.7697    0.8240      6965\n",
      "           1     0.4432    0.6505    0.5273      1963\n",
      "\n",
      "    accuracy                         0.7435      8928\n",
      "   macro avg     0.6649    0.7101    0.6756      8928\n",
      "weighted avg     0.7891    0.7435    0.7588      8928\n",
      "\n",
      "****************************************************************************************************\n",
      "DecisionTreeClassifier()\n",
      "train time: 3.38e+03s\n",
      "test time:  0.251s\n",
      "accuracy:   0.725\n"
     ]
    },
    {
     "name": "stderr",
     "output_type": "stream",
     "text": [
      "\r",
      " 33%|███▎      | 3/9 [4:14:56<7:07:16, 4272.70s/it]"
     ]
    },
    {
     "name": "stdout",
     "output_type": "stream",
     "text": [
      "roc_auc_score:   0.582\n",
      "\n",
      "accuracy 0.7250224014336918\n",
      "[[5834 1131]\n",
      " [1324  639]]\n",
      "              precision    recall  f1-score   support\n",
      "\n",
      "           0     0.8150    0.8376    0.8262      6965\n",
      "           1     0.3610    0.3255    0.3424      1963\n",
      "\n",
      "    accuracy                         0.7250      8928\n",
      "   macro avg     0.5880    0.5816    0.5843      8928\n",
      "weighted avg     0.7152    0.7250    0.7198      8928\n",
      "\n",
      "****************************************************************************************************\n",
      "RandomForestClassifier()\n",
      "train time: 2.98e+03s\n",
      "test time:  3.73s\n",
      "accuracy:   0.803\n"
     ]
    },
    {
     "name": "stderr",
     "output_type": "stream",
     "text": [
      "\r",
      " 44%|████▍     | 4/9 [5:04:39<5:13:36, 3763.40s/it]"
     ]
    },
    {
     "name": "stdout",
     "output_type": "stream",
     "text": [
      "roc_auc_score:   0.761\n",
      "\n",
      "accuracy 0.8030913978494624\n",
      "[[6738  227]\n",
      " [1531  432]]\n",
      "              precision    recall  f1-score   support\n",
      "\n",
      "           0     0.8149    0.9674    0.8846      6965\n",
      "           1     0.6555    0.2201    0.3295      1963\n",
      "\n",
      "    accuracy                         0.8031      8928\n",
      "   macro avg     0.7352    0.5937    0.6071      8928\n",
      "weighted avg     0.7798    0.8031    0.7626      8928\n",
      "\n",
      "****************************************************************************************************\n",
      "MLPClassifier(alpha=1, early_stopping=True, max_iter=1000)\n",
      "train time: 1.9e+03s\n",
      "test time:  1.25s\n",
      "accuracy:   0.718\n"
     ]
    },
    {
     "name": "stderr",
     "output_type": "stream",
     "text": [
      "\r",
      " 56%|█████▌    | 5/9 [5:36:26<3:26:15, 3093.96s/it]"
     ]
    },
    {
     "name": "stdout",
     "output_type": "stream",
     "text": [
      "roc_auc_score:   0.791\n",
      "\n",
      "accuracy 0.7180779569892473\n",
      "[[4990 1975]\n",
      " [ 542 1421]]\n",
      "              precision    recall  f1-score   support\n",
      "\n",
      "           0     0.9020    0.7164    0.7986      6965\n",
      "           1     0.4184    0.7239    0.5303      1963\n",
      "\n",
      "    accuracy                         0.7181      8928\n",
      "   macro avg     0.6602    0.7202    0.6645      8928\n",
      "weighted avg     0.7957    0.7181    0.7396      8928\n",
      "\n",
      "****************************************************************************************************\n",
      "AdaBoostClassifier()\n",
      "train time: 1.73e+03s\n",
      "test time:  6.33s\n",
      "accuracy:   0.727\n"
     ]
    },
    {
     "name": "stderr",
     "output_type": "stream",
     "text": [
      "\r",
      " 67%|██████▋   | 6/9 [6:05:28<2:11:43, 2634.47s/it]"
     ]
    },
    {
     "name": "stdout",
     "output_type": "stream",
     "text": [
      "roc_auc_score:   0.765\n",
      "\n",
      "accuracy 0.7267025089605734\n",
      "[[5196 1769]\n",
      " [ 671 1292]]\n",
      "              precision    recall  f1-score   support\n",
      "\n",
      "           0     0.8856    0.7460    0.8099      6965\n",
      "           1     0.4221    0.6582    0.5143      1963\n",
      "\n",
      "    accuracy                         0.7267      8928\n",
      "   macro avg     0.6539    0.7021    0.6621      8928\n",
      "weighted avg     0.7837    0.7267    0.7449      8928\n",
      "\n",
      "****************************************************************************************************\n",
      "LogisticRegression(C=10, max_iter=1000)\n"
     ]
    },
    {
     "name": "stderr",
     "output_type": "stream",
     "text": [
      "/home/hl2659/miniconda3/envs/hao_ner/lib/python3.9/site-packages/sklearn/linear_model/_logistic.py:444: ConvergenceWarning: lbfgs failed to converge (status=1):\n",
      "STOP: TOTAL NO. of ITERATIONS REACHED LIMIT.\n",
      "\n",
      "Increase the number of iterations (max_iter) or scale the data as shown in:\n",
      "    https://scikit-learn.org/stable/modules/preprocessing.html\n",
      "Please also refer to the documentation for alternative solver options:\n",
      "    https://scikit-learn.org/stable/modules/linear_model.html#logistic-regression\n",
      "  n_iter_i = _check_optimize_result(\n",
      "\r",
      " 78%|███████▊  | 7/9 [6:18:30<1:07:37, 2028.68s/it]"
     ]
    },
    {
     "name": "stdout",
     "output_type": "stream",
     "text": [
      "train time: 7.81e+02s\n",
      "test time:  0.0642s\n",
      "accuracy:   0.735\n",
      "roc_auc_score:   0.774\n",
      "\n",
      "dimensionality: 3123\n",
      "density: 1.0\n",
      "\n",
      "accuracy 0.7353270609318996\n",
      "[[5291 1674]\n",
      " [ 689 1274]]\n",
      "              precision    recall  f1-score   support\n",
      "\n",
      "           0     0.8848    0.7597    0.8175      6965\n",
      "           1     0.4322    0.6490    0.5188      1963\n",
      "\n",
      "    accuracy                         0.7353      8928\n",
      "   macro avg     0.6585    0.7043    0.6681      8928\n",
      "weighted avg     0.7853    0.7353    0.7518      8928\n",
      "\n",
      "****************************************************************************************************\n",
      "RidgeClassifier(solver='sparse_cg')\n"
     ]
    },
    {
     "name": "stderr",
     "output_type": "stream",
     "text": [
      "\r",
      " 89%|████████▉ | 8/9 [6:21:36<24:02, 1442.08s/it]  "
     ]
    },
    {
     "name": "stdout",
     "output_type": "stream",
     "text": [
      "train time: 1.86e+02s\n",
      "test time:  0.0673s\n",
      "accuracy:   0.738\n",
      "roc_auc_score:   0.772\n",
      "\n",
      "dimensionality: 3123\n",
      "density: 1.0\n",
      "\n",
      "accuracy 0.7376792114695341\n",
      "[[5335 1630]\n",
      " [ 712 1251]]\n",
      "              precision    recall  f1-score   support\n",
      "\n",
      "           0     0.8823    0.7660    0.8200      6965\n",
      "           1     0.4342    0.6373    0.5165      1963\n",
      "\n",
      "    accuracy                         0.7377      8928\n",
      "   macro avg     0.6582    0.7016    0.6683      8928\n",
      "weighted avg     0.7837    0.7377    0.7533      8928\n",
      "\n",
      "****************************************************************************************************\n",
      "SGDClassifier(early_stopping=True, loss='log_loss', n_iter_no_change=20)\n"
     ]
    },
    {
     "name": "stderr",
     "output_type": "stream",
     "text": [
      "100%|██████████| 9/9 [6:22:10<00:00, 2547.82s/it]"
     ]
    },
    {
     "name": "stdout",
     "output_type": "stream",
     "text": [
      "train time: 34.1s\n",
      "test time:  0.061s\n",
      "accuracy:   0.812\n",
      "roc_auc_score:   0.791\n",
      "\n",
      "dimensionality: 3123\n",
      "density: 1.0\n",
      "\n",
      "accuracy 0.8122759856630825\n",
      "[[6766  199]\n",
      " [1477  486]]\n",
      "              precision    recall  f1-score   support\n",
      "\n",
      "           0     0.8208    0.9714    0.8898      6965\n",
      "           1     0.7095    0.2476    0.3671      1963\n",
      "\n",
      "    accuracy                         0.8123      8928\n",
      "   macro avg     0.7652    0.6095    0.6284      8928\n",
      "weighted avg     0.7963    0.8123    0.7749      8928\n",
      "\n"
     ]
    },
    {
     "name": "stderr",
     "output_type": "stream",
     "text": [
      "\n"
     ]
    }
   ],
   "source": [
    "# mean of last two layers\n",
    "from sklearn.utils import shuffle\n",
    "from sklearn.utils.extmath import density\n",
    "from sklearn.metrics import roc_auc_score\n",
    "\n",
    "\n",
    "results_preds_list = []\n",
    "for rand_seed in range(2022,2023):\n",
    "    X_train_s, y_train_s = shuffle(X_train, y_train, random_state=rand_seed)\n",
    "    print(f'start running {str(rand_seed)}')\n",
    "    trainX = ct.fit_transform(X_train_s)\n",
    "    print(trainX.shape)\n",
    "\n",
    "    testX = ct.transform(X_test)\n",
    "    print(testX.shape)\n",
    "\n",
    "    for item in tqdm(classifiers):\n",
    "        print('**********'*10)\n",
    "        print(item)\n",
    "        clf = item\n",
    "        \n",
    "        t0 = time()\n",
    "        clf.fit(trainX, y_train_s)\n",
    "        train_time = time() - t0\n",
    "        print(f\"train time: {train_time:.3}s\")\n",
    "        \n",
    "        t0 = time()\n",
    "        preds = clf.predict(testX)\n",
    "        test_time = time() - t0\n",
    "        print(f\"test time:  {test_time:.3}s\")\n",
    "        \n",
    "        score = accuracy_score(y_test, preds)\n",
    "        print(f\"accuracy:   {score:.3}\")\n",
    "        \n",
    "        if hasattr(clf, 'decision_function'):\n",
    "            auc_score = roc_auc_score(y_test, clf.decision_function(testX))\n",
    "        elif hasattr(clf, 'predict_proba'):\n",
    "            auc_score = roc_auc_score(y_test, clf.predict_proba(testX)[:, 1])\n",
    "        else:\n",
    "            auc_score = -1.0\n",
    "\n",
    "        print(f\"roc_auc_score:   {auc_score:.3}\")\n",
    "        print()\n",
    "\n",
    "        if hasattr(clf, \"coef_\"):\n",
    "            print(f\"dimensionality: {clf.coef_.shape[1]}\")\n",
    "            print(f\"density: {density(clf.coef_)}\")\n",
    "            print()\n",
    "        \n",
    "        results_preds_list.append([clf.__class__.__name__, score, auc_score, train_time, test_time])\n",
    "\n",
    "        print('accuracy %s' % accuracy_score(y_test, preds))\n",
    "        print(confusion_matrix(y_test, preds))\n",
    "        print(classification_report(y_test, preds, digits=4))\n",
    "    "
   ]
  },
  {
   "cell_type": "code",
   "execution_count": null,
   "id": "115ebb6f",
   "metadata": {
    "pycharm": {
     "name": "#%%\n"
    }
   },
   "outputs": [],
   "source": []
  },
  {
   "cell_type": "code",
   "execution_count": 125,
   "id": "decf5688",
   "metadata": {
    "scrolled": true,
    "pycharm": {
     "name": "#%%\n"
    }
   },
   "outputs": [
    {
     "name": "stdout",
     "output_type": "stream",
     "text": [
      "testing random_seed: 0\n"
     ]
    },
    {
     "name": "stderr",
     "output_type": "stream",
     "text": [
      "\r",
      "  0%|          | 0/8 [00:00<?, ?it/s]"
     ]
    },
    {
     "name": "stdout",
     "output_type": "stream",
     "text": [
      "****************************************************************************************************\n",
      "LinearSVC(C=0.1, dual=False, random_state=0)\n"
     ]
    },
    {
     "name": "stderr",
     "output_type": "stream",
     "text": [
      "\r",
      " 12%|█▎        | 1/8 [12:07<1:24:52, 727.50s/it]"
     ]
    },
    {
     "name": "stdout",
     "output_type": "stream",
     "text": [
      "train time: 7.27e+02s\n",
      "test time:  0.0754s\n",
      "accuracy:   0.744\n",
      "roc_auc_score:   0.78\n",
      "\n",
      "dimensionality: 3123\n",
      "density: 1.0\n",
      "\n",
      "accuracy 0.7435035842293907\n",
      "[[5361 1604]\n",
      " [ 686 1277]]\n",
      "              precision    recall  f1-score   support\n",
      "\n",
      "           0     0.8866    0.7697    0.8240      6965\n",
      "           1     0.4432    0.6505    0.5273      1963\n",
      "\n",
      "    accuracy                         0.7435      8928\n",
      "   macro avg     0.6649    0.7101    0.6756      8928\n",
      "weighted avg     0.7891    0.7435    0.7588      8928\n",
      "\n",
      "****************************************************************************************************\n",
      "DecisionTreeClassifier(random_state=0)\n",
      "train time: 3.42e+03s\n",
      "test time:  0.174s\n",
      "accuracy:   0.724\n"
     ]
    },
    {
     "name": "stderr",
     "output_type": "stream",
     "text": [
      "\r",
      " 25%|██▌       | 2/8 [1:09:07<3:51:09, 2311.61s/it]"
     ]
    },
    {
     "name": "stdout",
     "output_type": "stream",
     "text": [
      "roc_auc_score:   0.579\n",
      "\n",
      "accuracy 0.7241263440860215\n",
      "[[5838 1127]\n",
      " [1336  627]]\n",
      "              precision    recall  f1-score   support\n",
      "\n",
      "           0     0.8138    0.8382    0.8258      6965\n",
      "           1     0.3575    0.3194    0.3374      1963\n",
      "\n",
      "    accuracy                         0.7241      8928\n",
      "   macro avg     0.5856    0.5788    0.5816      8928\n",
      "weighted avg     0.7134    0.7241    0.7184      8928\n",
      "\n",
      "****************************************************************************************************\n",
      "RandomForestClassifier(random_state=0)\n",
      "train time: 3.59e+03s\n",
      "test time:  5.22s\n",
      "accuracy:   0.803\n"
     ]
    },
    {
     "name": "stderr",
     "output_type": "stream",
     "text": [
      "\r",
      " 38%|███▊      | 3/8 [2:09:09<4:01:43, 2900.61s/it]"
     ]
    },
    {
     "name": "stdout",
     "output_type": "stream",
     "text": [
      "roc_auc_score:   0.763\n",
      "\n",
      "accuracy 0.8028673835125448\n",
      "[[6728  237]\n",
      " [1523  440]]\n",
      "              precision    recall  f1-score   support\n",
      "\n",
      "           0     0.8154    0.9660    0.8843      6965\n",
      "           1     0.6499    0.2241    0.3333      1963\n",
      "\n",
      "    accuracy                         0.8029      8928\n",
      "   macro avg     0.7327    0.5951    0.6088      8928\n",
      "weighted avg     0.7790    0.8029    0.7632      8928\n",
      "\n",
      "****************************************************************************************************\n",
      "MLPClassifier(alpha=1, early_stopping=True, max_iter=1000, random_state=0)\n",
      "train time: 1.72e+03s\n",
      "test time:  1.23s\n",
      "accuracy:   0.744\n"
     ]
    },
    {
     "name": "stderr",
     "output_type": "stream",
     "text": [
      "\r",
      " 50%|█████     | 4/8 [2:37:47<2:42:15, 2433.77s/it]"
     ]
    },
    {
     "name": "stdout",
     "output_type": "stream",
     "text": [
      "roc_auc_score:   0.786\n",
      "\n",
      "accuracy 0.7435035842293907\n",
      "[[5314 1651]\n",
      " [ 639 1324]]\n",
      "              precision    recall  f1-score   support\n",
      "\n",
      "           0     0.8927    0.7630    0.8227      6965\n",
      "           1     0.4450    0.6745    0.5362      1963\n",
      "\n",
      "    accuracy                         0.7435      8928\n",
      "   macro avg     0.6689    0.7187    0.6795      8928\n",
      "weighted avg     0.7942    0.7435    0.7597      8928\n",
      "\n",
      "****************************************************************************************************\n",
      "AdaBoostClassifier(random_state=0)\n",
      "train time: 2.69e+03s\n",
      "test time:  8.44s\n",
      "accuracy:   0.727\n"
     ]
    },
    {
     "name": "stderr",
     "output_type": "stream",
     "text": [
      "\r",
      " 62%|██████▎   | 5/8 [3:22:52<2:06:34, 2531.37s/it]"
     ]
    },
    {
     "name": "stdout",
     "output_type": "stream",
     "text": [
      "roc_auc_score:   0.765\n",
      "\n",
      "accuracy 0.7267025089605734\n",
      "[[5196 1769]\n",
      " [ 671 1292]]\n",
      "              precision    recall  f1-score   support\n",
      "\n",
      "           0     0.8856    0.7460    0.8099      6965\n",
      "           1     0.4221    0.6582    0.5143      1963\n",
      "\n",
      "    accuracy                         0.7267      8928\n",
      "   macro avg     0.6539    0.7021    0.6621      8928\n",
      "weighted avg     0.7837    0.7267    0.7449      8928\n",
      "\n",
      "****************************************************************************************************\n",
      "LogisticRegression(C=10, max_iter=1000, random_state=0)\n"
     ]
    },
    {
     "name": "stderr",
     "output_type": "stream",
     "text": [
      "/home/hl2659/miniconda3/envs/hao_ner/lib/python3.9/site-packages/sklearn/linear_model/_logistic.py:444: ConvergenceWarning: lbfgs failed to converge (status=1):\n",
      "STOP: TOTAL NO. of ITERATIONS REACHED LIMIT.\n",
      "\n",
      "Increase the number of iterations (max_iter) or scale the data as shown in:\n",
      "    https://scikit-learn.org/stable/modules/preprocessing.html\n",
      "Please also refer to the documentation for alternative solver options:\n",
      "    https://scikit-learn.org/stable/modules/linear_model.html#logistic-regression\n",
      "  n_iter_i = _check_optimize_result(\n",
      "\r",
      " 75%|███████▌  | 6/8 [3:38:46<1:06:30, 1995.39s/it]"
     ]
    },
    {
     "name": "stdout",
     "output_type": "stream",
     "text": [
      "train time: 9.55e+02s\n",
      "test time:  0.0692s\n",
      "accuracy:   0.735\n",
      "roc_auc_score:   0.774\n",
      "\n",
      "dimensionality: 3123\n",
      "density: 1.0\n",
      "\n",
      "accuracy 0.7353270609318996\n",
      "[[5291 1674]\n",
      " [ 689 1274]]\n",
      "              precision    recall  f1-score   support\n",
      "\n",
      "           0     0.8848    0.7597    0.8175      6965\n",
      "           1     0.4322    0.6490    0.5188      1963\n",
      "\n",
      "    accuracy                         0.7353      8928\n",
      "   macro avg     0.6585    0.7043    0.6681      8928\n",
      "weighted avg     0.7853    0.7353    0.7518      8928\n",
      "\n",
      "****************************************************************************************************\n",
      "RidgeClassifier(random_state=0, solver='sparse_cg')\n"
     ]
    },
    {
     "name": "stderr",
     "output_type": "stream",
     "text": [
      "\r",
      " 88%|████████▊ | 7/8 [3:41:55<23:24, 1404.61s/it]  "
     ]
    },
    {
     "name": "stdout",
     "output_type": "stream",
     "text": [
      "train time: 1.88e+02s\n",
      "test time:  0.0689s\n",
      "accuracy:   0.738\n",
      "roc_auc_score:   0.772\n",
      "\n",
      "dimensionality: 3123\n",
      "density: 1.0\n",
      "\n",
      "accuracy 0.7376792114695341\n",
      "[[5335 1630]\n",
      " [ 712 1251]]\n",
      "              precision    recall  f1-score   support\n",
      "\n",
      "           0     0.8823    0.7660    0.8200      6965\n",
      "           1     0.4342    0.6373    0.5165      1963\n",
      "\n",
      "    accuracy                         0.7377      8928\n",
      "   macro avg     0.6582    0.7016    0.6683      8928\n",
      "weighted avg     0.7837    0.7377    0.7533      8928\n",
      "\n",
      "****************************************************************************************************\n",
      "SGDClassifier(early_stopping=True, loss='log_loss', n_iter_no_change=1000,\n",
      "              random_state=0)\n"
     ]
    },
    {
     "name": "stderr",
     "output_type": "stream",
     "text": [
      "/home/hl2659/miniconda3/envs/hao_ner/lib/python3.9/site-packages/sklearn/linear_model/_stochastic_gradient.py:705: ConvergenceWarning: Maximum number of iteration reached before convergence. Consider increasing max_iter to improve the fit.\n",
      "  warnings.warn(\n",
      "100%|██████████| 8/8 [3:54:14<00:00, 1756.84s/it]\n"
     ]
    },
    {
     "name": "stdout",
     "output_type": "stream",
     "text": [
      "train time: 7.39e+02s\n",
      "test time:  0.0669s\n",
      "accuracy:   0.642\n",
      "roc_auc_score:   0.792\n",
      "\n",
      "dimensionality: 3123\n",
      "density: 1.0\n",
      "\n",
      "accuracy 0.6422491039426523\n",
      "[[4143 2822]\n",
      " [ 372 1591]]\n",
      "              precision    recall  f1-score   support\n",
      "\n",
      "           0     0.9176    0.5948    0.7218      6965\n",
      "           1     0.3605    0.8105    0.4991      1963\n",
      "\n",
      "    accuracy                         0.6422      8928\n",
      "   macro avg     0.6391    0.7027    0.6104      8928\n",
      "weighted avg     0.7951    0.6422    0.6728      8928\n",
      "\n",
      "testing random_seed: 42\n"
     ]
    },
    {
     "name": "stderr",
     "output_type": "stream",
     "text": [
      "\r",
      "  0%|          | 0/8 [00:00<?, ?it/s]"
     ]
    },
    {
     "name": "stdout",
     "output_type": "stream",
     "text": [
      "****************************************************************************************************\n",
      "LinearSVC(C=0.1, dual=False, random_state=42)\n"
     ]
    },
    {
     "name": "stderr",
     "output_type": "stream",
     "text": [
      "\r",
      " 12%|█▎        | 1/8 [11:17<1:18:59, 677.11s/it]"
     ]
    },
    {
     "name": "stdout",
     "output_type": "stream",
     "text": [
      "train time: 6.77e+02s\n",
      "test time:  0.0682s\n",
      "accuracy:   0.744\n",
      "roc_auc_score:   0.78\n",
      "\n",
      "dimensionality: 3123\n",
      "density: 1.0\n",
      "\n",
      "accuracy 0.7435035842293907\n",
      "[[5361 1604]\n",
      " [ 686 1277]]\n",
      "              precision    recall  f1-score   support\n",
      "\n",
      "           0     0.8866    0.7697    0.8240      6965\n",
      "           1     0.4432    0.6505    0.5273      1963\n",
      "\n",
      "    accuracy                         0.7435      8928\n",
      "   macro avg     0.6649    0.7101    0.6756      8928\n",
      "weighted avg     0.7891    0.7435    0.7588      8928\n",
      "\n",
      "****************************************************************************************************\n",
      "DecisionTreeClassifier(random_state=42)\n",
      "train time: 3.73e+03s\n",
      "test time:  0.135s\n",
      "accuracy:   0.724\n"
     ]
    },
    {
     "name": "stderr",
     "output_type": "stream",
     "text": [
      "\r",
      " 25%|██▌       | 2/8 [1:13:31<4:07:34, 2475.72s/it]"
     ]
    },
    {
     "name": "stdout",
     "output_type": "stream",
     "text": [
      "roc_auc_score:   0.578\n",
      "\n",
      "accuracy 0.7235663082437276\n",
      "[[5834 1131]\n",
      " [1337  626]]\n",
      "              precision    recall  f1-score   support\n",
      "\n",
      "           0     0.8136    0.8376    0.8254      6965\n",
      "           1     0.3563    0.3189    0.3366      1963\n",
      "\n",
      "    accuracy                         0.7236      8928\n",
      "   macro avg     0.5849    0.5783    0.5810      8928\n",
      "weighted avg     0.7130    0.7236    0.7179      8928\n",
      "\n",
      "****************************************************************************************************\n",
      "RandomForestClassifier(random_state=42)\n",
      "train time: 3.25e+03s\n",
      "test time:  3.88s\n",
      "accuracy:   0.806\n"
     ]
    },
    {
     "name": "stderr",
     "output_type": "stream",
     "text": [
      "\r",
      " 38%|███▊      | 3/8 [2:07:52<3:56:09, 2833.93s/it]"
     ]
    },
    {
     "name": "stdout",
     "output_type": "stream",
     "text": [
      "roc_auc_score:   0.764\n",
      "\n",
      "accuracy 0.8057795698924731\n",
      "[[6736  229]\n",
      " [1505  458]]\n",
      "              precision    recall  f1-score   support\n",
      "\n",
      "           0     0.8174    0.9671    0.8860      6965\n",
      "           1     0.6667    0.2333    0.3457      1963\n",
      "\n",
      "    accuracy                         0.8058      8928\n",
      "   macro avg     0.7420    0.6002    0.6158      8928\n",
      "weighted avg     0.7842    0.8058    0.7672      8928\n",
      "\n",
      "****************************************************************************************************\n",
      "MLPClassifier(alpha=1, early_stopping=True, max_iter=1000, random_state=42)\n",
      "train time: 3.33e+03s\n",
      "test time:  5.82s\n",
      "accuracy:   0.725\n"
     ]
    },
    {
     "name": "stderr",
     "output_type": "stream",
     "text": [
      "\r",
      " 50%|█████     | 4/8 [3:03:28<3:22:09, 3032.47s/it]"
     ]
    },
    {
     "name": "stdout",
     "output_type": "stream",
     "text": [
      "roc_auc_score:   0.791\n",
      "\n",
      "accuracy 0.7250224014336918\n",
      "[[5075 1890]\n",
      " [ 565 1398]]\n",
      "              precision    recall  f1-score   support\n",
      "\n",
      "           0     0.8998    0.7286    0.8052      6965\n",
      "           1     0.4252    0.7122    0.5325      1963\n",
      "\n",
      "    accuracy                         0.7250      8928\n",
      "   macro avg     0.6625    0.7204    0.6689      8928\n",
      "weighted avg     0.7955    0.7250    0.7453      8928\n",
      "\n",
      "****************************************************************************************************\n",
      "AdaBoostClassifier(random_state=42)\n",
      "train time: 3.2e+03s\n",
      "test time:  6.42s\n",
      "accuracy:   0.727\n"
     ]
    },
    {
     "name": "stderr",
     "output_type": "stream",
     "text": [
      "\r",
      " 62%|██████▎   | 5/8 [3:57:01<2:34:51, 3097.32s/it]"
     ]
    },
    {
     "name": "stdout",
     "output_type": "stream",
     "text": [
      "roc_auc_score:   0.765\n",
      "\n",
      "accuracy 0.7267025089605734\n",
      "[[5196 1769]\n",
      " [ 671 1292]]\n",
      "              precision    recall  f1-score   support\n",
      "\n",
      "           0     0.8856    0.7460    0.8099      6965\n",
      "           1     0.4221    0.6582    0.5143      1963\n",
      "\n",
      "    accuracy                         0.7267      8928\n",
      "   macro avg     0.6539    0.7021    0.6621      8928\n",
      "weighted avg     0.7837    0.7267    0.7449      8928\n",
      "\n",
      "****************************************************************************************************\n",
      "LogisticRegression(C=10, max_iter=1000, random_state=42)\n"
     ]
    },
    {
     "name": "stderr",
     "output_type": "stream",
     "text": [
      "/home/hl2659/miniconda3/envs/hao_ner/lib/python3.9/site-packages/sklearn/linear_model/_logistic.py:444: ConvergenceWarning: lbfgs failed to converge (status=1):\n",
      "STOP: TOTAL NO. of ITERATIONS REACHED LIMIT.\n",
      "\n",
      "Increase the number of iterations (max_iter) or scale the data as shown in:\n",
      "    https://scikit-learn.org/stable/modules/preprocessing.html\n",
      "Please also refer to the documentation for alternative solver options:\n",
      "    https://scikit-learn.org/stable/modules/linear_model.html#logistic-regression\n",
      "  n_iter_i = _check_optimize_result(\n",
      "\r",
      " 75%|███████▌  | 6/8 [4:14:27<1:19:59, 2399.88s/it]"
     ]
    },
    {
     "name": "stdout",
     "output_type": "stream",
     "text": [
      "train time: 1.05e+03s\n",
      "test time:  0.0676s\n",
      "accuracy:   0.735\n",
      "roc_auc_score:   0.774\n",
      "\n",
      "dimensionality: 3123\n",
      "density: 1.0\n",
      "\n",
      "accuracy 0.7353270609318996\n",
      "[[5291 1674]\n",
      " [ 689 1274]]\n",
      "              precision    recall  f1-score   support\n",
      "\n",
      "           0     0.8848    0.7597    0.8175      6965\n",
      "           1     0.4322    0.6490    0.5188      1963\n",
      "\n",
      "    accuracy                         0.7353      8928\n",
      "   macro avg     0.6585    0.7043    0.6681      8928\n",
      "weighted avg     0.7853    0.7353    0.7518      8928\n",
      "\n",
      "****************************************************************************************************\n",
      "RidgeClassifier(random_state=42, solver='sparse_cg')\n",
      "train time: 2.97e+02s\n",
      "test time:  0.106s\n",
      "accuracy:   0.738\n"
     ]
    },
    {
     "name": "stderr",
     "output_type": "stream",
     "text": [
      "\r",
      " 88%|████████▊ | 7/8 [4:19:24<28:32, 1712.42s/it]  "
     ]
    },
    {
     "name": "stdout",
     "output_type": "stream",
     "text": [
      "roc_auc_score:   0.772\n",
      "\n",
      "dimensionality: 3123\n",
      "density: 1.0\n",
      "\n",
      "accuracy 0.7376792114695341\n",
      "[[5335 1630]\n",
      " [ 712 1251]]\n",
      "              precision    recall  f1-score   support\n",
      "\n",
      "           0     0.8823    0.7660    0.8200      6965\n",
      "           1     0.4342    0.6373    0.5165      1963\n",
      "\n",
      "    accuracy                         0.7377      8928\n",
      "   macro avg     0.6582    0.7016    0.6683      8928\n",
      "weighted avg     0.7837    0.7377    0.7533      8928\n",
      "\n",
      "****************************************************************************************************\n",
      "SGDClassifier(early_stopping=True, loss='log_loss', n_iter_no_change=1000,\n",
      "              random_state=42)\n"
     ]
    },
    {
     "name": "stderr",
     "output_type": "stream",
     "text": [
      "/home/hl2659/miniconda3/envs/hao_ner/lib/python3.9/site-packages/sklearn/linear_model/_stochastic_gradient.py:705: ConvergenceWarning: Maximum number of iteration reached before convergence. Consider increasing max_iter to improve the fit.\n",
      "  warnings.warn(\n"
     ]
    },
    {
     "name": "stdout",
     "output_type": "stream",
     "text": [
      "train time: 1.12e+03s\n",
      "test time:  0.112s\n",
      "accuracy:   0.692\n"
     ]
    },
    {
     "name": "stderr",
     "output_type": "stream",
     "text": [
      "100%|██████████| 8/8 [4:38:02<00:00, 2085.28s/it]\n"
     ]
    },
    {
     "name": "stdout",
     "output_type": "stream",
     "text": [
      "roc_auc_score:   0.791\n",
      "\n",
      "dimensionality: 3123\n",
      "density: 1.0\n",
      "\n",
      "accuracy 0.691644265232975\n",
      "[[4696 2269]\n",
      " [ 484 1479]]\n",
      "              precision    recall  f1-score   support\n",
      "\n",
      "           0     0.9066    0.6742    0.7733      6965\n",
      "           1     0.3946    0.7534    0.5179      1963\n",
      "\n",
      "    accuracy                         0.6916      8928\n",
      "   macro avg     0.6506    0.7138    0.6456      8928\n",
      "weighted avg     0.7940    0.6916    0.7172      8928\n",
      "\n",
      "testing random_seed: 1987\n"
     ]
    },
    {
     "name": "stderr",
     "output_type": "stream",
     "text": [
      "\r",
      "  0%|          | 0/8 [00:00<?, ?it/s]"
     ]
    },
    {
     "name": "stdout",
     "output_type": "stream",
     "text": [
      "****************************************************************************************************\n",
      "LinearSVC(C=0.1, dual=False, random_state=1987)\n"
     ]
    },
    {
     "name": "stderr",
     "output_type": "stream",
     "text": [
      "\r",
      " 12%|█▎        | 1/8 [18:26<2:09:02, 1106.13s/it]"
     ]
    },
    {
     "name": "stdout",
     "output_type": "stream",
     "text": [
      "train time: 1.11e+03s\n",
      "test time:  0.0701s\n",
      "accuracy:   0.744\n",
      "roc_auc_score:   0.78\n",
      "\n",
      "dimensionality: 3123\n",
      "density: 1.0\n",
      "\n",
      "accuracy 0.7435035842293907\n",
      "[[5361 1604]\n",
      " [ 686 1277]]\n",
      "              precision    recall  f1-score   support\n",
      "\n",
      "           0     0.8866    0.7697    0.8240      6965\n",
      "           1     0.4432    0.6505    0.5273      1963\n",
      "\n",
      "    accuracy                         0.7435      8928\n",
      "   macro avg     0.6649    0.7101    0.6756      8928\n",
      "weighted avg     0.7891    0.7435    0.7588      8928\n",
      "\n",
      "****************************************************************************************************\n",
      "DecisionTreeClassifier(random_state=1987)\n",
      "train time: 3.22e+03s\n",
      "test time:  0.136s\n",
      "accuracy:   0.724\n"
     ]
    },
    {
     "name": "stderr",
     "output_type": "stream",
     "text": [
      "\r",
      " 25%|██▌       | 2/8 [1:12:09<3:55:08, 2351.42s/it]"
     ]
    },
    {
     "name": "stdout",
     "output_type": "stream",
     "text": [
      "roc_auc_score:   0.581\n",
      "\n",
      "accuracy 0.7241263440860215\n",
      "[[5825 1140]\n",
      " [1323  640]]\n",
      "              precision    recall  f1-score   support\n",
      "\n",
      "           0     0.8149    0.8363    0.8255      6965\n",
      "           1     0.3596    0.3260    0.3420      1963\n",
      "\n",
      "    accuracy                         0.7241      8928\n",
      "   macro avg     0.5872    0.5812    0.5837      8928\n",
      "weighted avg     0.7148    0.7241    0.7192      8928\n",
      "\n",
      "****************************************************************************************************\n",
      "RandomForestClassifier(random_state=1987)\n",
      "train time: 3.29e+03s\n",
      "test time:  3.75s\n",
      "accuracy:   0.807\n"
     ]
    },
    {
     "name": "stderr",
     "output_type": "stream",
     "text": [
      "\r",
      " 38%|███▊      | 3/8 [2:07:07<3:51:59, 2783.86s/it]"
     ]
    },
    {
     "name": "stdout",
     "output_type": "stream",
     "text": [
      "roc_auc_score:   0.766\n",
      "\n",
      "accuracy 0.807347670250896\n",
      "[[6739  226]\n",
      " [1494  469]]\n",
      "              precision    recall  f1-score   support\n",
      "\n",
      "           0     0.8185    0.9676    0.8868      6965\n",
      "           1     0.6748    0.2389    0.3529      1963\n",
      "\n",
      "    accuracy                         0.8073      8928\n",
      "   macro avg     0.7467    0.6032    0.6199      8928\n",
      "weighted avg     0.7869    0.8073    0.7694      8928\n",
      "\n",
      "****************************************************************************************************\n",
      "MLPClassifier(alpha=1, early_stopping=True, max_iter=1000, random_state=1987)\n",
      "train time: 2.17e+03s\n",
      "test time:  1.12s\n",
      "accuracy:   0.733\n"
     ]
    },
    {
     "name": "stderr",
     "output_type": "stream",
     "text": [
      "\r",
      " 50%|█████     | 4/8 [2:43:17<2:49:25, 2541.33s/it]"
     ]
    },
    {
     "name": "stdout",
     "output_type": "stream",
     "text": [
      "roc_auc_score:   0.791\n",
      "\n",
      "accuracy 0.7334229390681004\n",
      "[[5179 1786]\n",
      " [ 594 1369]]\n",
      "              precision    recall  f1-score   support\n",
      "\n",
      "           0     0.8971    0.7436    0.8132      6965\n",
      "           1     0.4339    0.6974    0.5350      1963\n",
      "\n",
      "    accuracy                         0.7334      8928\n",
      "   macro avg     0.6655    0.7205    0.6741      8928\n",
      "weighted avg     0.7953    0.7334    0.7520      8928\n",
      "\n",
      "****************************************************************************************************\n",
      "AdaBoostClassifier(random_state=1987)\n",
      "train time: 2.92e+03s\n",
      "test time:  6.27s\n",
      "accuracy:   0.727\n"
     ]
    },
    {
     "name": "stderr",
     "output_type": "stream",
     "text": [
      "\r",
      " 62%|██████▎   | 5/8 [3:32:12<2:14:10, 2683.36s/it]"
     ]
    },
    {
     "name": "stdout",
     "output_type": "stream",
     "text": [
      "roc_auc_score:   0.765\n",
      "\n",
      "accuracy 0.7267025089605734\n",
      "[[5196 1769]\n",
      " [ 671 1292]]\n",
      "              precision    recall  f1-score   support\n",
      "\n",
      "           0     0.8856    0.7460    0.8099      6965\n",
      "           1     0.4221    0.6582    0.5143      1963\n",
      "\n",
      "    accuracy                         0.7267      8928\n",
      "   macro avg     0.6539    0.7021    0.6621      8928\n",
      "weighted avg     0.7837    0.7267    0.7449      8928\n",
      "\n",
      "****************************************************************************************************\n",
      "LogisticRegression(C=10, max_iter=1000, random_state=1987)\n"
     ]
    },
    {
     "name": "stderr",
     "output_type": "stream",
     "text": [
      "/home/hl2659/miniconda3/envs/hao_ner/lib/python3.9/site-packages/sklearn/linear_model/_logistic.py:444: ConvergenceWarning: lbfgs failed to converge (status=1):\n",
      "STOP: TOTAL NO. of ITERATIONS REACHED LIMIT.\n",
      "\n",
      "Increase the number of iterations (max_iter) or scale the data as shown in:\n",
      "    https://scikit-learn.org/stable/modules/preprocessing.html\n",
      "Please also refer to the documentation for alternative solver options:\n",
      "    https://scikit-learn.org/stable/modules/linear_model.html#logistic-regression\n",
      "  n_iter_i = _check_optimize_result(\n",
      "\r",
      " 75%|███████▌  | 6/8 [3:45:18<1:07:56, 2038.39s/it]"
     ]
    },
    {
     "name": "stdout",
     "output_type": "stream",
     "text": [
      "train time: 7.86e+02s\n",
      "test time:  0.067s\n",
      "accuracy:   0.735\n",
      "roc_auc_score:   0.774\n",
      "\n",
      "dimensionality: 3123\n",
      "density: 1.0\n",
      "\n",
      "accuracy 0.7353270609318996\n",
      "[[5291 1674]\n",
      " [ 689 1274]]\n",
      "              precision    recall  f1-score   support\n",
      "\n",
      "           0     0.8848    0.7597    0.8175      6965\n",
      "           1     0.4322    0.6490    0.5188      1963\n",
      "\n",
      "    accuracy                         0.7353      8928\n",
      "   macro avg     0.6585    0.7043    0.6681      8928\n",
      "weighted avg     0.7853    0.7353    0.7518      8928\n",
      "\n",
      "****************************************************************************************************\n",
      "RidgeClassifier(random_state=1987, solver='sparse_cg')\n"
     ]
    },
    {
     "name": "stderr",
     "output_type": "stream",
     "text": [
      "\r",
      " 88%|████████▊ | 7/8 [3:48:19<23:51, 1431.20s/it]  "
     ]
    },
    {
     "name": "stdout",
     "output_type": "stream",
     "text": [
      "train time: 1.81e+02s\n",
      "test time:  0.0657s\n",
      "accuracy:   0.738\n",
      "roc_auc_score:   0.772\n",
      "\n",
      "dimensionality: 3123\n",
      "density: 1.0\n",
      "\n",
      "accuracy 0.7376792114695341\n",
      "[[5335 1630]\n",
      " [ 712 1251]]\n",
      "              precision    recall  f1-score   support\n",
      "\n",
      "           0     0.8823    0.7660    0.8200      6965\n",
      "           1     0.4342    0.6373    0.5165      1963\n",
      "\n",
      "    accuracy                         0.7377      8928\n",
      "   macro avg     0.6582    0.7016    0.6683      8928\n",
      "weighted avg     0.7837    0.7377    0.7533      8928\n",
      "\n",
      "****************************************************************************************************\n",
      "SGDClassifier(early_stopping=True, loss='log_loss', n_iter_no_change=1000,\n",
      "              random_state=1987)\n"
     ]
    },
    {
     "name": "stderr",
     "output_type": "stream",
     "text": [
      "/home/hl2659/miniconda3/envs/hao_ner/lib/python3.9/site-packages/sklearn/linear_model/_stochastic_gradient.py:705: ConvergenceWarning: Maximum number of iteration reached before convergence. Consider increasing max_iter to improve the fit.\n",
      "  warnings.warn(\n"
     ]
    },
    {
     "name": "stdout",
     "output_type": "stream",
     "text": [
      "train time: 1.05e+03s\n",
      "test time:  0.115s\n",
      "accuracy:   0.753\n"
     ]
    },
    {
     "name": "stderr",
     "output_type": "stream",
     "text": [
      "100%|██████████| 8/8 [4:05:52<00:00, 1844.10s/it]\n"
     ]
    },
    {
     "name": "stdout",
     "output_type": "stream",
     "text": [
      "roc_auc_score:   0.794\n",
      "\n",
      "dimensionality: 3123\n",
      "density: 1.0\n",
      "\n",
      "accuracy 0.7531362007168458\n",
      "[[5425 1540]\n",
      " [ 664 1299]]\n",
      "              precision    recall  f1-score   support\n",
      "\n",
      "           0     0.8910    0.7789    0.8312      6965\n",
      "           1     0.4576    0.6617    0.5410      1963\n",
      "\n",
      "    accuracy                         0.7531      8928\n",
      "   macro avg     0.6743    0.7203    0.6861      8928\n",
      "weighted avg     0.7957    0.7531    0.7674      8928\n",
      "\n",
      "testing random_seed: 1990\n"
     ]
    },
    {
     "name": "stderr",
     "output_type": "stream",
     "text": [
      "\r",
      "  0%|          | 0/8 [00:00<?, ?it/s]"
     ]
    },
    {
     "name": "stdout",
     "output_type": "stream",
     "text": [
      "****************************************************************************************************\n",
      "LinearSVC(C=0.1, dual=False, random_state=1990)\n"
     ]
    },
    {
     "name": "stderr",
     "output_type": "stream",
     "text": [
      "\r",
      " 12%|█▎        | 1/8 [16:11<1:53:21, 971.58s/it]"
     ]
    },
    {
     "name": "stdout",
     "output_type": "stream",
     "text": [
      "train time: 9.71e+02s\n",
      "test time:  0.071s\n",
      "accuracy:   0.744\n",
      "roc_auc_score:   0.78\n",
      "\n",
      "dimensionality: 3123\n",
      "density: 1.0\n",
      "\n",
      "accuracy 0.7435035842293907\n",
      "[[5361 1604]\n",
      " [ 686 1277]]\n",
      "              precision    recall  f1-score   support\n",
      "\n",
      "           0     0.8866    0.7697    0.8240      6965\n",
      "           1     0.4432    0.6505    0.5273      1963\n",
      "\n",
      "    accuracy                         0.7435      8928\n",
      "   macro avg     0.6649    0.7101    0.6756      8928\n",
      "weighted avg     0.7891    0.7435    0.7588      8928\n",
      "\n",
      "****************************************************************************************************\n",
      "DecisionTreeClassifier(random_state=1990)\n",
      "train time: 2.77e+03s\n",
      "test time:  0.133s\n",
      "accuracy:   0.73\n"
     ]
    },
    {
     "name": "stderr",
     "output_type": "stream",
     "text": [
      "\r",
      " 25%|██▌       | 2/8 [1:02:19<3:22:48, 2028.05s/it]"
     ]
    },
    {
     "name": "stdout",
     "output_type": "stream",
     "text": [
      "roc_auc_score:   0.58\n",
      "\n",
      "accuracy 0.7297267025089605\n",
      "[[5901 1064]\n",
      " [1349  614]]\n",
      "              precision    recall  f1-score   support\n",
      "\n",
      "           0     0.8139    0.8472    0.8302      6965\n",
      "           1     0.3659    0.3128    0.3373      1963\n",
      "\n",
      "    accuracy                         0.7297      8928\n",
      "   macro avg     0.5899    0.5800    0.5838      8928\n",
      "weighted avg     0.7154    0.7297    0.7219      8928\n",
      "\n",
      "****************************************************************************************************\n",
      "RandomForestClassifier(random_state=1990)\n",
      "train time: 2.74e+03s\n",
      "test time:  3.64s\n",
      "accuracy:   0.806\n"
     ]
    },
    {
     "name": "stderr",
     "output_type": "stream",
     "text": [
      "\r",
      " 38%|███▊      | 3/8 [1:48:01<3:16:11, 2354.23s/it]"
     ]
    },
    {
     "name": "stdout",
     "output_type": "stream",
     "text": [
      "roc_auc_score:   0.767\n",
      "\n",
      "accuracy 0.8060035842293907\n",
      "[[6741  224]\n",
      " [1508  455]]\n",
      "              precision    recall  f1-score   support\n",
      "\n",
      "           0     0.8172    0.9678    0.8862      6965\n",
      "           1     0.6701    0.2318    0.3444      1963\n",
      "\n",
      "    accuracy                         0.8060      8928\n",
      "   macro avg     0.7436    0.5998    0.6153      8928\n",
      "weighted avg     0.7848    0.8060    0.7670      8928\n",
      "\n",
      "****************************************************************************************************\n",
      "MLPClassifier(alpha=1, early_stopping=True, max_iter=1000, random_state=1990)\n",
      "train time: 6.62e+02s\n",
      "test time:  1.28s\n",
      "accuracy:   0.75\n"
     ]
    },
    {
     "name": "stderr",
     "output_type": "stream",
     "text": [
      "\r",
      " 50%|█████     | 4/8 [1:59:06<1:52:29, 1687.31s/it]"
     ]
    },
    {
     "name": "stdout",
     "output_type": "stream",
     "text": [
      "roc_auc_score:   0.784\n",
      "\n",
      "accuracy 0.75\n",
      "[[5440 1525]\n",
      " [ 707 1256]]\n",
      "              precision    recall  f1-score   support\n",
      "\n",
      "           0     0.8850    0.7810    0.8298      6965\n",
      "           1     0.4516    0.6398    0.5295      1963\n",
      "\n",
      "    accuracy                         0.7500      8928\n",
      "   macro avg     0.6683    0.7104    0.6796      8928\n",
      "weighted avg     0.7897    0.7500    0.7638      8928\n",
      "\n",
      "****************************************************************************************************\n",
      "AdaBoostClassifier(random_state=1990)\n",
      "train time: 3e+03s\n",
      "test time:  6.22s\n",
      "accuracy:   0.727\n"
     ]
    },
    {
     "name": "stderr",
     "output_type": "stream",
     "text": [
      "\r",
      " 62%|██████▎   | 5/8 [2:49:17<1:48:13, 2164.48s/it]"
     ]
    },
    {
     "name": "stdout",
     "output_type": "stream",
     "text": [
      "roc_auc_score:   0.765\n",
      "\n",
      "accuracy 0.7267025089605734\n",
      "[[5196 1769]\n",
      " [ 671 1292]]\n",
      "              precision    recall  f1-score   support\n",
      "\n",
      "           0     0.8856    0.7460    0.8099      6965\n",
      "           1     0.4221    0.6582    0.5143      1963\n",
      "\n",
      "    accuracy                         0.7267      8928\n",
      "   macro avg     0.6539    0.7021    0.6621      8928\n",
      "weighted avg     0.7837    0.7267    0.7449      8928\n",
      "\n",
      "****************************************************************************************************\n",
      "LogisticRegression(C=10, max_iter=1000, random_state=1990)\n"
     ]
    },
    {
     "name": "stderr",
     "output_type": "stream",
     "text": [
      "/home/hl2659/miniconda3/envs/hao_ner/lib/python3.9/site-packages/sklearn/linear_model/_logistic.py:444: ConvergenceWarning: lbfgs failed to converge (status=1):\n",
      "STOP: TOTAL NO. of ITERATIONS REACHED LIMIT.\n",
      "\n",
      "Increase the number of iterations (max_iter) or scale the data as shown in:\n",
      "    https://scikit-learn.org/stable/modules/preprocessing.html\n",
      "Please also refer to the documentation for alternative solver options:\n",
      "    https://scikit-learn.org/stable/modules/linear_model.html#logistic-regression\n",
      "  n_iter_i = _check_optimize_result(\n",
      "\r",
      " 75%|███████▌  | 6/8 [3:02:18<56:28, 1694.17s/it]  "
     ]
    },
    {
     "name": "stdout",
     "output_type": "stream",
     "text": [
      "train time: 7.81e+02s\n",
      "test time:  0.0655s\n",
      "accuracy:   0.735\n",
      "roc_auc_score:   0.774\n",
      "\n",
      "dimensionality: 3123\n",
      "density: 1.0\n",
      "\n",
      "accuracy 0.7353270609318996\n",
      "[[5291 1674]\n",
      " [ 689 1274]]\n",
      "              precision    recall  f1-score   support\n",
      "\n",
      "           0     0.8848    0.7597    0.8175      6965\n",
      "           1     0.4322    0.6490    0.5188      1963\n",
      "\n",
      "    accuracy                         0.7353      8928\n",
      "   macro avg     0.6585    0.7043    0.6681      8928\n",
      "weighted avg     0.7853    0.7353    0.7518      8928\n",
      "\n",
      "****************************************************************************************************\n",
      "RidgeClassifier(random_state=1990, solver='sparse_cg')\n"
     ]
    },
    {
     "name": "stderr",
     "output_type": "stream",
     "text": [
      "\r",
      " 88%|████████▊ | 7/8 [3:05:23<20:00, 1200.71s/it]"
     ]
    },
    {
     "name": "stdout",
     "output_type": "stream",
     "text": [
      "train time: 1.85e+02s\n",
      "test time:  0.0662s\n",
      "accuracy:   0.738\n",
      "roc_auc_score:   0.772\n",
      "\n",
      "dimensionality: 3123\n",
      "density: 1.0\n",
      "\n",
      "accuracy 0.7376792114695341\n",
      "[[5335 1630]\n",
      " [ 712 1251]]\n",
      "              precision    recall  f1-score   support\n",
      "\n",
      "           0     0.8823    0.7660    0.8200      6965\n",
      "           1     0.4342    0.6373    0.5165      1963\n",
      "\n",
      "    accuracy                         0.7377      8928\n",
      "   macro avg     0.6582    0.7016    0.6683      8928\n",
      "weighted avg     0.7837    0.7377    0.7533      8928\n",
      "\n",
      "****************************************************************************************************\n",
      "SGDClassifier(early_stopping=True, loss='log_loss', n_iter_no_change=1000,\n",
      "              random_state=1990)\n"
     ]
    },
    {
     "name": "stderr",
     "output_type": "stream",
     "text": [
      "/home/hl2659/miniconda3/envs/hao_ner/lib/python3.9/site-packages/sklearn/linear_model/_stochastic_gradient.py:705: ConvergenceWarning: Maximum number of iteration reached before convergence. Consider increasing max_iter to improve the fit.\n",
      "  warnings.warn(\n"
     ]
    },
    {
     "name": "stdout",
     "output_type": "stream",
     "text": [
      "train time: 7.14e+02s\n",
      "test time:  0.11s\n",
      "accuracy:   0.769\n"
     ]
    },
    {
     "name": "stderr",
     "output_type": "stream",
     "text": [
      "100%|██████████| 8/8 [3:17:17<00:00, 1479.68s/it]\n"
     ]
    },
    {
     "name": "stdout",
     "output_type": "stream",
     "text": [
      "roc_auc_score:   0.794\n",
      "\n",
      "dimensionality: 3123\n",
      "density: 1.0\n",
      "\n",
      "accuracy 0.7691532258064516\n",
      "[[5669 1296]\n",
      " [ 765 1198]]\n",
      "              precision    recall  f1-score   support\n",
      "\n",
      "           0     0.8811    0.8139    0.8462      6965\n",
      "           1     0.4804    0.6103    0.5376      1963\n",
      "\n",
      "    accuracy                         0.7692      8928\n",
      "   macro avg     0.6807    0.7121    0.6919      8928\n",
      "weighted avg     0.7930    0.7692    0.7783      8928\n",
      "\n",
      "testing random_seed: 2022\n"
     ]
    },
    {
     "name": "stderr",
     "output_type": "stream",
     "text": [
      "\r",
      "  0%|          | 0/8 [00:00<?, ?it/s]"
     ]
    },
    {
     "name": "stdout",
     "output_type": "stream",
     "text": [
      "****************************************************************************************************\n",
      "LinearSVC(C=0.1, dual=False, random_state=2022)\n",
      "train time: 1.26e+03s\n",
      "test time:  0.124s\n",
      "accuracy:   0.744\n"
     ]
    },
    {
     "name": "stderr",
     "output_type": "stream",
     "text": [
      "\r",
      " 12%|█▎        | 1/8 [20:59<2:26:54, 1259.27s/it]"
     ]
    },
    {
     "name": "stdout",
     "output_type": "stream",
     "text": [
      "roc_auc_score:   0.78\n",
      "\n",
      "dimensionality: 3123\n",
      "density: 1.0\n",
      "\n",
      "accuracy 0.7435035842293907\n",
      "[[5361 1604]\n",
      " [ 686 1277]]\n",
      "              precision    recall  f1-score   support\n",
      "\n",
      "           0     0.8866    0.7697    0.8240      6965\n",
      "           1     0.4432    0.6505    0.5273      1963\n",
      "\n",
      "    accuracy                         0.7435      8928\n",
      "   macro avg     0.6649    0.7101    0.6756      8928\n",
      "weighted avg     0.7891    0.7435    0.7588      8928\n",
      "\n",
      "****************************************************************************************************\n",
      "DecisionTreeClassifier(random_state=2022)\n",
      "train time: 3.38e+03s\n",
      "test time:  1.06s\n",
      "accuracy:   0.726\n"
     ]
    },
    {
     "name": "stderr",
     "output_type": "stream",
     "text": [
      "\r",
      " 25%|██▌       | 2/8 [1:17:18<4:10:37, 2506.24s/it]"
     ]
    },
    {
     "name": "stdout",
     "output_type": "stream",
     "text": [
      "roc_auc_score:   0.579\n",
      "\n",
      "accuracy 0.7263664874551972\n",
      "[[5867 1098]\n",
      " [1345  618]]\n",
      "              precision    recall  f1-score   support\n",
      "\n",
      "           0     0.8135    0.8424    0.8277      6965\n",
      "           1     0.3601    0.3148    0.3360      1963\n",
      "\n",
      "    accuracy                         0.7264      8928\n",
      "   macro avg     0.5868    0.5786    0.5818      8928\n",
      "weighted avg     0.7138    0.7264    0.7196      8928\n",
      "\n",
      "****************************************************************************************************\n",
      "RandomForestClassifier(random_state=2022)\n",
      "train time: 2.74e+03s\n",
      "test time:  3.78s\n",
      "accuracy:   0.802\n"
     ]
    },
    {
     "name": "stderr",
     "output_type": "stream",
     "text": [
      "\r",
      " 38%|███▊      | 3/8 [2:03:08<3:38:07, 2617.49s/it]"
     ]
    },
    {
     "name": "stdout",
     "output_type": "stream",
     "text": [
      "roc_auc_score:   0.761\n",
      "\n",
      "accuracy 0.8020833333333334\n",
      "[[6729  236]\n",
      " [1531  432]]\n",
      "              precision    recall  f1-score   support\n",
      "\n",
      "           0     0.8146    0.9661    0.8839      6965\n",
      "           1     0.6467    0.2201    0.3284      1963\n",
      "\n",
      "    accuracy                         0.8021      8928\n",
      "   macro avg     0.7307    0.5931    0.6062      8928\n",
      "weighted avg     0.7777    0.8021    0.7618      8928\n",
      "\n",
      "****************************************************************************************************\n",
      "MLPClassifier(alpha=1, early_stopping=True, max_iter=1000, random_state=2022)\n",
      "train time: 8.57e+02s\n",
      "test time:  1.29s\n",
      "accuracy:   0.722\n"
     ]
    },
    {
     "name": "stderr",
     "output_type": "stream",
     "text": [
      "\r",
      " 50%|█████     | 4/8 [2:17:28<2:08:14, 1923.56s/it]"
     ]
    },
    {
     "name": "stdout",
     "output_type": "stream",
     "text": [
      "roc_auc_score:   0.789\n",
      "\n",
      "accuracy 0.7215501792114696\n",
      "[[5057 1908]\n",
      " [ 578 1385]]\n",
      "              precision    recall  f1-score   support\n",
      "\n",
      "           0     0.8974    0.7261    0.8027      6965\n",
      "           1     0.4206    0.7056    0.5270      1963\n",
      "\n",
      "    accuracy                         0.7216      8928\n",
      "   macro avg     0.6590    0.7158    0.6649      8928\n",
      "weighted avg     0.7926    0.7216    0.7421      8928\n",
      "\n",
      "****************************************************************************************************\n",
      "AdaBoostClassifier(random_state=2022)\n",
      "train time: 2.93e+03s\n",
      "test time:  7.23s\n",
      "accuracy:   0.727\n"
     ]
    },
    {
     "name": "stderr",
     "output_type": "stream",
     "text": [
      "\r",
      " 62%|██████▎   | 5/8 [3:06:30<1:54:32, 2290.82s/it]"
     ]
    },
    {
     "name": "stdout",
     "output_type": "stream",
     "text": [
      "roc_auc_score:   0.765\n",
      "\n",
      "accuracy 0.7267025089605734\n",
      "[[5196 1769]\n",
      " [ 671 1292]]\n",
      "              precision    recall  f1-score   support\n",
      "\n",
      "           0     0.8856    0.7460    0.8099      6965\n",
      "           1     0.4221    0.6582    0.5143      1963\n",
      "\n",
      "    accuracy                         0.7267      8928\n",
      "   macro avg     0.6539    0.7021    0.6621      8928\n",
      "weighted avg     0.7837    0.7267    0.7449      8928\n",
      "\n",
      "****************************************************************************************************\n",
      "LogisticRegression(C=10, max_iter=1000, random_state=2022)\n"
     ]
    },
    {
     "name": "stderr",
     "output_type": "stream",
     "text": [
      "/home/hl2659/miniconda3/envs/hao_ner/lib/python3.9/site-packages/sklearn/linear_model/_logistic.py:444: ConvergenceWarning: lbfgs failed to converge (status=1):\n",
      "STOP: TOTAL NO. of ITERATIONS REACHED LIMIT.\n",
      "\n",
      "Increase the number of iterations (max_iter) or scale the data as shown in:\n",
      "    https://scikit-learn.org/stable/modules/preprocessing.html\n",
      "Please also refer to the documentation for alternative solver options:\n",
      "    https://scikit-learn.org/stable/modules/linear_model.html#logistic-regression\n",
      "  n_iter_i = _check_optimize_result(\n",
      "\r",
      " 75%|███████▌  | 6/8 [3:21:00<1:00:15, 1807.97s/it]"
     ]
    },
    {
     "name": "stdout",
     "output_type": "stream",
     "text": [
      "train time: 8.71e+02s\n",
      "test time:  0.0631s\n",
      "accuracy:   0.735\n",
      "roc_auc_score:   0.774\n",
      "\n",
      "dimensionality: 3123\n",
      "density: 1.0\n",
      "\n",
      "accuracy 0.7353270609318996\n",
      "[[5291 1674]\n",
      " [ 689 1274]]\n",
      "              precision    recall  f1-score   support\n",
      "\n",
      "           0     0.8848    0.7597    0.8175      6965\n",
      "           1     0.4322    0.6490    0.5188      1963\n",
      "\n",
      "    accuracy                         0.7353      8928\n",
      "   macro avg     0.6585    0.7043    0.6681      8928\n",
      "weighted avg     0.7853    0.7353    0.7518      8928\n",
      "\n",
      "****************************************************************************************************\n",
      "RidgeClassifier(random_state=2022, solver='sparse_cg')\n"
     ]
    },
    {
     "name": "stderr",
     "output_type": "stream",
     "text": [
      "\r",
      " 88%|████████▊ | 7/8 [3:23:57<21:14, 1274.71s/it]  "
     ]
    },
    {
     "name": "stdout",
     "output_type": "stream",
     "text": [
      "train time: 1.77e+02s\n",
      "test time:  0.0627s\n",
      "accuracy:   0.738\n",
      "roc_auc_score:   0.772\n",
      "\n",
      "dimensionality: 3123\n",
      "density: 1.0\n",
      "\n",
      "accuracy 0.7376792114695341\n",
      "[[5335 1630]\n",
      " [ 712 1251]]\n",
      "              precision    recall  f1-score   support\n",
      "\n",
      "           0     0.8823    0.7660    0.8200      6965\n",
      "           1     0.4342    0.6373    0.5165      1963\n",
      "\n",
      "    accuracy                         0.7377      8928\n",
      "   macro avg     0.6582    0.7016    0.6683      8928\n",
      "weighted avg     0.7837    0.7377    0.7533      8928\n",
      "\n",
      "****************************************************************************************************\n",
      "SGDClassifier(early_stopping=True, loss='log_loss', n_iter_no_change=1000,\n",
      "              random_state=2022)\n"
     ]
    },
    {
     "name": "stderr",
     "output_type": "stream",
     "text": [
      "/home/hl2659/miniconda3/envs/hao_ner/lib/python3.9/site-packages/sklearn/linear_model/_stochastic_gradient.py:705: ConvergenceWarning: Maximum number of iteration reached before convergence. Consider increasing max_iter to improve the fit.\n",
      "  warnings.warn(\n",
      "100%|██████████| 8/8 [3:36:31<00:00, 1623.98s/it]"
     ]
    },
    {
     "name": "stdout",
     "output_type": "stream",
     "text": [
      "train time: 7.54e+02s\n",
      "test time:  0.061s\n",
      "accuracy:   0.761\n",
      "roc_auc_score:   0.792\n",
      "\n",
      "dimensionality: 3123\n",
      "density: 1.0\n",
      "\n",
      "accuracy 0.7605286738351255\n",
      "[[5526 1439]\n",
      " [ 699 1264]]\n",
      "              precision    recall  f1-score   support\n",
      "\n",
      "           0     0.8877    0.7934    0.8379      6965\n",
      "           1     0.4676    0.6439    0.5418      1963\n",
      "\n",
      "    accuracy                         0.7605      8928\n",
      "   macro avg     0.6777    0.7187    0.6898      8928\n",
      "weighted avg     0.7953    0.7605    0.7728      8928\n",
      "\n"
     ]
    },
    {
     "name": "stderr",
     "output_type": "stream",
     "text": [
      "\n"
     ]
    }
   ],
   "source": [
    "random_seeds_list = [0, 42, 1987, 1990, 2022]\n",
    "results_preds_list = []\n",
    "\n",
    "for rr_seed in random_seeds_list:\n",
    "    print(f'testing random_seed: {rr_seed}')\n",
    "    classifiers = [\n",
    "    #     KNeighborsClassifier(n_neighbors=100),\n",
    "        #     SVC(kernel=\"linear\", C=0.025),  # , verbose=True   # slow and not scalable \n",
    "        LinearSVC(C=0.1, dual=False, max_iter=1000, random_state=rr_seed),  # L2 penalty Linear SVC\n",
    "    #     SVC(gamma='auto', C=1, max_iter=1000),   # , verbose=True # slow and not scalable \n",
    "        DecisionTreeClassifier(random_state=rr_seed),\n",
    "        RandomForestClassifier(random_state=rr_seed),  # , verbose=True\n",
    "        MLPClassifier(alpha=1, max_iter=1000, early_stopping=True, random_state=rr_seed),  # , verbose=True\n",
    "        AdaBoostClassifier(random_state=rr_seed),\n",
    "        LogisticRegression(C=10, max_iter=1000,random_state=rr_seed),\n",
    "        RidgeClassifier(alpha=1.0, solver=\"sparse_cg\", random_state=rr_seed),\n",
    "        # NearestCentroid (aka Rocchio classifier)\n",
    "    #     NearestCentroid(),\n",
    "        # L2 penalty Linear SGD\n",
    "        SGDClassifier(loss=\"log_loss\", alpha=1e-4, n_iter_no_change=1000, early_stopping=True, random_state=rr_seed),\n",
    "    ]\n",
    "    \n",
    "    for item in tqdm(classifiers):\n",
    "        print('**********'*10)\n",
    "        print(item)\n",
    "        clf = item\n",
    "\n",
    "        t0 = time()\n",
    "        clf.fit(trainX, y_train_s)\n",
    "        train_time = time() - t0\n",
    "        print(f\"train time: {train_time:.3}s\")\n",
    "\n",
    "        t0 = time()\n",
    "        preds = clf.predict(testX)\n",
    "        test_time = time() - t0\n",
    "        print(f\"test time:  {test_time:.3}s\")\n",
    "\n",
    "        score = accuracy_score(y_test, preds)\n",
    "        print(f\"accuracy:   {score:.3}\")\n",
    "\n",
    "        if hasattr(clf, 'decision_function'):\n",
    "            auc_score = roc_auc_score(y_test, clf.decision_function(testX))\n",
    "        elif hasattr(clf, 'predict_proba'):\n",
    "            auc_score = roc_auc_score(y_test, clf.predict_proba(testX)[:, 1])\n",
    "        else:\n",
    "            auc_score = -1.0\n",
    "\n",
    "        print(f\"roc_auc_score:   {auc_score:.3}\")\n",
    "        print()\n",
    "\n",
    "        if hasattr(clf, \"coef_\"):\n",
    "            print(f\"dimensionality: {clf.coef_.shape[1]}\")\n",
    "            print(f\"density: {density(clf.coef_)}\")\n",
    "            print()\n",
    "        \n",
    "        results_preds_list.append([rr_seed, clf.__class__.__name__, score, auc_score, train_time, test_time])\n",
    "\n",
    "        print('accuracy %s' % accuracy_score(y_test, preds))\n",
    "        print(confusion_matrix(y_test, preds))\n",
    "        print(classification_report(y_test, preds, digits=4))\n"
   ]
  },
  {
   "cell_type": "code",
   "execution_count": 126,
   "id": "351dff7c",
   "metadata": {
    "pycharm": {
     "name": "#%%\n"
    }
   },
   "outputs": [
    {
     "name": "stdout",
     "output_type": "stream",
     "text": [
      "[[0, 'LinearSVC', 0.7435035842293907, 0.7804171135862706, 727.3219563961029, 0.07536888122558594], [0, 'DecisionTreeClassifier', 0.7241263440860215, 0.578800011263654, 3420.0801515579224, 0.17357873916625977], [0, 'RandomForestClassifier', 0.8028673835125448, 0.7633349046374438, 3590.2946906089783, 5.223616600036621], [0, 'MLPClassifier', 0.7435035842293907, 0.786433806467751, 1715.6208250522614, 1.2252888679504395], [0, 'AdaBoostClassifier', 0.7267025089605734, 0.7649729617449009, 2688.389398097992, 8.44389820098877], [0, 'LogisticRegression', 0.7353270609318996, 0.7736309814848202, 954.7868158817291, 0.06916069984436035], [0, 'RidgeClassifier', 0.7376792114695341, 0.7717738682496246, 188.13361501693726, 0.06885695457458496], [0, 'SGDClassifier', 0.6422491039426523, 0.7918196615857104, 739.2921025753021, 0.06693577766418457], [42, 'LinearSVC', 0.7435035842293907, 0.7804171135862706, 676.9481329917908, 0.06822371482849121], [42, 'DecisionTreeClassifier', 0.7235663082437276, 0.5782581490525183, 3734.459887266159, 0.13542437553405762], [42, 'RandomForestClassifier', 0.8057795698924731, 0.7637035333131708, 3252.431193113327, 3.8803744316101074], [42, 'MLPClassifier', 0.7250224014336918, 0.7912983153157536, 3325.074216365814, 5.823626518249512], [42, 'AdaBoostClassifier', 0.7267025089605734, 0.7649729617449009, 3199.4397037029266, 6.4191718101501465], [42, 'LogisticRegression', 0.7353270609318996, 0.7736309814848202, 1045.8614888191223, 0.06761884689331055], [42, 'RidgeClassifier', 0.7376792114695341, 0.7717738682496246, 296.74680042266846, 0.10615992546081543], [42, 'SGDClassifier', 0.691644265232975, 0.7912452883733126, 1117.6692552566528, 0.11234688758850098], [1987, 'LinearSVC', 0.7435035842293907, 0.7804171135862706, 1105.9693405628204, 0.07014155387878418], [1987, 'DecisionTreeClassifier', 0.7241263440860215, 0.5811780319251449, 3222.822115421295, 0.13555550575256348], [1987, 'RandomForestClassifier', 0.807347670250896, 0.766313811982553, 3290.9735176563263, 3.7476274967193604], [1987, 'MLPClassifier', 0.7334229390681004, 0.7906715734264071, 2167.1594083309174, 1.1210730075836182], [1987, 'AdaBoostClassifier', 0.7267025089605734, 0.7649729617449009, 2922.6298956871033, 6.271162986755371], [1987, 'LogisticRegression', 0.7353270609318996, 0.7736309814848202, 786.2415525913239, 0.06699132919311523], [1987, 'RidgeClassifier', 0.7376792114695341, 0.7717738682496246, 180.958354473114, 0.06572771072387695], [1987, 'SGDClassifier', 0.7531362007168458, 0.7937559861018212, 1052.6054973602295, 0.11536860466003418], [1990, 'LinearSVC', 0.7435035842293907, 0.7804171135862706, 971.4179577827454, 0.07098031044006348], [1990, 'DecisionTreeClassifier', 0.7297267025089605, 0.5800113660508349, 2767.2969377040863, 0.1331641674041748], [1990, 'RandomForestClassifier', 0.8060035842293907, 0.7669719311937023, 2735.1078622341156, 3.6371567249298096], [1990, 'MLPClassifier', 0.75, 0.783522737038661, 662.2408423423767, 1.2801814079284668], [1990, 'AdaBoostClassifier', 0.7267025089605734, 0.7649729617449009, 2998.1073801517487, 6.218272686004639], [1990, 'LogisticRegression', 0.7353270609318996, 0.7736309814848202, 781.0681931972504, 0.06552386283874512], [1990, 'RidgeClassifier', 0.7376792114695341, 0.7717738682496246, 184.62113571166992, 0.06623244285583496], [1990, 'SGDClassifier', 0.7691532258064516, 0.7939381793619871, 714.1923773288727, 0.11034584045410156], [2022, 'LinearSVC', 0.7435035842293907, 0.7804171135862706, 1258.97589468956, 0.12447047233581543], [2022, 'DecisionTreeClassifier', 0.7263664874551972, 0.5785894394467059, 3377.491147518158, 1.064760684967041], [2022, 'RandomForestClassifier', 0.8020833333333334, 0.7610698862188097, 2742.3828053474426, 3.7762444019317627], [2022, 'MLPClassifier', 0.7215501792114696, 0.7888133630820575, 857.1040048599243, 1.286301612854004], [2022, 'AdaBoostClassifier', 0.7267025089605734, 0.7649729617449009, 2927.5736844539642, 7.227634429931641], [2022, 'LogisticRegression', 0.7353270609318996, 0.7736309814848202, 870.5350856781006, 0.06305861473083496], [2022, 'RidgeClassifier', 0.7376792114695341, 0.7717738682496246, 176.67433309555054, 0.06271100044250488], [2022, 'SGDClassifier', 0.7605286738351255, 0.7916920312208009, 754.1192507743835, 0.06099748611450195]]\n"
     ]
    }
   ],
   "source": [
    "print(results_preds_list)"
   ]
  },
  {
   "cell_type": "code",
   "execution_count": 131,
   "id": "387e25fa",
   "metadata": {
    "pycharm": {
     "name": "#%%\n"
    }
   },
   "outputs": [
    {
     "data": {
      "text/html": [
       "<div>\n",
       "<style scoped>\n",
       "    .dataframe tbody tr th:only-of-type {\n",
       "        vertical-align: middle;\n",
       "    }\n",
       "\n",
       "    .dataframe tbody tr th {\n",
       "        vertical-align: top;\n",
       "    }\n",
       "\n",
       "    .dataframe thead th {\n",
       "        text-align: right;\n",
       "    }\n",
       "</style>\n",
       "<table border=\"1\" class=\"dataframe\">\n",
       "  <thead>\n",
       "    <tr style=\"text-align: right;\">\n",
       "      <th></th>\n",
       "      <th>random_seed</th>\n",
       "      <th>clf_names</th>\n",
       "      <th>score</th>\n",
       "      <th>auc_score</th>\n",
       "      <th>training_time</th>\n",
       "      <th>test_time</th>\n",
       "    </tr>\n",
       "  </thead>\n",
       "  <tbody>\n",
       "    <tr>\n",
       "      <th>0</th>\n",
       "      <td>0</td>\n",
       "      <td>LinearSVC</td>\n",
       "      <td>0.743504</td>\n",
       "      <td>0.780417</td>\n",
       "      <td>727.321956</td>\n",
       "      <td>0.075369</td>\n",
       "    </tr>\n",
       "    <tr>\n",
       "      <th>1</th>\n",
       "      <td>0</td>\n",
       "      <td>DecisionTreeClassifier</td>\n",
       "      <td>0.724126</td>\n",
       "      <td>0.578800</td>\n",
       "      <td>3420.080152</td>\n",
       "      <td>0.173579</td>\n",
       "    </tr>\n",
       "    <tr>\n",
       "      <th>2</th>\n",
       "      <td>0</td>\n",
       "      <td>RandomForestClassifier</td>\n",
       "      <td>0.802867</td>\n",
       "      <td>0.763335</td>\n",
       "      <td>3590.294691</td>\n",
       "      <td>5.223617</td>\n",
       "    </tr>\n",
       "    <tr>\n",
       "      <th>3</th>\n",
       "      <td>0</td>\n",
       "      <td>MLPClassifier</td>\n",
       "      <td>0.743504</td>\n",
       "      <td>0.786434</td>\n",
       "      <td>1715.620825</td>\n",
       "      <td>1.225289</td>\n",
       "    </tr>\n",
       "    <tr>\n",
       "      <th>4</th>\n",
       "      <td>0</td>\n",
       "      <td>AdaBoostClassifier</td>\n",
       "      <td>0.726703</td>\n",
       "      <td>0.764973</td>\n",
       "      <td>2688.389398</td>\n",
       "      <td>8.443898</td>\n",
       "    </tr>\n",
       "    <tr>\n",
       "      <th>5</th>\n",
       "      <td>0</td>\n",
       "      <td>LogisticRegression</td>\n",
       "      <td>0.735327</td>\n",
       "      <td>0.773631</td>\n",
       "      <td>954.786816</td>\n",
       "      <td>0.069161</td>\n",
       "    </tr>\n",
       "    <tr>\n",
       "      <th>6</th>\n",
       "      <td>0</td>\n",
       "      <td>RidgeClassifier</td>\n",
       "      <td>0.737679</td>\n",
       "      <td>0.771774</td>\n",
       "      <td>188.133615</td>\n",
       "      <td>0.068857</td>\n",
       "    </tr>\n",
       "    <tr>\n",
       "      <th>7</th>\n",
       "      <td>0</td>\n",
       "      <td>SGDClassifier</td>\n",
       "      <td>0.642249</td>\n",
       "      <td>0.791820</td>\n",
       "      <td>739.292103</td>\n",
       "      <td>0.066936</td>\n",
       "    </tr>\n",
       "    <tr>\n",
       "      <th>8</th>\n",
       "      <td>42</td>\n",
       "      <td>LinearSVC</td>\n",
       "      <td>0.743504</td>\n",
       "      <td>0.780417</td>\n",
       "      <td>676.948133</td>\n",
       "      <td>0.068224</td>\n",
       "    </tr>\n",
       "    <tr>\n",
       "      <th>9</th>\n",
       "      <td>42</td>\n",
       "      <td>DecisionTreeClassifier</td>\n",
       "      <td>0.723566</td>\n",
       "      <td>0.578258</td>\n",
       "      <td>3734.459887</td>\n",
       "      <td>0.135424</td>\n",
       "    </tr>\n",
       "    <tr>\n",
       "      <th>10</th>\n",
       "      <td>42</td>\n",
       "      <td>RandomForestClassifier</td>\n",
       "      <td>0.805780</td>\n",
       "      <td>0.763704</td>\n",
       "      <td>3252.431193</td>\n",
       "      <td>3.880374</td>\n",
       "    </tr>\n",
       "    <tr>\n",
       "      <th>11</th>\n",
       "      <td>42</td>\n",
       "      <td>MLPClassifier</td>\n",
       "      <td>0.725022</td>\n",
       "      <td>0.791298</td>\n",
       "      <td>3325.074216</td>\n",
       "      <td>5.823627</td>\n",
       "    </tr>\n",
       "    <tr>\n",
       "      <th>12</th>\n",
       "      <td>42</td>\n",
       "      <td>AdaBoostClassifier</td>\n",
       "      <td>0.726703</td>\n",
       "      <td>0.764973</td>\n",
       "      <td>3199.439704</td>\n",
       "      <td>6.419172</td>\n",
       "    </tr>\n",
       "    <tr>\n",
       "      <th>13</th>\n",
       "      <td>42</td>\n",
       "      <td>LogisticRegression</td>\n",
       "      <td>0.735327</td>\n",
       "      <td>0.773631</td>\n",
       "      <td>1045.861489</td>\n",
       "      <td>0.067619</td>\n",
       "    </tr>\n",
       "    <tr>\n",
       "      <th>14</th>\n",
       "      <td>42</td>\n",
       "      <td>RidgeClassifier</td>\n",
       "      <td>0.737679</td>\n",
       "      <td>0.771774</td>\n",
       "      <td>296.746800</td>\n",
       "      <td>0.106160</td>\n",
       "    </tr>\n",
       "    <tr>\n",
       "      <th>15</th>\n",
       "      <td>42</td>\n",
       "      <td>SGDClassifier</td>\n",
       "      <td>0.691644</td>\n",
       "      <td>0.791245</td>\n",
       "      <td>1117.669255</td>\n",
       "      <td>0.112347</td>\n",
       "    </tr>\n",
       "    <tr>\n",
       "      <th>16</th>\n",
       "      <td>1987</td>\n",
       "      <td>LinearSVC</td>\n",
       "      <td>0.743504</td>\n",
       "      <td>0.780417</td>\n",
       "      <td>1105.969341</td>\n",
       "      <td>0.070142</td>\n",
       "    </tr>\n",
       "    <tr>\n",
       "      <th>17</th>\n",
       "      <td>1987</td>\n",
       "      <td>DecisionTreeClassifier</td>\n",
       "      <td>0.724126</td>\n",
       "      <td>0.581178</td>\n",
       "      <td>3222.822115</td>\n",
       "      <td>0.135556</td>\n",
       "    </tr>\n",
       "    <tr>\n",
       "      <th>18</th>\n",
       "      <td>1987</td>\n",
       "      <td>RandomForestClassifier</td>\n",
       "      <td>0.807348</td>\n",
       "      <td>0.766314</td>\n",
       "      <td>3290.973518</td>\n",
       "      <td>3.747627</td>\n",
       "    </tr>\n",
       "    <tr>\n",
       "      <th>19</th>\n",
       "      <td>1987</td>\n",
       "      <td>MLPClassifier</td>\n",
       "      <td>0.733423</td>\n",
       "      <td>0.790672</td>\n",
       "      <td>2167.159408</td>\n",
       "      <td>1.121073</td>\n",
       "    </tr>\n",
       "    <tr>\n",
       "      <th>20</th>\n",
       "      <td>1987</td>\n",
       "      <td>AdaBoostClassifier</td>\n",
       "      <td>0.726703</td>\n",
       "      <td>0.764973</td>\n",
       "      <td>2922.629896</td>\n",
       "      <td>6.271163</td>\n",
       "    </tr>\n",
       "    <tr>\n",
       "      <th>21</th>\n",
       "      <td>1987</td>\n",
       "      <td>LogisticRegression</td>\n",
       "      <td>0.735327</td>\n",
       "      <td>0.773631</td>\n",
       "      <td>786.241553</td>\n",
       "      <td>0.066991</td>\n",
       "    </tr>\n",
       "    <tr>\n",
       "      <th>22</th>\n",
       "      <td>1987</td>\n",
       "      <td>RidgeClassifier</td>\n",
       "      <td>0.737679</td>\n",
       "      <td>0.771774</td>\n",
       "      <td>180.958354</td>\n",
       "      <td>0.065728</td>\n",
       "    </tr>\n",
       "    <tr>\n",
       "      <th>23</th>\n",
       "      <td>1987</td>\n",
       "      <td>SGDClassifier</td>\n",
       "      <td>0.753136</td>\n",
       "      <td>0.793756</td>\n",
       "      <td>1052.605497</td>\n",
       "      <td>0.115369</td>\n",
       "    </tr>\n",
       "    <tr>\n",
       "      <th>24</th>\n",
       "      <td>1990</td>\n",
       "      <td>LinearSVC</td>\n",
       "      <td>0.743504</td>\n",
       "      <td>0.780417</td>\n",
       "      <td>971.417958</td>\n",
       "      <td>0.070980</td>\n",
       "    </tr>\n",
       "    <tr>\n",
       "      <th>25</th>\n",
       "      <td>1990</td>\n",
       "      <td>DecisionTreeClassifier</td>\n",
       "      <td>0.729727</td>\n",
       "      <td>0.580011</td>\n",
       "      <td>2767.296938</td>\n",
       "      <td>0.133164</td>\n",
       "    </tr>\n",
       "    <tr>\n",
       "      <th>26</th>\n",
       "      <td>1990</td>\n",
       "      <td>RandomForestClassifier</td>\n",
       "      <td>0.806004</td>\n",
       "      <td>0.766972</td>\n",
       "      <td>2735.107862</td>\n",
       "      <td>3.637157</td>\n",
       "    </tr>\n",
       "    <tr>\n",
       "      <th>27</th>\n",
       "      <td>1990</td>\n",
       "      <td>MLPClassifier</td>\n",
       "      <td>0.750000</td>\n",
       "      <td>0.783523</td>\n",
       "      <td>662.240842</td>\n",
       "      <td>1.280181</td>\n",
       "    </tr>\n",
       "    <tr>\n",
       "      <th>28</th>\n",
       "      <td>1990</td>\n",
       "      <td>AdaBoostClassifier</td>\n",
       "      <td>0.726703</td>\n",
       "      <td>0.764973</td>\n",
       "      <td>2998.107380</td>\n",
       "      <td>6.218273</td>\n",
       "    </tr>\n",
       "    <tr>\n",
       "      <th>29</th>\n",
       "      <td>1990</td>\n",
       "      <td>LogisticRegression</td>\n",
       "      <td>0.735327</td>\n",
       "      <td>0.773631</td>\n",
       "      <td>781.068193</td>\n",
       "      <td>0.065524</td>\n",
       "    </tr>\n",
       "    <tr>\n",
       "      <th>30</th>\n",
       "      <td>1990</td>\n",
       "      <td>RidgeClassifier</td>\n",
       "      <td>0.737679</td>\n",
       "      <td>0.771774</td>\n",
       "      <td>184.621136</td>\n",
       "      <td>0.066232</td>\n",
       "    </tr>\n",
       "    <tr>\n",
       "      <th>31</th>\n",
       "      <td>1990</td>\n",
       "      <td>SGDClassifier</td>\n",
       "      <td>0.769153</td>\n",
       "      <td>0.793938</td>\n",
       "      <td>714.192377</td>\n",
       "      <td>0.110346</td>\n",
       "    </tr>\n",
       "    <tr>\n",
       "      <th>32</th>\n",
       "      <td>2022</td>\n",
       "      <td>LinearSVC</td>\n",
       "      <td>0.743504</td>\n",
       "      <td>0.780417</td>\n",
       "      <td>1258.975895</td>\n",
       "      <td>0.124470</td>\n",
       "    </tr>\n",
       "    <tr>\n",
       "      <th>33</th>\n",
       "      <td>2022</td>\n",
       "      <td>DecisionTreeClassifier</td>\n",
       "      <td>0.726366</td>\n",
       "      <td>0.578589</td>\n",
       "      <td>3377.491148</td>\n",
       "      <td>1.064761</td>\n",
       "    </tr>\n",
       "    <tr>\n",
       "      <th>34</th>\n",
       "      <td>2022</td>\n",
       "      <td>RandomForestClassifier</td>\n",
       "      <td>0.802083</td>\n",
       "      <td>0.761070</td>\n",
       "      <td>2742.382805</td>\n",
       "      <td>3.776244</td>\n",
       "    </tr>\n",
       "    <tr>\n",
       "      <th>35</th>\n",
       "      <td>2022</td>\n",
       "      <td>MLPClassifier</td>\n",
       "      <td>0.721550</td>\n",
       "      <td>0.788813</td>\n",
       "      <td>857.104005</td>\n",
       "      <td>1.286302</td>\n",
       "    </tr>\n",
       "    <tr>\n",
       "      <th>36</th>\n",
       "      <td>2022</td>\n",
       "      <td>AdaBoostClassifier</td>\n",
       "      <td>0.726703</td>\n",
       "      <td>0.764973</td>\n",
       "      <td>2927.573684</td>\n",
       "      <td>7.227634</td>\n",
       "    </tr>\n",
       "    <tr>\n",
       "      <th>37</th>\n",
       "      <td>2022</td>\n",
       "      <td>LogisticRegression</td>\n",
       "      <td>0.735327</td>\n",
       "      <td>0.773631</td>\n",
       "      <td>870.535086</td>\n",
       "      <td>0.063059</td>\n",
       "    </tr>\n",
       "    <tr>\n",
       "      <th>38</th>\n",
       "      <td>2022</td>\n",
       "      <td>RidgeClassifier</td>\n",
       "      <td>0.737679</td>\n",
       "      <td>0.771774</td>\n",
       "      <td>176.674333</td>\n",
       "      <td>0.062711</td>\n",
       "    </tr>\n",
       "    <tr>\n",
       "      <th>39</th>\n",
       "      <td>2022</td>\n",
       "      <td>SGDClassifier</td>\n",
       "      <td>0.760529</td>\n",
       "      <td>0.791692</td>\n",
       "      <td>754.119251</td>\n",
       "      <td>0.060997</td>\n",
       "    </tr>\n",
       "  </tbody>\n",
       "</table>\n",
       "</div>"
      ],
      "text/plain": [
       "    random_seed               clf_names     score  auc_score  training_time  \\\n",
       "0             0               LinearSVC  0.743504   0.780417     727.321956   \n",
       "1             0  DecisionTreeClassifier  0.724126   0.578800    3420.080152   \n",
       "2             0  RandomForestClassifier  0.802867   0.763335    3590.294691   \n",
       "3             0           MLPClassifier  0.743504   0.786434    1715.620825   \n",
       "4             0      AdaBoostClassifier  0.726703   0.764973    2688.389398   \n",
       "5             0      LogisticRegression  0.735327   0.773631     954.786816   \n",
       "6             0         RidgeClassifier  0.737679   0.771774     188.133615   \n",
       "7             0           SGDClassifier  0.642249   0.791820     739.292103   \n",
       "8            42               LinearSVC  0.743504   0.780417     676.948133   \n",
       "9            42  DecisionTreeClassifier  0.723566   0.578258    3734.459887   \n",
       "10           42  RandomForestClassifier  0.805780   0.763704    3252.431193   \n",
       "11           42           MLPClassifier  0.725022   0.791298    3325.074216   \n",
       "12           42      AdaBoostClassifier  0.726703   0.764973    3199.439704   \n",
       "13           42      LogisticRegression  0.735327   0.773631    1045.861489   \n",
       "14           42         RidgeClassifier  0.737679   0.771774     296.746800   \n",
       "15           42           SGDClassifier  0.691644   0.791245    1117.669255   \n",
       "16         1987               LinearSVC  0.743504   0.780417    1105.969341   \n",
       "17         1987  DecisionTreeClassifier  0.724126   0.581178    3222.822115   \n",
       "18         1987  RandomForestClassifier  0.807348   0.766314    3290.973518   \n",
       "19         1987           MLPClassifier  0.733423   0.790672    2167.159408   \n",
       "20         1987      AdaBoostClassifier  0.726703   0.764973    2922.629896   \n",
       "21         1987      LogisticRegression  0.735327   0.773631     786.241553   \n",
       "22         1987         RidgeClassifier  0.737679   0.771774     180.958354   \n",
       "23         1987           SGDClassifier  0.753136   0.793756    1052.605497   \n",
       "24         1990               LinearSVC  0.743504   0.780417     971.417958   \n",
       "25         1990  DecisionTreeClassifier  0.729727   0.580011    2767.296938   \n",
       "26         1990  RandomForestClassifier  0.806004   0.766972    2735.107862   \n",
       "27         1990           MLPClassifier  0.750000   0.783523     662.240842   \n",
       "28         1990      AdaBoostClassifier  0.726703   0.764973    2998.107380   \n",
       "29         1990      LogisticRegression  0.735327   0.773631     781.068193   \n",
       "30         1990         RidgeClassifier  0.737679   0.771774     184.621136   \n",
       "31         1990           SGDClassifier  0.769153   0.793938     714.192377   \n",
       "32         2022               LinearSVC  0.743504   0.780417    1258.975895   \n",
       "33         2022  DecisionTreeClassifier  0.726366   0.578589    3377.491148   \n",
       "34         2022  RandomForestClassifier  0.802083   0.761070    2742.382805   \n",
       "35         2022           MLPClassifier  0.721550   0.788813     857.104005   \n",
       "36         2022      AdaBoostClassifier  0.726703   0.764973    2927.573684   \n",
       "37         2022      LogisticRegression  0.735327   0.773631     870.535086   \n",
       "38         2022         RidgeClassifier  0.737679   0.771774     176.674333   \n",
       "39         2022           SGDClassifier  0.760529   0.791692     754.119251   \n",
       "\n",
       "    test_time  \n",
       "0    0.075369  \n",
       "1    0.173579  \n",
       "2    5.223617  \n",
       "3    1.225289  \n",
       "4    8.443898  \n",
       "5    0.069161  \n",
       "6    0.068857  \n",
       "7    0.066936  \n",
       "8    0.068224  \n",
       "9    0.135424  \n",
       "10   3.880374  \n",
       "11   5.823627  \n",
       "12   6.419172  \n",
       "13   0.067619  \n",
       "14   0.106160  \n",
       "15   0.112347  \n",
       "16   0.070142  \n",
       "17   0.135556  \n",
       "18   3.747627  \n",
       "19   1.121073  \n",
       "20   6.271163  \n",
       "21   0.066991  \n",
       "22   0.065728  \n",
       "23   0.115369  \n",
       "24   0.070980  \n",
       "25   0.133164  \n",
       "26   3.637157  \n",
       "27   1.280181  \n",
       "28   6.218273  \n",
       "29   0.065524  \n",
       "30   0.066232  \n",
       "31   0.110346  \n",
       "32   0.124470  \n",
       "33   1.064761  \n",
       "34   3.776244  \n",
       "35   1.286302  \n",
       "36   7.227634  \n",
       "37   0.063059  \n",
       "38   0.062711  \n",
       "39   0.060997  "
      ]
     },
     "execution_count": 131,
     "metadata": {},
     "output_type": "execute_result"
    }
   ],
   "source": [
    "result_df = pd.DataFrame(results_preds_list)\n",
    "result_df.columns = ['random_seed','clf_names', 'score', 'auc_score', 'training_time', 'test_time']\n",
    "result_df"
   ]
  },
  {
   "cell_type": "code",
   "execution_count": 135,
   "id": "07fa1c7a",
   "metadata": {
    "pycharm": {
     "name": "#%%\n"
    }
   },
   "outputs": [
    {
     "data": {
      "text/html": [
       "<div>\n",
       "<style scoped>\n",
       "    .dataframe tbody tr th:only-of-type {\n",
       "        vertical-align: middle;\n",
       "    }\n",
       "\n",
       "    .dataframe tbody tr th {\n",
       "        vertical-align: top;\n",
       "    }\n",
       "\n",
       "    .dataframe thead th {\n",
       "        text-align: right;\n",
       "    }\n",
       "</style>\n",
       "<table border=\"1\" class=\"dataframe\">\n",
       "  <thead>\n",
       "    <tr style=\"text-align: right;\">\n",
       "      <th></th>\n",
       "      <th>random_seed</th>\n",
       "      <th>clf_names</th>\n",
       "      <th>score</th>\n",
       "      <th>auc_score</th>\n",
       "      <th>training_time</th>\n",
       "      <th>test_time</th>\n",
       "    </tr>\n",
       "  </thead>\n",
       "  <tbody>\n",
       "    <tr>\n",
       "      <th>0</th>\n",
       "      <td>2022</td>\n",
       "      <td>AdaBoostClassifier</td>\n",
       "      <td>0.726703</td>\n",
       "      <td>0.764973</td>\n",
       "      <td>2927.573684</td>\n",
       "      <td>7.227634</td>\n",
       "    </tr>\n",
       "    <tr>\n",
       "      <th>1</th>\n",
       "      <td>1990</td>\n",
       "      <td>AdaBoostClassifier</td>\n",
       "      <td>0.726703</td>\n",
       "      <td>0.764973</td>\n",
       "      <td>2998.107380</td>\n",
       "      <td>6.218273</td>\n",
       "    </tr>\n",
       "    <tr>\n",
       "      <th>2</th>\n",
       "      <td>1987</td>\n",
       "      <td>AdaBoostClassifier</td>\n",
       "      <td>0.726703</td>\n",
       "      <td>0.764973</td>\n",
       "      <td>2922.629896</td>\n",
       "      <td>6.271163</td>\n",
       "    </tr>\n",
       "    <tr>\n",
       "      <th>3</th>\n",
       "      <td>42</td>\n",
       "      <td>AdaBoostClassifier</td>\n",
       "      <td>0.726703</td>\n",
       "      <td>0.764973</td>\n",
       "      <td>3199.439704</td>\n",
       "      <td>6.419172</td>\n",
       "    </tr>\n",
       "    <tr>\n",
       "      <th>4</th>\n",
       "      <td>0</td>\n",
       "      <td>AdaBoostClassifier</td>\n",
       "      <td>0.726703</td>\n",
       "      <td>0.764973</td>\n",
       "      <td>2688.389398</td>\n",
       "      <td>8.443898</td>\n",
       "    </tr>\n",
       "    <tr>\n",
       "      <th>5</th>\n",
       "      <td>2022</td>\n",
       "      <td>DecisionTreeClassifier</td>\n",
       "      <td>0.726366</td>\n",
       "      <td>0.578589</td>\n",
       "      <td>3377.491148</td>\n",
       "      <td>1.064761</td>\n",
       "    </tr>\n",
       "    <tr>\n",
       "      <th>6</th>\n",
       "      <td>1990</td>\n",
       "      <td>DecisionTreeClassifier</td>\n",
       "      <td>0.729727</td>\n",
       "      <td>0.580011</td>\n",
       "      <td>2767.296938</td>\n",
       "      <td>0.133164</td>\n",
       "    </tr>\n",
       "    <tr>\n",
       "      <th>7</th>\n",
       "      <td>1987</td>\n",
       "      <td>DecisionTreeClassifier</td>\n",
       "      <td>0.724126</td>\n",
       "      <td>0.581178</td>\n",
       "      <td>3222.822115</td>\n",
       "      <td>0.135556</td>\n",
       "    </tr>\n",
       "    <tr>\n",
       "      <th>8</th>\n",
       "      <td>42</td>\n",
       "      <td>DecisionTreeClassifier</td>\n",
       "      <td>0.723566</td>\n",
       "      <td>0.578258</td>\n",
       "      <td>3734.459887</td>\n",
       "      <td>0.135424</td>\n",
       "    </tr>\n",
       "    <tr>\n",
       "      <th>9</th>\n",
       "      <td>0</td>\n",
       "      <td>DecisionTreeClassifier</td>\n",
       "      <td>0.724126</td>\n",
       "      <td>0.578800</td>\n",
       "      <td>3420.080152</td>\n",
       "      <td>0.173579</td>\n",
       "    </tr>\n",
       "    <tr>\n",
       "      <th>10</th>\n",
       "      <td>2022</td>\n",
       "      <td>LinearSVC</td>\n",
       "      <td>0.743504</td>\n",
       "      <td>0.780417</td>\n",
       "      <td>1258.975895</td>\n",
       "      <td>0.124470</td>\n",
       "    </tr>\n",
       "    <tr>\n",
       "      <th>11</th>\n",
       "      <td>1990</td>\n",
       "      <td>LinearSVC</td>\n",
       "      <td>0.743504</td>\n",
       "      <td>0.780417</td>\n",
       "      <td>971.417958</td>\n",
       "      <td>0.070980</td>\n",
       "    </tr>\n",
       "    <tr>\n",
       "      <th>12</th>\n",
       "      <td>1987</td>\n",
       "      <td>LinearSVC</td>\n",
       "      <td>0.743504</td>\n",
       "      <td>0.780417</td>\n",
       "      <td>1105.969341</td>\n",
       "      <td>0.070142</td>\n",
       "    </tr>\n",
       "    <tr>\n",
       "      <th>13</th>\n",
       "      <td>42</td>\n",
       "      <td>LinearSVC</td>\n",
       "      <td>0.743504</td>\n",
       "      <td>0.780417</td>\n",
       "      <td>676.948133</td>\n",
       "      <td>0.068224</td>\n",
       "    </tr>\n",
       "    <tr>\n",
       "      <th>14</th>\n",
       "      <td>0</td>\n",
       "      <td>LinearSVC</td>\n",
       "      <td>0.743504</td>\n",
       "      <td>0.780417</td>\n",
       "      <td>727.321956</td>\n",
       "      <td>0.075369</td>\n",
       "    </tr>\n",
       "    <tr>\n",
       "      <th>15</th>\n",
       "      <td>2022</td>\n",
       "      <td>LogisticRegression</td>\n",
       "      <td>0.735327</td>\n",
       "      <td>0.773631</td>\n",
       "      <td>870.535086</td>\n",
       "      <td>0.063059</td>\n",
       "    </tr>\n",
       "    <tr>\n",
       "      <th>16</th>\n",
       "      <td>1990</td>\n",
       "      <td>LogisticRegression</td>\n",
       "      <td>0.735327</td>\n",
       "      <td>0.773631</td>\n",
       "      <td>781.068193</td>\n",
       "      <td>0.065524</td>\n",
       "    </tr>\n",
       "    <tr>\n",
       "      <th>17</th>\n",
       "      <td>1987</td>\n",
       "      <td>LogisticRegression</td>\n",
       "      <td>0.735327</td>\n",
       "      <td>0.773631</td>\n",
       "      <td>786.241553</td>\n",
       "      <td>0.066991</td>\n",
       "    </tr>\n",
       "    <tr>\n",
       "      <th>18</th>\n",
       "      <td>42</td>\n",
       "      <td>LogisticRegression</td>\n",
       "      <td>0.735327</td>\n",
       "      <td>0.773631</td>\n",
       "      <td>1045.861489</td>\n",
       "      <td>0.067619</td>\n",
       "    </tr>\n",
       "    <tr>\n",
       "      <th>19</th>\n",
       "      <td>0</td>\n",
       "      <td>LogisticRegression</td>\n",
       "      <td>0.735327</td>\n",
       "      <td>0.773631</td>\n",
       "      <td>954.786816</td>\n",
       "      <td>0.069161</td>\n",
       "    </tr>\n",
       "    <tr>\n",
       "      <th>20</th>\n",
       "      <td>2022</td>\n",
       "      <td>MLPClassifier</td>\n",
       "      <td>0.721550</td>\n",
       "      <td>0.788813</td>\n",
       "      <td>857.104005</td>\n",
       "      <td>1.286302</td>\n",
       "    </tr>\n",
       "    <tr>\n",
       "      <th>21</th>\n",
       "      <td>1990</td>\n",
       "      <td>MLPClassifier</td>\n",
       "      <td>0.750000</td>\n",
       "      <td>0.783523</td>\n",
       "      <td>662.240842</td>\n",
       "      <td>1.280181</td>\n",
       "    </tr>\n",
       "    <tr>\n",
       "      <th>22</th>\n",
       "      <td>1987</td>\n",
       "      <td>MLPClassifier</td>\n",
       "      <td>0.733423</td>\n",
       "      <td>0.790672</td>\n",
       "      <td>2167.159408</td>\n",
       "      <td>1.121073</td>\n",
       "    </tr>\n",
       "    <tr>\n",
       "      <th>23</th>\n",
       "      <td>42</td>\n",
       "      <td>MLPClassifier</td>\n",
       "      <td>0.725022</td>\n",
       "      <td>0.791298</td>\n",
       "      <td>3325.074216</td>\n",
       "      <td>5.823627</td>\n",
       "    </tr>\n",
       "    <tr>\n",
       "      <th>24</th>\n",
       "      <td>0</td>\n",
       "      <td>MLPClassifier</td>\n",
       "      <td>0.743504</td>\n",
       "      <td>0.786434</td>\n",
       "      <td>1715.620825</td>\n",
       "      <td>1.225289</td>\n",
       "    </tr>\n",
       "    <tr>\n",
       "      <th>25</th>\n",
       "      <td>2022</td>\n",
       "      <td>RandomForestClassifier</td>\n",
       "      <td>0.802083</td>\n",
       "      <td>0.761070</td>\n",
       "      <td>2742.382805</td>\n",
       "      <td>3.776244</td>\n",
       "    </tr>\n",
       "    <tr>\n",
       "      <th>26</th>\n",
       "      <td>1990</td>\n",
       "      <td>RandomForestClassifier</td>\n",
       "      <td>0.806004</td>\n",
       "      <td>0.766972</td>\n",
       "      <td>2735.107862</td>\n",
       "      <td>3.637157</td>\n",
       "    </tr>\n",
       "    <tr>\n",
       "      <th>27</th>\n",
       "      <td>1987</td>\n",
       "      <td>RandomForestClassifier</td>\n",
       "      <td>0.807348</td>\n",
       "      <td>0.766314</td>\n",
       "      <td>3290.973518</td>\n",
       "      <td>3.747627</td>\n",
       "    </tr>\n",
       "    <tr>\n",
       "      <th>28</th>\n",
       "      <td>42</td>\n",
       "      <td>RandomForestClassifier</td>\n",
       "      <td>0.805780</td>\n",
       "      <td>0.763704</td>\n",
       "      <td>3252.431193</td>\n",
       "      <td>3.880374</td>\n",
       "    </tr>\n",
       "    <tr>\n",
       "      <th>29</th>\n",
       "      <td>0</td>\n",
       "      <td>RandomForestClassifier</td>\n",
       "      <td>0.802867</td>\n",
       "      <td>0.763335</td>\n",
       "      <td>3590.294691</td>\n",
       "      <td>5.223617</td>\n",
       "    </tr>\n",
       "    <tr>\n",
       "      <th>30</th>\n",
       "      <td>2022</td>\n",
       "      <td>RidgeClassifier</td>\n",
       "      <td>0.737679</td>\n",
       "      <td>0.771774</td>\n",
       "      <td>176.674333</td>\n",
       "      <td>0.062711</td>\n",
       "    </tr>\n",
       "    <tr>\n",
       "      <th>31</th>\n",
       "      <td>1990</td>\n",
       "      <td>RidgeClassifier</td>\n",
       "      <td>0.737679</td>\n",
       "      <td>0.771774</td>\n",
       "      <td>184.621136</td>\n",
       "      <td>0.066232</td>\n",
       "    </tr>\n",
       "    <tr>\n",
       "      <th>32</th>\n",
       "      <td>1987</td>\n",
       "      <td>RidgeClassifier</td>\n",
       "      <td>0.737679</td>\n",
       "      <td>0.771774</td>\n",
       "      <td>180.958354</td>\n",
       "      <td>0.065728</td>\n",
       "    </tr>\n",
       "    <tr>\n",
       "      <th>33</th>\n",
       "      <td>42</td>\n",
       "      <td>RidgeClassifier</td>\n",
       "      <td>0.737679</td>\n",
       "      <td>0.771774</td>\n",
       "      <td>296.746800</td>\n",
       "      <td>0.106160</td>\n",
       "    </tr>\n",
       "    <tr>\n",
       "      <th>34</th>\n",
       "      <td>0</td>\n",
       "      <td>RidgeClassifier</td>\n",
       "      <td>0.737679</td>\n",
       "      <td>0.771774</td>\n",
       "      <td>188.133615</td>\n",
       "      <td>0.068857</td>\n",
       "    </tr>\n",
       "    <tr>\n",
       "      <th>35</th>\n",
       "      <td>2022</td>\n",
       "      <td>SGDClassifier</td>\n",
       "      <td>0.760529</td>\n",
       "      <td>0.791692</td>\n",
       "      <td>754.119251</td>\n",
       "      <td>0.060997</td>\n",
       "    </tr>\n",
       "    <tr>\n",
       "      <th>36</th>\n",
       "      <td>1990</td>\n",
       "      <td>SGDClassifier</td>\n",
       "      <td>0.769153</td>\n",
       "      <td>0.793938</td>\n",
       "      <td>714.192377</td>\n",
       "      <td>0.110346</td>\n",
       "    </tr>\n",
       "    <tr>\n",
       "      <th>37</th>\n",
       "      <td>1987</td>\n",
       "      <td>SGDClassifier</td>\n",
       "      <td>0.753136</td>\n",
       "      <td>0.793756</td>\n",
       "      <td>1052.605497</td>\n",
       "      <td>0.115369</td>\n",
       "    </tr>\n",
       "    <tr>\n",
       "      <th>38</th>\n",
       "      <td>42</td>\n",
       "      <td>SGDClassifier</td>\n",
       "      <td>0.691644</td>\n",
       "      <td>0.791245</td>\n",
       "      <td>1117.669255</td>\n",
       "      <td>0.112347</td>\n",
       "    </tr>\n",
       "    <tr>\n",
       "      <th>39</th>\n",
       "      <td>0</td>\n",
       "      <td>SGDClassifier</td>\n",
       "      <td>0.642249</td>\n",
       "      <td>0.791820</td>\n",
       "      <td>739.292103</td>\n",
       "      <td>0.066936</td>\n",
       "    </tr>\n",
       "  </tbody>\n",
       "</table>\n",
       "</div>"
      ],
      "text/plain": [
       "    random_seed               clf_names     score  auc_score  training_time  \\\n",
       "0          2022      AdaBoostClassifier  0.726703   0.764973    2927.573684   \n",
       "1          1990      AdaBoostClassifier  0.726703   0.764973    2998.107380   \n",
       "2          1987      AdaBoostClassifier  0.726703   0.764973    2922.629896   \n",
       "3            42      AdaBoostClassifier  0.726703   0.764973    3199.439704   \n",
       "4             0      AdaBoostClassifier  0.726703   0.764973    2688.389398   \n",
       "5          2022  DecisionTreeClassifier  0.726366   0.578589    3377.491148   \n",
       "6          1990  DecisionTreeClassifier  0.729727   0.580011    2767.296938   \n",
       "7          1987  DecisionTreeClassifier  0.724126   0.581178    3222.822115   \n",
       "8            42  DecisionTreeClassifier  0.723566   0.578258    3734.459887   \n",
       "9             0  DecisionTreeClassifier  0.724126   0.578800    3420.080152   \n",
       "10         2022               LinearSVC  0.743504   0.780417    1258.975895   \n",
       "11         1990               LinearSVC  0.743504   0.780417     971.417958   \n",
       "12         1987               LinearSVC  0.743504   0.780417    1105.969341   \n",
       "13           42               LinearSVC  0.743504   0.780417     676.948133   \n",
       "14            0               LinearSVC  0.743504   0.780417     727.321956   \n",
       "15         2022      LogisticRegression  0.735327   0.773631     870.535086   \n",
       "16         1990      LogisticRegression  0.735327   0.773631     781.068193   \n",
       "17         1987      LogisticRegression  0.735327   0.773631     786.241553   \n",
       "18           42      LogisticRegression  0.735327   0.773631    1045.861489   \n",
       "19            0      LogisticRegression  0.735327   0.773631     954.786816   \n",
       "20         2022           MLPClassifier  0.721550   0.788813     857.104005   \n",
       "21         1990           MLPClassifier  0.750000   0.783523     662.240842   \n",
       "22         1987           MLPClassifier  0.733423   0.790672    2167.159408   \n",
       "23           42           MLPClassifier  0.725022   0.791298    3325.074216   \n",
       "24            0           MLPClassifier  0.743504   0.786434    1715.620825   \n",
       "25         2022  RandomForestClassifier  0.802083   0.761070    2742.382805   \n",
       "26         1990  RandomForestClassifier  0.806004   0.766972    2735.107862   \n",
       "27         1987  RandomForestClassifier  0.807348   0.766314    3290.973518   \n",
       "28           42  RandomForestClassifier  0.805780   0.763704    3252.431193   \n",
       "29            0  RandomForestClassifier  0.802867   0.763335    3590.294691   \n",
       "30         2022         RidgeClassifier  0.737679   0.771774     176.674333   \n",
       "31         1990         RidgeClassifier  0.737679   0.771774     184.621136   \n",
       "32         1987         RidgeClassifier  0.737679   0.771774     180.958354   \n",
       "33           42         RidgeClassifier  0.737679   0.771774     296.746800   \n",
       "34            0         RidgeClassifier  0.737679   0.771774     188.133615   \n",
       "35         2022           SGDClassifier  0.760529   0.791692     754.119251   \n",
       "36         1990           SGDClassifier  0.769153   0.793938     714.192377   \n",
       "37         1987           SGDClassifier  0.753136   0.793756    1052.605497   \n",
       "38           42           SGDClassifier  0.691644   0.791245    1117.669255   \n",
       "39            0           SGDClassifier  0.642249   0.791820     739.292103   \n",
       "\n",
       "    test_time  \n",
       "0    7.227634  \n",
       "1    6.218273  \n",
       "2    6.271163  \n",
       "3    6.419172  \n",
       "4    8.443898  \n",
       "5    1.064761  \n",
       "6    0.133164  \n",
       "7    0.135556  \n",
       "8    0.135424  \n",
       "9    0.173579  \n",
       "10   0.124470  \n",
       "11   0.070980  \n",
       "12   0.070142  \n",
       "13   0.068224  \n",
       "14   0.075369  \n",
       "15   0.063059  \n",
       "16   0.065524  \n",
       "17   0.066991  \n",
       "18   0.067619  \n",
       "19   0.069161  \n",
       "20   1.286302  \n",
       "21   1.280181  \n",
       "22   1.121073  \n",
       "23   5.823627  \n",
       "24   1.225289  \n",
       "25   3.776244  \n",
       "26   3.637157  \n",
       "27   3.747627  \n",
       "28   3.880374  \n",
       "29   5.223617  \n",
       "30   0.062711  \n",
       "31   0.066232  \n",
       "32   0.065728  \n",
       "33   0.106160  \n",
       "34   0.068857  \n",
       "35   0.060997  \n",
       "36   0.110346  \n",
       "37   0.115369  \n",
       "38   0.112347  \n",
       "39   0.066936  "
      ]
     },
     "execution_count": 135,
     "metadata": {},
     "output_type": "execute_result"
    }
   ],
   "source": [
    "result_df.groupby([\"clf_names\"]).apply(lambda x: x.sort_values([\"random_seed\"], ascending = False)).reset_index(drop=True)"
   ]
  },
  {
   "cell_type": "code",
   "execution_count": 136,
   "id": "db9daba4",
   "metadata": {
    "pycharm": {
     "name": "#%%\n"
    }
   },
   "outputs": [
    {
     "data": {
      "text/html": [
       "<div>\n",
       "<style scoped>\n",
       "    .dataframe tbody tr th:only-of-type {\n",
       "        vertical-align: middle;\n",
       "    }\n",
       "\n",
       "    .dataframe tbody tr th {\n",
       "        vertical-align: top;\n",
       "    }\n",
       "\n",
       "    .dataframe thead th {\n",
       "        text-align: right;\n",
       "    }\n",
       "</style>\n",
       "<table border=\"1\" class=\"dataframe\">\n",
       "  <thead>\n",
       "    <tr style=\"text-align: right;\">\n",
       "      <th></th>\n",
       "      <th>score_mean</th>\n",
       "      <th>score_std</th>\n",
       "      <th>auc_score_mean</th>\n",
       "      <th>auc_score_std</th>\n",
       "    </tr>\n",
       "    <tr>\n",
       "      <th>clf_names</th>\n",
       "      <th></th>\n",
       "      <th></th>\n",
       "      <th></th>\n",
       "      <th></th>\n",
       "    </tr>\n",
       "  </thead>\n",
       "  <tbody>\n",
       "    <tr>\n",
       "      <th>AdaBoostClassifier</th>\n",
       "      <td>0.726703</td>\n",
       "      <td>0.000000</td>\n",
       "      <td>0.764973</td>\n",
       "      <td>0.000000</td>\n",
       "    </tr>\n",
       "    <tr>\n",
       "      <th>DecisionTreeClassifier</th>\n",
       "      <td>0.725582</td>\n",
       "      <td>0.002554</td>\n",
       "      <td>0.579367</td>\n",
       "      <td>0.001209</td>\n",
       "    </tr>\n",
       "    <tr>\n",
       "      <th>LinearSVC</th>\n",
       "      <td>0.743504</td>\n",
       "      <td>0.000000</td>\n",
       "      <td>0.780417</td>\n",
       "      <td>0.000000</td>\n",
       "    </tr>\n",
       "    <tr>\n",
       "      <th>LogisticRegression</th>\n",
       "      <td>0.735327</td>\n",
       "      <td>0.000000</td>\n",
       "      <td>0.773631</td>\n",
       "      <td>0.000000</td>\n",
       "    </tr>\n",
       "    <tr>\n",
       "      <th>MLPClassifier</th>\n",
       "      <td>0.734700</td>\n",
       "      <td>0.012039</td>\n",
       "      <td>0.788148</td>\n",
       "      <td>0.003204</td>\n",
       "    </tr>\n",
       "    <tr>\n",
       "      <th>RandomForestClassifier</th>\n",
       "      <td>0.804816</td>\n",
       "      <td>0.002237</td>\n",
       "      <td>0.764279</td>\n",
       "      <td>0.002393</td>\n",
       "    </tr>\n",
       "    <tr>\n",
       "      <th>RidgeClassifier</th>\n",
       "      <td>0.737679</td>\n",
       "      <td>0.000000</td>\n",
       "      <td>0.771774</td>\n",
       "      <td>0.000000</td>\n",
       "    </tr>\n",
       "    <tr>\n",
       "      <th>SGDClassifier</th>\n",
       "      <td>0.723342</td>\n",
       "      <td>0.054658</td>\n",
       "      <td>0.792490</td>\n",
       "      <td>0.001259</td>\n",
       "    </tr>\n",
       "  </tbody>\n",
       "</table>\n",
       "</div>"
      ],
      "text/plain": [
       "                        score_mean  score_std  auc_score_mean  auc_score_std\n",
       "clf_names                                                                   \n",
       "AdaBoostClassifier        0.726703   0.000000        0.764973       0.000000\n",
       "DecisionTreeClassifier    0.725582   0.002554        0.579367       0.001209\n",
       "LinearSVC                 0.743504   0.000000        0.780417       0.000000\n",
       "LogisticRegression        0.735327   0.000000        0.773631       0.000000\n",
       "MLPClassifier             0.734700   0.012039        0.788148       0.003204\n",
       "RandomForestClassifier    0.804816   0.002237        0.764279       0.002393\n",
       "RidgeClassifier           0.737679   0.000000        0.771774       0.000000\n",
       "SGDClassifier             0.723342   0.054658        0.792490       0.001259"
      ]
     },
     "execution_count": 136,
     "metadata": {},
     "output_type": "execute_result"
    }
   ],
   "source": [
    "xdf = result_df.groupby(\"clf_names\").agg({'score':[np.mean, np.std],'auc_score':[np.mean, np.std]})\n",
    "xdf.columns = xdf.columns.map(\"_\".join)\n",
    "xdf"
   ]
  },
  {
   "cell_type": "code",
   "execution_count": 140,
   "id": "4d0fac08",
   "metadata": {
    "pycharm": {
     "name": "#%%\n"
    }
   },
   "outputs": [
    {
     "name": "stdout",
     "output_type": "stream",
     "text": [
      "[0.7241263440860215, 0.7235663082437276, 0.7241263440860215, 0.7297267025089605, 0.7263664874551972]\n"
     ]
    }
   ],
   "source": [
    "print(result_df[result_df['clf_names']=='DecisionTreeClassifier']['score'].tolist())"
   ]
  },
  {
   "cell_type": "code",
   "execution_count": 139,
   "id": "6ce9ca04",
   "metadata": {
    "pycharm": {
     "name": "#%%\n"
    }
   },
   "outputs": [
    {
     "name": "stdout",
     "output_type": "stream",
     "text": [
      "[0.7435035842293907, 0.7250224014336918, 0.7334229390681004, 0.75, 0.7215501792114696]\n"
     ]
    }
   ],
   "source": [
    "print(result_df[result_df['clf_names']=='MLPClassifier']['score'].tolist())"
   ]
  },
  {
   "cell_type": "code",
   "execution_count": 141,
   "id": "4088a55c",
   "metadata": {
    "pycharm": {
     "name": "#%%\n"
    }
   },
   "outputs": [
    {
     "name": "stdout",
     "output_type": "stream",
     "text": [
      "[0.8028673835125448, 0.8057795698924731, 0.807347670250896, 0.8060035842293907, 0.8020833333333334]\n"
     ]
    }
   ],
   "source": [
    "print(result_df[result_df['clf_names']=='RandomForestClassifier']['score'].tolist())\n"
   ]
  },
  {
   "cell_type": "code",
   "execution_count": 142,
   "id": "516920d8",
   "metadata": {
    "pycharm": {
     "name": "#%%\n"
    }
   },
   "outputs": [
    {
     "name": "stdout",
     "output_type": "stream",
     "text": [
      "[0.6422491039426523, 0.691644265232975, 0.7531362007168458, 0.7691532258064516, 0.7605286738351255]\n"
     ]
    }
   ],
   "source": [
    "print(result_df[result_df['clf_names']=='SGDClassifier']['score'].tolist())"
   ]
  },
  {
   "cell_type": "markdown",
   "id": "1a5b06ce",
   "metadata": {
    "pycharm": {
     "name": "#%% md\n"
    }
   },
   "source": [
    "## LOS"
   ]
  },
  {
   "cell_type": "code",
   "execution_count": null,
   "id": "471da09c",
   "metadata": {
    "pycharm": {
     "name": "#%%\n"
    }
   },
   "outputs": [],
   "source": [
    "# train_df_split = train_df.merge(subject_df, on='SUBJECT_ID', how='left')\n",
    "# display(train_df_split)"
   ]
  },
  {
   "cell_type": "code",
   "execution_count": 127,
   "id": "aaf0db8c",
   "metadata": {
    "pycharm": {
     "name": "#%%\n"
    }
   },
   "outputs": [],
   "source": [
    "# New way\n",
    "df_train = train_df_split[train_df_split['SUBJECT_LABLE']=='train']\n",
    "df_test = train_df_split[train_df_split['SUBJECT_LABLE']=='test']\n",
    "\n",
    "X_train = df_train[select_features].copy()\n",
    "X_test = df_test[select_features].copy()\n",
    "y_train = df_train['LOS']\n",
    "y_test = df_test['LOS']"
   ]
  },
  {
   "cell_type": "code",
   "execution_count": 128,
   "id": "383c960d",
   "metadata": {
    "pycharm": {
     "name": "#%%\n"
    }
   },
   "outputs": [],
   "source": [
    "# from sklearn.datasets import fetch_openml\n",
    "from sklearn.impute import SimpleImputer\n",
    "from sklearn.preprocessing import StandardScaler, OneHotEncoder\n",
    "from sklearn.compose import ColumnTransformer\n",
    "from sklearn.pipeline import Pipeline\n",
    "from sklearn.compose import make_column_selector as selector\n",
    "from sklearn.feature_extraction.text import CountVectorizer, TfidfVectorizer\n",
    "from sklearn.preprocessing import OrdinalEncoder\n",
    "\n",
    "\n",
    "\n",
    "catTransformer = Pipeline(steps=[('cat_imputer', SimpleImputer(strategy='constant', fill_value='missing')),('cat_ohe', OneHotEncoder(handle_unknown='ignore'))])\n",
    "\n",
    "# textTransformer_pr = Pipeline(steps=[('text_bow_1', CountVectorizer())])\n",
    "# textTransformer_dr = Pipeline(steps=[('text_bow_2', CountVectorizer())])\n",
    "# textTransformer_di = Pipeline(steps=[('text_bow_3', CountVectorizer())])\n",
    "# textTransformer_pd = Pipeline(steps=[('text_bow_4', CountVectorizer())])\n",
    "\n",
    "# catTransformer = Pipeline(steps=[('cat_imputer', SimpleImputer(strategy='constant', fill_value='missing')),('cat_ohe', OrdinalEncoder(encoded_missing_value=-1))])\n",
    "\n",
    "\n",
    "textTransformer_pr = Pipeline(steps=[('text_bow_1', TfidfVectorizer())])\n",
    "textTransformer_dr = Pipeline(steps=[('text_bow_2', TfidfVectorizer())])\n",
    "textTransformer_di = Pipeline(steps=[('text_bow_3', TfidfVectorizer())])\n",
    "textTransformer_pd = Pipeline(steps=[('text_bow_4', TfidfVectorizer())])\n",
    "\n",
    "\n",
    "numTransformer = Pipeline(steps=[('imputer', SimpleImputer(strategy='median')),('scaler', StandardScaler())])\n",
    "\n",
    "# New way - encode procedures, diag, and prev diag\n",
    "ct = ColumnTransformer(\n",
    "transformers=[\n",
    "('cat', catTransformer, CATEGORIES), \n",
    "('num', numTransformer, NUMERIC_CAT),\n",
    "('text_pr', textTransformer_pr_encode, ['PROCEDURES_STR']),\n",
    "('text_dg', textTransformer_pr_encode, ['DIAGS_STR']),\n",
    "('text_pdg', textTransformer_pr_encode, ['PREV_DIAGS_STR']),\n",
    "('text_dr', textTransformer_pr_encode, ['DRUG_STR']),\n",
    "])\n"
   ]
  },
  {
   "cell_type": "code",
   "execution_count": 101,
   "id": "43998516",
   "metadata": {
    "scrolled": false,
    "pycharm": {
     "name": "#%%\n"
    }
   },
   "outputs": [
    {
     "name": "stderr",
     "output_type": "stream",
     "text": [
      "100%|██████████| 50655/50655 [12:04<00:00, 69.88it/s]\n",
      "100%|██████████| 50655/50655 [12:29<00:00, 67.59it/s]\n",
      "100%|██████████| 50655/50655 [13:27<00:00, 62.76it/s]\n",
      "100%|██████████| 50655/50655 [14:43<00:00, 57.36it/s]\n"
     ]
    },
    {
     "name": "stdout",
     "output_type": "stream",
     "text": [
      "(50655, 3123)\n"
     ]
    },
    {
     "name": "stderr",
     "output_type": "stream",
     "text": [
      "100%|██████████| 8928/8928 [02:28<00:00, 60.12it/s]\n",
      "100%|██████████| 8928/8928 [02:43<00:00, 54.52it/s]\n",
      "100%|██████████| 8928/8928 [02:53<00:00, 51.60it/s]\n",
      "100%|██████████| 8928/8928 [03:13<00:00, 46.24it/s]\n"
     ]
    },
    {
     "name": "stdout",
     "output_type": "stream",
     "text": [
      "(8928, 3123)\n"
     ]
    },
    {
     "name": "stderr",
     "output_type": "stream",
     "text": [
      "\r",
      "  0%|          | 0/8 [00:00<?, ?it/s]"
     ]
    },
    {
     "name": "stdout",
     "output_type": "stream",
     "text": [
      "****************************************************************************************************\n",
      "LinearSVR(random_state=0, tol=1e-05)\n"
     ]
    },
    {
     "name": "stderr",
     "output_type": "stream",
     "text": [
      "/home/hl2659/miniconda3/envs/hao_ner/lib/python3.9/site-packages/sklearn/svm/_base.py:1225: ConvergenceWarning: Liblinear failed to converge, increase the number of iterations.\n",
      "  warnings.warn(\n",
      "\r",
      " 12%|█▎        | 1/8 [08:24<58:54, 504.98s/it]"
     ]
    },
    {
     "name": "stdout",
     "output_type": "stream",
     "text": [
      "train time: 5.05e+02s\n",
      "test time:  0.0654s\n",
      "Mean squared error: 17.0175\n",
      "Mean absolute error: 2.8478\n",
      "Coefficient of determination: 0.1159\n",
      "****************************************************************************************************\n",
      "PassiveAggressiveRegressor()\n"
     ]
    },
    {
     "name": "stderr",
     "output_type": "stream",
     "text": [
      "\r",
      " 25%|██▌       | 2/8 [08:41<21:45, 217.67s/it]"
     ]
    },
    {
     "name": "stdout",
     "output_type": "stream",
     "text": [
      "train time: 16.5s\n",
      "test time:  0.063s\n",
      "Mean squared error: 12.4911\n",
      "Mean absolute error: 2.2927\n",
      "Coefficient of determination: 0.3511\n",
      "****************************************************************************************************\n",
      "LinearRegression(n_jobs=8)\n"
     ]
    },
    {
     "name": "stderr",
     "output_type": "stream",
     "text": [
      "\r",
      " 38%|███▊      | 3/8 [23:24<43:26, 521.40s/it]"
     ]
    },
    {
     "name": "stdout",
     "output_type": "stream",
     "text": [
      "train time: 8.83e+02s\n",
      "test time:  0.119s\n",
      "Mean squared error: 11.5566\n",
      "Mean absolute error: 2.0369\n",
      "Coefficient of determination: 0.3996\n",
      "****************************************************************************************************\n",
      "ElasticNet()\n"
     ]
    },
    {
     "name": "stderr",
     "output_type": "stream",
     "text": [
      "/home/hl2659/miniconda3/envs/hao_ner/lib/python3.9/site-packages/sklearn/linear_model/_coordinate_descent.py:609: ConvergenceWarning: Objective did not converge. You might want to increase the number of iterations. Duality gap: 4075.6889044995187, tolerance: 128.34204336269116\n",
      "  model = cd_fast.sparse_enet_coordinate_descent(\n",
      "\r",
      " 50%|█████     | 4/8 [31:30<33:50, 507.50s/it]"
     ]
    },
    {
     "name": "stdout",
     "output_type": "stream",
     "text": [
      "train time: 4.86e+02s\n",
      "test time:  0.0877s\n",
      "Mean squared error: 11.4231\n",
      "Mean absolute error: 1.8847\n",
      "Coefficient of determination: 0.4066\n",
      "****************************************************************************************************\n",
      "GradientBoostingRegressor(learning_rate=0.001, loss='ls', max_depth=10,\n",
      "                          min_samples_split=8, n_estimators=1000)\n"
     ]
    },
    {
     "name": "stderr",
     "output_type": "stream",
     "text": [
      "/home/hl2659/miniconda3/envs/hao_ner/lib/python3.9/site-packages/sklearn/ensemble/_gb.py:294: FutureWarning: The loss 'ls' was deprecated in v1.0 and will be removed in version 1.2. Use 'squared_error' which is equivalent.\n",
      "  warnings.warn(\n"
     ]
    },
    {
     "name": "stdout",
     "output_type": "stream",
     "text": [
      "train time: 2.46e+05s\n"
     ]
    },
    {
     "name": "stderr",
     "output_type": "stream",
     "text": [
      "\r",
      " 62%|██████▎   | 5/8 [68:58:45<74:19:32, 89190.74s/it]"
     ]
    },
    {
     "name": "stdout",
     "output_type": "stream",
     "text": [
      "test time:  2.32s\n",
      "Mean squared error: 12.8937\n",
      "Mean absolute error: 2.0016\n",
      "Coefficient of determination: 0.3302\n",
      "****************************************************************************************************\n",
      "XGBRegressor(base_score=None, booster=None, colsample_bylevel=None,\n",
      "             colsample_bynode=None, colsample_bytree=None,\n",
      "             enable_categorical=False, gamma=None, gpu_id=None,\n",
      "             importance_type=None, interaction_constraints=None,\n",
      "             learning_rate=None, max_delta_step=None, max_depth=None,\n",
      "             min_child_weight=None, missing=nan, monotone_constraints=None,\n",
      "             n_estimators=100, n_jobs=None, num_parallel_tree=None,\n",
      "             predictor=None, random_state=None, reg_alpha=None, reg_lambda=None,\n",
      "             scale_pos_weight=None, subsample=None, tree_method=None,\n",
      "             validate_parameters=None, verbosity=None)\n"
     ]
    },
    {
     "name": "stderr",
     "output_type": "stream",
     "text": [
      "\r",
      " 75%|███████▌  | 6/8 [69:01:38<32:44:09, 58924.69s/it]"
     ]
    },
    {
     "name": "stdout",
     "output_type": "stream",
     "text": [
      "train time: 1.73e+02s\n",
      "test time:  0.0478s\n",
      "Mean squared error: 12.4297\n",
      "Mean absolute error: 1.9059\n",
      "Coefficient of determination: 0.3543\n",
      "****************************************************************************************************\n",
      "LGBMRegressor(n_jobs=8)\n"
     ]
    },
    {
     "name": "stderr",
     "output_type": "stream",
     "text": [
      "\r",
      " 88%|████████▊ | 7/8 [69:02:09<11:01:10, 39670.73s/it]"
     ]
    },
    {
     "name": "stdout",
     "output_type": "stream",
     "text": [
      "train time: 30.3s\n",
      "test time:  0.0248s\n",
      "Mean squared error: 11.0864\n",
      "Mean absolute error: 1.8158\n",
      "Coefficient of determination: 0.4240\n",
      "****************************************************************************************************\n",
      "MLPRegressor(early_stopping=True, max_iter=500, random_state=0)\n",
      "train time: 3.23e+03s\n"
     ]
    },
    {
     "name": "stderr",
     "output_type": "stream",
     "text": [
      "100%|██████████| 8/8 [69:56:07<00:00, 31470.88s/it]   "
     ]
    },
    {
     "name": "stdout",
     "output_type": "stream",
     "text": [
      "test time:  9.07s\n",
      "Mean squared error: 10.4019\n",
      "Mean absolute error: 1.7923\n",
      "Coefficient of determination: 0.4596\n"
     ]
    },
    {
     "name": "stderr",
     "output_type": "stream",
     "text": [
      "\n"
     ]
    }
   ],
   "source": [
    "from tqdm import tqdm\n",
    "from sklearn import linear_model\n",
    "from sklearn import svm\n",
    "from sklearn.svm import LinearSVR\n",
    "from sklearn import ensemble\n",
    "from sklearn.linear_model import ElasticNet\n",
    "from xgboost.sklearn import XGBRegressor\n",
    "from lightgbm import LGBMRegressor\n",
    "from sklearn.metrics import mean_squared_error, r2_score\n",
    "from sklearn.neural_network import MLPRegressor\n",
    "from sklearn.metrics import mean_absolute_error\n",
    "\n",
    "\n",
    "classifiers = [\n",
    "    LinearSVR(random_state=0, tol=1e-5),\n",
    "#     svm.SVR(),  # verbose=True  # slow and not scalable\n",
    "#     linear_model.SGDRegressor(verbose=1),  # slow and bad\n",
    "    linear_model.PassiveAggressiveRegressor(),  # verbose=1\n",
    "    linear_model.LinearRegression(n_jobs=8),\n",
    "    linear_model.ElasticNet(),\n",
    "    ensemble.GradientBoostingRegressor(n_estimators=1000,\n",
    "          max_depth=10,  # 3\n",
    "          min_samples_split=8,  # 5\n",
    "          learning_rate=0.001,  # 0.01\n",
    "          loss='ls'),\n",
    "    XGBRegressor(),  # verbosity=1\n",
    "    LGBMRegressor(n_jobs=8),\n",
    "    MLPRegressor(random_state=0, max_iter=500, early_stopping=True)\n",
    "]\n",
    "\n",
    "trainX = ct.fit_transform(X_train)\n",
    "print(trainX.shape)\n",
    "\n",
    "testX = ct.transform(X_test)\n",
    "print(testX.shape)\n",
    "\n",
    "results_preds_list2 = []\n",
    "for item in tqdm(classifiers):\n",
    "    print('**********'*10)\n",
    "    print(item)\n",
    "    regr = item\n",
    "    \n",
    "    t0 = time()\n",
    "    regr.fit(trainX, y_train)\n",
    "    train_time = time() - t0\n",
    "    print(f\"train time: {train_time:.3}s\")\n",
    "\n",
    "    t0 = time()\n",
    "    preds = regr.predict(testX)\n",
    "    test_time = time() - t0\n",
    "    print(f\"test time:  {test_time:.3}s\")\n",
    "    \n",
    "    # The mean squared error\n",
    "    mse = mean_squared_error(y_test, preds)\n",
    "    print(\"Mean squared error: %.4f\" % mse)\n",
    "    # The mean absolute error\n",
    "    mae = mean_absolute_error(y_test, preds)\n",
    "    print(\"Mean absolute error: %.4f\" % mae)    \n",
    "    # The coefficient of determination: 1 is perfect prediction\n",
    "    cod = r2_score(y_test, preds)\n",
    "    print(\"Coefficient of determination: %.4f\" % cod)\n",
    "    \n",
    "    results_preds_list2.append([regr.__class__.__name__, mse, mae, cod, train_time, test_time])\n",
    "\n",
    "\n"
   ]
  },
  {
   "cell_type": "code",
   "execution_count": 129,
   "id": "a2355dcc",
   "metadata": {
    "pycharm": {
     "name": "#%%\n"
    }
   },
   "outputs": [
    {
     "name": "stderr",
     "output_type": "stream",
     "text": [
      "100%|██████████| 50655/50655 [12:03<00:00, 70.06it/s]\n",
      "100%|██████████| 50655/50655 [18:52<00:00, 44.73it/s]\n",
      "100%|██████████| 50655/50655 [20:50<00:00, 40.51it/s]\n",
      "100%|██████████| 50655/50655 [14:53<00:00, 56.72it/s]\n"
     ]
    },
    {
     "name": "stdout",
     "output_type": "stream",
     "text": [
      "(50655, 3123)\n"
     ]
    },
    {
     "name": "stderr",
     "output_type": "stream",
     "text": [
      "100%|██████████| 8928/8928 [02:07<00:00, 70.05it/s]\n",
      "100%|██████████| 8928/8928 [02:07<00:00, 70.03it/s]\n",
      "100%|██████████| 8928/8928 [02:22<00:00, 62.85it/s]\n",
      "100%|██████████| 8928/8928 [02:34<00:00, 57.75it/s]\n"
     ]
    },
    {
     "name": "stdout",
     "output_type": "stream",
     "text": [
      "(8928, 3123)\n",
      "testing random_seed: 0\n"
     ]
    },
    {
     "name": "stderr",
     "output_type": "stream",
     "text": [
      "\r",
      "  0%|          | 0/7 [00:00<?, ?it/s]"
     ]
    },
    {
     "name": "stdout",
     "output_type": "stream",
     "text": [
      "****************************************************************************************************\n",
      "LinearSVR(random_state=0, tol=1e-05)\n"
     ]
    },
    {
     "name": "stderr",
     "output_type": "stream",
     "text": [
      "/home/hl2659/miniconda3/envs/hao_ner/lib/python3.9/site-packages/sklearn/svm/_base.py:1225: ConvergenceWarning: Liblinear failed to converge, increase the number of iterations.\n",
      "  warnings.warn(\n",
      "\r",
      " 14%|█▍        | 1/7 [06:31<39:10, 391.79s/it]"
     ]
    },
    {
     "name": "stdout",
     "output_type": "stream",
     "text": [
      "train time: 3.92e+02s\n",
      "test time:  0.0681s\n",
      "Mean squared error: 11.4294\n",
      "Mean absolute error: 1.7216\n",
      "Coefficient of determination: 0.4062\n",
      "****************************************************************************************************\n",
      "PassiveAggressiveRegressor(random_state=0)\n"
     ]
    },
    {
     "name": "stderr",
     "output_type": "stream",
     "text": [
      "\r",
      " 29%|██▊       | 2/7 [06:44<14:03, 168.80s/it]"
     ]
    },
    {
     "name": "stdout",
     "output_type": "stream",
     "text": [
      "train time: 12.6s\n",
      "test time:  0.0675s\n",
      "Mean squared error: 15.2194\n",
      "Mean absolute error: 2.9031\n",
      "Coefficient of determination: 0.2093\n",
      "****************************************************************************************************\n",
      "ElasticNet(random_state=0)\n"
     ]
    },
    {
     "name": "stderr",
     "output_type": "stream",
     "text": [
      "\r",
      " 43%|████▎     | 3/7 [06:53<06:23, 96.00s/it] "
     ]
    },
    {
     "name": "stdout",
     "output_type": "stream",
     "text": [
      "train time: 9.29s\n",
      "test time:  0.0798s\n",
      "Mean squared error: 17.3520\n",
      "Mean absolute error: 2.3466\n",
      "Coefficient of determination: 0.0985\n",
      "****************************************************************************************************\n",
      "XGBRegressor(base_score=None, booster=None, colsample_bylevel=None,\n",
      "             colsample_bynode=None, colsample_bytree=None,\n",
      "             enable_categorical=False, gamma=None, gpu_id=None,\n",
      "             importance_type=None, interaction_constraints=None,\n",
      "             learning_rate=None, max_delta_step=None, max_depth=None,\n",
      "             min_child_weight=None, missing=nan, monotone_constraints=None,\n",
      "             n_estimators=100, n_jobs=None, num_parallel_tree=None,\n",
      "             predictor=None, random_state=0, reg_alpha=None, reg_lambda=None,\n",
      "             scale_pos_weight=None, subsample=None, tree_method=None,\n",
      "             validate_parameters=None, verbosity=None)\n"
     ]
    },
    {
     "name": "stderr",
     "output_type": "stream",
     "text": [
      "\r",
      " 57%|█████▋    | 4/7 [12:05<09:03, 181.22s/it]"
     ]
    },
    {
     "name": "stdout",
     "output_type": "stream",
     "text": [
      "train time: 3.12e+02s\n",
      "test time:  0.0782s\n",
      "Mean squared error: 12.4297\n",
      "Mean absolute error: 1.9059\n",
      "Coefficient of determination: 0.3543\n",
      "****************************************************************************************************\n",
      "LGBMRegressor(n_jobs=8, random_state=0)\n"
     ]
    },
    {
     "name": "stderr",
     "output_type": "stream",
     "text": [
      "\r",
      " 71%|███████▏  | 5/7 [12:36<04:14, 127.06s/it]"
     ]
    },
    {
     "name": "stdout",
     "output_type": "stream",
     "text": [
      "train time: 31.0s\n",
      "test time:  0.0285s\n",
      "Mean squared error: 11.0865\n",
      "Mean absolute error: 1.8158\n",
      "Coefficient of determination: 0.4240\n",
      "****************************************************************************************************\n",
      "MLPRegressor(early_stopping=True, max_iter=500, random_state=0)\n",
      "train time: 1.74e+03s\n"
     ]
    },
    {
     "name": "stderr",
     "output_type": "stream",
     "text": [
      "\r",
      " 86%|████████▌ | 6/7 [41:33<11:14, 674.26s/it]"
     ]
    },
    {
     "name": "stdout",
     "output_type": "stream",
     "text": [
      "test time:  1.19s\n",
      "Mean squared error: 10.1771\n",
      "Mean absolute error: 1.7620\n",
      "Coefficient of determination: 0.4713\n",
      "****************************************************************************************************\n",
      "GradientBoostingRegressor(learning_rate=0.001, loss='ls', max_depth=10,\n",
      "                          max_features='sqrt', min_samples_split=8,\n",
      "                          n_estimators=1000, random_state=0)\n"
     ]
    },
    {
     "name": "stderr",
     "output_type": "stream",
     "text": [
      "/home/hl2659/miniconda3/envs/hao_ner/lib/python3.9/site-packages/sklearn/ensemble/_gb.py:294: FutureWarning: The loss 'ls' was deprecated in v1.0 and will be removed in version 1.2. Use 'squared_error' which is equivalent.\n",
      "  warnings.warn(\n"
     ]
    },
    {
     "name": "stdout",
     "output_type": "stream",
     "text": [
      "train time: 1.02e+04s\n"
     ]
    },
    {
     "name": "stderr",
     "output_type": "stream",
     "text": [
      "100%|██████████| 7/7 [3:31:34<00:00, 1813.46s/it]\n"
     ]
    },
    {
     "name": "stdout",
     "output_type": "stream",
     "text": [
      "test time:  3.2s\n",
      "Mean squared error: 12.8788\n",
      "Mean absolute error: 2.0080\n",
      "Coefficient of determination: 0.3309\n",
      "testing random_seed: 42\n"
     ]
    },
    {
     "name": "stderr",
     "output_type": "stream",
     "text": [
      "\r",
      "  0%|          | 0/7 [00:00<?, ?it/s]"
     ]
    },
    {
     "name": "stdout",
     "output_type": "stream",
     "text": [
      "****************************************************************************************************\n",
      "LinearSVR(random_state=42, tol=1e-05)\n"
     ]
    },
    {
     "name": "stderr",
     "output_type": "stream",
     "text": [
      "/home/hl2659/miniconda3/envs/hao_ner/lib/python3.9/site-packages/sklearn/svm/_base.py:1225: ConvergenceWarning: Liblinear failed to converge, increase the number of iterations.\n",
      "  warnings.warn(\n",
      "\r",
      " 14%|█▍        | 1/7 [06:32<39:13, 392.24s/it]"
     ]
    },
    {
     "name": "stdout",
     "output_type": "stream",
     "text": [
      "train time: 3.92e+02s\n",
      "test time:  0.0613s\n",
      "Mean squared error: 11.2266\n",
      "Mean absolute error: 1.7053\n",
      "Coefficient of determination: 0.4168\n",
      "****************************************************************************************************\n",
      "PassiveAggressiveRegressor(random_state=42)\n"
     ]
    },
    {
     "name": "stderr",
     "output_type": "stream",
     "text": [
      "\r",
      " 29%|██▊       | 2/7 [06:44<14:03, 168.80s/it]"
     ]
    },
    {
     "name": "stdout",
     "output_type": "stream",
     "text": [
      "train time: 12.3s\n",
      "test time:  0.0588s\n",
      "Mean squared error: 14.9821\n",
      "Mean absolute error: 2.8291\n",
      "Coefficient of determination: 0.2217\n",
      "****************************************************************************************************\n",
      "ElasticNet(random_state=42)\n"
     ]
    },
    {
     "name": "stderr",
     "output_type": "stream",
     "text": [
      "\r",
      " 43%|████▎     | 3/7 [06:56<06:29, 97.34s/it] "
     ]
    },
    {
     "name": "stdout",
     "output_type": "stream",
     "text": [
      "train time: 12.2s\n",
      "test time:  0.073s\n",
      "Mean squared error: 17.3520\n",
      "Mean absolute error: 2.3466\n",
      "Coefficient of determination: 0.0985\n",
      "****************************************************************************************************\n",
      "XGBRegressor(base_score=None, booster=None, colsample_bylevel=None,\n",
      "             colsample_bynode=None, colsample_bytree=None,\n",
      "             enable_categorical=False, gamma=None, gpu_id=None,\n",
      "             importance_type=None, interaction_constraints=None,\n",
      "             learning_rate=None, max_delta_step=None, max_depth=None,\n",
      "             min_child_weight=None, missing=nan, monotone_constraints=None,\n",
      "             n_estimators=100, n_jobs=None, num_parallel_tree=None,\n",
      "             predictor=None, random_state=42, reg_alpha=None, reg_lambda=None,\n",
      "             scale_pos_weight=None, subsample=None, tree_method=None,\n",
      "             validate_parameters=None, verbosity=None)\n"
     ]
    },
    {
     "name": "stderr",
     "output_type": "stream",
     "text": [
      "\r",
      " 57%|█████▋    | 4/7 [12:06<09:03, 181.06s/it]"
     ]
    },
    {
     "name": "stdout",
     "output_type": "stream",
     "text": [
      "train time: 3.09e+02s\n",
      "test time:  0.0659s\n",
      "Mean squared error: 12.4297\n",
      "Mean absolute error: 1.9059\n",
      "Coefficient of determination: 0.3543\n",
      "****************************************************************************************************\n",
      "LGBMRegressor(n_jobs=8, random_state=42)\n"
     ]
    },
    {
     "name": "stderr",
     "output_type": "stream",
     "text": [
      "\r",
      " 71%|███████▏  | 5/7 [12:37<04:13, 126.98s/it]"
     ]
    },
    {
     "name": "stdout",
     "output_type": "stream",
     "text": [
      "train time: 31.0s\n",
      "test time:  0.0276s\n",
      "Mean squared error: 11.0865\n",
      "Mean absolute error: 1.8158\n",
      "Coefficient of determination: 0.4240\n",
      "****************************************************************************************************\n",
      "MLPRegressor(early_stopping=True, max_iter=500, random_state=42)\n",
      "train time: 8.82e+02s\n"
     ]
    },
    {
     "name": "stderr",
     "output_type": "stream",
     "text": [
      "\r",
      " 86%|████████▌ | 6/7 [27:21<06:24, 384.30s/it]"
     ]
    },
    {
     "name": "stdout",
     "output_type": "stream",
     "text": [
      "test time:  1.33s\n",
      "Mean squared error: 10.0238\n",
      "Mean absolute error: 1.6927\n",
      "Coefficient of determination: 0.4792\n",
      "****************************************************************************************************\n",
      "GradientBoostingRegressor(learning_rate=0.001, loss='ls', max_depth=10,\n",
      "                          max_features='sqrt', min_samples_split=8,\n",
      "                          n_estimators=1000, random_state=42)\n"
     ]
    },
    {
     "name": "stderr",
     "output_type": "stream",
     "text": [
      "/home/hl2659/miniconda3/envs/hao_ner/lib/python3.9/site-packages/sklearn/ensemble/_gb.py:294: FutureWarning: The loss 'ls' was deprecated in v1.0 and will be removed in version 1.2. Use 'squared_error' which is equivalent.\n",
      "  warnings.warn(\n"
     ]
    },
    {
     "name": "stdout",
     "output_type": "stream",
     "text": [
      "train time: 1.13e+04s\n"
     ]
    },
    {
     "name": "stderr",
     "output_type": "stream",
     "text": [
      "100%|██████████| 7/7 [3:35:53<00:00, 1850.44s/it]\n"
     ]
    },
    {
     "name": "stdout",
     "output_type": "stream",
     "text": [
      "test time:  3.53s\n",
      "Mean squared error: 12.8750\n",
      "Mean absolute error: 2.0083\n",
      "Coefficient of determination: 0.3311\n",
      "testing random_seed: 1987\n"
     ]
    },
    {
     "name": "stderr",
     "output_type": "stream",
     "text": [
      "\r",
      "  0%|          | 0/7 [00:00<?, ?it/s]"
     ]
    },
    {
     "name": "stdout",
     "output_type": "stream",
     "text": [
      "****************************************************************************************************\n",
      "LinearSVR(random_state=1987, tol=1e-05)\n"
     ]
    },
    {
     "name": "stderr",
     "output_type": "stream",
     "text": [
      "/home/hl2659/miniconda3/envs/hao_ner/lib/python3.9/site-packages/sklearn/svm/_base.py:1225: ConvergenceWarning: Liblinear failed to converge, increase the number of iterations.\n",
      "  warnings.warn(\n",
      "\r",
      " 14%|█▍        | 1/7 [06:57<41:45, 417.56s/it]"
     ]
    },
    {
     "name": "stdout",
     "output_type": "stream",
     "text": [
      "train time: 4.17e+02s\n",
      "test time:  0.118s\n",
      "Mean squared error: 11.3025\n",
      "Mean absolute error: 1.7236\n",
      "Coefficient of determination: 0.4128\n",
      "****************************************************************************************************\n",
      "PassiveAggressiveRegressor(random_state=1987)\n"
     ]
    },
    {
     "name": "stderr",
     "output_type": "stream",
     "text": [
      "\r",
      " 29%|██▊       | 2/7 [07:20<15:25, 185.19s/it]"
     ]
    },
    {
     "name": "stdout",
     "output_type": "stream",
     "text": [
      "train time: 22.5s\n",
      "test time:  0.0627s\n",
      "Mean squared error: 13.3497\n",
      "Mean absolute error: 2.3139\n",
      "Coefficient of determination: 0.3065\n",
      "****************************************************************************************************\n",
      "ElasticNet(random_state=1987)\n"
     ]
    },
    {
     "name": "stderr",
     "output_type": "stream",
     "text": [
      "\r",
      " 43%|████▎     | 3/7 [07:32<07:04, 106.16s/it]"
     ]
    },
    {
     "name": "stdout",
     "output_type": "stream",
     "text": [
      "train time: 12.0s\n",
      "test time:  0.0794s\n",
      "Mean squared error: 17.3520\n",
      "Mean absolute error: 2.3466\n",
      "Coefficient of determination: 0.0985\n",
      "****************************************************************************************************\n",
      "XGBRegressor(base_score=None, booster=None, colsample_bylevel=None,\n",
      "             colsample_bynode=None, colsample_bytree=None,\n",
      "             enable_categorical=False, gamma=None, gpu_id=None,\n",
      "             importance_type=None, interaction_constraints=None,\n",
      "             learning_rate=None, max_delta_step=None, max_depth=None,\n",
      "             min_child_weight=None, missing=nan, monotone_constraints=None,\n",
      "             n_estimators=100, n_jobs=None, num_parallel_tree=None,\n",
      "             predictor=None, random_state=1987, reg_alpha=None, reg_lambda=None,\n",
      "             scale_pos_weight=None, subsample=None, tree_method=None,\n",
      "             validate_parameters=None, verbosity=None)\n"
     ]
    },
    {
     "name": "stderr",
     "output_type": "stream",
     "text": [
      "\r",
      " 57%|█████▋    | 4/7 [12:46<09:25, 188.41s/it]"
     ]
    },
    {
     "name": "stdout",
     "output_type": "stream",
     "text": [
      "train time: 3.14e+02s\n",
      "test time:  0.082s\n",
      "Mean squared error: 12.4297\n",
      "Mean absolute error: 1.9059\n",
      "Coefficient of determination: 0.3543\n",
      "****************************************************************************************************\n",
      "LGBMRegressor(n_jobs=8, random_state=1987)\n"
     ]
    },
    {
     "name": "stderr",
     "output_type": "stream",
     "text": [
      "\r",
      " 71%|███████▏  | 5/7 [13:18<04:23, 131.93s/it]"
     ]
    },
    {
     "name": "stdout",
     "output_type": "stream",
     "text": [
      "train time: 31.8s\n",
      "test time:  0.0281s\n",
      "Mean squared error: 11.0865\n",
      "Mean absolute error: 1.8158\n",
      "Coefficient of determination: 0.4240\n",
      "****************************************************************************************************\n",
      "MLPRegressor(early_stopping=True, max_iter=500, random_state=1987)\n",
      "train time: 7.62e+02s\n"
     ]
    },
    {
     "name": "stderr",
     "output_type": "stream",
     "text": [
      "\r",
      " 86%|████████▌ | 6/7 [26:01<05:46, 346.60s/it]"
     ]
    },
    {
     "name": "stdout",
     "output_type": "stream",
     "text": [
      "test time:  1.33s\n",
      "Mean squared error: 10.2498\n",
      "Mean absolute error: 1.7423\n",
      "Coefficient of determination: 0.4675\n",
      "****************************************************************************************************\n",
      "GradientBoostingRegressor(learning_rate=0.001, loss='ls', max_depth=10,\n",
      "                          max_features='sqrt', min_samples_split=8,\n",
      "                          n_estimators=1000, random_state=1987)\n"
     ]
    },
    {
     "name": "stderr",
     "output_type": "stream",
     "text": [
      "/home/hl2659/miniconda3/envs/hao_ner/lib/python3.9/site-packages/sklearn/ensemble/_gb.py:294: FutureWarning: The loss 'ls' was deprecated in v1.0 and will be removed in version 1.2. Use 'squared_error' which is equivalent.\n",
      "  warnings.warn(\n"
     ]
    },
    {
     "name": "stdout",
     "output_type": "stream",
     "text": [
      "train time: 1.23e+04s\n"
     ]
    },
    {
     "name": "stderr",
     "output_type": "stream",
     "text": [
      "100%|██████████| 7/7 [3:50:51<00:00, 1978.77s/it]\n"
     ]
    },
    {
     "name": "stdout",
     "output_type": "stream",
     "text": [
      "test time:  3.23s\n",
      "Mean squared error: 12.8683\n",
      "Mean absolute error: 2.0075\n",
      "Coefficient of determination: 0.3315\n",
      "testing random_seed: 1990\n"
     ]
    },
    {
     "name": "stderr",
     "output_type": "stream",
     "text": [
      "\r",
      "  0%|          | 0/7 [00:00<?, ?it/s]"
     ]
    },
    {
     "name": "stdout",
     "output_type": "stream",
     "text": [
      "****************************************************************************************************\n",
      "LinearSVR(random_state=1990, tol=1e-05)\n"
     ]
    },
    {
     "name": "stderr",
     "output_type": "stream",
     "text": [
      "/home/hl2659/miniconda3/envs/hao_ner/lib/python3.9/site-packages/sklearn/svm/_base.py:1225: ConvergenceWarning: Liblinear failed to converge, increase the number of iterations.\n",
      "  warnings.warn(\n",
      "\r",
      " 14%|█▍        | 1/7 [06:56<41:37, 416.24s/it]"
     ]
    },
    {
     "name": "stdout",
     "output_type": "stream",
     "text": [
      "train time: 4.16e+02s\n",
      "test time:  0.0657s\n",
      "Mean squared error: 10.7847\n",
      "Mean absolute error: 1.6986\n",
      "Coefficient of determination: 0.4397\n",
      "****************************************************************************************************\n",
      "PassiveAggressiveRegressor(random_state=1990)\n"
     ]
    },
    {
     "name": "stderr",
     "output_type": "stream",
     "text": [
      "\r",
      " 29%|██▊       | 2/7 [07:16<15:17, 183.41s/it]"
     ]
    },
    {
     "name": "stdout",
     "output_type": "stream",
     "text": [
      "train time: 20.4s\n",
      "test time:  0.0631s\n",
      "Mean squared error: 11.5844\n",
      "Mean absolute error: 2.1648\n",
      "Coefficient of determination: 0.3982\n",
      "****************************************************************************************************\n",
      "ElasticNet(random_state=1990)\n"
     ]
    },
    {
     "name": "stderr",
     "output_type": "stream",
     "text": [
      "\r",
      " 43%|████▎     | 3/7 [07:26<06:56, 104.05s/it]"
     ]
    },
    {
     "name": "stdout",
     "output_type": "stream",
     "text": [
      "train time: 9.56s\n",
      "test time:  0.052s\n",
      "Mean squared error: 17.3520\n",
      "Mean absolute error: 2.3466\n",
      "Coefficient of determination: 0.0985\n",
      "****************************************************************************************************\n",
      "XGBRegressor(base_score=None, booster=None, colsample_bylevel=None,\n",
      "             colsample_bynode=None, colsample_bytree=None,\n",
      "             enable_categorical=False, gamma=None, gpu_id=None,\n",
      "             importance_type=None, interaction_constraints=None,\n",
      "             learning_rate=None, max_delta_step=None, max_depth=None,\n",
      "             min_child_weight=None, missing=nan, monotone_constraints=None,\n",
      "             n_estimators=100, n_jobs=None, num_parallel_tree=None,\n",
      "             predictor=None, random_state=1990, reg_alpha=None, reg_lambda=None,\n",
      "             scale_pos_weight=None, subsample=None, tree_method=None,\n",
      "             validate_parameters=None, verbosity=None)\n"
     ]
    },
    {
     "name": "stderr",
     "output_type": "stream",
     "text": [
      "\r",
      " 57%|█████▋    | 4/7 [12:29<09:08, 182.72s/it]"
     ]
    },
    {
     "name": "stdout",
     "output_type": "stream",
     "text": [
      "train time: 3.03e+02s\n",
      "test time:  0.0953s\n",
      "Mean squared error: 12.4297\n",
      "Mean absolute error: 1.9059\n",
      "Coefficient of determination: 0.3543\n",
      "****************************************************************************************************\n",
      "LGBMRegressor(n_jobs=8, random_state=1990)\n"
     ]
    },
    {
     "name": "stderr",
     "output_type": "stream",
     "text": [
      "\r",
      " 71%|███████▏  | 5/7 [13:01<04:16, 128.28s/it]"
     ]
    },
    {
     "name": "stdout",
     "output_type": "stream",
     "text": [
      "train time: 31.7s\n",
      "test time:  0.0266s\n",
      "Mean squared error: 11.0865\n",
      "Mean absolute error: 1.8158\n",
      "Coefficient of determination: 0.4240\n",
      "****************************************************************************************************\n",
      "MLPRegressor(early_stopping=True, max_iter=500, random_state=1990)\n",
      "train time: 2.39e+03s\n"
     ]
    },
    {
     "name": "stderr",
     "output_type": "stream",
     "text": [
      "\r",
      " 86%|████████▌ | 6/7 [52:57<14:59, 899.30s/it]"
     ]
    },
    {
     "name": "stdout",
     "output_type": "stream",
     "text": [
      "test time:  1.32s\n",
      "Mean squared error: 10.1963\n",
      "Mean absolute error: 1.7261\n",
      "Coefficient of determination: 0.4703\n",
      "****************************************************************************************************\n",
      "GradientBoostingRegressor(learning_rate=0.001, loss='ls', max_depth=10,\n",
      "                          max_features='sqrt', min_samples_split=8,\n",
      "                          n_estimators=1000, random_state=1990)\n"
     ]
    },
    {
     "name": "stderr",
     "output_type": "stream",
     "text": [
      "/home/hl2659/miniconda3/envs/hao_ner/lib/python3.9/site-packages/sklearn/ensemble/_gb.py:294: FutureWarning: The loss 'ls' was deprecated in v1.0 and will be removed in version 1.2. Use 'squared_error' which is equivalent.\n",
      "  warnings.warn(\n"
     ]
    },
    {
     "name": "stdout",
     "output_type": "stream",
     "text": [
      "train time: 1.54e+04s\n"
     ]
    },
    {
     "name": "stderr",
     "output_type": "stream",
     "text": [
      "100%|██████████| 7/7 [5:09:46<00:00, 2655.27s/it]\n"
     ]
    },
    {
     "name": "stdout",
     "output_type": "stream",
     "text": [
      "test time:  3.25s\n",
      "Mean squared error: 12.8687\n",
      "Mean absolute error: 2.0064\n",
      "Coefficient of determination: 0.3315\n",
      "testing random_seed: 2022\n"
     ]
    },
    {
     "name": "stderr",
     "output_type": "stream",
     "text": [
      "\r",
      "  0%|          | 0/7 [00:00<?, ?it/s]"
     ]
    },
    {
     "name": "stdout",
     "output_type": "stream",
     "text": [
      "****************************************************************************************************\n",
      "LinearSVR(random_state=2022, tol=1e-05)\n"
     ]
    },
    {
     "name": "stderr",
     "output_type": "stream",
     "text": [
      "/home/hl2659/miniconda3/envs/hao_ner/lib/python3.9/site-packages/sklearn/svm/_base.py:1225: ConvergenceWarning: Liblinear failed to converge, increase the number of iterations.\n",
      "  warnings.warn(\n",
      "\r",
      " 14%|█▍        | 1/7 [06:28<38:53, 388.96s/it]"
     ]
    },
    {
     "name": "stdout",
     "output_type": "stream",
     "text": [
      "train time: 3.89e+02s\n",
      "test time:  0.0737s\n",
      "Mean squared error: 12.4500\n",
      "Mean absolute error: 1.8848\n",
      "Coefficient of determination: 0.3532\n",
      "****************************************************************************************************\n",
      "PassiveAggressiveRegressor(random_state=2022)\n"
     ]
    },
    {
     "name": "stderr",
     "output_type": "stream",
     "text": [
      "\r",
      " 29%|██▊       | 2/7 [06:42<14:00, 168.19s/it]"
     ]
    },
    {
     "name": "stdout",
     "output_type": "stream",
     "text": [
      "train time: 13.6s\n",
      "test time:  0.0699s\n",
      "Mean squared error: 11.6335\n",
      "Mean absolute error: 2.1950\n",
      "Coefficient of determination: 0.3956\n",
      "****************************************************************************************************\n",
      "ElasticNet(random_state=2022)\n"
     ]
    },
    {
     "name": "stderr",
     "output_type": "stream",
     "text": [
      "\r",
      " 43%|████▎     | 3/7 [06:56<06:31, 97.79s/it] "
     ]
    },
    {
     "name": "stdout",
     "output_type": "stream",
     "text": [
      "train time: 14.0s\n",
      "test time:  0.0594s\n",
      "Mean squared error: 17.3520\n",
      "Mean absolute error: 2.3466\n",
      "Coefficient of determination: 0.0985\n",
      "****************************************************************************************************\n",
      "XGBRegressor(base_score=None, booster=None, colsample_bylevel=None,\n",
      "             colsample_bynode=None, colsample_bytree=None,\n",
      "             enable_categorical=False, gamma=None, gpu_id=None,\n",
      "             importance_type=None, interaction_constraints=None,\n",
      "             learning_rate=None, max_delta_step=None, max_depth=None,\n",
      "             min_child_weight=None, missing=nan, monotone_constraints=None,\n",
      "             n_estimators=100, n_jobs=None, num_parallel_tree=None,\n",
      "             predictor=None, random_state=2022, reg_alpha=None, reg_lambda=None,\n",
      "             scale_pos_weight=None, subsample=None, tree_method=None,\n",
      "             validate_parameters=None, verbosity=None)\n"
     ]
    },
    {
     "name": "stderr",
     "output_type": "stream",
     "text": [
      "\r",
      " 57%|█████▋    | 4/7 [12:07<09:05, 181.73s/it]"
     ]
    },
    {
     "name": "stdout",
     "output_type": "stream",
     "text": [
      "train time: 3.1e+02s\n",
      "test time:  0.0771s\n",
      "Mean squared error: 12.4297\n",
      "Mean absolute error: 1.9059\n",
      "Coefficient of determination: 0.3543\n",
      "****************************************************************************************************\n",
      "LGBMRegressor(n_jobs=8, random_state=2022)\n"
     ]
    },
    {
     "name": "stderr",
     "output_type": "stream",
     "text": [
      "\r",
      " 71%|███████▏  | 5/7 [12:38<04:14, 127.49s/it]"
     ]
    },
    {
     "name": "stdout",
     "output_type": "stream",
     "text": [
      "train time: 31.3s\n",
      "test time:  0.0285s\n",
      "Mean squared error: 11.0865\n",
      "Mean absolute error: 1.8158\n",
      "Coefficient of determination: 0.4240\n",
      "****************************************************************************************************\n",
      "MLPRegressor(early_stopping=True, max_iter=500, random_state=2022)\n",
      "train time: 1.08e+03s\n"
     ]
    },
    {
     "name": "stderr",
     "output_type": "stream",
     "text": [
      "\r",
      " 86%|████████▌ | 6/7 [30:37<07:31, 451.08s/it]"
     ]
    },
    {
     "name": "stdout",
     "output_type": "stream",
     "text": [
      "test time:  1.28s\n",
      "Mean squared error: 10.0732\n",
      "Mean absolute error: 1.6836\n",
      "Coefficient of determination: 0.4767\n",
      "****************************************************************************************************\n",
      "GradientBoostingRegressor(learning_rate=0.001, loss='ls', max_depth=10,\n",
      "                          max_features='sqrt', min_samples_split=8,\n",
      "                          n_estimators=1000, random_state=2022)\n"
     ]
    },
    {
     "name": "stderr",
     "output_type": "stream",
     "text": [
      "/home/hl2659/miniconda3/envs/hao_ner/lib/python3.9/site-packages/sklearn/ensemble/_gb.py:294: FutureWarning: The loss 'ls' was deprecated in v1.0 and will be removed in version 1.2. Use 'squared_error' which is equivalent.\n",
      "  warnings.warn(\n"
     ]
    },
    {
     "name": "stdout",
     "output_type": "stream",
     "text": [
      "train time: 1.15e+04s\n"
     ]
    },
    {
     "name": "stderr",
     "output_type": "stream",
     "text": [
      "100%|██████████| 7/7 [3:42:34<00:00, 1907.78s/it]"
     ]
    },
    {
     "name": "stdout",
     "output_type": "stream",
     "text": [
      "test time:  3.36s\n",
      "Mean squared error: 12.8823\n",
      "Mean absolute error: 2.0084\n",
      "Coefficient of determination: 0.3307\n"
     ]
    },
    {
     "name": "stderr",
     "output_type": "stream",
     "text": [
      "\n"
     ]
    }
   ],
   "source": [
    "from tqdm import tqdm\n",
    "from sklearn import linear_model\n",
    "from sklearn import svm\n",
    "from sklearn.svm import LinearSVR\n",
    "from sklearn import ensemble\n",
    "from sklearn.linear_model import ElasticNet\n",
    "from xgboost.sklearn import XGBRegressor\n",
    "from lightgbm import LGBMRegressor\n",
    "from sklearn.metrics import mean_squared_error, r2_score\n",
    "from sklearn.neural_network import MLPRegressor\n",
    "from sklearn.metrics import mean_absolute_error\n",
    "\n",
    "trainX = ct.fit_transform(X_train)\n",
    "print(trainX.shape)\n",
    "\n",
    "testX = ct.transform(X_test)\n",
    "print(testX.shape)\n",
    "\n",
    "random_seeds_list = [0, 42, 1987, 1990, 2022]\n",
    "results_preds_list2 = []\n",
    "\n",
    "for rr_seed in random_seeds_list:\n",
    "    print(f'testing random_seed: {rr_seed}')\n",
    "\n",
    "    classifiers = [\n",
    "        LinearSVR(random_state=rr_seed, tol=1e-5),\n",
    "    #     svm.SVR(),  # verbose=True  # slow and not scalable\n",
    "    #     linear_model.SGDRegressor(verbose=1),  # slow and bad\n",
    "        linear_model.PassiveAggressiveRegressor(random_state=rr_seed),  # verbose=1\n",
    "#         linear_model.LinearRegression(n_jobs=8),\n",
    "        linear_model.ElasticNet(random_state=rr_seed),\n",
    "        XGBRegressor(random_state=rr_seed),  # verbosity=1\n",
    "        LGBMRegressor(random_state=rr_seed, n_jobs=8),\n",
    "        MLPRegressor(random_state=rr_seed, max_iter=500, early_stopping=True),\n",
    "        ensemble.GradientBoostingRegressor(n_estimators=1000,\n",
    "              max_depth=10,  # 3\n",
    "              min_samples_split=8,  # 5\n",
    "              learning_rate=0.001,  # 0.01\n",
    "              loss='ls',\n",
    "              max_features='sqrt',\n",
    "            random_state=rr_seed),\n",
    "    ]\n",
    "    for item in tqdm(classifiers):\n",
    "        print('**********'*10)\n",
    "        print(item)\n",
    "        regr = item\n",
    "\n",
    "        t0 = time()\n",
    "        regr.fit(trainX, y_train)\n",
    "        train_time = time() - t0\n",
    "        print(f\"train time: {train_time:.3}s\")\n",
    "\n",
    "        t0 = time()\n",
    "        preds = regr.predict(testX)\n",
    "        test_time = time() - t0\n",
    "        print(f\"test time:  {test_time:.3}s\")\n",
    "\n",
    "        # The mean squared error\n",
    "        mse = mean_squared_error(y_test, preds)\n",
    "        print(\"Mean squared error: %.4f\" % mse)\n",
    "        # The mean absolute error\n",
    "        mae = mean_absolute_error(y_test, preds)\n",
    "        print(\"Mean absolute error: %.4f\" % mae)    \n",
    "        # The coefficient of determination: 1 is perfect prediction\n",
    "        cod = r2_score(y_test, preds)\n",
    "        print(\"Coefficient of determination: %.4f\" % cod)\n",
    "\n",
    "        results_preds_list2.append([rr_seed, regr.__class__.__name__, mse, mae, cod, train_time, test_time])"
   ]
  },
  {
   "cell_type": "code",
   "execution_count": 130,
   "id": "8af02528",
   "metadata": {
    "pycharm": {
     "name": "#%%\n"
    }
   },
   "outputs": [
    {
     "name": "stdout",
     "output_type": "stream",
     "text": [
      "[[0, 'LinearSVR', 11.429441231056641, 1.7215788021937564, 0.4062229158011563, 391.7189350128174, 0.06808114051818848], [0, 'PassiveAggressiveRegressor', 15.219415393935211, 2.903067679476622, 0.2093279178630162, 12.626467943191528, 0.06747817993164062], [0, 'ElasticNet', 17.35199710639101, 2.346577589373609, 0.09853701169019402, 9.288111209869385, 0.07982373237609863], [0, 'XGBRegressor', 12.429686033674127, 1.905935540375974, 0.3542586569737498, 311.7643349170685, 0.0782470703125], [0, 'LGBMRegressor', 11.086461576444483, 1.815815825246426, 0.42404123737419674, 31.007953882217407, 0.028545141220092773], [0, 'MLPRegressor', 10.177122392971741, 1.7619585046398418, 0.47128280920563825, 1735.26398062706, 1.1880784034729004], [0, 'GradientBoostingRegressor', 12.878780483955314, 2.007957250901076, 0.3309275082476635, 10197.792578458786, 3.198991060256958], [42, 'LinearSVR', 11.22657730404732, 1.7053389009494722, 0.41676200941331054, 392.11180090904236, 0.061347246170043945], [42, 'PassiveAggressiveRegressor', 14.98212782990758, 2.8290948646077627, 0.22165537246351974, 12.321411848068237, 0.05883932113647461], [42, 'ElasticNet', 17.35199710639101, 2.346577589373609, 0.09853701169019402, 12.240816593170166, 0.07303881645202637], [42, 'XGBRegressor', 12.429686033674127, 1.905935540375974, 0.3542586569737498, 309.32530546188354, 0.06593847274780273], [42, 'LGBMRegressor', 11.086461576444483, 1.815815825246426, 0.42404123737419674, 31.04688596725464, 0.027591705322265625], [42, 'MLPRegressor', 10.023784681163892, 1.6927352374597808, 0.4792489396204467, 882.46133852005, 1.3295831680297852], [42, 'GradientBoostingRegressor', 12.875032525107626, 2.008343945380664, 0.3311222204852339, 11308.337336540222, 3.534733772277832], [1987, 'LinearSVR', 11.302536660837504, 1.7235585660548127, 0.41281580377817084, 417.4254732131958, 0.11793804168701172], [1987, 'PassiveAggressiveRegressor', 13.34972400028944, 2.3139280379097316, 0.30646126687171693, 22.474446058273315, 0.0627450942993164], [1987, 'ElasticNet', 17.35199710639101, 2.346577589373609, 0.09853701169019402, 12.01991581916809, 0.07939887046813965], [1987, 'XGBRegressor', 12.429686033674127, 1.905935540375974, 0.3542586569737498, 314.4015610218048, 0.08198428153991699], [1987, 'LGBMRegressor', 11.086461576444483, 1.815815825246426, 0.42404123737419674, 31.765615701675415, 0.028125524520874023], [1987, 'MLPRegressor', 10.2497547225458, 1.7422923397474874, 0.46750944776117265, 761.9757461547852, 1.3310225009918213], [1987, 'GradientBoostingRegressor', 12.868281608666699, 2.007472318358781, 0.33147294099719293, 12286.367770671844, 3.226066827774048], [1990, 'LinearSVR', 10.784681713649135, 1.6986178011103557, 0.43971916627536156, 416.16332364082336, 0.06572222709655762], [1990, 'PassiveAggressiveRegressor', 11.584440355395088, 2.1647739322525346, 0.3981704724452225, 20.354894161224365, 0.06311821937561035], [1990, 'ElasticNet', 17.35199710639101, 2.346577589373609, 0.09853701169019402, 9.555244207382202, 0.05198836326599121], [1990, 'XGBRegressor', 12.429686033674127, 1.905935540375974, 0.3542586569737498, 303.224417924881, 0.09531188011169434], [1990, 'LGBMRegressor', 11.086461576444483, 1.815815825246426, 0.42404123737419674, 31.707048654556274, 0.026582717895507812], [1990, 'MLPRegressor', 10.196259055925351, 1.7260834507649536, 0.47028863007647703, 2394.6524047851562, 1.3195269107818604], [1990, 'GradientBoostingRegressor', 12.868709461322197, 2.0063917440820593, 0.3314507133924385, 15406.331739902496, 3.2475812435150146], [2022, 'LinearSVR', 12.450049060600293, 1.8847615489107412, 0.3532007663464436, 388.8071413040161, 0.07374763488769531], [2022, 'PassiveAggressiveRegressor', 11.633490284588179, 2.1949586637000653, 0.39562225303994714, 13.566650629043579, 0.06985259056091309], [2022, 'ElasticNet', 17.35199710639101, 2.346577589373609, 0.09853701169019402, 13.963857889175415, 0.05938267707824707], [2022, 'XGBRegressor', 12.429686033674127, 1.905935540375974, 0.3542586569737498, 310.31609416007996, 0.07706761360168457], [2022, 'LGBMRegressor', 11.086461576444483, 1.815815825246426, 0.42404123737419674, 31.280415058135986, 0.02848529815673828], [2022, 'MLPRegressor', 10.07322771085827, 1.6836237624736041, 0.47668029803837964, 1077.9338827133179, 1.2750678062438965], [2022, 'GradientBoostingRegressor', 12.882316865493381, 2.008446663952243, 0.3307437877773589, 11513.508214950562, 3.36291241645813]]\n"
     ]
    }
   ],
   "source": [
    "print(results_preds_list2)"
   ]
  },
  {
   "cell_type": "code",
   "execution_count": 144,
   "id": "dcd6c003",
   "metadata": {
    "pycharm": {
     "name": "#%%\n"
    }
   },
   "outputs": [
    {
     "data": {
      "text/html": [
       "<div>\n",
       "<style scoped>\n",
       "    .dataframe tbody tr th:only-of-type {\n",
       "        vertical-align: middle;\n",
       "    }\n",
       "\n",
       "    .dataframe tbody tr th {\n",
       "        vertical-align: top;\n",
       "    }\n",
       "\n",
       "    .dataframe thead th {\n",
       "        text-align: right;\n",
       "    }\n",
       "</style>\n",
       "<table border=\"1\" class=\"dataframe\">\n",
       "  <thead>\n",
       "    <tr style=\"text-align: right;\">\n",
       "      <th></th>\n",
       "      <th>random_seed</th>\n",
       "      <th>clf_names</th>\n",
       "      <th>mse</th>\n",
       "      <th>mae</th>\n",
       "      <th>cod</th>\n",
       "      <th>training_time</th>\n",
       "      <th>test_time</th>\n",
       "    </tr>\n",
       "  </thead>\n",
       "  <tbody>\n",
       "    <tr>\n",
       "      <th>0</th>\n",
       "      <td>0</td>\n",
       "      <td>LinearSVR</td>\n",
       "      <td>11.429441</td>\n",
       "      <td>1.721579</td>\n",
       "      <td>0.406223</td>\n",
       "      <td>391.718935</td>\n",
       "      <td>0.068081</td>\n",
       "    </tr>\n",
       "    <tr>\n",
       "      <th>1</th>\n",
       "      <td>0</td>\n",
       "      <td>PassiveAggressiveRegressor</td>\n",
       "      <td>15.219415</td>\n",
       "      <td>2.903068</td>\n",
       "      <td>0.209328</td>\n",
       "      <td>12.626468</td>\n",
       "      <td>0.067478</td>\n",
       "    </tr>\n",
       "    <tr>\n",
       "      <th>2</th>\n",
       "      <td>0</td>\n",
       "      <td>ElasticNet</td>\n",
       "      <td>17.351997</td>\n",
       "      <td>2.346578</td>\n",
       "      <td>0.098537</td>\n",
       "      <td>9.288111</td>\n",
       "      <td>0.079824</td>\n",
       "    </tr>\n",
       "    <tr>\n",
       "      <th>3</th>\n",
       "      <td>0</td>\n",
       "      <td>XGBRegressor</td>\n",
       "      <td>12.429686</td>\n",
       "      <td>1.905936</td>\n",
       "      <td>0.354259</td>\n",
       "      <td>311.764335</td>\n",
       "      <td>0.078247</td>\n",
       "    </tr>\n",
       "    <tr>\n",
       "      <th>4</th>\n",
       "      <td>0</td>\n",
       "      <td>LGBMRegressor</td>\n",
       "      <td>11.086462</td>\n",
       "      <td>1.815816</td>\n",
       "      <td>0.424041</td>\n",
       "      <td>31.007954</td>\n",
       "      <td>0.028545</td>\n",
       "    </tr>\n",
       "    <tr>\n",
       "      <th>5</th>\n",
       "      <td>0</td>\n",
       "      <td>MLPRegressor</td>\n",
       "      <td>10.177122</td>\n",
       "      <td>1.761959</td>\n",
       "      <td>0.471283</td>\n",
       "      <td>1735.263981</td>\n",
       "      <td>1.188078</td>\n",
       "    </tr>\n",
       "    <tr>\n",
       "      <th>6</th>\n",
       "      <td>0</td>\n",
       "      <td>GradientBoostingRegressor</td>\n",
       "      <td>12.878780</td>\n",
       "      <td>2.007957</td>\n",
       "      <td>0.330928</td>\n",
       "      <td>10197.792578</td>\n",
       "      <td>3.198991</td>\n",
       "    </tr>\n",
       "    <tr>\n",
       "      <th>7</th>\n",
       "      <td>42</td>\n",
       "      <td>LinearSVR</td>\n",
       "      <td>11.226577</td>\n",
       "      <td>1.705339</td>\n",
       "      <td>0.416762</td>\n",
       "      <td>392.111801</td>\n",
       "      <td>0.061347</td>\n",
       "    </tr>\n",
       "    <tr>\n",
       "      <th>8</th>\n",
       "      <td>42</td>\n",
       "      <td>PassiveAggressiveRegressor</td>\n",
       "      <td>14.982128</td>\n",
       "      <td>2.829095</td>\n",
       "      <td>0.221655</td>\n",
       "      <td>12.321412</td>\n",
       "      <td>0.058839</td>\n",
       "    </tr>\n",
       "    <tr>\n",
       "      <th>9</th>\n",
       "      <td>42</td>\n",
       "      <td>ElasticNet</td>\n",
       "      <td>17.351997</td>\n",
       "      <td>2.346578</td>\n",
       "      <td>0.098537</td>\n",
       "      <td>12.240817</td>\n",
       "      <td>0.073039</td>\n",
       "    </tr>\n",
       "    <tr>\n",
       "      <th>10</th>\n",
       "      <td>42</td>\n",
       "      <td>XGBRegressor</td>\n",
       "      <td>12.429686</td>\n",
       "      <td>1.905936</td>\n",
       "      <td>0.354259</td>\n",
       "      <td>309.325305</td>\n",
       "      <td>0.065938</td>\n",
       "    </tr>\n",
       "    <tr>\n",
       "      <th>11</th>\n",
       "      <td>42</td>\n",
       "      <td>LGBMRegressor</td>\n",
       "      <td>11.086462</td>\n",
       "      <td>1.815816</td>\n",
       "      <td>0.424041</td>\n",
       "      <td>31.046886</td>\n",
       "      <td>0.027592</td>\n",
       "    </tr>\n",
       "    <tr>\n",
       "      <th>12</th>\n",
       "      <td>42</td>\n",
       "      <td>MLPRegressor</td>\n",
       "      <td>10.023785</td>\n",
       "      <td>1.692735</td>\n",
       "      <td>0.479249</td>\n",
       "      <td>882.461339</td>\n",
       "      <td>1.329583</td>\n",
       "    </tr>\n",
       "    <tr>\n",
       "      <th>13</th>\n",
       "      <td>42</td>\n",
       "      <td>GradientBoostingRegressor</td>\n",
       "      <td>12.875033</td>\n",
       "      <td>2.008344</td>\n",
       "      <td>0.331122</td>\n",
       "      <td>11308.337337</td>\n",
       "      <td>3.534734</td>\n",
       "    </tr>\n",
       "    <tr>\n",
       "      <th>14</th>\n",
       "      <td>1987</td>\n",
       "      <td>LinearSVR</td>\n",
       "      <td>11.302537</td>\n",
       "      <td>1.723559</td>\n",
       "      <td>0.412816</td>\n",
       "      <td>417.425473</td>\n",
       "      <td>0.117938</td>\n",
       "    </tr>\n",
       "    <tr>\n",
       "      <th>15</th>\n",
       "      <td>1987</td>\n",
       "      <td>PassiveAggressiveRegressor</td>\n",
       "      <td>13.349724</td>\n",
       "      <td>2.313928</td>\n",
       "      <td>0.306461</td>\n",
       "      <td>22.474446</td>\n",
       "      <td>0.062745</td>\n",
       "    </tr>\n",
       "    <tr>\n",
       "      <th>16</th>\n",
       "      <td>1987</td>\n",
       "      <td>ElasticNet</td>\n",
       "      <td>17.351997</td>\n",
       "      <td>2.346578</td>\n",
       "      <td>0.098537</td>\n",
       "      <td>12.019916</td>\n",
       "      <td>0.079399</td>\n",
       "    </tr>\n",
       "    <tr>\n",
       "      <th>17</th>\n",
       "      <td>1987</td>\n",
       "      <td>XGBRegressor</td>\n",
       "      <td>12.429686</td>\n",
       "      <td>1.905936</td>\n",
       "      <td>0.354259</td>\n",
       "      <td>314.401561</td>\n",
       "      <td>0.081984</td>\n",
       "    </tr>\n",
       "    <tr>\n",
       "      <th>18</th>\n",
       "      <td>1987</td>\n",
       "      <td>LGBMRegressor</td>\n",
       "      <td>11.086462</td>\n",
       "      <td>1.815816</td>\n",
       "      <td>0.424041</td>\n",
       "      <td>31.765616</td>\n",
       "      <td>0.028126</td>\n",
       "    </tr>\n",
       "    <tr>\n",
       "      <th>19</th>\n",
       "      <td>1987</td>\n",
       "      <td>MLPRegressor</td>\n",
       "      <td>10.249755</td>\n",
       "      <td>1.742292</td>\n",
       "      <td>0.467509</td>\n",
       "      <td>761.975746</td>\n",
       "      <td>1.331023</td>\n",
       "    </tr>\n",
       "    <tr>\n",
       "      <th>20</th>\n",
       "      <td>1987</td>\n",
       "      <td>GradientBoostingRegressor</td>\n",
       "      <td>12.868282</td>\n",
       "      <td>2.007472</td>\n",
       "      <td>0.331473</td>\n",
       "      <td>12286.367771</td>\n",
       "      <td>3.226067</td>\n",
       "    </tr>\n",
       "    <tr>\n",
       "      <th>21</th>\n",
       "      <td>1990</td>\n",
       "      <td>LinearSVR</td>\n",
       "      <td>10.784682</td>\n",
       "      <td>1.698618</td>\n",
       "      <td>0.439719</td>\n",
       "      <td>416.163324</td>\n",
       "      <td>0.065722</td>\n",
       "    </tr>\n",
       "    <tr>\n",
       "      <th>22</th>\n",
       "      <td>1990</td>\n",
       "      <td>PassiveAggressiveRegressor</td>\n",
       "      <td>11.584440</td>\n",
       "      <td>2.164774</td>\n",
       "      <td>0.398170</td>\n",
       "      <td>20.354894</td>\n",
       "      <td>0.063118</td>\n",
       "    </tr>\n",
       "    <tr>\n",
       "      <th>23</th>\n",
       "      <td>1990</td>\n",
       "      <td>ElasticNet</td>\n",
       "      <td>17.351997</td>\n",
       "      <td>2.346578</td>\n",
       "      <td>0.098537</td>\n",
       "      <td>9.555244</td>\n",
       "      <td>0.051988</td>\n",
       "    </tr>\n",
       "    <tr>\n",
       "      <th>24</th>\n",
       "      <td>1990</td>\n",
       "      <td>XGBRegressor</td>\n",
       "      <td>12.429686</td>\n",
       "      <td>1.905936</td>\n",
       "      <td>0.354259</td>\n",
       "      <td>303.224418</td>\n",
       "      <td>0.095312</td>\n",
       "    </tr>\n",
       "    <tr>\n",
       "      <th>25</th>\n",
       "      <td>1990</td>\n",
       "      <td>LGBMRegressor</td>\n",
       "      <td>11.086462</td>\n",
       "      <td>1.815816</td>\n",
       "      <td>0.424041</td>\n",
       "      <td>31.707049</td>\n",
       "      <td>0.026583</td>\n",
       "    </tr>\n",
       "    <tr>\n",
       "      <th>26</th>\n",
       "      <td>1990</td>\n",
       "      <td>MLPRegressor</td>\n",
       "      <td>10.196259</td>\n",
       "      <td>1.726083</td>\n",
       "      <td>0.470289</td>\n",
       "      <td>2394.652405</td>\n",
       "      <td>1.319527</td>\n",
       "    </tr>\n",
       "    <tr>\n",
       "      <th>27</th>\n",
       "      <td>1990</td>\n",
       "      <td>GradientBoostingRegressor</td>\n",
       "      <td>12.868709</td>\n",
       "      <td>2.006392</td>\n",
       "      <td>0.331451</td>\n",
       "      <td>15406.331740</td>\n",
       "      <td>3.247581</td>\n",
       "    </tr>\n",
       "    <tr>\n",
       "      <th>28</th>\n",
       "      <td>2022</td>\n",
       "      <td>LinearSVR</td>\n",
       "      <td>12.450049</td>\n",
       "      <td>1.884762</td>\n",
       "      <td>0.353201</td>\n",
       "      <td>388.807141</td>\n",
       "      <td>0.073748</td>\n",
       "    </tr>\n",
       "    <tr>\n",
       "      <th>29</th>\n",
       "      <td>2022</td>\n",
       "      <td>PassiveAggressiveRegressor</td>\n",
       "      <td>11.633490</td>\n",
       "      <td>2.194959</td>\n",
       "      <td>0.395622</td>\n",
       "      <td>13.566651</td>\n",
       "      <td>0.069853</td>\n",
       "    </tr>\n",
       "    <tr>\n",
       "      <th>30</th>\n",
       "      <td>2022</td>\n",
       "      <td>ElasticNet</td>\n",
       "      <td>17.351997</td>\n",
       "      <td>2.346578</td>\n",
       "      <td>0.098537</td>\n",
       "      <td>13.963858</td>\n",
       "      <td>0.059383</td>\n",
       "    </tr>\n",
       "    <tr>\n",
       "      <th>31</th>\n",
       "      <td>2022</td>\n",
       "      <td>XGBRegressor</td>\n",
       "      <td>12.429686</td>\n",
       "      <td>1.905936</td>\n",
       "      <td>0.354259</td>\n",
       "      <td>310.316094</td>\n",
       "      <td>0.077068</td>\n",
       "    </tr>\n",
       "    <tr>\n",
       "      <th>32</th>\n",
       "      <td>2022</td>\n",
       "      <td>LGBMRegressor</td>\n",
       "      <td>11.086462</td>\n",
       "      <td>1.815816</td>\n",
       "      <td>0.424041</td>\n",
       "      <td>31.280415</td>\n",
       "      <td>0.028485</td>\n",
       "    </tr>\n",
       "    <tr>\n",
       "      <th>33</th>\n",
       "      <td>2022</td>\n",
       "      <td>MLPRegressor</td>\n",
       "      <td>10.073228</td>\n",
       "      <td>1.683624</td>\n",
       "      <td>0.476680</td>\n",
       "      <td>1077.933883</td>\n",
       "      <td>1.275068</td>\n",
       "    </tr>\n",
       "    <tr>\n",
       "      <th>34</th>\n",
       "      <td>2022</td>\n",
       "      <td>GradientBoostingRegressor</td>\n",
       "      <td>12.882317</td>\n",
       "      <td>2.008447</td>\n",
       "      <td>0.330744</td>\n",
       "      <td>11513.508215</td>\n",
       "      <td>3.362912</td>\n",
       "    </tr>\n",
       "  </tbody>\n",
       "</table>\n",
       "</div>"
      ],
      "text/plain": [
       "    random_seed                   clf_names        mse       mae       cod  \\\n",
       "0             0                   LinearSVR  11.429441  1.721579  0.406223   \n",
       "1             0  PassiveAggressiveRegressor  15.219415  2.903068  0.209328   \n",
       "2             0                  ElasticNet  17.351997  2.346578  0.098537   \n",
       "3             0                XGBRegressor  12.429686  1.905936  0.354259   \n",
       "4             0               LGBMRegressor  11.086462  1.815816  0.424041   \n",
       "5             0                MLPRegressor  10.177122  1.761959  0.471283   \n",
       "6             0   GradientBoostingRegressor  12.878780  2.007957  0.330928   \n",
       "7            42                   LinearSVR  11.226577  1.705339  0.416762   \n",
       "8            42  PassiveAggressiveRegressor  14.982128  2.829095  0.221655   \n",
       "9            42                  ElasticNet  17.351997  2.346578  0.098537   \n",
       "10           42                XGBRegressor  12.429686  1.905936  0.354259   \n",
       "11           42               LGBMRegressor  11.086462  1.815816  0.424041   \n",
       "12           42                MLPRegressor  10.023785  1.692735  0.479249   \n",
       "13           42   GradientBoostingRegressor  12.875033  2.008344  0.331122   \n",
       "14         1987                   LinearSVR  11.302537  1.723559  0.412816   \n",
       "15         1987  PassiveAggressiveRegressor  13.349724  2.313928  0.306461   \n",
       "16         1987                  ElasticNet  17.351997  2.346578  0.098537   \n",
       "17         1987                XGBRegressor  12.429686  1.905936  0.354259   \n",
       "18         1987               LGBMRegressor  11.086462  1.815816  0.424041   \n",
       "19         1987                MLPRegressor  10.249755  1.742292  0.467509   \n",
       "20         1987   GradientBoostingRegressor  12.868282  2.007472  0.331473   \n",
       "21         1990                   LinearSVR  10.784682  1.698618  0.439719   \n",
       "22         1990  PassiveAggressiveRegressor  11.584440  2.164774  0.398170   \n",
       "23         1990                  ElasticNet  17.351997  2.346578  0.098537   \n",
       "24         1990                XGBRegressor  12.429686  1.905936  0.354259   \n",
       "25         1990               LGBMRegressor  11.086462  1.815816  0.424041   \n",
       "26         1990                MLPRegressor  10.196259  1.726083  0.470289   \n",
       "27         1990   GradientBoostingRegressor  12.868709  2.006392  0.331451   \n",
       "28         2022                   LinearSVR  12.450049  1.884762  0.353201   \n",
       "29         2022  PassiveAggressiveRegressor  11.633490  2.194959  0.395622   \n",
       "30         2022                  ElasticNet  17.351997  2.346578  0.098537   \n",
       "31         2022                XGBRegressor  12.429686  1.905936  0.354259   \n",
       "32         2022               LGBMRegressor  11.086462  1.815816  0.424041   \n",
       "33         2022                MLPRegressor  10.073228  1.683624  0.476680   \n",
       "34         2022   GradientBoostingRegressor  12.882317  2.008447  0.330744   \n",
       "\n",
       "    training_time  test_time  \n",
       "0      391.718935   0.068081  \n",
       "1       12.626468   0.067478  \n",
       "2        9.288111   0.079824  \n",
       "3      311.764335   0.078247  \n",
       "4       31.007954   0.028545  \n",
       "5     1735.263981   1.188078  \n",
       "6    10197.792578   3.198991  \n",
       "7      392.111801   0.061347  \n",
       "8       12.321412   0.058839  \n",
       "9       12.240817   0.073039  \n",
       "10     309.325305   0.065938  \n",
       "11      31.046886   0.027592  \n",
       "12     882.461339   1.329583  \n",
       "13   11308.337337   3.534734  \n",
       "14     417.425473   0.117938  \n",
       "15      22.474446   0.062745  \n",
       "16      12.019916   0.079399  \n",
       "17     314.401561   0.081984  \n",
       "18      31.765616   0.028126  \n",
       "19     761.975746   1.331023  \n",
       "20   12286.367771   3.226067  \n",
       "21     416.163324   0.065722  \n",
       "22      20.354894   0.063118  \n",
       "23       9.555244   0.051988  \n",
       "24     303.224418   0.095312  \n",
       "25      31.707049   0.026583  \n",
       "26    2394.652405   1.319527  \n",
       "27   15406.331740   3.247581  \n",
       "28     388.807141   0.073748  \n",
       "29      13.566651   0.069853  \n",
       "30      13.963858   0.059383  \n",
       "31     310.316094   0.077068  \n",
       "32      31.280415   0.028485  \n",
       "33    1077.933883   1.275068  \n",
       "34   11513.508215   3.362912  "
      ]
     },
     "execution_count": 144,
     "metadata": {},
     "output_type": "execute_result"
    }
   ],
   "source": [
    "result_df2 = pd.DataFrame(results_preds_list2)\n",
    "result_df2.columns = ['random_seed','clf_names', 'mse', 'mae', 'cod', 'training_time', 'test_time']\n",
    "result_df2"
   ]
  },
  {
   "cell_type": "code",
   "execution_count": 145,
   "id": "2f2d9ca0",
   "metadata": {
    "pycharm": {
     "name": "#%%\n"
    }
   },
   "outputs": [
    {
     "data": {
      "text/html": [
       "<div>\n",
       "<style scoped>\n",
       "    .dataframe tbody tr th:only-of-type {\n",
       "        vertical-align: middle;\n",
       "    }\n",
       "\n",
       "    .dataframe tbody tr th {\n",
       "        vertical-align: top;\n",
       "    }\n",
       "\n",
       "    .dataframe thead th {\n",
       "        text-align: right;\n",
       "    }\n",
       "</style>\n",
       "<table border=\"1\" class=\"dataframe\">\n",
       "  <thead>\n",
       "    <tr style=\"text-align: right;\">\n",
       "      <th></th>\n",
       "      <th>mae_mean</th>\n",
       "      <th>mae_std</th>\n",
       "      <th>mse_mean</th>\n",
       "      <th>mse_std</th>\n",
       "    </tr>\n",
       "    <tr>\n",
       "      <th>clf_names</th>\n",
       "      <th></th>\n",
       "      <th></th>\n",
       "      <th></th>\n",
       "      <th></th>\n",
       "    </tr>\n",
       "  </thead>\n",
       "  <tbody>\n",
       "    <tr>\n",
       "      <th>ElasticNet</th>\n",
       "      <td>2.346578</td>\n",
       "      <td>0.000000</td>\n",
       "      <td>17.351997</td>\n",
       "      <td>0.000000</td>\n",
       "    </tr>\n",
       "    <tr>\n",
       "      <th>GradientBoostingRegressor</th>\n",
       "      <td>2.007722</td>\n",
       "      <td>0.000837</td>\n",
       "      <td>12.874624</td>\n",
       "      <td>0.006161</td>\n",
       "    </tr>\n",
       "    <tr>\n",
       "      <th>LGBMRegressor</th>\n",
       "      <td>1.815816</td>\n",
       "      <td>0.000000</td>\n",
       "      <td>11.086462</td>\n",
       "      <td>0.000000</td>\n",
       "    </tr>\n",
       "    <tr>\n",
       "      <th>LinearSVR</th>\n",
       "      <td>1.746771</td>\n",
       "      <td>0.077862</td>\n",
       "      <td>11.438657</td>\n",
       "      <td>0.615262</td>\n",
       "    </tr>\n",
       "    <tr>\n",
       "      <th>MLPRegressor</th>\n",
       "      <td>1.721339</td>\n",
       "      <td>0.032985</td>\n",
       "      <td>10.144030</td>\n",
       "      <td>0.092834</td>\n",
       "    </tr>\n",
       "    <tr>\n",
       "      <th>PassiveAggressiveRegressor</th>\n",
       "      <td>2.481165</td>\n",
       "      <td>0.356736</td>\n",
       "      <td>13.353840</td>\n",
       "      <td>1.748005</td>\n",
       "    </tr>\n",
       "    <tr>\n",
       "      <th>XGBRegressor</th>\n",
       "      <td>1.905936</td>\n",
       "      <td>0.000000</td>\n",
       "      <td>12.429686</td>\n",
       "      <td>0.000000</td>\n",
       "    </tr>\n",
       "  </tbody>\n",
       "</table>\n",
       "</div>"
      ],
      "text/plain": [
       "                            mae_mean   mae_std   mse_mean   mse_std\n",
       "clf_names                                                          \n",
       "ElasticNet                  2.346578  0.000000  17.351997  0.000000\n",
       "GradientBoostingRegressor   2.007722  0.000837  12.874624  0.006161\n",
       "LGBMRegressor               1.815816  0.000000  11.086462  0.000000\n",
       "LinearSVR                   1.746771  0.077862  11.438657  0.615262\n",
       "MLPRegressor                1.721339  0.032985  10.144030  0.092834\n",
       "PassiveAggressiveRegressor  2.481165  0.356736  13.353840  1.748005\n",
       "XGBRegressor                1.905936  0.000000  12.429686  0.000000"
      ]
     },
     "execution_count": 145,
     "metadata": {},
     "output_type": "execute_result"
    }
   ],
   "source": [
    "xdf = result_df2.groupby(\"clf_names\").agg({'mae':[np.mean, np.std], 'mse':[np.mean, np.std]})\n",
    "xdf.columns = xdf.columns.map(\"_\".join)\n",
    "xdf"
   ]
  },
  {
   "cell_type": "code",
   "execution_count": 146,
   "id": "048f1e19",
   "metadata": {
    "pycharm": {
     "name": "#%%\n"
    }
   },
   "outputs": [
    {
     "name": "stdout",
     "output_type": "stream",
     "text": [
      "[2.007957250901076, 2.008343945380664, 2.007472318358781, 2.0063917440820593, 2.008446663952243]\n"
     ]
    }
   ],
   "source": [
    "print(result_df2[result_df2['clf_names']=='GradientBoostingRegressor']['mae'].tolist())\n"
   ]
  },
  {
   "cell_type": "code",
   "execution_count": 147,
   "id": "c61048c8",
   "metadata": {
    "pycharm": {
     "name": "#%%\n"
    }
   },
   "outputs": [
    {
     "name": "stdout",
     "output_type": "stream",
     "text": [
      "[1.7215788021937564, 1.7053389009494722, 1.7235585660548127, 1.6986178011103557, 1.8847615489107412]\n"
     ]
    }
   ],
   "source": [
    "print(result_df2[result_df2['clf_names']=='LinearSVR']['mae'].tolist())\n"
   ]
  },
  {
   "cell_type": "code",
   "execution_count": 148,
   "id": "e29d594d",
   "metadata": {
    "pycharm": {
     "name": "#%%\n"
    }
   },
   "outputs": [
    {
     "name": "stdout",
     "output_type": "stream",
     "text": [
      "[1.7619585046398418, 1.6927352374597808, 1.7422923397474874, 1.7260834507649536, 1.6836237624736041]\n"
     ]
    }
   ],
   "source": [
    "print(result_df2[result_df2['clf_names']=='MLPRegressor']['mae'].tolist())\n"
   ]
  },
  {
   "cell_type": "code",
   "execution_count": 149,
   "id": "63bb39a9",
   "metadata": {
    "pycharm": {
     "name": "#%%\n"
    }
   },
   "outputs": [
    {
     "name": "stdout",
     "output_type": "stream",
     "text": [
      "[2.903067679476622, 2.8290948646077627, 2.3139280379097316, 2.1647739322525346, 2.1949586637000653]\n"
     ]
    }
   ],
   "source": [
    "print(result_df2[result_df2['clf_names']=='PassiveAggressiveRegressor']['mae'].tolist())\n"
   ]
  },
  {
   "cell_type": "code",
   "execution_count": null,
   "id": "2c490d6c",
   "metadata": {
    "pycharm": {
     "name": "#%%\n"
    }
   },
   "outputs": [],
   "source": []
  },
  {
   "cell_type": "code",
   "execution_count": null,
   "id": "5cb3e34d",
   "metadata": {
    "pycharm": {
     "name": "#%%\n"
    }
   },
   "outputs": [],
   "source": [
    "# Test on Black only"
   ]
  },
  {
   "cell_type": "code",
   "execution_count": 150,
   "id": "bec23e65",
   "metadata": {
    "pycharm": {
     "name": "#%%\n"
    }
   },
   "outputs": [
    {
     "name": "stdout",
     "output_type": "stream",
     "text": [
      "(947, 46)\n"
     ]
    }
   ],
   "source": [
    "df_test = train_df_split[train_df_split['SUBJECT_LABLE']=='test']\n",
    "\n",
    "df_test = df_test.loc[df_test.ETHNICITY=='BLACK/AFRICAN AMERICAN'].copy()\n",
    "df_test.head()\n",
    "print(df_test.shape)\n",
    "X_test = df_test[select_features].copy()\n",
    "y_test = df_test['LOS']"
   ]
  },
  {
   "cell_type": "code",
   "execution_count": 151,
   "id": "7c338819",
   "metadata": {
    "pycharm": {
     "name": "#%%\n"
    }
   },
   "outputs": [
    {
     "name": "stderr",
     "output_type": "stream",
     "text": [
      "100%|██████████| 947/947 [00:21<00:00, 44.97it/s]\n",
      "100%|██████████| 947/947 [00:27<00:00, 34.22it/s]\n",
      "100%|██████████| 947/947 [00:31<00:00, 30.08it/s]\n",
      "100%|██████████| 947/947 [00:28<00:00, 33.28it/s]\n"
     ]
    },
    {
     "name": "stdout",
     "output_type": "stream",
     "text": [
      "(947, 3123)\n"
     ]
    }
   ],
   "source": [
    "testX = ct.transform(X_test)\n",
    "print(testX.shape)"
   ]
  },
  {
   "cell_type": "code",
   "execution_count": 152,
   "id": "dba9df05",
   "metadata": {
    "pycharm": {
     "name": "#%%\n"
    }
   },
   "outputs": [
    {
     "name": "stderr",
     "output_type": "stream",
     "text": [
      "\r",
      "  0%|          | 0/1 [00:00<?, ?it/s]"
     ]
    },
    {
     "name": "stdout",
     "output_type": "stream",
     "text": [
      "****************************************************************************************************\n",
      "MLPRegressor(early_stopping=True, max_iter=500, random_state=1990)\n"
     ]
    },
    {
     "name": "stderr",
     "output_type": "stream",
     "text": [
      "100%|██████████| 1/1 [44:25<00:00, 2665.14s/it]"
     ]
    },
    {
     "name": "stdout",
     "output_type": "stream",
     "text": [
      "train time: 2.66e+03s\n",
      "test time:  0.142s\n",
      "11.565389415335975\n",
      "Mean squared error: 11.5654\n",
      "1.7104841074989725\n",
      "Mean absolute error: 1.7105\n",
      "Coefficient of determination: 0.4911\n"
     ]
    },
    {
     "name": "stderr",
     "output_type": "stream",
     "text": [
      "\n"
     ]
    }
   ],
   "source": [
    "rr_seed = 1990\n",
    "classifiers = [\n",
    "    MLPRegressor(random_state=rr_seed, max_iter=500, early_stopping=True),\n",
    "]\n",
    "for item in tqdm(classifiers):\n",
    "    print('**********'*10)\n",
    "    print(item)\n",
    "    regr = item\n",
    "\n",
    "    t0 = time()\n",
    "    regr.fit(trainX, y_train)\n",
    "    train_time = time() - t0\n",
    "    print(f\"train time: {train_time:.3}s\")\n",
    "\n",
    "    t0 = time()\n",
    "    preds = regr.predict(testX)\n",
    "    test_time = time() - t0\n",
    "    print(f\"test time:  {test_time:.3}s\")\n",
    "\n",
    "    # The mean squared error\n",
    "    mse = mean_squared_error(y_test, preds)\n",
    "    print(mse)\n",
    "    print(\"Mean squared error: %.4f\" % mse)\n",
    "    # The mean absolute error\n",
    "    mae = mean_absolute_error(y_test, preds)\n",
    "    print(mae)\n",
    "    print(\"Mean absolute error: %.4f\" % mae)    \n",
    "    # The coefficient of determination: 1 is perfect prediction\n",
    "    cod = r2_score(y_test, preds)\n",
    "    print(\"Coefficient of determination: %.4f\" % cod)"
   ]
  },
  {
   "cell_type": "code",
   "execution_count": null,
   "id": "8045164f",
   "metadata": {
    "pycharm": {
     "name": "#%%\n"
    }
   },
   "outputs": [],
   "source": [
    "# Test on White only"
   ]
  },
  {
   "cell_type": "code",
   "execution_count": 153,
   "id": "50e9e55a",
   "metadata": {
    "pycharm": {
     "name": "#%%\n"
    }
   },
   "outputs": [
    {
     "name": "stdout",
     "output_type": "stream",
     "text": [
      "(5996, 46)\n"
     ]
    }
   ],
   "source": [
    "df_test = train_df_split[train_df_split['SUBJECT_LABLE']=='test']\n",
    "\n",
    "df_test = df_test.loc[df_test.ETHNICITY=='WHITE'].copy()\n",
    "df_test.head()\n",
    "print(df_test.shape)\n",
    "X_test = df_test[select_features].copy()\n",
    "y_test = df_test['LOS']"
   ]
  },
  {
   "cell_type": "code",
   "execution_count": 154,
   "id": "195df30d",
   "metadata": {
    "pycharm": {
     "name": "#%%\n"
    }
   },
   "outputs": [
    {
     "name": "stderr",
     "output_type": "stream",
     "text": [
      "100%|██████████| 5996/5996 [01:34<00:00, 63.57it/s]\n",
      "100%|██████████| 5996/5996 [01:39<00:00, 60.01it/s]\n",
      "100%|██████████| 5996/5996 [01:47<00:00, 55.61it/s]\n",
      "100%|██████████| 5996/5996 [01:49<00:00, 54.55it/s]\n"
     ]
    },
    {
     "name": "stdout",
     "output_type": "stream",
     "text": [
      "(5996, 3123)\n"
     ]
    }
   ],
   "source": [
    "testX = ct.transform(X_test)\n",
    "print(testX.shape)"
   ]
  },
  {
   "cell_type": "code",
   "execution_count": 155,
   "id": "7922ad5e",
   "metadata": {
    "pycharm": {
     "name": "#%%\n"
    }
   },
   "outputs": [
    {
     "name": "stderr",
     "output_type": "stream",
     "text": [
      "\r",
      "  0%|          | 0/1 [00:00<?, ?it/s]"
     ]
    },
    {
     "name": "stdout",
     "output_type": "stream",
     "text": [
      "****************************************************************************************************\n",
      "MLPRegressor(early_stopping=True, max_iter=500, random_state=1990)\n",
      "train time: 2.74e+03s\n"
     ]
    },
    {
     "name": "stderr",
     "output_type": "stream",
     "text": [
      "100%|██████████| 1/1 [45:38<00:00, 2738.73s/it]"
     ]
    },
    {
     "name": "stdout",
     "output_type": "stream",
     "text": [
      "test time:  0.831s\n",
      "9.39017902723175\n",
      "Mean squared error: 9.3902\n",
      "1.684014469927412\n",
      "Mean absolute error: 1.6840\n",
      "Coefficient of determination: 0.4225\n"
     ]
    },
    {
     "name": "stderr",
     "output_type": "stream",
     "text": [
      "\n"
     ]
    }
   ],
   "source": [
    "rr_seed = 1990\n",
    "classifiers = [\n",
    "    MLPRegressor(random_state=rr_seed, max_iter=500, early_stopping=True),\n",
    "]\n",
    "for item in tqdm(classifiers):\n",
    "    print('**********'*10)\n",
    "    print(item)\n",
    "    regr = item\n",
    "\n",
    "    t0 = time()\n",
    "    regr.fit(trainX, y_train)\n",
    "    train_time = time() - t0\n",
    "    print(f\"train time: {train_time:.3}s\")\n",
    "\n",
    "    t0 = time()\n",
    "    preds = regr.predict(testX)\n",
    "    test_time = time() - t0\n",
    "    print(f\"test time:  {test_time:.3}s\")\n",
    "\n",
    "    # The mean squared error\n",
    "    mse = mean_squared_error(y_test, preds)\n",
    "    print(mse)\n",
    "    print(\"Mean squared error: %.4f\" % mse)\n",
    "    # The mean absolute error\n",
    "    mae = mean_absolute_error(y_test, preds)\n",
    "    print(mae)\n",
    "    print(\"Mean absolute error: %.4f\" % mae)    \n",
    "    # The coefficient of determination: 1 is perfect prediction\n",
    "    cod = r2_score(y_test, preds)\n",
    "    print(\"Coefficient of determination: %.4f\" % cod)"
   ]
  },
  {
   "cell_type": "code",
   "execution_count": null,
   "id": "6e47008e",
   "metadata": {
    "pycharm": {
     "name": "#%%\n"
    }
   },
   "outputs": [],
   "source": []
  },
  {
   "cell_type": "code",
   "execution_count": 156,
   "id": "bfa9d8f3",
   "metadata": {
    "pycharm": {
     "name": "#%%\n"
    }
   },
   "outputs": [
    {
     "data": {
      "text/html": [
       "<div>\n",
       "<style scoped>\n",
       "    .dataframe tbody tr th:only-of-type {\n",
       "        vertical-align: middle;\n",
       "    }\n",
       "\n",
       "    .dataframe tbody tr th {\n",
       "        vertical-align: top;\n",
       "    }\n",
       "\n",
       "    .dataframe thead th {\n",
       "        text-align: right;\n",
       "    }\n",
       "</style>\n",
       "<table border=\"1\" class=\"dataframe\">\n",
       "  <thead>\n",
       "    <tr style=\"text-align: right;\">\n",
       "      <th></th>\n",
       "      <th>score_mean</th>\n",
       "      <th>auc_score_mean</th>\n",
       "      <th>training_time_mean</th>\n",
       "    </tr>\n",
       "    <tr>\n",
       "      <th>clf_names</th>\n",
       "      <th></th>\n",
       "      <th></th>\n",
       "      <th></th>\n",
       "    </tr>\n",
       "  </thead>\n",
       "  <tbody>\n",
       "    <tr>\n",
       "      <th>AdaBoostClassifier</th>\n",
       "      <td>0.726703</td>\n",
       "      <td>0.764973</td>\n",
       "      <td>2947.228012</td>\n",
       "    </tr>\n",
       "    <tr>\n",
       "      <th>DecisionTreeClassifier</th>\n",
       "      <td>0.725582</td>\n",
       "      <td>0.579367</td>\n",
       "      <td>3304.430048</td>\n",
       "    </tr>\n",
       "    <tr>\n",
       "      <th>LinearSVC</th>\n",
       "      <td>0.743504</td>\n",
       "      <td>0.780417</td>\n",
       "      <td>948.126656</td>\n",
       "    </tr>\n",
       "    <tr>\n",
       "      <th>LogisticRegression</th>\n",
       "      <td>0.735327</td>\n",
       "      <td>0.773631</td>\n",
       "      <td>887.698627</td>\n",
       "    </tr>\n",
       "    <tr>\n",
       "      <th>MLPClassifier</th>\n",
       "      <td>0.734700</td>\n",
       "      <td>0.788148</td>\n",
       "      <td>1745.439859</td>\n",
       "    </tr>\n",
       "    <tr>\n",
       "      <th>RandomForestClassifier</th>\n",
       "      <td>0.804816</td>\n",
       "      <td>0.764279</td>\n",
       "      <td>3122.238014</td>\n",
       "    </tr>\n",
       "    <tr>\n",
       "      <th>RidgeClassifier</th>\n",
       "      <td>0.737679</td>\n",
       "      <td>0.771774</td>\n",
       "      <td>205.426848</td>\n",
       "    </tr>\n",
       "    <tr>\n",
       "      <th>SGDClassifier</th>\n",
       "      <td>0.723342</td>\n",
       "      <td>0.792490</td>\n",
       "      <td>875.575697</td>\n",
       "    </tr>\n",
       "  </tbody>\n",
       "</table>\n",
       "</div>"
      ],
      "text/plain": [
       "                        score_mean  auc_score_mean  training_time_mean\n",
       "clf_names                                                             \n",
       "AdaBoostClassifier        0.726703        0.764973         2947.228012\n",
       "DecisionTreeClassifier    0.725582        0.579367         3304.430048\n",
       "LinearSVC                 0.743504        0.780417          948.126656\n",
       "LogisticRegression        0.735327        0.773631          887.698627\n",
       "MLPClassifier             0.734700        0.788148         1745.439859\n",
       "RandomForestClassifier    0.804816        0.764279         3122.238014\n",
       "RidgeClassifier           0.737679        0.771774          205.426848\n",
       "SGDClassifier             0.723342        0.792490          875.575697"
      ]
     },
     "execution_count": 156,
     "metadata": {},
     "output_type": "execute_result"
    }
   ],
   "source": [
    "xdf_all = result_df.groupby(\"clf_names\").agg({'score':[np.mean],'auc_score':[np.mean],'training_time':[np.mean]})\n",
    "xdf_all.columns = xdf_all.columns.map(\"_\".join)\n",
    "xdf_all"
   ]
  },
  {
   "cell_type": "code",
   "execution_count": 157,
   "id": "32c9816d",
   "metadata": {
    "pycharm": {
     "name": "#%%\n"
    }
   },
   "outputs": [
    {
     "data": {
      "text/html": [
       "<div>\n",
       "<style scoped>\n",
       "    .dataframe tbody tr th:only-of-type {\n",
       "        vertical-align: middle;\n",
       "    }\n",
       "\n",
       "    .dataframe tbody tr th {\n",
       "        vertical-align: top;\n",
       "    }\n",
       "\n",
       "    .dataframe thead th {\n",
       "        text-align: right;\n",
       "    }\n",
       "</style>\n",
       "<table border=\"1\" class=\"dataframe\">\n",
       "  <thead>\n",
       "    <tr style=\"text-align: right;\">\n",
       "      <th></th>\n",
       "      <th>random_seed</th>\n",
       "      <th>clf_names</th>\n",
       "      <th>mse</th>\n",
       "      <th>mae</th>\n",
       "      <th>cod</th>\n",
       "      <th>training_time</th>\n",
       "      <th>test_time</th>\n",
       "    </tr>\n",
       "  </thead>\n",
       "  <tbody>\n",
       "    <tr>\n",
       "      <th>0</th>\n",
       "      <td>0</td>\n",
       "      <td>LinearSVR</td>\n",
       "      <td>11.429441</td>\n",
       "      <td>1.721579</td>\n",
       "      <td>0.406223</td>\n",
       "      <td>391.718935</td>\n",
       "      <td>0.068081</td>\n",
       "    </tr>\n",
       "    <tr>\n",
       "      <th>1</th>\n",
       "      <td>0</td>\n",
       "      <td>PassiveAggressiveRegressor</td>\n",
       "      <td>15.219415</td>\n",
       "      <td>2.903068</td>\n",
       "      <td>0.209328</td>\n",
       "      <td>12.626468</td>\n",
       "      <td>0.067478</td>\n",
       "    </tr>\n",
       "    <tr>\n",
       "      <th>2</th>\n",
       "      <td>0</td>\n",
       "      <td>ElasticNet</td>\n",
       "      <td>17.351997</td>\n",
       "      <td>2.346578</td>\n",
       "      <td>0.098537</td>\n",
       "      <td>9.288111</td>\n",
       "      <td>0.079824</td>\n",
       "    </tr>\n",
       "    <tr>\n",
       "      <th>3</th>\n",
       "      <td>0</td>\n",
       "      <td>XGBRegressor</td>\n",
       "      <td>12.429686</td>\n",
       "      <td>1.905936</td>\n",
       "      <td>0.354259</td>\n",
       "      <td>311.764335</td>\n",
       "      <td>0.078247</td>\n",
       "    </tr>\n",
       "    <tr>\n",
       "      <th>4</th>\n",
       "      <td>0</td>\n",
       "      <td>LGBMRegressor</td>\n",
       "      <td>11.086462</td>\n",
       "      <td>1.815816</td>\n",
       "      <td>0.424041</td>\n",
       "      <td>31.007954</td>\n",
       "      <td>0.028545</td>\n",
       "    </tr>\n",
       "  </tbody>\n",
       "</table>\n",
       "</div>"
      ],
      "text/plain": [
       "   random_seed                   clf_names        mse       mae       cod  \\\n",
       "0            0                   LinearSVR  11.429441  1.721579  0.406223   \n",
       "1            0  PassiveAggressiveRegressor  15.219415  2.903068  0.209328   \n",
       "2            0                  ElasticNet  17.351997  2.346578  0.098537   \n",
       "3            0                XGBRegressor  12.429686  1.905936  0.354259   \n",
       "4            0               LGBMRegressor  11.086462  1.815816  0.424041   \n",
       "\n",
       "   training_time  test_time  \n",
       "0     391.718935   0.068081  \n",
       "1      12.626468   0.067478  \n",
       "2       9.288111   0.079824  \n",
       "3     311.764335   0.078247  \n",
       "4      31.007954   0.028545  "
      ]
     },
     "execution_count": 157,
     "metadata": {},
     "output_type": "execute_result"
    }
   ],
   "source": [
    "result_df2.head()"
   ]
  },
  {
   "cell_type": "code",
   "execution_count": 158,
   "id": "cd09f101",
   "metadata": {
    "pycharm": {
     "name": "#%%\n"
    }
   },
   "outputs": [
    {
     "data": {
      "text/html": [
       "<div>\n",
       "<style scoped>\n",
       "    .dataframe tbody tr th:only-of-type {\n",
       "        vertical-align: middle;\n",
       "    }\n",
       "\n",
       "    .dataframe tbody tr th {\n",
       "        vertical-align: top;\n",
       "    }\n",
       "\n",
       "    .dataframe thead th {\n",
       "        text-align: right;\n",
       "    }\n",
       "</style>\n",
       "<table border=\"1\" class=\"dataframe\">\n",
       "  <thead>\n",
       "    <tr style=\"text-align: right;\">\n",
       "      <th></th>\n",
       "      <th>mae_mean</th>\n",
       "      <th>mse_mean</th>\n",
       "      <th>training_time_mean</th>\n",
       "    </tr>\n",
       "    <tr>\n",
       "      <th>clf_names</th>\n",
       "      <th></th>\n",
       "      <th></th>\n",
       "      <th></th>\n",
       "    </tr>\n",
       "  </thead>\n",
       "  <tbody>\n",
       "    <tr>\n",
       "      <th>ElasticNet</th>\n",
       "      <td>2.346578</td>\n",
       "      <td>17.351997</td>\n",
       "      <td>11.413589</td>\n",
       "    </tr>\n",
       "    <tr>\n",
       "      <th>GradientBoostingRegressor</th>\n",
       "      <td>2.007722</td>\n",
       "      <td>12.874624</td>\n",
       "      <td>12142.467528</td>\n",
       "    </tr>\n",
       "    <tr>\n",
       "      <th>LGBMRegressor</th>\n",
       "      <td>1.815816</td>\n",
       "      <td>11.086462</td>\n",
       "      <td>31.361584</td>\n",
       "    </tr>\n",
       "    <tr>\n",
       "      <th>LinearSVR</th>\n",
       "      <td>1.746771</td>\n",
       "      <td>11.438657</td>\n",
       "      <td>401.245335</td>\n",
       "    </tr>\n",
       "    <tr>\n",
       "      <th>MLPRegressor</th>\n",
       "      <td>1.721339</td>\n",
       "      <td>10.144030</td>\n",
       "      <td>1370.457471</td>\n",
       "    </tr>\n",
       "    <tr>\n",
       "      <th>PassiveAggressiveRegressor</th>\n",
       "      <td>2.481165</td>\n",
       "      <td>13.353840</td>\n",
       "      <td>16.268774</td>\n",
       "    </tr>\n",
       "    <tr>\n",
       "      <th>XGBRegressor</th>\n",
       "      <td>1.905936</td>\n",
       "      <td>12.429686</td>\n",
       "      <td>309.806343</td>\n",
       "    </tr>\n",
       "  </tbody>\n",
       "</table>\n",
       "</div>"
      ],
      "text/plain": [
       "                            mae_mean   mse_mean  training_time_mean\n",
       "clf_names                                                          \n",
       "ElasticNet                  2.346578  17.351997           11.413589\n",
       "GradientBoostingRegressor   2.007722  12.874624        12142.467528\n",
       "LGBMRegressor               1.815816  11.086462           31.361584\n",
       "LinearSVR                   1.746771  11.438657          401.245335\n",
       "MLPRegressor                1.721339  10.144030         1370.457471\n",
       "PassiveAggressiveRegressor  2.481165  13.353840           16.268774\n",
       "XGBRegressor                1.905936  12.429686          309.806343"
      ]
     },
     "execution_count": 158,
     "metadata": {},
     "output_type": "execute_result"
    }
   ],
   "source": [
    "xdf_all2 = result_df2.groupby(\"clf_names\").agg({'mae':[np.mean],'mse':[np.mean],'training_time':[np.mean]})\n",
    "xdf_all2.columns = xdf_all2.columns.map(\"_\".join)\n",
    "xdf_all2"
   ]
  },
  {
   "cell_type": "code",
   "execution_count": null,
   "id": "2412497b",
   "metadata": {
    "pycharm": {
     "name": "#%%\n"
    }
   },
   "outputs": [],
   "source": []
  },
  {
   "cell_type": "markdown",
   "id": "f08412fa",
   "metadata": {
    "pycharm": {
     "name": "#%% md\n"
    }
   },
   "source": [
    "# CNN"
   ]
  },
  {
   "cell_type": "code",
   "execution_count": 60,
   "id": "c3347faa",
   "metadata": {
    "pycharm": {
     "name": "#%%\n"
    }
   },
   "outputs": [
    {
     "name": "stderr",
     "output_type": "stream",
     "text": [
      "100%|██████████| 99268/99268 [28:19<00:00, 58.41it/s]\n",
      "100%|██████████| 99268/99268 [40:56<00:00, 40.41it/s]  \n",
      "100%|██████████| 99268/99268 [51:55<00:00, 31.86it/s]  \n"
     ]
    },
    {
     "name": "stdout",
     "output_type": "stream",
     "text": [
      "(99268, 3148)\n"
     ]
    },
    {
     "name": "stderr",
     "output_type": "stream",
     "text": [
      "100%|██████████| 10660/10660 [03:43<00:00, 47.69it/s]\n",
      "100%|██████████| 10660/10660 [03:46<00:00, 46.98it/s]\n",
      "100%|██████████| 10660/10660 [04:32<00:00, 39.13it/s]\n"
     ]
    },
    {
     "name": "stdout",
     "output_type": "stream",
     "text": [
      "(10660, 3148)\n",
      "<class 'numpy.ndarray'>\n",
      "(99268, 3148)\n",
      "(10660, 3148)\n"
     ]
    }
   ],
   "source": [
    "import torch\n",
    "trainX = ct.fit_transform(X_train)\n",
    "print(trainX.shape)\n",
    "\n",
    "testX = ct.transform(X_test)\n",
    "print(testX.shape)\n",
    "\n",
    "trainy=y_train.to_numpy()\n",
    "print(type(trainy))\n",
    "\n",
    "xxx = trainX.toarray()\n",
    "print(xxx.shape)\n",
    "\n",
    "yyy = testX.toarray()\n",
    "print(yyy.shape)"
   ]
  },
  {
   "cell_type": "code",
   "execution_count": 61,
   "id": "67aa1933",
   "metadata": {
    "pycharm": {
     "name": "#%%\n"
    }
   },
   "outputs": [
    {
     "name": "stdout",
     "output_type": "stream",
     "text": [
      "(99268, 20, 157)\n",
      "(10660, 20, 157)\n",
      "torch.Size([99268, 157, 20])\n",
      "torch.Size([10660, 157, 20])\n",
      "20\n",
      "157\n",
      "99268\n"
     ]
    }
   ],
   "source": [
    "yyy= yyy[:, :-8]\n",
    "yyy.shape\n",
    "\n",
    "xxx= xxx[:, :-8]\n",
    "xxx.shape\n",
    "\n",
    "xxx = xxx.reshape(len(X_train), -1, 157)\n",
    "print(xxx.shape)\n",
    "\n",
    "yyy = yyy.reshape(len(X_test), -1, 157)\n",
    "print(yyy.shape)\n",
    "\n",
    "# type(xxx[0])\n",
    "\n",
    "trainX = xxx\n",
    "\n",
    "trainXT = torch.from_numpy(trainX)\n",
    "trainXT = trainXT.transpose(1,2).float() #input is (N, Cin, Lin) = Ntimesteps, Nfeatures, 128\n",
    "print(trainXT.shape)\n",
    "\n",
    "testX = yyy\n",
    "testXT = torch.from_numpy(testX)\n",
    "testXT = testXT.transpose(1,2).float()\n",
    "print(testXT.shape)\n",
    "\n",
    "n_timesteps, n_features, n_outputs = trainX.shape[1], trainX.shape[2], y_train.shape[0]\n",
    "print(n_timesteps)\n",
    "print(n_features)\n",
    "print(n_outputs)"
   ]
  },
  {
   "cell_type": "code",
   "execution_count": 62,
   "id": "e038ccb0",
   "metadata": {
    "pycharm": {
     "name": "#%%\n"
    }
   },
   "outputs": [],
   "source": [
    "import torch.nn as nn\n",
    "import numpy as np\n",
    "\n",
    "class ConvNet1D(nn.Module):\n",
    "    def __init__(self):\n",
    "        super().__init__()\n",
    "        self.layer1 = nn.Sequential(\n",
    "            nn.Conv1d(n_features, 64, kernel_size=2),\n",
    "            nn.ReLU(),\n",
    "            nn.Dropout(0.2),\n",
    "            nn.MaxPool1d(10))\n",
    "        self.layer2 = nn.Flatten()\n",
    "        self.layer3 = nn.Sequential(\n",
    "            nn.Linear(64,100),\n",
    "            nn.ReLU(),\n",
    "            nn.Dropout(0.2))\n",
    "        self.layer4 = nn.Sequential(\n",
    "            nn.Linear(100,50),\n",
    "            nn.ReLU(),\n",
    "            nn.Dropout(0.2))\n",
    "        self.layer5 = nn.Sequential(\n",
    "            nn.Linear(50,2),\n",
    "            nn.Softmax())\n",
    "\n",
    "    def forward(self, x):\n",
    "        out = self.layer1(x)\n",
    "        out = self.layer2(out)\n",
    "        out = self.layer3(out)\n",
    "        out = self.layer4(out)\n",
    "        out = self.layer5(out)\n",
    "        return out\n",
    "\n"
   ]
  },
  {
   "cell_type": "code",
   "execution_count": 64,
   "id": "3b1054b2",
   "metadata": {
    "pycharm": {
     "name": "#%%\n"
    }
   },
   "outputs": [],
   "source": [
    "def to_categorical(y, num_classes=None, dtype='float32'):\n",
    "    \"\"\"Converts a class vector (integers) to binary class matrix.\n",
    "    E.g. for use with categorical_crossentropy.\n",
    "    # Arguments\n",
    "        y: class vector to be converted into a matrix\n",
    "            (integers from 0 to num_classes).\n",
    "        num_classes: total number of classes.\n",
    "        dtype: The data type expected by the input, as a string\n",
    "            (`float32`, `float64`, `int32`...)\n",
    "    # Returns\n",
    "        A binary matrix representation of the input. The classes axis\n",
    "        is placed last.\n",
    "    # Example\n",
    "    ```python\n",
    "    # Consider an array of 5 labels out of a set of 3 classes {0, 1, 2}:\n",
    "    > labels\n",
    "    array([0, 2, 1, 2, 0])\n",
    "    # `to_categorical` converts this into a matrix with as many\n",
    "    # columns as there are classes. The number of rows\n",
    "    # stays the same.\n",
    "    > to_categorical(labels)\n",
    "    array([[ 1.,  0.,  0.],\n",
    "           [ 0.,  0.,  1.],\n",
    "           [ 0.,  1.,  0.],\n",
    "           [ 0.,  0.,  1.],\n",
    "           [ 1.,  0.,  0.]], dtype=float32)\n",
    "    ```\n",
    "    \"\"\"\n",
    "\n",
    "    y = np.array(y, dtype='int')\n",
    "    input_shape = y.shape\n",
    "    if input_shape and input_shape[-1] == 1 and len(input_shape) > 1:\n",
    "        input_shape = tuple(input_shape[:-1])\n",
    "    y = y.ravel()\n",
    "    if not num_classes:\n",
    "        num_classes = np.max(y) + 1\n",
    "    n = y.shape[0]\n",
    "    categorical = np.zeros((n, num_classes), dtype=dtype)\n",
    "    categorical[np.arange(n), y] = 1\n",
    "    output_shape = input_shape + (num_classes,)\n",
    "    categorical = np.reshape(categorical, output_shape)\n",
    "    return categorical"
   ]
  },
  {
   "cell_type": "code",
   "execution_count": 65,
   "id": "9ded2c94",
   "metadata": {
    "pycharm": {
     "name": "#%%\n"
    }
   },
   "outputs": [
    {
     "name": "stdout",
     "output_type": "stream",
     "text": [
      "[[1. 0.]\n",
      " [1. 0.]\n",
      " [0. 1.]\n",
      " [0. 1.]\n",
      " [1. 0.]\n",
      " [1. 0.]\n",
      " [0. 1.]\n",
      " [0. 1.]\n",
      " [0. 1.]\n",
      " [0. 1.]]\n",
      "[[1. 0.]\n",
      " [1. 0.]\n",
      " [1. 0.]\n",
      " [0. 1.]\n",
      " [0. 1.]\n",
      " [1. 0.]\n",
      " [1. 0.]\n",
      " [0. 1.]\n",
      " [1. 0.]\n",
      " [1. 0.]]\n"
     ]
    },
    {
     "data": {
      "text/plain": [
       "torch.Size([10660, 2])"
      ]
     },
     "execution_count": 65,
     "metadata": {},
     "output_type": "execute_result"
    }
   ],
   "source": [
    "trainy = y_train.to_numpy()\n",
    "\n",
    "trainy = to_categorical(trainy)\n",
    "\n",
    "testy = y_test.to_numpy()\n",
    "testy = to_categorical(testy)\n",
    "\n",
    "print(trainy[:10, :])\n",
    "\n",
    "print(testy[:10, :])\n",
    "\n",
    "trainyT = torch.from_numpy(trainy).float()\n",
    "trainyT.shape\n",
    "\n",
    "testyT = torch.from_numpy(testy).float()\n",
    "testyT.shape"
   ]
  },
  {
   "cell_type": "code",
   "execution_count": 66,
   "id": "bce249d4",
   "metadata": {
    "pycharm": {
     "name": "#%%\n"
    }
   },
   "outputs": [],
   "source": [
    "model = ConvNet1D()\n",
    "# Loss and optimizer\n",
    "criterion = nn.CrossEntropyLoss()\n",
    "# optimizer = torch.optim.Adam(model.parameters(), lr=0.0002)\n",
    "optimizer = torch.optim.AdamW(model.parameters(), lr=0.0002)"
   ]
  },
  {
   "cell_type": "code",
   "execution_count": 67,
   "id": "62de6f22",
   "metadata": {
    "pycharm": {
     "name": "#%%\n"
    }
   },
   "outputs": [
    {
     "name": "stdout",
     "output_type": "stream",
     "text": [
      "99268\n"
     ]
    },
    {
     "name": "stderr",
     "output_type": "stream",
     "text": [
      "  0%|          | 0/387 [00:00<?, ?it/s]/home/hl2659/miniconda3/envs/hao_ner/lib/python3.9/site-packages/torch/nn/modules/container.py:141: UserWarning: Implicit dimension choice for softmax has been deprecated. Change the call to include dim=X as an argument.\n",
      "  input = module(input)\n",
      "  1%|          | 1/100 [00:02<04:50,  2.93s/it]   "
     ]
    },
    {
     "name": "stdout",
     "output_type": "stream",
     "text": [
      "Epoch\n",
      "0\n",
      "accuracy\n",
      "0.6451368701550387\n"
     ]
    },
    {
     "name": "stderr",
     "output_type": "stream",
     "text": [
      "  2%|▏         | 2/100 [00:05<04:32,  2.78s/it]   "
     ]
    },
    {
     "name": "stdout",
     "output_type": "stream",
     "text": [
      "Epoch\n",
      "1\n",
      "accuracy\n",
      "0.6895591085271318\n"
     ]
    },
    {
     "name": "stderr",
     "output_type": "stream",
     "text": [
      "  3%|▎         | 3/100 [00:08<04:26,  2.75s/it]   "
     ]
    },
    {
     "name": "stdout",
     "output_type": "stream",
     "text": [
      "Epoch\n",
      "2\n",
      "accuracy\n",
      "0.7021055394056848\n"
     ]
    },
    {
     "name": "stderr",
     "output_type": "stream",
     "text": [
      "  4%|▍         | 4/100 [00:11<04:27,  2.79s/it]   "
     ]
    },
    {
     "name": "stdout",
     "output_type": "stream",
     "text": [
      "Epoch\n",
      "3\n",
      "accuracy\n",
      "0.7121184593023255\n"
     ]
    },
    {
     "name": "stderr",
     "output_type": "stream",
     "text": [
      "  5%|▌         | 5/100 [00:14<04:27,  2.82s/it]   "
     ]
    },
    {
     "name": "stdout",
     "output_type": "stream",
     "text": [
      "Epoch\n",
      "4\n",
      "accuracy\n",
      "0.7228177487080103\n"
     ]
    },
    {
     "name": "stderr",
     "output_type": "stream",
     "text": [
      "  6%|▌         | 6/100 [00:16<04:20,  2.77s/it]   "
     ]
    },
    {
     "name": "stdout",
     "output_type": "stream",
     "text": [
      "Epoch\n",
      "5\n",
      "accuracy\n",
      "0.7285610465116279\n"
     ]
    },
    {
     "name": "stderr",
     "output_type": "stream",
     "text": [
      "  7%|▋         | 7/100 [00:19<04:15,  2.75s/it]   "
     ]
    },
    {
     "name": "stdout",
     "output_type": "stream",
     "text": [
      "Epoch\n",
      "6\n",
      "accuracy\n",
      "0.7355256782945736\n"
     ]
    },
    {
     "name": "stderr",
     "output_type": "stream",
     "text": [
      "  8%|▊         | 8/100 [00:22<04:11,  2.73s/it]   "
     ]
    },
    {
     "name": "stdout",
     "output_type": "stream",
     "text": [
      "Epoch\n",
      "7\n",
      "accuracy\n",
      "0.7413093507751938\n"
     ]
    },
    {
     "name": "stderr",
     "output_type": "stream",
     "text": [
      "  9%|▉         | 9/100 [00:24<04:07,  2.72s/it]   "
     ]
    },
    {
     "name": "stdout",
     "output_type": "stream",
     "text": [
      "Epoch\n",
      "8\n",
      "accuracy\n",
      "0.7465176841085271\n"
     ]
    },
    {
     "name": "stderr",
     "output_type": "stream",
     "text": [
      " 10%|█         | 10/100 [00:27<04:04,  2.71s/it]  "
     ]
    },
    {
     "name": "stdout",
     "output_type": "stream",
     "text": [
      "Epoch\n",
      "9\n",
      "accuracy\n",
      "0.752079295865633\n"
     ]
    },
    {
     "name": "stderr",
     "output_type": "stream",
     "text": [
      " 11%|█         | 11/100 [00:30<04:01,  2.71s/it]  "
     ]
    },
    {
     "name": "stdout",
     "output_type": "stream",
     "text": [
      "Epoch\n",
      "10\n",
      "accuracy\n",
      "0.756470041989664\n"
     ]
    },
    {
     "name": "stderr",
     "output_type": "stream",
     "text": [
      " 12%|█▏        | 12/100 [00:32<03:58,  2.71s/it]  "
     ]
    },
    {
     "name": "stdout",
     "output_type": "stream",
     "text": [
      "Epoch\n",
      "11\n",
      "accuracy\n",
      "0.7590742086563308\n"
     ]
    },
    {
     "name": "stderr",
     "output_type": "stream",
     "text": [
      " 13%|█▎        | 13/100 [00:35<03:55,  2.71s/it]  "
     ]
    },
    {
     "name": "stdout",
     "output_type": "stream",
     "text": [
      "Epoch\n",
      "12\n",
      "accuracy\n",
      "0.7620114664082688\n"
     ]
    },
    {
     "name": "stderr",
     "output_type": "stream",
     "text": [
      " 14%|█▍        | 14/100 [00:38<03:53,  2.71s/it]  "
     ]
    },
    {
     "name": "stdout",
     "output_type": "stream",
     "text": [
      "Epoch\n",
      "13\n",
      "accuracy\n",
      "0.7671895187338501\n"
     ]
    },
    {
     "name": "stderr",
     "output_type": "stream",
     "text": [
      " 15%|█▌        | 15/100 [00:41<03:51,  2.73s/it]  "
     ]
    },
    {
     "name": "stdout",
     "output_type": "stream",
     "text": [
      "Epoch\n",
      "14\n",
      "accuracy\n",
      "0.7691174095607235\n"
     ]
    },
    {
     "name": "stderr",
     "output_type": "stream",
     "text": [
      " 16%|█▌        | 16/100 [00:43<03:49,  2.73s/it]  "
     ]
    },
    {
     "name": "stdout",
     "output_type": "stream",
     "text": [
      "Epoch\n",
      "15\n",
      "accuracy\n",
      "0.7739320897932817\n"
     ]
    },
    {
     "name": "stderr",
     "output_type": "stream",
     "text": [
      " 17%|█▋        | 17/100 [00:46<03:47,  2.74s/it]  "
     ]
    },
    {
     "name": "stdout",
     "output_type": "stream",
     "text": [
      "Epoch\n",
      "16\n",
      "accuracy\n",
      "0.7757388565891473\n"
     ]
    },
    {
     "name": "stderr",
     "output_type": "stream",
     "text": [
      " 18%|█▊        | 18/100 [00:49<03:47,  2.78s/it]  "
     ]
    },
    {
     "name": "stdout",
     "output_type": "stream",
     "text": [
      "Epoch\n",
      "17\n",
      "accuracy\n",
      "0.7790697674418605\n"
     ]
    },
    {
     "name": "stderr",
     "output_type": "stream",
     "text": [
      " 19%|█▉        | 19/100 [00:52<03:43,  2.76s/it]  "
     ]
    },
    {
     "name": "stdout",
     "output_type": "stream",
     "text": [
      "Epoch\n",
      "18\n",
      "accuracy\n",
      "0.780593911498708\n"
     ]
    },
    {
     "name": "stderr",
     "output_type": "stream",
     "text": [
      " 20%|██        | 20/100 [00:54<03:40,  2.75s/it]  "
     ]
    },
    {
     "name": "stdout",
     "output_type": "stream",
     "text": [
      "Epoch\n",
      "19\n",
      "accuracy\n",
      "0.7844496931524548\n"
     ]
    },
    {
     "name": "stderr",
     "output_type": "stream",
     "text": [
      " 21%|██        | 21/100 [00:57<03:37,  2.75s/it]  "
     ]
    },
    {
     "name": "stdout",
     "output_type": "stream",
     "text": [
      "Epoch\n",
      "20\n",
      "accuracy\n",
      "0.7858426195090439\n"
     ]
    },
    {
     "name": "stderr",
     "output_type": "stream",
     "text": [
      " 22%|██▏       | 22/100 [01:00<03:34,  2.74s/it]  "
     ]
    },
    {
     "name": "stdout",
     "output_type": "stream",
     "text": [
      "Epoch\n",
      "21\n",
      "accuracy\n",
      "0.7877604166666666\n"
     ]
    },
    {
     "name": "stderr",
     "output_type": "stream",
     "text": [
      " 23%|██▎       | 23/100 [01:03<03:30,  2.74s/it]  "
     ]
    },
    {
     "name": "stdout",
     "output_type": "stream",
     "text": [
      "Epoch\n",
      "22\n",
      "accuracy\n",
      "0.7901526162790697\n"
     ]
    },
    {
     "name": "stderr",
     "output_type": "stream",
     "text": [
      " 24%|██▍       | 24/100 [01:06<03:38,  2.88s/it]  "
     ]
    },
    {
     "name": "stdout",
     "output_type": "stream",
     "text": [
      "Epoch\n",
      "23\n",
      "accuracy\n",
      "0.7919190083979328\n"
     ]
    },
    {
     "name": "stderr",
     "output_type": "stream",
     "text": [
      " 25%|██▌       | 25/100 [01:09<03:32,  2.83s/it]  "
     ]
    },
    {
     "name": "stdout",
     "output_type": "stream",
     "text": [
      "Epoch\n",
      "24\n",
      "accuracy\n",
      "0.7934734334625323\n"
     ]
    },
    {
     "name": "stderr",
     "output_type": "stream",
     "text": [
      " 26%|██▌       | 26/100 [01:11<03:26,  2.79s/it]  "
     ]
    },
    {
     "name": "stdout",
     "output_type": "stream",
     "text": [
      "Epoch\n",
      "25\n",
      "accuracy\n",
      "0.794795704134367\n"
     ]
    },
    {
     "name": "stderr",
     "output_type": "stream",
     "text": [
      " 27%|██▋       | 27/100 [01:14<03:21,  2.76s/it]  "
     ]
    },
    {
     "name": "stdout",
     "output_type": "stream",
     "text": [
      "Epoch\n",
      "26\n",
      "accuracy\n",
      "0.7961078811369509\n"
     ]
    },
    {
     "name": "stderr",
     "output_type": "stream",
     "text": [
      " 28%|██▊       | 28/100 [01:17<03:16,  2.74s/it]  "
     ]
    },
    {
     "name": "stdout",
     "output_type": "stream",
     "text": [
      "Epoch\n",
      "27\n",
      "accuracy\n",
      "0.7982679263565892\n"
     ]
    },
    {
     "name": "stderr",
     "output_type": "stream",
     "text": [
      " 29%|██▉       | 29/100 [01:19<03:13,  2.72s/it]  "
     ]
    },
    {
     "name": "stdout",
     "output_type": "stream",
     "text": [
      "Epoch\n",
      "28\n",
      "accuracy\n",
      "0.7992873869509044\n"
     ]
    },
    {
     "name": "stderr",
     "output_type": "stream",
     "text": [
      " 30%|███       | 30/100 [01:22<03:09,  2.71s/it]  "
     ]
    },
    {
     "name": "stdout",
     "output_type": "stream",
     "text": [
      "Epoch\n",
      "29\n",
      "accuracy\n",
      "0.8001150678294574\n"
     ]
    },
    {
     "name": "stderr",
     "output_type": "stream",
     "text": [
      " 31%|███       | 31/100 [01:25<03:06,  2.71s/it]  "
     ]
    },
    {
     "name": "stdout",
     "output_type": "stream",
     "text": [
      "Epoch\n",
      "30\n",
      "accuracy\n",
      "0.8012758397932817\n"
     ]
    },
    {
     "name": "stderr",
     "output_type": "stream",
     "text": [
      " 32%|███▏      | 32/100 [01:27<03:03,  2.70s/it]  "
     ]
    },
    {
     "name": "stdout",
     "output_type": "stream",
     "text": [
      "Epoch\n",
      "31\n",
      "accuracy\n",
      "0.8030321382428941\n"
     ]
    },
    {
     "name": "stderr",
     "output_type": "stream",
     "text": [
      " 33%|███▎      | 33/100 [01:30<03:01,  2.70s/it]  "
     ]
    },
    {
     "name": "stdout",
     "output_type": "stream",
     "text": [
      "Epoch\n",
      "32\n",
      "accuracy\n",
      "0.8054546188630491\n"
     ]
    },
    {
     "name": "stderr",
     "output_type": "stream",
     "text": [
      " 34%|███▍      | 34/100 [01:33<02:58,  2.70s/it]  "
     ]
    },
    {
     "name": "stdout",
     "output_type": "stream",
     "text": [
      "Epoch\n",
      "33\n",
      "accuracy\n",
      "0.8037487887596899\n"
     ]
    },
    {
     "name": "stderr",
     "output_type": "stream",
     "text": [
      " 35%|███▌      | 35/100 [01:36<02:57,  2.73s/it]  "
     ]
    },
    {
     "name": "stdout",
     "output_type": "stream",
     "text": [
      "Epoch\n",
      "34\n",
      "accuracy\n",
      "0.80531330749354\n"
     ]
    },
    {
     "name": "stderr",
     "output_type": "stream",
     "text": [
      " 36%|███▌      | 36/100 [01:38<02:57,  2.77s/it]  "
     ]
    },
    {
     "name": "stdout",
     "output_type": "stream",
     "text": [
      "Epoch\n",
      "35\n",
      "accuracy\n",
      "0.8067869832041343\n"
     ]
    },
    {
     "name": "stderr",
     "output_type": "stream",
     "text": [
      " 37%|███▋      | 37/100 [01:41<02:53,  2.76s/it]  "
     ]
    },
    {
     "name": "stdout",
     "output_type": "stream",
     "text": [
      "Epoch\n",
      "36\n",
      "accuracy\n",
      "0.8072311046511628\n"
     ]
    },
    {
     "name": "stderr",
     "output_type": "stream",
     "text": [
      " 38%|███▊      | 38/100 [01:44<02:50,  2.76s/it]  "
     ]
    },
    {
     "name": "stdout",
     "output_type": "stream",
     "text": [
      "Epoch\n",
      "37\n",
      "accuracy\n",
      "0.8083212209302325\n"
     ]
    },
    {
     "name": "stderr",
     "output_type": "stream",
     "text": [
      " 39%|███▉      | 39/100 [01:47<02:47,  2.74s/it]  "
     ]
    },
    {
     "name": "stdout",
     "output_type": "stream",
     "text": [
      "Epoch\n",
      "38\n",
      "accuracy\n",
      "0.8100977067183462\n"
     ]
    },
    {
     "name": "stderr",
     "output_type": "stream",
     "text": [
      " 40%|████      | 40/100 [01:49<02:43,  2.72s/it]  "
     ]
    },
    {
     "name": "stdout",
     "output_type": "stream",
     "text": [
      "Epoch\n",
      "39\n",
      "accuracy\n",
      "0.810390423126615\n"
     ]
    },
    {
     "name": "stderr",
     "output_type": "stream",
     "text": [
      " 41%|████      | 41/100 [01:52<02:40,  2.72s/it]  "
     ]
    },
    {
     "name": "stdout",
     "output_type": "stream",
     "text": [
      "Epoch\n",
      "40\n",
      "accuracy\n",
      "0.8108345445736435\n"
     ]
    },
    {
     "name": "stderr",
     "output_type": "stream",
     "text": [
      " 42%|████▏     | 42/100 [01:55<02:38,  2.73s/it]  "
     ]
    },
    {
     "name": "stdout",
     "output_type": "stream",
     "text": [
      "Epoch\n",
      "41\n",
      "accuracy\n",
      "0.8125706556847545\n"
     ]
    },
    {
     "name": "stderr",
     "output_type": "stream",
     "text": [
      " 43%|████▎     | 43/100 [01:58<02:35,  2.73s/it]  "
     ]
    },
    {
     "name": "stdout",
     "output_type": "stream",
     "text": [
      "Epoch\n",
      "42\n",
      "accuracy\n",
      "0.8119549418604651\n"
     ]
    },
    {
     "name": "stderr",
     "output_type": "stream",
     "text": [
      " 44%|████▍     | 44/100 [02:00<02:32,  2.73s/it]  "
     ]
    },
    {
     "name": "stdout",
     "output_type": "stream",
     "text": [
      "Epoch\n",
      "43\n",
      "accuracy\n",
      "0.8141553617571059\n"
     ]
    },
    {
     "name": "stderr",
     "output_type": "stream",
     "text": [
      " 45%|████▌     | 45/100 [02:03<02:31,  2.75s/it]  "
     ]
    },
    {
     "name": "stdout",
     "output_type": "stream",
     "text": [
      "Epoch\n",
      "44\n",
      "accuracy\n",
      "0.8149325742894057\n"
     ]
    },
    {
     "name": "stderr",
     "output_type": "stream",
     "text": [
      " 46%|████▌     | 46/100 [02:06<02:28,  2.75s/it]  "
     ]
    },
    {
     "name": "stdout",
     "output_type": "stream",
     "text": [
      "Epoch\n",
      "45\n",
      "accuracy\n",
      "0.8157400678294574\n"
     ]
    },
    {
     "name": "stderr",
     "output_type": "stream",
     "text": [
      " 47%|████▋     | 47/100 [02:08<02:25,  2.74s/it]  "
     ]
    },
    {
     "name": "stdout",
     "output_type": "stream",
     "text": [
      "Epoch\n",
      "46\n",
      "accuracy\n",
      "0.8164365310077519\n"
     ]
    },
    {
     "name": "stderr",
     "output_type": "stream",
     "text": [
      " 48%|████▊     | 48/100 [02:11<02:21,  2.72s/it]  "
     ]
    },
    {
     "name": "stdout",
     "output_type": "stream",
     "text": [
      "Epoch\n",
      "47\n",
      "accuracy\n",
      "0.8149729489664083\n"
     ]
    },
    {
     "name": "stderr",
     "output_type": "stream",
     "text": [
      " 49%|████▉     | 49/100 [02:14<02:17,  2.71s/it]  "
     ]
    },
    {
     "name": "stdout",
     "output_type": "stream",
     "text": [
      "Epoch\n",
      "48\n",
      "accuracy\n",
      "0.8173045865633075\n"
     ]
    },
    {
     "name": "stderr",
     "output_type": "stream",
     "text": [
      " 50%|█████     | 50/100 [02:17<02:14,  2.69s/it]  "
     ]
    },
    {
     "name": "stdout",
     "output_type": "stream",
     "text": [
      "Epoch\n",
      "49\n",
      "accuracy\n",
      "0.8178799257105943\n"
     ]
    },
    {
     "name": "stderr",
     "output_type": "stream",
     "text": [
      " 51%|█████     | 51/100 [02:19<02:11,  2.69s/it]  "
     ]
    },
    {
     "name": "stdout",
     "output_type": "stream",
     "text": [
      "Epoch\n",
      "50\n",
      "accuracy\n",
      "0.8173045865633075\n"
     ]
    },
    {
     "name": "stderr",
     "output_type": "stream",
     "text": [
      " 52%|█████▏    | 52/100 [02:22<02:08,  2.68s/it]  "
     ]
    },
    {
     "name": "stdout",
     "output_type": "stream",
     "text": [
      "Epoch\n",
      "51\n",
      "accuracy\n",
      "0.8184047965116279\n"
     ]
    },
    {
     "name": "stderr",
     "output_type": "stream",
     "text": [
      " 53%|█████▎    | 53/100 [02:25<02:11,  2.79s/it]  "
     ]
    },
    {
     "name": "stdout",
     "output_type": "stream",
     "text": [
      "Epoch\n",
      "52\n",
      "accuracy\n",
      "0.8195352874677002\n"
     ]
    },
    {
     "name": "stderr",
     "output_type": "stream",
     "text": [
      " 54%|█████▍    | 54/100 [02:28<02:09,  2.81s/it]  "
     ]
    },
    {
     "name": "stdout",
     "output_type": "stream",
     "text": [
      "Epoch\n",
      "53\n",
      "accuracy\n",
      "0.8209282138242894\n"
     ]
    },
    {
     "name": "stderr",
     "output_type": "stream",
     "text": [
      " 55%|█████▌    | 55/100 [02:30<02:04,  2.77s/it]  "
     ]
    },
    {
     "name": "stdout",
     "output_type": "stream",
     "text": [
      "Epoch\n",
      "54\n",
      "accuracy\n",
      "0.8225633882428941\n"
     ]
    },
    {
     "name": "stderr",
     "output_type": "stream",
     "text": [
      " 56%|█████▌    | 56/100 [02:33<02:00,  2.74s/it]  "
     ]
    },
    {
     "name": "stdout",
     "output_type": "stream",
     "text": [
      "Epoch\n",
      "55\n",
      "accuracy\n",
      "0.8215641149870802\n"
     ]
    },
    {
     "name": "stderr",
     "output_type": "stream",
     "text": [
      " 57%|█████▋    | 57/100 [02:36<01:57,  2.72s/it]  "
     ]
    },
    {
     "name": "stdout",
     "output_type": "stream",
     "text": [
      "Epoch\n",
      "56\n",
      "accuracy\n",
      "0.8234112564599483\n"
     ]
    },
    {
     "name": "stderr",
     "output_type": "stream",
     "text": [
      " 58%|█████▊    | 58/100 [02:38<01:53,  2.71s/it]  "
     ]
    },
    {
     "name": "stdout",
     "output_type": "stream",
     "text": [
      "Epoch\n",
      "57\n",
      "accuracy\n",
      "0.8233305071059431\n"
     ]
    },
    {
     "name": "stderr",
     "output_type": "stream",
     "text": [
      " 59%|█████▉    | 59/100 [02:41<01:51,  2.71s/it]  "
     ]
    },
    {
     "name": "stdout",
     "output_type": "stream",
     "text": [
      "Epoch\n",
      "58\n",
      "accuracy\n",
      "0.8229671350129198\n"
     ]
    },
    {
     "name": "stderr",
     "output_type": "stream",
     "text": [
      " 60%|██████    | 60/100 [02:44<01:49,  2.73s/it]  "
     ]
    },
    {
     "name": "stdout",
     "output_type": "stream",
     "text": [
      "Epoch\n",
      "59\n",
      "accuracy\n",
      "0.8242490310077519\n"
     ]
    },
    {
     "name": "stderr",
     "output_type": "stream",
     "text": [
      " 61%|██████    | 61/100 [02:47<01:47,  2.75s/it]  "
     ]
    },
    {
     "name": "stdout",
     "output_type": "stream",
     "text": [
      "Epoch\n",
      "60\n",
      "accuracy\n",
      "0.8240471576227391\n"
     ]
    },
    {
     "name": "stderr",
     "output_type": "stream",
     "text": [
      " 62%|██████▏   | 62/100 [02:49<01:44,  2.74s/it]  "
     ]
    },
    {
     "name": "stdout",
     "output_type": "stream",
     "text": [
      "Epoch\n",
      "61\n",
      "accuracy\n",
      "0.8247839954780362\n"
     ]
    },
    {
     "name": "stderr",
     "output_type": "stream",
     "text": [
      " 63%|██████▎   | 63/100 [02:52<01:41,  2.73s/it]  "
     ]
    },
    {
     "name": "stdout",
     "output_type": "stream",
     "text": [
      "Epoch\n",
      "62\n",
      "accuracy\n",
      "0.8259043927648578\n"
     ]
    },
    {
     "name": "stderr",
     "output_type": "stream",
     "text": [
      " 64%|██████▍   | 64/100 [02:55<01:41,  2.81s/it]  "
     ]
    },
    {
     "name": "stdout",
     "output_type": "stream",
     "text": [
      "Epoch\n",
      "63\n",
      "accuracy\n",
      "0.8260053294573644\n"
     ]
    },
    {
     "name": "stderr",
     "output_type": "stream",
     "text": [
      " 65%|██████▌   | 65/100 [02:58<01:37,  2.79s/it]  "
     ]
    },
    {
     "name": "stdout",
     "output_type": "stream",
     "text": [
      "Epoch\n",
      "64\n",
      "accuracy\n",
      "0.8263787952196382\n"
     ]
    },
    {
     "name": "stderr",
     "output_type": "stream",
     "text": [
      " 66%|██████▌   | 66/100 [03:01<01:37,  2.87s/it]  "
     ]
    },
    {
     "name": "stdout",
     "output_type": "stream",
     "text": [
      "Epoch\n",
      "65\n",
      "accuracy\n",
      "0.826328326873385\n"
     ]
    },
    {
     "name": "stderr",
     "output_type": "stream",
     "text": [
      " 67%|██████▋   | 67/100 [03:04<01:37,  2.96s/it]  "
     ]
    },
    {
     "name": "stdout",
     "output_type": "stream",
     "text": [
      "Epoch\n",
      "66\n",
      "accuracy\n",
      "0.8264393572351422\n"
     ]
    },
    {
     "name": "stderr",
     "output_type": "stream",
     "text": [
      " 68%|██████▊   | 68/100 [03:07<01:35,  2.98s/it]  "
     ]
    },
    {
     "name": "stdout",
     "output_type": "stream",
     "text": [
      "Epoch\n",
      "67\n",
      "accuracy\n",
      "0.8293867086563308\n"
     ]
    },
    {
     "name": "stderr",
     "output_type": "stream",
     "text": [
      " 69%|██████▉   | 69/100 [03:10<01:30,  2.92s/it]  "
     ]
    },
    {
     "name": "stdout",
     "output_type": "stream",
     "text": [
      "Epoch\n",
      "68\n",
      "accuracy\n",
      "0.8277111595607235\n"
     ]
    },
    {
     "name": "stderr",
     "output_type": "stream",
     "text": [
      " 70%|███████   | 70/100 [03:13<01:26,  2.89s/it]  "
     ]
    },
    {
     "name": "stdout",
     "output_type": "stream",
     "text": [
      "Epoch\n",
      "69\n",
      "accuracy\n",
      "0.8279534076227391\n"
     ]
    },
    {
     "name": "stderr",
     "output_type": "stream",
     "text": [
      " 71%|███████   | 71/100 [03:16<01:24,  2.91s/it]  "
     ]
    },
    {
     "name": "stdout",
     "output_type": "stream",
     "text": [
      "Epoch\n",
      "70\n",
      "accuracy\n",
      "0.8297702680878553\n"
     ]
    },
    {
     "name": "stderr",
     "output_type": "stream",
     "text": [
      " 72%|███████▏  | 72/100 [03:19<01:20,  2.88s/it]  "
     ]
    },
    {
     "name": "stdout",
     "output_type": "stream",
     "text": [
      "Epoch\n",
      "71\n",
      "accuracy\n",
      "0.8280341569767442\n"
     ]
    },
    {
     "name": "stderr",
     "output_type": "stream",
     "text": [
      " 73%|███████▎  | 73/100 [03:21<01:17,  2.86s/it]  "
     ]
    },
    {
     "name": "stdout",
     "output_type": "stream",
     "text": [
      "Epoch\n",
      "72\n",
      "accuracy\n",
      "0.8305676679586563\n"
     ]
    },
    {
     "name": "stderr",
     "output_type": "stream",
     "text": [
      " 74%|███████▍  | 74/100 [03:24<01:13,  2.82s/it]  "
     ]
    },
    {
     "name": "stdout",
     "output_type": "stream",
     "text": [
      "Epoch\n",
      "73\n",
      "accuracy\n",
      "0.8297904554263565\n"
     ]
    },
    {
     "name": "stderr",
     "output_type": "stream",
     "text": [
      " 75%|███████▌  | 75/100 [03:27<01:10,  2.83s/it]  "
     ]
    },
    {
     "name": "stdout",
     "output_type": "stream",
     "text": [
      "Epoch\n",
      "74\n",
      "accuracy\n",
      "0.8304970122739018\n"
     ]
    },
    {
     "name": "stderr",
     "output_type": "stream",
     "text": [
      " 76%|███████▌  | 76/100 [03:30<01:10,  2.93s/it]  "
     ]
    },
    {
     "name": "stdout",
     "output_type": "stream",
     "text": [
      "Epoch\n",
      "75\n",
      "accuracy\n",
      "0.8299721414728682\n"
     ]
    },
    {
     "name": "stderr",
     "output_type": "stream",
     "text": [
      " 77%|███████▋  | 77/100 [03:33<01:08,  2.97s/it]  "
     ]
    },
    {
     "name": "stdout",
     "output_type": "stream",
     "text": [
      "Epoch\n",
      "76\n",
      "accuracy\n",
      "0.8317789082687338\n"
     ]
    },
    {
     "name": "stderr",
     "output_type": "stream",
     "text": [
      " 78%|███████▊  | 78/100 [03:36<01:05,  2.98s/it]  "
     ]
    },
    {
     "name": "stdout",
     "output_type": "stream",
     "text": [
      "Epoch\n",
      "77\n",
      "accuracy\n",
      "0.8320615310077519\n"
     ]
    },
    {
     "name": "stderr",
     "output_type": "stream",
     "text": [
      " 79%|███████▉  | 79/100 [03:39<01:02,  2.98s/it]  "
     ]
    },
    {
     "name": "stdout",
     "output_type": "stream",
     "text": [
      "Epoch\n",
      "78\n",
      "accuracy\n",
      "0.8319101259689923\n"
     ]
    },
    {
     "name": "stderr",
     "output_type": "stream",
     "text": [
      " 80%|████████  | 80/100 [03:42<00:59,  2.97s/it]  "
     ]
    },
    {
     "name": "stdout",
     "output_type": "stream",
     "text": [
      "Epoch\n",
      "79\n",
      "accuracy\n",
      "0.8319505006459949\n"
     ]
    },
    {
     "name": "stderr",
     "output_type": "stream",
     "text": [
      " 81%|████████  | 81/100 [03:45<00:55,  2.90s/it]  "
     ]
    },
    {
     "name": "stdout",
     "output_type": "stream",
     "text": [
      "Epoch\n",
      "80\n",
      "accuracy\n",
      "0.8336462370801033\n"
     ]
    },
    {
     "name": "stderr",
     "output_type": "stream",
     "text": [
      " 82%|████████▏ | 82/100 [03:48<00:52,  2.92s/it]  "
     ]
    },
    {
     "name": "stdout",
     "output_type": "stream",
     "text": [
      "Epoch\n",
      "81\n",
      "accuracy\n",
      "0.8329295865633075\n"
     ]
    },
    {
     "name": "stderr",
     "output_type": "stream",
     "text": [
      " 83%|████████▎ | 83/100 [03:51<00:48,  2.88s/it]  "
     ]
    },
    {
     "name": "stdout",
     "output_type": "stream",
     "text": [
      "Epoch\n",
      "82\n",
      "accuracy\n",
      "0.8321927487080103\n"
     ]
    },
    {
     "name": "stderr",
     "output_type": "stream",
     "text": [
      " 84%|████████▍ | 84/100 [03:53<00:45,  2.84s/it]  "
     ]
    },
    {
     "name": "stdout",
     "output_type": "stream",
     "text": [
      "Epoch\n",
      "83\n",
      "accuracy\n",
      "0.8349786014211886\n"
     ]
    },
    {
     "name": "stderr",
     "output_type": "stream",
     "text": [
      " 85%|████████▌ | 85/100 [03:56<00:42,  2.82s/it]  "
     ]
    },
    {
     "name": "stdout",
     "output_type": "stream",
     "text": [
      "Epoch\n",
      "84\n",
      "accuracy\n",
      "0.8348574773901809\n"
     ]
    },
    {
     "name": "stderr",
     "output_type": "stream",
     "text": [
      " 86%|████████▌ | 86/100 [03:59<00:39,  2.81s/it]  "
     ]
    },
    {
     "name": "stdout",
     "output_type": "stream",
     "text": [
      "Epoch\n",
      "85\n",
      "accuracy\n",
      "0.8342720445736435\n"
     ]
    },
    {
     "name": "stderr",
     "output_type": "stream",
     "text": [
      " 87%|████████▋ | 87/100 [04:02<00:36,  2.83s/it]  "
     ]
    },
    {
     "name": "stdout",
     "output_type": "stream",
     "text": [
      "Epoch\n",
      "86\n",
      "accuracy\n",
      "0.8343628875968992\n"
     ]
    },
    {
     "name": "stderr",
     "output_type": "stream",
     "text": [
      " 88%|████████▊ | 88/100 [04:05<00:35,  2.95s/it]  "
     ]
    },
    {
     "name": "stdout",
     "output_type": "stream",
     "text": [
      "Epoch\n",
      "87\n",
      "accuracy\n",
      "0.8361696543927648\n"
     ]
    },
    {
     "name": "stderr",
     "output_type": "stream",
     "text": [
      " 89%|████████▉ | 89/100 [04:08<00:33,  3.07s/it]  "
     ]
    },
    {
     "name": "stdout",
     "output_type": "stream",
     "text": [
      "Epoch\n",
      "88\n",
      "accuracy\n",
      "0.8370982719638242\n"
     ]
    },
    {
     "name": "stderr",
     "output_type": "stream",
     "text": [
      " 90%|█████████ | 90/100 [04:12<00:32,  3.23s/it]  "
     ]
    },
    {
     "name": "stdout",
     "output_type": "stream",
     "text": [
      "Epoch\n",
      "89\n",
      "accuracy\n",
      "0.8361797480620154\n"
     ]
    },
    {
     "name": "stderr",
     "output_type": "stream",
     "text": [
      " 91%|█████████ | 91/100 [04:16<00:29,  3.33s/it]  "
     ]
    },
    {
     "name": "stdout",
     "output_type": "stream",
     "text": [
      "Epoch\n",
      "90\n",
      "accuracy\n",
      "0.8355034722222222\n"
     ]
    },
    {
     "name": "stderr",
     "output_type": "stream",
     "text": [
      " 92%|█████████▏| 92/100 [04:19<00:26,  3.28s/it]  "
     ]
    },
    {
     "name": "stdout",
     "output_type": "stream",
     "text": [
      "Epoch\n",
      "91\n",
      "accuracy\n",
      "0.8377240794573644\n"
     ]
    },
    {
     "name": "stderr",
     "output_type": "stream",
     "text": [
      " 93%|█████████▎| 93/100 [04:22<00:22,  3.23s/it]  "
     ]
    },
    {
     "name": "stdout",
     "output_type": "stream",
     "text": [
      "Epoch\n",
      "92\n",
      "accuracy\n",
      "0.8370377099483204\n"
     ]
    },
    {
     "name": "stderr",
     "output_type": "stream",
     "text": [
      " 94%|█████████▍| 94/100 [04:25<00:19,  3.20s/it]  "
     ]
    },
    {
     "name": "stdout",
     "output_type": "stream",
     "text": [
      "Epoch\n",
      "93\n",
      "accuracy\n",
      "0.8365532138242894\n"
     ]
    },
    {
     "name": "stderr",
     "output_type": "stream",
     "text": [
      " 95%|█████████▌| 95/100 [04:28<00:16,  3.21s/it]  "
     ]
    },
    {
     "name": "stdout",
     "output_type": "stream",
     "text": [
      "Epoch\n",
      "94\n",
      "accuracy\n",
      "0.8379865148578811\n"
     ]
    },
    {
     "name": "stderr",
     "output_type": "stream",
     "text": [
      " 96%|█████████▌| 96/100 [04:31<00:12,  3.22s/it]  "
     ]
    },
    {
     "name": "stdout",
     "output_type": "stream",
     "text": [
      "Epoch\n",
      "95\n",
      "accuracy\n",
      "0.8366642441860465\n"
     ]
    },
    {
     "name": "stderr",
     "output_type": "stream",
     "text": [
      " 97%|█████████▋| 97/100 [04:35<00:10,  3.34s/it]  "
     ]
    },
    {
     "name": "stdout",
     "output_type": "stream",
     "text": [
      "Epoch\n",
      "96\n",
      "accuracy\n",
      "0.8378048288113695\n"
     ]
    },
    {
     "name": "stderr",
     "output_type": "stream",
     "text": [
      " 98%|█████████▊| 98/100 [04:38<00:06,  3.37s/it]  "
     ]
    },
    {
     "name": "stdout",
     "output_type": "stream",
     "text": [
      "Epoch\n",
      "97\n",
      "accuracy\n",
      "0.8390867248062015\n"
     ]
    },
    {
     "name": "stderr",
     "output_type": "stream",
     "text": [
      " 99%|█████████▉| 99/100 [04:42<00:03,  3.38s/it]  "
     ]
    },
    {
     "name": "stdout",
     "output_type": "stream",
     "text": [
      "Epoch\n",
      "98\n",
      "accuracy\n",
      "0.837047803617571\n"
     ]
    },
    {
     "name": "stderr",
     "output_type": "stream",
     "text": [
      "100%|██████████| 100/100 [04:45<00:00,  2.86s/it] "
     ]
    },
    {
     "name": "stdout",
     "output_type": "stream",
     "text": [
      "Epoch\n",
      "99\n",
      "accuracy\n",
      "0.8381984819121447\n"
     ]
    },
    {
     "name": "stderr",
     "output_type": "stream",
     "text": [
      "\n"
     ]
    }
   ],
   "source": [
    "from tqdm.auto import tqdm\n",
    "num_epochs = 100\n",
    "batch_size = 256\n",
    "\n",
    "# Train the model\n",
    "total_step = trainX.shape[0]\n",
    "print(total_step)\n",
    "\n",
    "# model = ConvNet1D()\n",
    "model.train()\n",
    "\n",
    "loss_list = []\n",
    "acc_list = []\n",
    "acc_list_epoch = []\n",
    "for epoch in tqdm(range(num_epochs)):\n",
    "    correct_sum = 0\n",
    "    for i in tqdm(range(int(np.floor(total_step/batch_size))), leave=False, position=0): # split data into batches\n",
    "        trainXT_seg = trainXT[i*batch_size:(i+1)*batch_size]\n",
    "        trainyT_seg = trainyT[i*batch_size:(i+1)*batch_size]\n",
    "        # Run the forward pass\n",
    "        outputs = model(trainXT_seg)\n",
    "        loss = criterion(outputs, torch.max(trainyT_seg, 1)[1])\n",
    "        loss_list.append(loss.item())\n",
    "\n",
    "        # Backprop and perform Adam optimisation\n",
    "        optimizer.zero_grad()\n",
    "        loss.backward()\n",
    "        optimizer.step()\n",
    "        # Track the accuracy\n",
    "        total = trainyT_seg.size(0)\n",
    "        _, predicted = torch.max(outputs, 1)\n",
    "        _, actual = torch.max(trainyT_seg, 1)\n",
    "        correct = (predicted == actual).sum().item()\n",
    "        correct_sum = correct_sum + (correct/total)\n",
    "        acc_list.append(correct / total)\n",
    "        \n",
    "    print(\"Epoch\")\n",
    "    print(epoch)\n",
    "    print(\"accuracy\")\n",
    "    print(correct_sum/int(np.floor(total_step/batch_size)))\n",
    "    acc_list_epoch.append(correct_sum/int(np.floor(total_step/batch_size)))\n"
   ]
  },
  {
   "cell_type": "code",
   "execution_count": 68,
   "id": "ae368bfe",
   "metadata": {
    "pycharm": {
     "name": "#%%\n"
    }
   },
   "outputs": [
    {
     "data": {
      "image/png": "[encoded data removed]",
      "text/plain": [
       "<Figure size 432x288 with 1 Axes>"
      ]
     },
     "metadata": {
      "needs_background": "light"
     },
     "output_type": "display_data"
    }
   ],
   "source": [
    "# !pip install matplotlib\n",
    "import matplotlib\n",
    "import matplotlib.pyplot as plt\n",
    "\n",
    "#plot the training accuracy\n",
    "plt.title('Training Accuracy')\n",
    "plt.ylabel('Accuracy')\n",
    "plt.xlabel('Epoch')\n",
    "plt.grid(True)\n",
    "plt.autoscale(axis='x', tight=True)\n",
    "plt.plot(acc_list_epoch)\n",
    "plt.show()"
   ]
  },
  {
   "cell_type": "code",
   "execution_count": 69,
   "id": "7d7fa9f9",
   "metadata": {
    "pycharm": {
     "name": "#%%\n"
    }
   },
   "outputs": [
    {
     "name": "stdout",
     "output_type": "stream",
     "text": [
      "Test accuracy:\n",
      "79.8030018761726\n",
      "accuracy:   0.798\n",
      "[[7492 1205]\n",
      " [ 948 1015]]\n",
      "              precision    recall  f1-score   support\n",
      "\n",
      "           0     0.8877    0.8614    0.8744      8697\n",
      "           1     0.4572    0.5171    0.4853      1963\n",
      "\n",
      "    accuracy                         0.7980     10660\n",
      "   macro avg     0.6724    0.6893    0.6798     10660\n",
      "weighted avg     0.8084    0.7980    0.8027     10660\n",
      "\n"
     ]
    },
    {
     "name": "stderr",
     "output_type": "stream",
     "text": [
      "/home/hl2659/miniconda3/envs/hao_ner/lib/python3.9/site-packages/torch/nn/modules/container.py:141: UserWarning: Implicit dimension choice for softmax has been deprecated. Change the call to include dim=X as an argument.\n",
      "  input = module(input)\n"
     ]
    }
   ],
   "source": [
    "# Test the model\n",
    "model.eval()\n",
    "with torch.no_grad():\n",
    "    test_outputs = model(testXT)\n",
    "    _, predictedt = torch.max(test_outputs, 1)\n",
    "    _, actual = torch.max(testyT, 1)\n",
    "    total_t = testyT.size(0)\n",
    "    correct_t = (predictedt == actual).sum().item()\n",
    "    print('Test accuracy:')\n",
    "    print((correct_t/total_t)*100)\n",
    "\n",
    "from sklearn import metrics\n",
    "from sklearn.metrics import accuracy_score, confusion_matrix, classification_report\n",
    "\n",
    "score = metrics.accuracy_score(actual, predictedt)\n",
    "print(f\"accuracy:   {score:.3}\")\n",
    "print(confusion_matrix(actual, predictedt))\n",
    "print(classification_report(actual, predictedt, digits=4))"
   ]
  },
  {
   "cell_type": "code",
   "execution_count": null,
   "id": "c0a15db7",
   "metadata": {
    "pycharm": {
     "name": "#%%\n"
    }
   },
   "outputs": [],
   "source": []
  },
  {
   "cell_type": "code",
   "execution_count": null,
   "id": "5bdc7188",
   "metadata": {
    "pycharm": {
     "name": "#%%\n"
    }
   },
   "outputs": [],
   "source": []
  },
  {
   "cell_type": "code",
   "execution_count": null,
   "id": "d31e7a12",
   "metadata": {
    "pycharm": {
     "name": "#%%\n"
    }
   },
   "outputs": [],
   "source": [
    "\n",
    "\n",
    "# class ExperimentalTransformer(BaseEstimator, TransformerMixin):\n",
    "#   # add another additional parameter, just for fun, while we are at it\n",
    "#   def __init__(self, feature_name, additional_param = \"HaoLiu\"):  \n",
    "#     print('\\n>>>>>>>init() called.\\n')\n",
    "#     self.feature_name = feature_name\n",
    "#     self.additional_param = additional_param\n",
    "\n",
    "#   def fit(self, X, y = None):\n",
    "#     print('\\n>>>>>>>fit() called.\\n')\n",
    "#     print(f'\\nadditional param ~~~~~ {self.additional_param}\\n')\n",
    "#     return self\n",
    "\n",
    "#   def transform(self, X, y = None):\n",
    "#     print('\\n>>>>>>>transform() called.\\n')\n",
    "#     X_ = X.copy() # creating a copy to avoid changes to original dataset\n",
    "#     X_[self.feature_name] = 2 * np.sqrt(X_[self.feature_name])\n",
    "#     return X_"
   ]
  },
  {
   "cell_type": "code",
   "execution_count": null,
   "id": "2988c083",
   "metadata": {
    "pycharm": {
     "name": "#%%\n"
    }
   },
   "outputs": [],
   "source": [
    "# with input transformation but no target transformation\n",
    "# print(\"create pipeline 2\")\n",
    "# pipe2 = Pipeline(steps=[\n",
    "#                        ('experimental_trans', ExperimentalTransformer('X2')),\n",
    "#                        ('linear_model', LinearRegression())\n",
    "# ])\n",
    "# print(\"fit pipeline 2\")\n",
    "# pipe2.fit(train_X, train_y)\n",
    "# print(\"predict via pipeline 2\")\n",
    "# preds2 = pipe2.predict(test_X)\n",
    "# print(f\"\\n{preds2}\")  \n",
    "# print(f\"RMSE: {np.sqrt(mean_squared_error(test_y, preds2))}\\n\")\n",
    "\n",
    "# from sklearn.preprocessing import FunctionTransformer\n",
    "\n",
    "\n",
    "\n",
    "# for item in tqdm(classifiers):\n",
    "#     print(item)\n",
    "#     clf = item\n",
    "#     pipeline = Pipeline(steps=[('feature_engineer', ct),\n",
    "#                                ('experimental_trans', ExperimentalTransformer('COUNTS')),\n",
    "#                                ('sparse_to_dense', FunctionTransformer(lambda x: x.todense(), accept_sparse=True)), \n",
    "#                                ('clf', clf)])\n",
    "\n",
    "#     pipeline.fit(X_train, y_train)\n",
    "\n",
    "#     preds = pipeline.predict(X_test)\n",
    "\n",
    "#     print('accuracy %s' % accuracy_score(preds, y_test))\n",
    "#     print(confusion_matrix(y_test, preds))\n",
    "#     print(classification_report(y_test, preds))\n",
    "#     break"
   ]
  },
  {
   "cell_type": "code",
   "execution_count": null,
   "id": "814513e5",
   "metadata": {
    "pycharm": {
     "name": "#%%\n"
    }
   },
   "outputs": [],
   "source": []
  },
  {
   "cell_type": "code",
   "execution_count": null,
   "id": "bc2e70c3",
   "metadata": {
    "pycharm": {
     "name": "#%%\n"
    }
   },
   "outputs": [],
   "source": []
  },
  {
   "cell_type": "code",
   "execution_count": null,
   "id": "6abf93e8",
   "metadata": {
    "pycharm": {
     "name": "#%%\n"
    }
   },
   "outputs": [],
   "source": []
  }
 ],
 "metadata": {
  "kernelspec": {
   "display_name": "Python 3 (ipykernel)",
   "language": "python",
   "name": "python3"
  },
  "language_info": {
   "codemirror_mode": {
    "name": "ipython",
    "version": 3
   },
   "file_extension": ".py",
   "mimetype": "text/x-python",
   "name": "python",
   "nbconvert_exporter": "python",
   "pygments_lexer": "ipython3",
   "version": "3.9.12"
  }
 },
 "nbformat": 4,
 "nbformat_minor": 5
}